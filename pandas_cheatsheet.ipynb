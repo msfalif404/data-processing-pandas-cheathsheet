{
 "cells": [
  {
   "cell_type": "markdown",
   "id": "a568d27e",
   "metadata": {
    "_cell_guid": "b1076dfc-b9ad-4769-8c92-a6c4dae69d19",
    "_uuid": "8f2839f25d086af736a60e9eeb907d3b93b6e0e5",
    "papermill": {
     "duration": 0.071524,
     "end_time": "2024-08-31T05:55:13.886180",
     "exception": false,
     "start_time": "2024-08-31T05:55:13.814656",
     "status": "completed"
    },
    "tags": []
   },
   "source": [
    "# Pandas Cheatsheet"
   ]
  },
  {
   "cell_type": "markdown",
   "id": "ed1e64dd",
   "metadata": {
    "papermill": {
     "duration": 0.064326,
     "end_time": "2024-08-31T05:55:14.019274",
     "exception": false,
     "start_time": "2024-08-31T05:55:13.954948",
     "status": "completed"
    },
    "tags": []
   },
   "source": [
    "## Import Library"
   ]
  },
  {
   "cell_type": "code",
   "execution_count": 1,
   "id": "c4a8f614",
   "metadata": {
    "execution": {
     "iopub.execute_input": "2024-08-31T05:55:14.149041Z",
     "iopub.status.busy": "2024-08-31T05:55:14.148434Z",
     "iopub.status.idle": "2024-08-31T05:55:16.595260Z",
     "shell.execute_reply": "2024-08-31T05:55:16.593981Z"
    },
    "papermill": {
     "duration": 2.515976,
     "end_time": "2024-08-31T05:55:16.598142",
     "exception": false,
     "start_time": "2024-08-31T05:55:14.082166",
     "status": "completed"
    },
    "tags": []
   },
   "outputs": [],
   "source": [
    "import numpy as np\n",
    "import pandas as pd\n",
    "import matplotlib.pyplot as plt\n",
    "import seaborn as sns"
   ]
  },
  {
   "cell_type": "markdown",
   "id": "2d0b1a10",
   "metadata": {
    "papermill": {
     "duration": 0.062641,
     "end_time": "2024-08-31T05:55:16.724787",
     "exception": false,
     "start_time": "2024-08-31T05:55:16.662146",
     "status": "completed"
    },
    "tags": []
   },
   "source": [
    "## Basic"
   ]
  },
  {
   "cell_type": "markdown",
   "id": "19fe2d24",
   "metadata": {
    "papermill": {
     "duration": 0.062657,
     "end_time": "2024-08-31T05:55:16.850958",
     "exception": false,
     "start_time": "2024-08-31T05:55:16.788301",
     "status": "completed"
    },
    "tags": []
   },
   "source": [
    "### Series"
   ]
  },
  {
   "cell_type": "code",
   "execution_count": 2,
   "id": "346d1e50",
   "metadata": {
    "execution": {
     "iopub.execute_input": "2024-08-31T05:55:16.982144Z",
     "iopub.status.busy": "2024-08-31T05:55:16.980767Z",
     "iopub.status.idle": "2024-08-31T05:55:16.992591Z",
     "shell.execute_reply": "2024-08-31T05:55:16.991494Z"
    },
    "papermill": {
     "duration": 0.08097,
     "end_time": "2024-08-31T05:55:16.995253",
     "exception": false,
     "start_time": "2024-08-31T05:55:16.914283",
     "status": "completed"
    },
    "tags": []
   },
   "outputs": [
    {
     "data": {
      "text/plain": [
       "0    10\n",
       "1    20\n",
       "2    30\n",
       "3    40\n",
       "4    50\n",
       "dtype: int64"
      ]
     },
     "execution_count": 2,
     "metadata": {},
     "output_type": "execute_result"
    }
   ],
   "source": [
    "s = pd.Series([10, 20, 30, 40, 50])\n",
    "s"
   ]
  },
  {
   "cell_type": "markdown",
   "id": "2dc909b6",
   "metadata": {
    "papermill": {
     "duration": 0.119622,
     "end_time": "2024-08-31T05:55:17.178126",
     "exception": false,
     "start_time": "2024-08-31T05:55:17.058504",
     "status": "completed"
    },
    "tags": []
   },
   "source": [
    "### Series From List"
   ]
  },
  {
   "cell_type": "code",
   "execution_count": 3,
   "id": "1a6558cc",
   "metadata": {
    "execution": {
     "iopub.execute_input": "2024-08-31T05:55:17.307480Z",
     "iopub.status.busy": "2024-08-31T05:55:17.306391Z",
     "iopub.status.idle": "2024-08-31T05:55:17.315868Z",
     "shell.execute_reply": "2024-08-31T05:55:17.314607Z"
    },
    "papermill": {
     "duration": 0.076403,
     "end_time": "2024-08-31T05:55:17.318470",
     "exception": false,
     "start_time": "2024-08-31T05:55:17.242067",
     "status": "completed"
    },
    "tags": []
   },
   "outputs": [
    {
     "data": {
      "text/plain": [
       "0    1\n",
       "1    2\n",
       "2    3\n",
       "3    4\n",
       "4    5\n",
       "dtype: int64"
      ]
     },
     "execution_count": 3,
     "metadata": {},
     "output_type": "execute_result"
    }
   ],
   "source": [
    "data_list = [1,2,3,4,5]\n",
    "s = pd.Series(data_list)\n",
    "s"
   ]
  },
  {
   "cell_type": "markdown",
   "id": "02ee4110",
   "metadata": {
    "papermill": {
     "duration": 0.063696,
     "end_time": "2024-08-31T05:55:17.446789",
     "exception": false,
     "start_time": "2024-08-31T05:55:17.383093",
     "status": "completed"
    },
    "tags": []
   },
   "source": [
    "### Series with Custom Index/Label"
   ]
  },
  {
   "cell_type": "code",
   "execution_count": 4,
   "id": "2ce87056",
   "metadata": {
    "execution": {
     "iopub.execute_input": "2024-08-31T05:55:17.580776Z",
     "iopub.status.busy": "2024-08-31T05:55:17.580324Z",
     "iopub.status.idle": "2024-08-31T05:55:17.596227Z",
     "shell.execute_reply": "2024-08-31T05:55:17.595009Z"
    },
    "papermill": {
     "duration": 0.084493,
     "end_time": "2024-08-31T05:55:17.599002",
     "exception": false,
     "start_time": "2024-08-31T05:55:17.514509",
     "status": "completed"
    },
    "tags": []
   },
   "outputs": [
    {
     "data": {
      "text/plain": [
       "a    1\n",
       "b    2\n",
       "c    3\n",
       "dtype: int64"
      ]
     },
     "execution_count": 4,
     "metadata": {},
     "output_type": "execute_result"
    }
   ],
   "source": [
    "index_custom = ['a','b','c']\n",
    "data_list = [1,2,3]\n",
    "s = pd.Series(data=data_list, index=index_custom)\n",
    "s"
   ]
  },
  {
   "cell_type": "markdown",
   "id": "94826b30",
   "metadata": {
    "papermill": {
     "duration": 0.063894,
     "end_time": "2024-08-31T05:55:17.727683",
     "exception": false,
     "start_time": "2024-08-31T05:55:17.663789",
     "status": "completed"
    },
    "tags": []
   },
   "source": [
    "### Series From Dictionary"
   ]
  },
  {
   "cell_type": "code",
   "execution_count": 5,
   "id": "0e4d226d",
   "metadata": {
    "execution": {
     "iopub.execute_input": "2024-08-31T05:55:17.856666Z",
     "iopub.status.busy": "2024-08-31T05:55:17.856218Z",
     "iopub.status.idle": "2024-08-31T05:55:17.866109Z",
     "shell.execute_reply": "2024-08-31T05:55:17.864795Z"
    },
    "papermill": {
     "duration": 0.077919,
     "end_time": "2024-08-31T05:55:17.869150",
     "exception": false,
     "start_time": "2024-08-31T05:55:17.791231",
     "status": "completed"
    },
    "tags": []
   },
   "outputs": [
    {
     "data": {
      "text/plain": [
       "a    10\n",
       "b    20\n",
       "c    30\n",
       "dtype: int64"
      ]
     },
     "execution_count": 5,
     "metadata": {},
     "output_type": "execute_result"
    }
   ],
   "source": [
    "data_dict = {\n",
    "    'a': 10,\n",
    "    'b': 20,\n",
    "    'c': 30\n",
    "}\n",
    "s = pd.Series(data=data_dict)\n",
    "s"
   ]
  },
  {
   "cell_type": "markdown",
   "id": "1ed2f088",
   "metadata": {
    "papermill": {
     "duration": 0.063515,
     "end_time": "2024-08-31T05:55:18.000329",
     "exception": false,
     "start_time": "2024-08-31T05:55:17.936814",
     "status": "completed"
    },
    "tags": []
   },
   "source": [
    "### Series with Different Data Type"
   ]
  },
  {
   "cell_type": "code",
   "execution_count": 6,
   "id": "78879799",
   "metadata": {
    "execution": {
     "iopub.execute_input": "2024-08-31T05:55:18.132771Z",
     "iopub.status.busy": "2024-08-31T05:55:18.132317Z",
     "iopub.status.idle": "2024-08-31T05:55:18.141697Z",
     "shell.execute_reply": "2024-08-31T05:55:18.140593Z"
    },
    "papermill": {
     "duration": 0.079324,
     "end_time": "2024-08-31T05:55:18.144267",
     "exception": false,
     "start_time": "2024-08-31T05:55:18.064943",
     "status": "completed"
    },
    "tags": []
   },
   "outputs": [
    {
     "data": {
      "text/plain": [
       "0       1\n",
       "1     dua\n",
       "2     3.0\n",
       "3     4.5\n",
       "4    lima\n",
       "dtype: object"
      ]
     },
     "execution_count": 6,
     "metadata": {},
     "output_type": "execute_result"
    }
   ],
   "source": [
    "mixed_data = [1,'dua',3.0,4.5,'lima']\n",
    "s = pd.Series(data=mixed_data)\n",
    "s"
   ]
  },
  {
   "cell_type": "markdown",
   "id": "6a26a9fb",
   "metadata": {
    "papermill": {
     "duration": 0.064918,
     "end_time": "2024-08-31T05:55:18.274213",
     "exception": false,
     "start_time": "2024-08-31T05:55:18.209295",
     "status": "completed"
    },
    "tags": []
   },
   "source": [
    "### DataFrame"
   ]
  },
  {
   "cell_type": "code",
   "execution_count": 7,
   "id": "e5ae452d",
   "metadata": {
    "execution": {
     "iopub.execute_input": "2024-08-31T05:55:18.404283Z",
     "iopub.status.busy": "2024-08-31T05:55:18.403831Z",
     "iopub.status.idle": "2024-08-31T05:55:18.421988Z",
     "shell.execute_reply": "2024-08-31T05:55:18.420737Z"
    },
    "papermill": {
     "duration": 0.086386,
     "end_time": "2024-08-31T05:55:18.424646",
     "exception": false,
     "start_time": "2024-08-31T05:55:18.338260",
     "status": "completed"
    },
    "tags": []
   },
   "outputs": [
    {
     "data": {
      "text/html": [
       "<div>\n",
       "<style scoped>\n",
       "    .dataframe tbody tr th:only-of-type {\n",
       "        vertical-align: middle;\n",
       "    }\n",
       "\n",
       "    .dataframe tbody tr th {\n",
       "        vertical-align: top;\n",
       "    }\n",
       "\n",
       "    .dataframe thead th {\n",
       "        text-align: right;\n",
       "    }\n",
       "</style>\n",
       "<table border=\"1\" class=\"dataframe\">\n",
       "  <thead>\n",
       "    <tr style=\"text-align: right;\">\n",
       "      <th></th>\n",
       "      <th>nama</th>\n",
       "      <th>usia</th>\n",
       "      <th>kota</th>\n",
       "    </tr>\n",
       "  </thead>\n",
       "  <tbody>\n",
       "    <tr>\n",
       "      <th>0</th>\n",
       "      <td>Orang 1</td>\n",
       "      <td>23</td>\n",
       "      <td>Jakarta</td>\n",
       "    </tr>\n",
       "    <tr>\n",
       "      <th>1</th>\n",
       "      <td>Orang 2</td>\n",
       "      <td>50</td>\n",
       "      <td>Bandung</td>\n",
       "    </tr>\n",
       "    <tr>\n",
       "      <th>2</th>\n",
       "      <td>Orang 3</td>\n",
       "      <td>35</td>\n",
       "      <td>Depok</td>\n",
       "    </tr>\n",
       "  </tbody>\n",
       "</table>\n",
       "</div>"
      ],
      "text/plain": [
       "      nama  usia     kota\n",
       "0  Orang 1    23  Jakarta\n",
       "1  Orang 2    50  Bandung\n",
       "2  Orang 3    35    Depok"
      ]
     },
     "execution_count": 7,
     "metadata": {},
     "output_type": "execute_result"
    }
   ],
   "source": [
    "df = pd.DataFrame({\n",
    "    'nama': ['Orang 1', 'Orang 2', 'Orang 3'],\n",
    "    'usia': [23, 50, 35],\n",
    "    'kota': ['Jakarta','Bandung','Depok']\n",
    "})\n",
    "df"
   ]
  },
  {
   "cell_type": "markdown",
   "id": "ad22aecb",
   "metadata": {
    "papermill": {
     "duration": 0.064984,
     "end_time": "2024-08-31T05:55:18.556802",
     "exception": false,
     "start_time": "2024-08-31T05:55:18.491818",
     "status": "completed"
    },
    "tags": []
   },
   "source": [
    "### DataFrame from List"
   ]
  },
  {
   "cell_type": "code",
   "execution_count": 8,
   "id": "b37dec32",
   "metadata": {
    "execution": {
     "iopub.execute_input": "2024-08-31T05:55:18.689003Z",
     "iopub.status.busy": "2024-08-31T05:55:18.688570Z",
     "iopub.status.idle": "2024-08-31T05:55:18.703106Z",
     "shell.execute_reply": "2024-08-31T05:55:18.701754Z"
    },
    "papermill": {
     "duration": 0.083417,
     "end_time": "2024-08-31T05:55:18.705976",
     "exception": false,
     "start_time": "2024-08-31T05:55:18.622559",
     "status": "completed"
    },
    "tags": []
   },
   "outputs": [
    {
     "data": {
      "text/html": [
       "<div>\n",
       "<style scoped>\n",
       "    .dataframe tbody tr th:only-of-type {\n",
       "        vertical-align: middle;\n",
       "    }\n",
       "\n",
       "    .dataframe tbody tr th {\n",
       "        vertical-align: top;\n",
       "    }\n",
       "\n",
       "    .dataframe thead th {\n",
       "        text-align: right;\n",
       "    }\n",
       "</style>\n",
       "<table border=\"1\" class=\"dataframe\">\n",
       "  <thead>\n",
       "    <tr style=\"text-align: right;\">\n",
       "      <th></th>\n",
       "      <th>id</th>\n",
       "      <th>nama</th>\n",
       "      <th>usia</th>\n",
       "    </tr>\n",
       "  </thead>\n",
       "  <tbody>\n",
       "    <tr>\n",
       "      <th>0</th>\n",
       "      <td>1</td>\n",
       "      <td>Orang 1</td>\n",
       "      <td>20</td>\n",
       "    </tr>\n",
       "    <tr>\n",
       "      <th>1</th>\n",
       "      <td>2</td>\n",
       "      <td>Orang 2</td>\n",
       "      <td>30</td>\n",
       "    </tr>\n",
       "    <tr>\n",
       "      <th>2</th>\n",
       "      <td>3</td>\n",
       "      <td>Orang 3</td>\n",
       "      <td>40</td>\n",
       "    </tr>\n",
       "  </tbody>\n",
       "</table>\n",
       "</div>"
      ],
      "text/plain": [
       "   id     nama  usia\n",
       "0   1  Orang 1    20\n",
       "1   2  Orang 2    30\n",
       "2   3  Orang 3    40"
      ]
     },
     "execution_count": 8,
     "metadata": {},
     "output_type": "execute_result"
    }
   ],
   "source": [
    "list_of_list = [\n",
    "    [1,'Orang 1', 20],\n",
    "    [2, 'Orang 2', 30],\n",
    "    [3, 'Orang 3', 40]\n",
    "]\n",
    "columns = ['id','nama','usia']\n",
    "\n",
    "df = pd.DataFrame(data=list_of_list, columns=columns)\n",
    "df"
   ]
  },
  {
   "cell_type": "markdown",
   "id": "091edd6c",
   "metadata": {
    "papermill": {
     "duration": 0.064584,
     "end_time": "2024-08-31T05:55:18.835376",
     "exception": false,
     "start_time": "2024-08-31T05:55:18.770792",
     "status": "completed"
    },
    "tags": []
   },
   "source": [
    "### DataFrame from Dictionary"
   ]
  },
  {
   "cell_type": "code",
   "execution_count": 9,
   "id": "c1e18611",
   "metadata": {
    "execution": {
     "iopub.execute_input": "2024-08-31T05:55:18.988945Z",
     "iopub.status.busy": "2024-08-31T05:55:18.988512Z",
     "iopub.status.idle": "2024-08-31T05:55:19.002120Z",
     "shell.execute_reply": "2024-08-31T05:55:19.000711Z"
    },
    "papermill": {
     "duration": 0.097114,
     "end_time": "2024-08-31T05:55:19.005263",
     "exception": false,
     "start_time": "2024-08-31T05:55:18.908149",
     "status": "completed"
    },
    "tags": []
   },
   "outputs": [
    {
     "data": {
      "text/html": [
       "<div>\n",
       "<style scoped>\n",
       "    .dataframe tbody tr th:only-of-type {\n",
       "        vertical-align: middle;\n",
       "    }\n",
       "\n",
       "    .dataframe tbody tr th {\n",
       "        vertical-align: top;\n",
       "    }\n",
       "\n",
       "    .dataframe thead th {\n",
       "        text-align: right;\n",
       "    }\n",
       "</style>\n",
       "<table border=\"1\" class=\"dataframe\">\n",
       "  <thead>\n",
       "    <tr style=\"text-align: right;\">\n",
       "      <th></th>\n",
       "      <th>id</th>\n",
       "      <th>nama</th>\n",
       "      <th>usia</th>\n",
       "    </tr>\n",
       "  </thead>\n",
       "  <tbody>\n",
       "    <tr>\n",
       "      <th>0</th>\n",
       "      <td>1</td>\n",
       "      <td>Orang 1</td>\n",
       "      <td>15</td>\n",
       "    </tr>\n",
       "    <tr>\n",
       "      <th>1</th>\n",
       "      <td>2</td>\n",
       "      <td>Orang 2</td>\n",
       "      <td>20</td>\n",
       "    </tr>\n",
       "    <tr>\n",
       "      <th>2</th>\n",
       "      <td>3</td>\n",
       "      <td>Orang 3</td>\n",
       "      <td>30</td>\n",
       "    </tr>\n",
       "  </tbody>\n",
       "</table>\n",
       "</div>"
      ],
      "text/plain": [
       "   id     nama  usia\n",
       "0   1  Orang 1    15\n",
       "1   2  Orang 2    20\n",
       "2   3  Orang 3    30"
      ]
     },
     "execution_count": 9,
     "metadata": {},
     "output_type": "execute_result"
    }
   ],
   "source": [
    "data_dict = {\n",
    "    'id': [1,2,3],\n",
    "    'nama': ['Orang 1', 'Orang 2', 'Orang 3'],\n",
    "    'usia': [15,20,30]\n",
    "}\n",
    "\n",
    "df = pd.DataFrame(data = data_dict)\n",
    "df"
   ]
  },
  {
   "cell_type": "markdown",
   "id": "857f20d8",
   "metadata": {
    "papermill": {
     "duration": 0.085389,
     "end_time": "2024-08-31T05:55:19.172989",
     "exception": false,
     "start_time": "2024-08-31T05:55:19.087600",
     "status": "completed"
    },
    "tags": []
   },
   "source": [
    "### Merge Series into DataFrame"
   ]
  },
  {
   "cell_type": "code",
   "execution_count": 10,
   "id": "d0db27ee",
   "metadata": {
    "execution": {
     "iopub.execute_input": "2024-08-31T05:55:19.320563Z",
     "iopub.status.busy": "2024-08-31T05:55:19.319452Z",
     "iopub.status.idle": "2024-08-31T05:55:19.338998Z",
     "shell.execute_reply": "2024-08-31T05:55:19.337624Z"
    },
    "papermill": {
     "duration": 0.091424,
     "end_time": "2024-08-31T05:55:19.341561",
     "exception": false,
     "start_time": "2024-08-31T05:55:19.250137",
     "status": "completed"
    },
    "tags": []
   },
   "outputs": [
    {
     "data": {
      "text/html": [
       "<div>\n",
       "<style scoped>\n",
       "    .dataframe tbody tr th:only-of-type {\n",
       "        vertical-align: middle;\n",
       "    }\n",
       "\n",
       "    .dataframe tbody tr th {\n",
       "        vertical-align: top;\n",
       "    }\n",
       "\n",
       "    .dataframe thead th {\n",
       "        text-align: right;\n",
       "    }\n",
       "</style>\n",
       "<table border=\"1\" class=\"dataframe\">\n",
       "  <thead>\n",
       "    <tr style=\"text-align: right;\">\n",
       "      <th></th>\n",
       "      <th>id</th>\n",
       "      <th>nama</th>\n",
       "      <th>usia</th>\n",
       "    </tr>\n",
       "  </thead>\n",
       "  <tbody>\n",
       "    <tr>\n",
       "      <th>0</th>\n",
       "      <td>1</td>\n",
       "      <td>Orang 1</td>\n",
       "      <td>15</td>\n",
       "    </tr>\n",
       "    <tr>\n",
       "      <th>1</th>\n",
       "      <td>2</td>\n",
       "      <td>Orang 2</td>\n",
       "      <td>20</td>\n",
       "    </tr>\n",
       "    <tr>\n",
       "      <th>2</th>\n",
       "      <td>3</td>\n",
       "      <td>Orang 3</td>\n",
       "      <td>30</td>\n",
       "    </tr>\n",
       "  </tbody>\n",
       "</table>\n",
       "</div>"
      ],
      "text/plain": [
       "  id     nama usia\n",
       "0  1  Orang 1   15\n",
       "1  2  Orang 2   20\n",
       "2  3  Orang 3   30"
      ]
     },
     "execution_count": 10,
     "metadata": {},
     "output_type": "execute_result"
    }
   ],
   "source": [
    "s1 = pd.Series([1,2,3], name='id')\n",
    "s2 = pd.Series(['Orang 1', 'Orang 2', 'Orang 3'], name='nama')\n",
    "s3 = pd.Series([15,20,30], name='usia')\n",
    "\n",
    "## .T (Transponse) dibutuhkan untuk mengubah baris menjadi kolom\n",
    "df = pd.DataFrame([s1,s2,s3]).T\n",
    "df"
   ]
  },
  {
   "cell_type": "markdown",
   "id": "7855bd9a",
   "metadata": {
    "papermill": {
     "duration": 0.0663,
     "end_time": "2024-08-31T05:55:19.475472",
     "exception": false,
     "start_time": "2024-08-31T05:55:19.409172",
     "status": "completed"
    },
    "tags": []
   },
   "source": [
    "### Getting Basic Information from DataFrame"
   ]
  },
  {
   "cell_type": "code",
   "execution_count": 11,
   "id": "7432b491",
   "metadata": {
    "execution": {
     "iopub.execute_input": "2024-08-31T05:55:19.610551Z",
     "iopub.status.busy": "2024-08-31T05:55:19.610084Z",
     "iopub.status.idle": "2024-08-31T05:55:19.625881Z",
     "shell.execute_reply": "2024-08-31T05:55:19.624785Z"
    },
    "papermill": {
     "duration": 0.084817,
     "end_time": "2024-08-31T05:55:19.628234",
     "exception": false,
     "start_time": "2024-08-31T05:55:19.543417",
     "status": "completed"
    },
    "tags": []
   },
   "outputs": [
    {
     "data": {
      "text/html": [
       "<div>\n",
       "<style scoped>\n",
       "    .dataframe tbody tr th:only-of-type {\n",
       "        vertical-align: middle;\n",
       "    }\n",
       "\n",
       "    .dataframe tbody tr th {\n",
       "        vertical-align: top;\n",
       "    }\n",
       "\n",
       "    .dataframe thead th {\n",
       "        text-align: right;\n",
       "    }\n",
       "</style>\n",
       "<table border=\"1\" class=\"dataframe\">\n",
       "  <thead>\n",
       "    <tr style=\"text-align: right;\">\n",
       "      <th></th>\n",
       "      <th>A</th>\n",
       "      <th>B</th>\n",
       "      <th>C</th>\n",
       "      <th>D</th>\n",
       "    </tr>\n",
       "  </thead>\n",
       "  <tbody>\n",
       "    <tr>\n",
       "      <th>0</th>\n",
       "      <td>94</td>\n",
       "      <td>55</td>\n",
       "      <td>83</td>\n",
       "      <td>45</td>\n",
       "    </tr>\n",
       "    <tr>\n",
       "      <th>1</th>\n",
       "      <td>60</td>\n",
       "      <td>7</td>\n",
       "      <td>60</td>\n",
       "      <td>6</td>\n",
       "    </tr>\n",
       "    <tr>\n",
       "      <th>2</th>\n",
       "      <td>91</td>\n",
       "      <td>35</td>\n",
       "      <td>35</td>\n",
       "      <td>29</td>\n",
       "    </tr>\n",
       "    <tr>\n",
       "      <th>3</th>\n",
       "      <td>99</td>\n",
       "      <td>55</td>\n",
       "      <td>91</td>\n",
       "      <td>19</td>\n",
       "    </tr>\n",
       "    <tr>\n",
       "      <th>4</th>\n",
       "      <td>36</td>\n",
       "      <td>76</td>\n",
       "      <td>49</td>\n",
       "      <td>68</td>\n",
       "    </tr>\n",
       "  </tbody>\n",
       "</table>\n",
       "</div>"
      ],
      "text/plain": [
       "    A   B   C   D\n",
       "0  94  55  83  45\n",
       "1  60   7  60   6\n",
       "2  91  35  35  29\n",
       "3  99  55  91  19\n",
       "4  36  76  49  68"
      ]
     },
     "execution_count": 11,
     "metadata": {},
     "output_type": "execute_result"
    }
   ],
   "source": [
    "data = {\n",
    "    'A': np.random.randint(1, 100, 20),\n",
    "    'B': np.random.randint(1, 100, 20),\n",
    "    'C': np.random.randint(1, 100, 20),\n",
    "    'D': np.random.randint(1, 100, 20)\n",
    "}\n",
    "df = pd.DataFrame(data=data)\n",
    "df.head()"
   ]
  },
  {
   "cell_type": "code",
   "execution_count": 12,
   "id": "93ea0533",
   "metadata": {
    "execution": {
     "iopub.execute_input": "2024-08-31T05:55:19.761124Z",
     "iopub.status.busy": "2024-08-31T05:55:19.760711Z",
     "iopub.status.idle": "2024-08-31T05:55:19.772559Z",
     "shell.execute_reply": "2024-08-31T05:55:19.771427Z"
    },
    "papermill": {
     "duration": 0.08084,
     "end_time": "2024-08-31T05:55:19.775058",
     "exception": false,
     "start_time": "2024-08-31T05:55:19.694218",
     "status": "completed"
    },
    "tags": []
   },
   "outputs": [
    {
     "data": {
      "text/html": [
       "<div>\n",
       "<style scoped>\n",
       "    .dataframe tbody tr th:only-of-type {\n",
       "        vertical-align: middle;\n",
       "    }\n",
       "\n",
       "    .dataframe tbody tr th {\n",
       "        vertical-align: top;\n",
       "    }\n",
       "\n",
       "    .dataframe thead th {\n",
       "        text-align: right;\n",
       "    }\n",
       "</style>\n",
       "<table border=\"1\" class=\"dataframe\">\n",
       "  <thead>\n",
       "    <tr style=\"text-align: right;\">\n",
       "      <th></th>\n",
       "      <th>A</th>\n",
       "      <th>B</th>\n",
       "      <th>C</th>\n",
       "      <th>D</th>\n",
       "    </tr>\n",
       "  </thead>\n",
       "  <tbody>\n",
       "    <tr>\n",
       "      <th>15</th>\n",
       "      <td>88</td>\n",
       "      <td>64</td>\n",
       "      <td>41</td>\n",
       "      <td>47</td>\n",
       "    </tr>\n",
       "    <tr>\n",
       "      <th>16</th>\n",
       "      <td>41</td>\n",
       "      <td>15</td>\n",
       "      <td>26</td>\n",
       "      <td>4</td>\n",
       "    </tr>\n",
       "    <tr>\n",
       "      <th>17</th>\n",
       "      <td>86</td>\n",
       "      <td>69</td>\n",
       "      <td>41</td>\n",
       "      <td>50</td>\n",
       "    </tr>\n",
       "    <tr>\n",
       "      <th>18</th>\n",
       "      <td>80</td>\n",
       "      <td>13</td>\n",
       "      <td>51</td>\n",
       "      <td>91</td>\n",
       "    </tr>\n",
       "    <tr>\n",
       "      <th>19</th>\n",
       "      <td>93</td>\n",
       "      <td>63</td>\n",
       "      <td>59</td>\n",
       "      <td>81</td>\n",
       "    </tr>\n",
       "  </tbody>\n",
       "</table>\n",
       "</div>"
      ],
      "text/plain": [
       "     A   B   C   D\n",
       "15  88  64  41  47\n",
       "16  41  15  26   4\n",
       "17  86  69  41  50\n",
       "18  80  13  51  91\n",
       "19  93  63  59  81"
      ]
     },
     "execution_count": 12,
     "metadata": {},
     "output_type": "execute_result"
    }
   ],
   "source": [
    "df.tail()"
   ]
  },
  {
   "cell_type": "code",
   "execution_count": 13,
   "id": "6ce125c1",
   "metadata": {
    "execution": {
     "iopub.execute_input": "2024-08-31T05:55:19.907063Z",
     "iopub.status.busy": "2024-08-31T05:55:19.906627Z",
     "iopub.status.idle": "2024-08-31T05:55:19.931229Z",
     "shell.execute_reply": "2024-08-31T05:55:19.929442Z"
    },
    "papermill": {
     "duration": 0.094302,
     "end_time": "2024-08-31T05:55:19.934557",
     "exception": false,
     "start_time": "2024-08-31T05:55:19.840255",
     "status": "completed"
    },
    "tags": []
   },
   "outputs": [
    {
     "name": "stdout",
     "output_type": "stream",
     "text": [
      "<class 'pandas.core.frame.DataFrame'>\n",
      "RangeIndex: 20 entries, 0 to 19\n",
      "Data columns (total 4 columns):\n",
      " #   Column  Non-Null Count  Dtype\n",
      "---  ------  --------------  -----\n",
      " 0   A       20 non-null     int64\n",
      " 1   B       20 non-null     int64\n",
      " 2   C       20 non-null     int64\n",
      " 3   D       20 non-null     int64\n",
      "dtypes: int64(4)\n",
      "memory usage: 768.0 bytes\n"
     ]
    }
   ],
   "source": [
    "df.info()"
   ]
  },
  {
   "cell_type": "code",
   "execution_count": 14,
   "id": "988462ed",
   "metadata": {
    "execution": {
     "iopub.execute_input": "2024-08-31T05:55:20.070442Z",
     "iopub.status.busy": "2024-08-31T05:55:20.069851Z",
     "iopub.status.idle": "2024-08-31T05:55:20.100447Z",
     "shell.execute_reply": "2024-08-31T05:55:20.099061Z"
    },
    "papermill": {
     "duration": 0.102903,
     "end_time": "2024-08-31T05:55:20.103620",
     "exception": false,
     "start_time": "2024-08-31T05:55:20.000717",
     "status": "completed"
    },
    "tags": []
   },
   "outputs": [
    {
     "data": {
      "text/html": [
       "<div>\n",
       "<style scoped>\n",
       "    .dataframe tbody tr th:only-of-type {\n",
       "        vertical-align: middle;\n",
       "    }\n",
       "\n",
       "    .dataframe tbody tr th {\n",
       "        vertical-align: top;\n",
       "    }\n",
       "\n",
       "    .dataframe thead th {\n",
       "        text-align: right;\n",
       "    }\n",
       "</style>\n",
       "<table border=\"1\" class=\"dataframe\">\n",
       "  <thead>\n",
       "    <tr style=\"text-align: right;\">\n",
       "      <th></th>\n",
       "      <th>A</th>\n",
       "      <th>B</th>\n",
       "      <th>C</th>\n",
       "      <th>D</th>\n",
       "    </tr>\n",
       "  </thead>\n",
       "  <tbody>\n",
       "    <tr>\n",
       "      <th>count</th>\n",
       "      <td>20.000000</td>\n",
       "      <td>20.000000</td>\n",
       "      <td>20.000000</td>\n",
       "      <td>20.000000</td>\n",
       "    </tr>\n",
       "    <tr>\n",
       "      <th>mean</th>\n",
       "      <td>64.600000</td>\n",
       "      <td>49.000000</td>\n",
       "      <td>55.200000</td>\n",
       "      <td>42.150000</td>\n",
       "    </tr>\n",
       "    <tr>\n",
       "      <th>std</th>\n",
       "      <td>28.163807</td>\n",
       "      <td>26.750307</td>\n",
       "      <td>27.689253</td>\n",
       "      <td>28.674718</td>\n",
       "    </tr>\n",
       "    <tr>\n",
       "      <th>min</th>\n",
       "      <td>5.000000</td>\n",
       "      <td>6.000000</td>\n",
       "      <td>2.000000</td>\n",
       "      <td>4.000000</td>\n",
       "    </tr>\n",
       "    <tr>\n",
       "      <th>25%</th>\n",
       "      <td>47.000000</td>\n",
       "      <td>31.500000</td>\n",
       "      <td>39.500000</td>\n",
       "      <td>19.750000</td>\n",
       "    </tr>\n",
       "    <tr>\n",
       "      <th>50%</th>\n",
       "      <td>67.500000</td>\n",
       "      <td>55.000000</td>\n",
       "      <td>55.000000</td>\n",
       "      <td>39.000000</td>\n",
       "    </tr>\n",
       "    <tr>\n",
       "      <th>75%</th>\n",
       "      <td>88.750000</td>\n",
       "      <td>66.500000</td>\n",
       "      <td>82.250000</td>\n",
       "      <td>66.500000</td>\n",
       "    </tr>\n",
       "    <tr>\n",
       "      <th>max</th>\n",
       "      <td>99.000000</td>\n",
       "      <td>96.000000</td>\n",
       "      <td>91.000000</td>\n",
       "      <td>97.000000</td>\n",
       "    </tr>\n",
       "  </tbody>\n",
       "</table>\n",
       "</div>"
      ],
      "text/plain": [
       "               A          B          C          D\n",
       "count  20.000000  20.000000  20.000000  20.000000\n",
       "mean   64.600000  49.000000  55.200000  42.150000\n",
       "std    28.163807  26.750307  27.689253  28.674718\n",
       "min     5.000000   6.000000   2.000000   4.000000\n",
       "25%    47.000000  31.500000  39.500000  19.750000\n",
       "50%    67.500000  55.000000  55.000000  39.000000\n",
       "75%    88.750000  66.500000  82.250000  66.500000\n",
       "max    99.000000  96.000000  91.000000  97.000000"
      ]
     },
     "execution_count": 14,
     "metadata": {},
     "output_type": "execute_result"
    }
   ],
   "source": [
    "df.describe()"
   ]
  },
  {
   "cell_type": "markdown",
   "id": "02824ebd",
   "metadata": {
    "papermill": {
     "duration": 0.068306,
     "end_time": "2024-08-31T05:55:20.239099",
     "exception": false,
     "start_time": "2024-08-31T05:55:20.170793",
     "status": "completed"
    },
    "tags": []
   },
   "source": [
    "### Identifyng Missing Data"
   ]
  },
  {
   "cell_type": "code",
   "execution_count": 15,
   "id": "c9668f29",
   "metadata": {
    "execution": {
     "iopub.execute_input": "2024-08-31T05:55:20.376748Z",
     "iopub.status.busy": "2024-08-31T05:55:20.375467Z",
     "iopub.status.idle": "2024-08-31T05:55:20.392765Z",
     "shell.execute_reply": "2024-08-31T05:55:20.390841Z"
    },
    "papermill": {
     "duration": 0.08963,
     "end_time": "2024-08-31T05:55:20.396319",
     "exception": false,
     "start_time": "2024-08-31T05:55:20.306689",
     "status": "completed"
    },
    "tags": []
   },
   "outputs": [
    {
     "data": {
      "text/html": [
       "<div>\n",
       "<style scoped>\n",
       "    .dataframe tbody tr th:only-of-type {\n",
       "        vertical-align: middle;\n",
       "    }\n",
       "\n",
       "    .dataframe tbody tr th {\n",
       "        vertical-align: top;\n",
       "    }\n",
       "\n",
       "    .dataframe thead th {\n",
       "        text-align: right;\n",
       "    }\n",
       "</style>\n",
       "<table border=\"1\" class=\"dataframe\">\n",
       "  <thead>\n",
       "    <tr style=\"text-align: right;\">\n",
       "      <th></th>\n",
       "      <th>A</th>\n",
       "      <th>B</th>\n",
       "      <th>C</th>\n",
       "    </tr>\n",
       "  </thead>\n",
       "  <tbody>\n",
       "    <tr>\n",
       "      <th>0</th>\n",
       "      <td>1.0</td>\n",
       "      <td>NaN</td>\n",
       "      <td>1.0</td>\n",
       "    </tr>\n",
       "    <tr>\n",
       "      <th>1</th>\n",
       "      <td>2.0</td>\n",
       "      <td>2.0</td>\n",
       "      <td>2.0</td>\n",
       "    </tr>\n",
       "    <tr>\n",
       "      <th>2</th>\n",
       "      <td>NaN</td>\n",
       "      <td>3.0</td>\n",
       "      <td>3.0</td>\n",
       "    </tr>\n",
       "    <tr>\n",
       "      <th>3</th>\n",
       "      <td>4.0</td>\n",
       "      <td>4.0</td>\n",
       "      <td>4.0</td>\n",
       "    </tr>\n",
       "    <tr>\n",
       "      <th>4</th>\n",
       "      <td>5.0</td>\n",
       "      <td>5.0</td>\n",
       "      <td>NaN</td>\n",
       "    </tr>\n",
       "  </tbody>\n",
       "</table>\n",
       "</div>"
      ],
      "text/plain": [
       "     A    B    C\n",
       "0  1.0  NaN  1.0\n",
       "1  2.0  2.0  2.0\n",
       "2  NaN  3.0  3.0\n",
       "3  4.0  4.0  4.0\n",
       "4  5.0  5.0  NaN"
      ]
     },
     "execution_count": 15,
     "metadata": {},
     "output_type": "execute_result"
    }
   ],
   "source": [
    "data_missing = {\n",
    "    'A': [1,2, np.nan, 4, 5],\n",
    "    'B': [np.nan, 2, 3, 4, 5],\n",
    "    'C': [1,2,3,4, np.nan]\n",
    "}\n",
    "df = pd.DataFrame(data=data_missing)\n",
    "df"
   ]
  },
  {
   "cell_type": "code",
   "execution_count": 16,
   "id": "9f915e78",
   "metadata": {
    "execution": {
     "iopub.execute_input": "2024-08-31T05:55:20.536518Z",
     "iopub.status.busy": "2024-08-31T05:55:20.536075Z",
     "iopub.status.idle": "2024-08-31T05:55:20.544813Z",
     "shell.execute_reply": "2024-08-31T05:55:20.543696Z"
    },
    "papermill": {
     "duration": 0.081044,
     "end_time": "2024-08-31T05:55:20.547551",
     "exception": false,
     "start_time": "2024-08-31T05:55:20.466507",
     "status": "completed"
    },
    "tags": []
   },
   "outputs": [
    {
     "data": {
      "text/plain": [
       "A    1\n",
       "B    1\n",
       "C    1\n",
       "dtype: int64"
      ]
     },
     "execution_count": 16,
     "metadata": {},
     "output_type": "execute_result"
    }
   ],
   "source": [
    "missing_data_count = df.isna().sum()\n",
    "missing_data_count"
   ]
  },
  {
   "cell_type": "markdown",
   "id": "cd21b8a7",
   "metadata": {
    "papermill": {
     "duration": 0.067093,
     "end_time": "2024-08-31T05:55:20.682499",
     "exception": false,
     "start_time": "2024-08-31T05:55:20.615406",
     "status": "completed"
    },
    "tags": []
   },
   "source": [
    "### Checking Data Distribution"
   ]
  },
  {
   "cell_type": "code",
   "execution_count": 17,
   "id": "b0ff43f6",
   "metadata": {
    "execution": {
     "iopub.execute_input": "2024-08-31T05:55:20.820424Z",
     "iopub.status.busy": "2024-08-31T05:55:20.820021Z",
     "iopub.status.idle": "2024-08-31T05:55:20.830898Z",
     "shell.execute_reply": "2024-08-31T05:55:20.829618Z"
    },
    "papermill": {
     "duration": 0.08283,
     "end_time": "2024-08-31T05:55:20.833474",
     "exception": false,
     "start_time": "2024-08-31T05:55:20.750644",
     "status": "completed"
    },
    "tags": []
   },
   "outputs": [
    {
     "data": {
      "text/plain": [
       "apple     4\n",
       "banana    2\n",
       "orange    2\n",
       "Name: count, dtype: int64"
      ]
     },
     "execution_count": 17,
     "metadata": {},
     "output_type": "execute_result"
    }
   ],
   "source": [
    "ser_categorical = pd.Series(['apple','banana','apple','orange','banana','apple',\n",
    "                            'apple','orange'])\n",
    "value_counts = ser_categorical.value_counts()\n",
    "type(value_counts) ## Series\n",
    "value_counts"
   ]
  },
  {
   "cell_type": "markdown",
   "id": "f2a5f28f",
   "metadata": {
    "papermill": {
     "duration": 0.067493,
     "end_time": "2024-08-31T05:55:20.968142",
     "exception": false,
     "start_time": "2024-08-31T05:55:20.900649",
     "status": "completed"
    },
    "tags": []
   },
   "source": [
    "### Checking Unique Values"
   ]
  },
  {
   "cell_type": "code",
   "execution_count": 18,
   "id": "d8fa2ae6",
   "metadata": {
    "execution": {
     "iopub.execute_input": "2024-08-31T05:55:21.105378Z",
     "iopub.status.busy": "2024-08-31T05:55:21.104934Z",
     "iopub.status.idle": "2024-08-31T05:55:21.124925Z",
     "shell.execute_reply": "2024-08-31T05:55:21.123754Z"
    },
    "papermill": {
     "duration": 0.090995,
     "end_time": "2024-08-31T05:55:21.127340",
     "exception": false,
     "start_time": "2024-08-31T05:55:21.036345",
     "status": "completed"
    },
    "tags": []
   },
   "outputs": [
    {
     "data": {
      "text/plain": [
       "A             int64\n",
       "B           float64\n",
       "C            object\n",
       "D    datetime64[ns]\n",
       "dtype: object"
      ]
     },
     "execution_count": 18,
     "metadata": {},
     "output_type": "execute_result"
    }
   ],
   "source": [
    "data_sample = {\n",
    "    'A': np.random.randint(1, 100, 3),\n",
    "    'B': np.random.random(3),\n",
    "    'C': ['apple','banana','cherry'],\n",
    "    'D': pd.date_range(\"20230101\", periods=3)\n",
    "}\n",
    "df = pd.DataFrame(data=data_sample)\n",
    "data_types = df.dtypes\n",
    "data_types"
   ]
  },
  {
   "cell_type": "code",
   "execution_count": 19,
   "id": "5263020e",
   "metadata": {
    "execution": {
     "iopub.execute_input": "2024-08-31T05:55:21.265173Z",
     "iopub.status.busy": "2024-08-31T05:55:21.264723Z",
     "iopub.status.idle": "2024-08-31T05:55:21.273139Z",
     "shell.execute_reply": "2024-08-31T05:55:21.271961Z"
    },
    "papermill": {
     "duration": 0.081682,
     "end_time": "2024-08-31T05:55:21.275868",
     "exception": false,
     "start_time": "2024-08-31T05:55:21.194186",
     "status": "completed"
    },
    "tags": []
   },
   "outputs": [
    {
     "data": {
      "text/plain": [
       "3"
      ]
     },
     "execution_count": 19,
     "metadata": {},
     "output_type": "execute_result"
    }
   ],
   "source": [
    "unique_count = ser_categorical.nunique()\n",
    "unique_count"
   ]
  },
  {
   "cell_type": "code",
   "execution_count": 20,
   "id": "58072713",
   "metadata": {
    "execution": {
     "iopub.execute_input": "2024-08-31T05:55:21.414021Z",
     "iopub.status.busy": "2024-08-31T05:55:21.413571Z",
     "iopub.status.idle": "2024-08-31T05:55:21.421490Z",
     "shell.execute_reply": "2024-08-31T05:55:21.420373Z"
    },
    "papermill": {
     "duration": 0.079743,
     "end_time": "2024-08-31T05:55:21.424053",
     "exception": false,
     "start_time": "2024-08-31T05:55:21.344310",
     "status": "completed"
    },
    "tags": []
   },
   "outputs": [
    {
     "data": {
      "text/plain": [
       "['apple', 'banana', 'orange']"
      ]
     },
     "execution_count": 20,
     "metadata": {},
     "output_type": "execute_result"
    }
   ],
   "source": [
    "unique_values = ser_categorical.unique().tolist()\n",
    "unique_values"
   ]
  },
  {
   "cell_type": "markdown",
   "id": "3c38b014",
   "metadata": {
    "papermill": {
     "duration": 0.068928,
     "end_time": "2024-08-31T05:55:21.561662",
     "exception": false,
     "start_time": "2024-08-31T05:55:21.492734",
     "status": "completed"
    },
    "tags": []
   },
   "source": [
    "### Checking Data Types"
   ]
  },
  {
   "cell_type": "markdown",
   "id": "7beb00cf",
   "metadata": {
    "papermill": {
     "duration": 0.067136,
     "end_time": "2024-08-31T05:55:21.697626",
     "exception": false,
     "start_time": "2024-08-31T05:55:21.630490",
     "status": "completed"
    },
    "tags": []
   },
   "source": [
    "### Checking DataFrame Size"
   ]
  },
  {
   "cell_type": "code",
   "execution_count": 21,
   "id": "2394d1c0",
   "metadata": {
    "execution": {
     "iopub.execute_input": "2024-08-31T05:55:21.833902Z",
     "iopub.status.busy": "2024-08-31T05:55:21.833158Z",
     "iopub.status.idle": "2024-08-31T05:55:21.840614Z",
     "shell.execute_reply": "2024-08-31T05:55:21.839424Z"
    },
    "papermill": {
     "duration": 0.078196,
     "end_time": "2024-08-31T05:55:21.842998",
     "exception": false,
     "start_time": "2024-08-31T05:55:21.764802",
     "status": "completed"
    },
    "tags": []
   },
   "outputs": [
    {
     "data": {
      "text/plain": [
       "(3, 4)"
      ]
     },
     "execution_count": 21,
     "metadata": {},
     "output_type": "execute_result"
    }
   ],
   "source": [
    "df_shape = df.shape\n",
    "df_shape ## (3,4) 3 baris 4 kolom"
   ]
  },
  {
   "cell_type": "markdown",
   "id": "6841a42a",
   "metadata": {
    "papermill": {
     "duration": 0.070607,
     "end_time": "2024-08-31T05:55:21.982074",
     "exception": false,
     "start_time": "2024-08-31T05:55:21.911467",
     "status": "completed"
    },
    "tags": []
   },
   "source": [
    "### Checking Columns and Index"
   ]
  },
  {
   "cell_type": "code",
   "execution_count": 22,
   "id": "33bde221",
   "metadata": {
    "execution": {
     "iopub.execute_input": "2024-08-31T05:55:22.125024Z",
     "iopub.status.busy": "2024-08-31T05:55:22.124609Z",
     "iopub.status.idle": "2024-08-31T05:55:22.133416Z",
     "shell.execute_reply": "2024-08-31T05:55:22.132084Z"
    },
    "papermill": {
     "duration": 0.082902,
     "end_time": "2024-08-31T05:55:22.135970",
     "exception": false,
     "start_time": "2024-08-31T05:55:22.053068",
     "status": "completed"
    },
    "tags": []
   },
   "outputs": [
    {
     "data": {
      "text/plain": [
       "(Index(['A', 'B', 'C', 'D'], dtype='object'),\n",
       " RangeIndex(start=0, stop=3, step=1))"
      ]
     },
     "execution_count": 22,
     "metadata": {},
     "output_type": "execute_result"
    }
   ],
   "source": [
    "df_columns = df.columns\n",
    "df_index = df.index\n",
    "\n",
    "df_columns, df_index"
   ]
  },
  {
   "cell_type": "markdown",
   "id": "0f929c51",
   "metadata": {
    "papermill": {
     "duration": 0.069393,
     "end_time": "2024-08-31T05:55:22.273392",
     "exception": false,
     "start_time": "2024-08-31T05:55:22.203999",
     "status": "completed"
    },
    "tags": []
   },
   "source": [
    "### Checking Memory Usage"
   ]
  },
  {
   "cell_type": "code",
   "execution_count": 23,
   "id": "fad13486",
   "metadata": {
    "execution": {
     "iopub.execute_input": "2024-08-31T05:55:22.413947Z",
     "iopub.status.busy": "2024-08-31T05:55:22.413481Z",
     "iopub.status.idle": "2024-08-31T05:55:22.423764Z",
     "shell.execute_reply": "2024-08-31T05:55:22.422676Z"
    },
    "papermill": {
     "duration": 0.084105,
     "end_time": "2024-08-31T05:55:22.426368",
     "exception": false,
     "start_time": "2024-08-31T05:55:22.342263",
     "status": "completed"
    },
    "tags": []
   },
   "outputs": [
    {
     "data": {
      "text/plain": [
       "Index    128\n",
       "A         24\n",
       "B         24\n",
       "C         24\n",
       "D         24\n",
       "dtype: int64"
      ]
     },
     "execution_count": 23,
     "metadata": {},
     "output_type": "execute_result"
    }
   ],
   "source": [
    "memory_usage = df.memory_usage()\n",
    "memory_usage"
   ]
  },
  {
   "cell_type": "markdown",
   "id": "c251c727",
   "metadata": {
    "papermill": {
     "duration": 0.067534,
     "end_time": "2024-08-31T05:55:22.562218",
     "exception": false,
     "start_time": "2024-08-31T05:55:22.494684",
     "status": "completed"
    },
    "tags": []
   },
   "source": [
    "## Accessing Data"
   ]
  },
  {
   "cell_type": "markdown",
   "id": "f162f6a0",
   "metadata": {
    "papermill": {
     "duration": 0.067055,
     "end_time": "2024-08-31T05:55:22.697721",
     "exception": false,
     "start_time": "2024-08-31T05:55:22.630666",
     "status": "completed"
    },
    "tags": []
   },
   "source": [
    "### Accessing Data in Series"
   ]
  },
  {
   "cell_type": "code",
   "execution_count": 24,
   "id": "567c7853",
   "metadata": {
    "execution": {
     "iopub.execute_input": "2024-08-31T05:55:22.838919Z",
     "iopub.status.busy": "2024-08-31T05:55:22.838005Z",
     "iopub.status.idle": "2024-08-31T05:55:22.850718Z",
     "shell.execute_reply": "2024-08-31T05:55:22.849030Z"
    },
    "papermill": {
     "duration": 0.086867,
     "end_time": "2024-08-31T05:55:22.853650",
     "exception": false,
     "start_time": "2024-08-31T05:55:22.766783",
     "status": "completed"
    },
    "tags": []
   },
   "outputs": [
    {
     "name": "stderr",
     "output_type": "stream",
     "text": [
      "/tmp/ipykernel_17/147560710.py:4: FutureWarning: Series.__getitem__ treating keys as positions is deprecated. In a future version, integer keys will always be treated as labels (consistent with DataFrame behavior). To access a value by position, use `ser.iloc[pos]`\n",
      "  ele_pos = s[4]\n"
     ]
    },
    {
     "data": {
      "text/plain": [
       "(50, 30)"
      ]
     },
     "execution_count": 24,
     "metadata": {},
     "output_type": "execute_result"
    }
   ],
   "source": [
    "s = pd.Series([10,20,30,40,50], index = ['a','b','c','d','e'])\n",
    "\n",
    "# Mengakses element dengan index possisi\n",
    "ele_pos = s[4]\n",
    "\n",
    "# Mengakses element dengan index label\n",
    "ele_label = s['c']\n",
    "\n",
    "ele_pos, ele_label"
   ]
  },
  {
   "cell_type": "markdown",
   "id": "ea33b04d",
   "metadata": {
    "papermill": {
     "duration": 0.069629,
     "end_time": "2024-08-31T05:55:22.993300",
     "exception": false,
     "start_time": "2024-08-31T05:55:22.923671",
     "status": "completed"
    },
    "tags": []
   },
   "source": [
    "### Accessing Data in DataFrame"
   ]
  },
  {
   "cell_type": "code",
   "execution_count": 25,
   "id": "f42f34e0",
   "metadata": {
    "execution": {
     "iopub.execute_input": "2024-08-31T05:55:23.131771Z",
     "iopub.status.busy": "2024-08-31T05:55:23.131336Z",
     "iopub.status.idle": "2024-08-31T05:55:23.142897Z",
     "shell.execute_reply": "2024-08-31T05:55:23.141727Z"
    },
    "papermill": {
     "duration": 0.083363,
     "end_time": "2024-08-31T05:55:23.145521",
     "exception": false,
     "start_time": "2024-08-31T05:55:23.062158",
     "status": "completed"
    },
    "tags": []
   },
   "outputs": [
    {
     "data": {
      "text/plain": [
       "(0    1\n",
       " 1    2\n",
       " 2    3\n",
       " 3    4\n",
       " 4    5\n",
       " Name: A, dtype: int64,\n",
       " 0     apple\n",
       " 1    banana\n",
       " 2    cherry\n",
       " 3      date\n",
       " 4       fig\n",
       " Name: B, dtype: object)"
      ]
     },
     "execution_count": 25,
     "metadata": {},
     "output_type": "execute_result"
    }
   ],
   "source": [
    "data_example = {\n",
    "    'A': [1,2,3,4,5],\n",
    "    'B': ['apple','banana','cherry','date','fig'],\n",
    "    'C': [1.1, 2.2, 3.3, 4.4, 5.5]\n",
    "}\n",
    "df = pd.DataFrame(data=data_example)\n",
    "\n",
    "column_A = df['A']\n",
    "column_B = df['B']\n",
    "\n",
    "column_A.head(), column_B.head()"
   ]
  },
  {
   "cell_type": "markdown",
   "id": "7b6855b4",
   "metadata": {
    "papermill": {
     "duration": 0.06894,
     "end_time": "2024-08-31T05:55:23.283077",
     "exception": false,
     "start_time": "2024-08-31T05:55:23.214137",
     "status": "completed"
    },
    "tags": []
   },
   "source": [
    "### Access Data in DataFrame using iloc and loc"
   ]
  },
  {
   "cell_type": "code",
   "execution_count": 26,
   "id": "55082476",
   "metadata": {
    "execution": {
     "iopub.execute_input": "2024-08-31T05:55:23.424769Z",
     "iopub.status.busy": "2024-08-31T05:55:23.424316Z",
     "iopub.status.idle": "2024-08-31T05:55:23.433580Z",
     "shell.execute_reply": "2024-08-31T05:55:23.432440Z"
    },
    "papermill": {
     "duration": 0.081803,
     "end_time": "2024-08-31T05:55:23.436011",
     "exception": false,
     "start_time": "2024-08-31T05:55:23.354208",
     "status": "completed"
    },
    "tags": []
   },
   "outputs": [
    {
     "data": {
      "text/plain": [
       "(A         3\n",
       " B    cherry\n",
       " C       3.3\n",
       " Name: 2, dtype: object,\n",
       " A         3\n",
       " B    cherry\n",
       " C       3.3\n",
       " Name: 2, dtype: object)"
      ]
     },
     "execution_count": 26,
     "metadata": {},
     "output_type": "execute_result"
    }
   ],
   "source": [
    "row_by_idx_position = df.iloc[2]\n",
    "row_by_label = df.loc[2]\n",
    "\n",
    "row_by_idx_position, row_by_label"
   ]
  },
  {
   "cell_type": "markdown",
   "id": "a018c8e7",
   "metadata": {
    "execution": {
     "iopub.execute_input": "2024-08-28T06:10:23.474616Z",
     "iopub.status.busy": "2024-08-28T06:10:23.474123Z",
     "iopub.status.idle": "2024-08-28T06:10:23.488624Z",
     "shell.execute_reply": "2024-08-28T06:10:23.487030Z",
     "shell.execute_reply.started": "2024-08-28T06:10:23.474558Z"
    },
    "papermill": {
     "duration": 0.068362,
     "end_time": "2024-08-31T05:55:23.574710",
     "exception": false,
     "start_time": "2024-08-31T05:55:23.506348",
     "status": "completed"
    },
    "tags": []
   },
   "source": [
    "### Accessing Data in DataFrame by Subset"
   ]
  },
  {
   "cell_type": "code",
   "execution_count": 27,
   "id": "899a8535",
   "metadata": {
    "execution": {
     "iopub.execute_input": "2024-08-31T05:55:23.712428Z",
     "iopub.status.busy": "2024-08-31T05:55:23.711946Z",
     "iopub.status.idle": "2024-08-31T05:55:23.724586Z",
     "shell.execute_reply": "2024-08-31T05:55:23.723331Z"
    },
    "papermill": {
     "duration": 0.084381,
     "end_time": "2024-08-31T05:55:23.727215",
     "exception": false,
     "start_time": "2024-08-31T05:55:23.642834",
     "status": "completed"
    },
    "tags": []
   },
   "outputs": [
    {
     "data": {
      "text/html": [
       "<div>\n",
       "<style scoped>\n",
       "    .dataframe tbody tr th:only-of-type {\n",
       "        vertical-align: middle;\n",
       "    }\n",
       "\n",
       "    .dataframe tbody tr th {\n",
       "        vertical-align: top;\n",
       "    }\n",
       "\n",
       "    .dataframe thead th {\n",
       "        text-align: right;\n",
       "    }\n",
       "</style>\n",
       "<table border=\"1\" class=\"dataframe\">\n",
       "  <thead>\n",
       "    <tr style=\"text-align: right;\">\n",
       "      <th></th>\n",
       "      <th>A</th>\n",
       "      <th>B</th>\n",
       "      <th>C</th>\n",
       "    </tr>\n",
       "  </thead>\n",
       "  <tbody>\n",
       "    <tr>\n",
       "      <th>0</th>\n",
       "      <td>1</td>\n",
       "      <td>apple</td>\n",
       "      <td>1.1</td>\n",
       "    </tr>\n",
       "    <tr>\n",
       "      <th>1</th>\n",
       "      <td>2</td>\n",
       "      <td>banana</td>\n",
       "      <td>2.2</td>\n",
       "    </tr>\n",
       "    <tr>\n",
       "      <th>2</th>\n",
       "      <td>3</td>\n",
       "      <td>cherry</td>\n",
       "      <td>3.3</td>\n",
       "    </tr>\n",
       "    <tr>\n",
       "      <th>3</th>\n",
       "      <td>4</td>\n",
       "      <td>date</td>\n",
       "      <td>4.4</td>\n",
       "    </tr>\n",
       "    <tr>\n",
       "      <th>4</th>\n",
       "      <td>5</td>\n",
       "      <td>fig</td>\n",
       "      <td>5.5</td>\n",
       "    </tr>\n",
       "  </tbody>\n",
       "</table>\n",
       "</div>"
      ],
      "text/plain": [
       "   A       B    C\n",
       "0  1   apple  1.1\n",
       "1  2  banana  2.2\n",
       "2  3  cherry  3.3\n",
       "3  4    date  4.4\n",
       "4  5     fig  5.5"
      ]
     },
     "execution_count": 27,
     "metadata": {},
     "output_type": "execute_result"
    }
   ],
   "source": [
    "df"
   ]
  },
  {
   "cell_type": "code",
   "execution_count": 28,
   "id": "ddffe473",
   "metadata": {
    "execution": {
     "iopub.execute_input": "2024-08-31T05:55:23.872264Z",
     "iopub.status.busy": "2024-08-31T05:55:23.871837Z",
     "iopub.status.idle": "2024-08-31T05:55:23.885959Z",
     "shell.execute_reply": "2024-08-31T05:55:23.884637Z"
    },
    "papermill": {
     "duration": 0.092203,
     "end_time": "2024-08-31T05:55:23.889655",
     "exception": false,
     "start_time": "2024-08-31T05:55:23.797452",
     "status": "completed"
    },
    "tags": []
   },
   "outputs": [
    {
     "data": {
      "text/html": [
       "<div>\n",
       "<style scoped>\n",
       "    .dataframe tbody tr th:only-of-type {\n",
       "        vertical-align: middle;\n",
       "    }\n",
       "\n",
       "    .dataframe tbody tr th {\n",
       "        vertical-align: top;\n",
       "    }\n",
       "\n",
       "    .dataframe thead th {\n",
       "        text-align: right;\n",
       "    }\n",
       "</style>\n",
       "<table border=\"1\" class=\"dataframe\">\n",
       "  <thead>\n",
       "    <tr style=\"text-align: right;\">\n",
       "      <th></th>\n",
       "      <th>A</th>\n",
       "      <th>B</th>\n",
       "    </tr>\n",
       "  </thead>\n",
       "  <tbody>\n",
       "    <tr>\n",
       "      <th>1</th>\n",
       "      <td>2</td>\n",
       "      <td>banana</td>\n",
       "    </tr>\n",
       "    <tr>\n",
       "      <th>2</th>\n",
       "      <td>3</td>\n",
       "      <td>cherry</td>\n",
       "    </tr>\n",
       "    <tr>\n",
       "      <th>3</th>\n",
       "      <td>4</td>\n",
       "      <td>date</td>\n",
       "    </tr>\n",
       "  </tbody>\n",
       "</table>\n",
       "</div>"
      ],
      "text/plain": [
       "   A       B\n",
       "1  2  banana\n",
       "2  3  cherry\n",
       "3  4    date"
      ]
     },
     "execution_count": 28,
     "metadata": {},
     "output_type": "execute_result"
    }
   ],
   "source": [
    "subset_position = df.iloc[1:4, 0:2]\n",
    "subset_position"
   ]
  },
  {
   "cell_type": "code",
   "execution_count": 29,
   "id": "7abc6e6e",
   "metadata": {
    "execution": {
     "iopub.execute_input": "2024-08-31T05:55:24.040192Z",
     "iopub.status.busy": "2024-08-31T05:55:24.039769Z",
     "iopub.status.idle": "2024-08-31T05:55:24.052582Z",
     "shell.execute_reply": "2024-08-31T05:55:24.051227Z"
    },
    "papermill": {
     "duration": 0.091664,
     "end_time": "2024-08-31T05:55:24.055261",
     "exception": false,
     "start_time": "2024-08-31T05:55:23.963597",
     "status": "completed"
    },
    "tags": []
   },
   "outputs": [
    {
     "data": {
      "text/html": [
       "<div>\n",
       "<style scoped>\n",
       "    .dataframe tbody tr th:only-of-type {\n",
       "        vertical-align: middle;\n",
       "    }\n",
       "\n",
       "    .dataframe tbody tr th {\n",
       "        vertical-align: top;\n",
       "    }\n",
       "\n",
       "    .dataframe thead th {\n",
       "        text-align: right;\n",
       "    }\n",
       "</style>\n",
       "<table border=\"1\" class=\"dataframe\">\n",
       "  <thead>\n",
       "    <tr style=\"text-align: right;\">\n",
       "      <th></th>\n",
       "      <th>A</th>\n",
       "      <th>B</th>\n",
       "    </tr>\n",
       "  </thead>\n",
       "  <tbody>\n",
       "    <tr>\n",
       "      <th>1</th>\n",
       "      <td>2</td>\n",
       "      <td>banana</td>\n",
       "    </tr>\n",
       "    <tr>\n",
       "      <th>2</th>\n",
       "      <td>3</td>\n",
       "      <td>cherry</td>\n",
       "    </tr>\n",
       "    <tr>\n",
       "      <th>3</th>\n",
       "      <td>4</td>\n",
       "      <td>date</td>\n",
       "    </tr>\n",
       "  </tbody>\n",
       "</table>\n",
       "</div>"
      ],
      "text/plain": [
       "   A       B\n",
       "1  2  banana\n",
       "2  3  cherry\n",
       "3  4    date"
      ]
     },
     "execution_count": 29,
     "metadata": {},
     "output_type": "execute_result"
    }
   ],
   "source": [
    "subset_label = df.loc[1:3, ['A','B']]\n",
    "subset_label"
   ]
  },
  {
   "cell_type": "markdown",
   "id": "cca26c73",
   "metadata": {
    "papermill": {
     "duration": 0.071152,
     "end_time": "2024-08-31T05:55:24.255587",
     "exception": false,
     "start_time": "2024-08-31T05:55:24.184435",
     "status": "completed"
    },
    "tags": []
   },
   "source": [
    "### Accessing Data in DataFrame using at and iat"
   ]
  },
  {
   "cell_type": "code",
   "execution_count": 30,
   "id": "b1e11ca1",
   "metadata": {
    "execution": {
     "iopub.execute_input": "2024-08-31T05:55:24.399515Z",
     "iopub.status.busy": "2024-08-31T05:55:24.399097Z",
     "iopub.status.idle": "2024-08-31T05:55:24.407271Z",
     "shell.execute_reply": "2024-08-31T05:55:24.406046Z"
    },
    "papermill": {
     "duration": 0.082266,
     "end_time": "2024-08-31T05:55:24.409906",
     "exception": false,
     "start_time": "2024-08-31T05:55:24.327640",
     "status": "completed"
    },
    "tags": []
   },
   "outputs": [
    {
     "data": {
      "text/plain": [
       "'cherry'"
      ]
     },
     "execution_count": 30,
     "metadata": {},
     "output_type": "execute_result"
    }
   ],
   "source": [
    "data_at = df.at[2, 'B']\n",
    "data_at"
   ]
  },
  {
   "cell_type": "code",
   "execution_count": 31,
   "id": "c52c3d71",
   "metadata": {
    "execution": {
     "iopub.execute_input": "2024-08-31T05:55:24.557240Z",
     "iopub.status.busy": "2024-08-31T05:55:24.556784Z",
     "iopub.status.idle": "2024-08-31T05:55:24.565019Z",
     "shell.execute_reply": "2024-08-31T05:55:24.563748Z"
    },
    "papermill": {
     "duration": 0.084348,
     "end_time": "2024-08-31T05:55:24.567756",
     "exception": false,
     "start_time": "2024-08-31T05:55:24.483408",
     "status": "completed"
    },
    "tags": []
   },
   "outputs": [
    {
     "data": {
      "text/plain": [
       "'cherry'"
      ]
     },
     "execution_count": 31,
     "metadata": {},
     "output_type": "execute_result"
    }
   ],
   "source": [
    "data_iat = df.iat[2, 1]\n",
    "data_iat"
   ]
  },
  {
   "cell_type": "markdown",
   "id": "78e98a35",
   "metadata": {
    "papermill": {
     "duration": 0.070493,
     "end_time": "2024-08-31T05:55:24.709342",
     "exception": false,
     "start_time": "2024-08-31T05:55:24.638849",
     "status": "completed"
    },
    "tags": []
   },
   "source": [
    "### Creating Multi index DataFrame"
   ]
  },
  {
   "cell_type": "code",
   "execution_count": 32,
   "id": "4c39f0b7",
   "metadata": {
    "execution": {
     "iopub.execute_input": "2024-08-31T05:55:24.849557Z",
     "iopub.status.busy": "2024-08-31T05:55:24.849089Z",
     "iopub.status.idle": "2024-08-31T05:55:24.867313Z",
     "shell.execute_reply": "2024-08-31T05:55:24.866160Z"
    },
    "papermill": {
     "duration": 0.091353,
     "end_time": "2024-08-31T05:55:24.870045",
     "exception": false,
     "start_time": "2024-08-31T05:55:24.778692",
     "status": "completed"
    },
    "tags": []
   },
   "outputs": [
    {
     "data": {
      "text/html": [
       "<div>\n",
       "<style scoped>\n",
       "    .dataframe tbody tr th:only-of-type {\n",
       "        vertical-align: middle;\n",
       "    }\n",
       "\n",
       "    .dataframe tbody tr th {\n",
       "        vertical-align: top;\n",
       "    }\n",
       "\n",
       "    .dataframe thead th {\n",
       "        text-align: right;\n",
       "    }\n",
       "</style>\n",
       "<table border=\"1\" class=\"dataframe\">\n",
       "  <thead>\n",
       "    <tr style=\"text-align: right;\">\n",
       "      <th></th>\n",
       "      <th></th>\n",
       "      <th>data1</th>\n",
       "      <th>data2</th>\n",
       "    </tr>\n",
       "    <tr>\n",
       "      <th>letters</th>\n",
       "      <th>numbers</th>\n",
       "      <th></th>\n",
       "      <th></th>\n",
       "    </tr>\n",
       "  </thead>\n",
       "  <tbody>\n",
       "    <tr>\n",
       "      <th rowspan=\"2\" valign=\"top\">A</th>\n",
       "      <th>1</th>\n",
       "      <td>10</td>\n",
       "      <td>100</td>\n",
       "    </tr>\n",
       "    <tr>\n",
       "      <th>2</th>\n",
       "      <td>20</td>\n",
       "      <td>200</td>\n",
       "    </tr>\n",
       "    <tr>\n",
       "      <th rowspan=\"2\" valign=\"top\">B</th>\n",
       "      <th>1</th>\n",
       "      <td>30</td>\n",
       "      <td>300</td>\n",
       "    </tr>\n",
       "    <tr>\n",
       "      <th>2</th>\n",
       "      <td>40</td>\n",
       "      <td>400</td>\n",
       "    </tr>\n",
       "  </tbody>\n",
       "</table>\n",
       "</div>"
      ],
      "text/plain": [
       "                 data1  data2\n",
       "letters numbers              \n",
       "A       1           10    100\n",
       "        2           20    200\n",
       "B       1           30    300\n",
       "        2           40    400"
      ]
     },
     "execution_count": 32,
     "metadata": {},
     "output_type": "execute_result"
    }
   ],
   "source": [
    "arrays = [\n",
    "    ['A','A','B','B'],\n",
    "    [1,2,1,2]\n",
    "]\n",
    "multi_index = pd.MultiIndex.from_arrays(arrays, names=('letters', 'numbers'))\n",
    "data_multi = {\n",
    "    'data1': [10,20,30,40],\n",
    "    'data2': [100,200,300,400]\n",
    "}\n",
    "df = pd.DataFrame(data_multi, index=multi_index)\n",
    "df"
   ]
  },
  {
   "cell_type": "code",
   "execution_count": 33,
   "id": "fa9abdbb",
   "metadata": {
    "execution": {
     "iopub.execute_input": "2024-08-31T05:55:25.016578Z",
     "iopub.status.busy": "2024-08-31T05:55:25.016136Z",
     "iopub.status.idle": "2024-08-31T05:55:25.028810Z",
     "shell.execute_reply": "2024-08-31T05:55:25.027710Z"
    },
    "papermill": {
     "duration": 0.08891,
     "end_time": "2024-08-31T05:55:25.031552",
     "exception": false,
     "start_time": "2024-08-31T05:55:24.942642",
     "status": "completed"
    },
    "tags": []
   },
   "outputs": [
    {
     "data": {
      "text/html": [
       "<div>\n",
       "<style scoped>\n",
       "    .dataframe tbody tr th:only-of-type {\n",
       "        vertical-align: middle;\n",
       "    }\n",
       "\n",
       "    .dataframe tbody tr th {\n",
       "        vertical-align: top;\n",
       "    }\n",
       "\n",
       "    .dataframe thead th {\n",
       "        text-align: right;\n",
       "    }\n",
       "</style>\n",
       "<table border=\"1\" class=\"dataframe\">\n",
       "  <thead>\n",
       "    <tr style=\"text-align: right;\">\n",
       "      <th></th>\n",
       "      <th>data1</th>\n",
       "      <th>data2</th>\n",
       "    </tr>\n",
       "    <tr>\n",
       "      <th>numbers</th>\n",
       "      <th></th>\n",
       "      <th></th>\n",
       "    </tr>\n",
       "  </thead>\n",
       "  <tbody>\n",
       "    <tr>\n",
       "      <th>1</th>\n",
       "      <td>10</td>\n",
       "      <td>100</td>\n",
       "    </tr>\n",
       "    <tr>\n",
       "      <th>2</th>\n",
       "      <td>20</td>\n",
       "      <td>200</td>\n",
       "    </tr>\n",
       "  </tbody>\n",
       "</table>\n",
       "</div>"
      ],
      "text/plain": [
       "         data1  data2\n",
       "numbers              \n",
       "1           10    100\n",
       "2           20    200"
      ]
     },
     "execution_count": 33,
     "metadata": {},
     "output_type": "execute_result"
    }
   ],
   "source": [
    "rows_with_A = df.xs(key='A', level='letters')\n",
    "rows_with_A"
   ]
  },
  {
   "cell_type": "code",
   "execution_count": 34,
   "id": "dfc8c5ef",
   "metadata": {
    "execution": {
     "iopub.execute_input": "2024-08-31T05:55:25.175975Z",
     "iopub.status.busy": "2024-08-31T05:55:25.175560Z",
     "iopub.status.idle": "2024-08-31T05:55:25.193780Z",
     "shell.execute_reply": "2024-08-31T05:55:25.192436Z"
    },
    "papermill": {
     "duration": 0.09374,
     "end_time": "2024-08-31T05:55:25.196488",
     "exception": false,
     "start_time": "2024-08-31T05:55:25.102748",
     "status": "completed"
    },
    "tags": []
   },
   "outputs": [
    {
     "data": {
      "text/html": [
       "<div>\n",
       "<style scoped>\n",
       "    .dataframe tbody tr th:only-of-type {\n",
       "        vertical-align: middle;\n",
       "    }\n",
       "\n",
       "    .dataframe tbody tr th {\n",
       "        vertical-align: top;\n",
       "    }\n",
       "\n",
       "    .dataframe thead th {\n",
       "        text-align: right;\n",
       "    }\n",
       "</style>\n",
       "<table border=\"1\" class=\"dataframe\">\n",
       "  <thead>\n",
       "    <tr style=\"text-align: right;\">\n",
       "      <th></th>\n",
       "      <th></th>\n",
       "      <th>data1</th>\n",
       "      <th>data2</th>\n",
       "    </tr>\n",
       "    <tr>\n",
       "      <th>letters</th>\n",
       "      <th>numbers</th>\n",
       "      <th></th>\n",
       "      <th></th>\n",
       "    </tr>\n",
       "  </thead>\n",
       "  <tbody>\n",
       "    <tr>\n",
       "      <th>A</th>\n",
       "      <th>2</th>\n",
       "      <td>20</td>\n",
       "      <td>200</td>\n",
       "    </tr>\n",
       "    <tr>\n",
       "      <th>B</th>\n",
       "      <th>1</th>\n",
       "      <td>30</td>\n",
       "      <td>300</td>\n",
       "    </tr>\n",
       "  </tbody>\n",
       "</table>\n",
       "</div>"
      ],
      "text/plain": [
       "                 data1  data2\n",
       "letters numbers              \n",
       "A       2           20    200\n",
       "B       1           30    300"
      ]
     },
     "execution_count": 34,
     "metadata": {},
     "output_type": "execute_result"
    }
   ],
   "source": [
    "df_query = df.query('data1 > 15 & data2 < 350')\n",
    "df_query"
   ]
  },
  {
   "cell_type": "code",
   "execution_count": 35,
   "id": "15a5e49b",
   "metadata": {
    "execution": {
     "iopub.execute_input": "2024-08-31T05:55:25.344905Z",
     "iopub.status.busy": "2024-08-31T05:55:25.344416Z",
     "iopub.status.idle": "2024-08-31T05:55:25.360226Z",
     "shell.execute_reply": "2024-08-31T05:55:25.358809Z"
    },
    "papermill": {
     "duration": 0.091883,
     "end_time": "2024-08-31T05:55:25.362885",
     "exception": false,
     "start_time": "2024-08-31T05:55:25.271002",
     "status": "completed"
    },
    "tags": []
   },
   "outputs": [
    {
     "data": {
      "text/html": [
       "<div>\n",
       "<style scoped>\n",
       "    .dataframe tbody tr th:only-of-type {\n",
       "        vertical-align: middle;\n",
       "    }\n",
       "\n",
       "    .dataframe tbody tr th {\n",
       "        vertical-align: top;\n",
       "    }\n",
       "\n",
       "    .dataframe thead th {\n",
       "        text-align: right;\n",
       "    }\n",
       "</style>\n",
       "<table border=\"1\" class=\"dataframe\">\n",
       "  <thead>\n",
       "    <tr style=\"text-align: right;\">\n",
       "      <th></th>\n",
       "      <th>A</th>\n",
       "      <th>B</th>\n",
       "      <th>C</th>\n",
       "    </tr>\n",
       "  </thead>\n",
       "  <tbody>\n",
       "    <tr>\n",
       "      <th>1</th>\n",
       "      <td>2</td>\n",
       "      <td>banana</td>\n",
       "      <td>2.2</td>\n",
       "    </tr>\n",
       "    <tr>\n",
       "      <th>3</th>\n",
       "      <td>4</td>\n",
       "      <td>date</td>\n",
       "      <td>4.4</td>\n",
       "    </tr>\n",
       "  </tbody>\n",
       "</table>\n",
       "</div>"
      ],
      "text/plain": [
       "   A       B    C\n",
       "1  2  banana  2.2\n",
       "3  4    date  4.4"
      ]
     },
     "execution_count": 35,
     "metadata": {},
     "output_type": "execute_result"
    }
   ],
   "source": [
    "data_example = {\n",
    "    'A': [1,2,3,4,5],\n",
    "    'B': ['apple','banana','cherry','date','fig'],\n",
    "    'C': [1.1, 2.2, 3.3, 4.4, 5.5]\n",
    "}\n",
    "df = pd.DataFrame(data=data_example)\n",
    "\n",
    "taken_rows = df.take([1,3])\n",
    "taken_rows"
   ]
  },
  {
   "cell_type": "code",
   "execution_count": 36,
   "id": "45231d63",
   "metadata": {
    "execution": {
     "iopub.execute_input": "2024-08-31T05:55:25.511116Z",
     "iopub.status.busy": "2024-08-31T05:55:25.510701Z",
     "iopub.status.idle": "2024-08-31T05:55:25.526728Z",
     "shell.execute_reply": "2024-08-31T05:55:25.525511Z"
    },
    "papermill": {
     "duration": 0.093446,
     "end_time": "2024-08-31T05:55:25.529435",
     "exception": false,
     "start_time": "2024-08-31T05:55:25.435989",
     "status": "completed"
    },
    "tags": []
   },
   "outputs": [
    {
     "data": {
      "text/html": [
       "<div>\n",
       "<style scoped>\n",
       "    .dataframe tbody tr th:only-of-type {\n",
       "        vertical-align: middle;\n",
       "    }\n",
       "\n",
       "    .dataframe tbody tr th {\n",
       "        vertical-align: top;\n",
       "    }\n",
       "\n",
       "    .dataframe thead th {\n",
       "        text-align: right;\n",
       "    }\n",
       "</style>\n",
       "<table border=\"1\" class=\"dataframe\">\n",
       "  <thead>\n",
       "    <tr style=\"text-align: right;\">\n",
       "      <th></th>\n",
       "      <th>A</th>\n",
       "      <th>B</th>\n",
       "      <th>C</th>\n",
       "    </tr>\n",
       "  </thead>\n",
       "  <tbody>\n",
       "    <tr>\n",
       "      <th>0</th>\n",
       "      <td>1</td>\n",
       "      <td>A</td>\n",
       "      <td>0.5</td>\n",
       "    </tr>\n",
       "    <tr>\n",
       "      <th>1</th>\n",
       "      <td>2</td>\n",
       "      <td>B</td>\n",
       "      <td>1.0</td>\n",
       "    </tr>\n",
       "    <tr>\n",
       "      <th>2</th>\n",
       "      <td>3</td>\n",
       "      <td>C</td>\n",
       "      <td>1.5</td>\n",
       "    </tr>\n",
       "    <tr>\n",
       "      <th>3</th>\n",
       "      <td>4</td>\n",
       "      <td>D</td>\n",
       "      <td>2.0</td>\n",
       "    </tr>\n",
       "    <tr>\n",
       "      <th>4</th>\n",
       "      <td>5</td>\n",
       "      <td>E</td>\n",
       "      <td>2.5</td>\n",
       "    </tr>\n",
       "    <tr>\n",
       "      <th>5</th>\n",
       "      <td>6</td>\n",
       "      <td>F</td>\n",
       "      <td>3.0</td>\n",
       "    </tr>\n",
       "    <tr>\n",
       "      <th>6</th>\n",
       "      <td>7</td>\n",
       "      <td>G</td>\n",
       "      <td>3.5</td>\n",
       "    </tr>\n",
       "    <tr>\n",
       "      <th>7</th>\n",
       "      <td>8</td>\n",
       "      <td>H</td>\n",
       "      <td>4.0</td>\n",
       "    </tr>\n",
       "    <tr>\n",
       "      <th>8</th>\n",
       "      <td>9</td>\n",
       "      <td>I</td>\n",
       "      <td>4.5</td>\n",
       "    </tr>\n",
       "    <tr>\n",
       "      <th>9</th>\n",
       "      <td>10</td>\n",
       "      <td>J</td>\n",
       "      <td>5.0</td>\n",
       "    </tr>\n",
       "  </tbody>\n",
       "</table>\n",
       "</div>"
      ],
      "text/plain": [
       "    A  B    C\n",
       "0   1  A  0.5\n",
       "1   2  B  1.0\n",
       "2   3  C  1.5\n",
       "3   4  D  2.0\n",
       "4   5  E  2.5\n",
       "5   6  F  3.0\n",
       "6   7  G  3.5\n",
       "7   8  H  4.0\n",
       "8   9  I  4.5\n",
       "9  10  J  5.0"
      ]
     },
     "execution_count": 36,
     "metadata": {},
     "output_type": "execute_result"
    }
   ],
   "source": [
    "data = {\n",
    "    'A': [i for i in range(1, 11)],\n",
    "    'B': [chr(i) for i in range(65, 75)],\n",
    "    'C': [i * 0.5 for i in range(1, 11)]\n",
    "}\n",
    "df = pd.DataFrame(data=data)\n",
    "df"
   ]
  },
  {
   "cell_type": "code",
   "execution_count": 37,
   "id": "7a3829d2",
   "metadata": {
    "execution": {
     "iopub.execute_input": "2024-08-31T05:55:25.672868Z",
     "iopub.status.busy": "2024-08-31T05:55:25.672407Z",
     "iopub.status.idle": "2024-08-31T05:55:25.684067Z",
     "shell.execute_reply": "2024-08-31T05:55:25.682916Z"
    },
    "papermill": {
     "duration": 0.08632,
     "end_time": "2024-08-31T05:55:25.686548",
     "exception": false,
     "start_time": "2024-08-31T05:55:25.600228",
     "status": "completed"
    },
    "tags": []
   },
   "outputs": [
    {
     "data": {
      "text/html": [
       "<div>\n",
       "<style scoped>\n",
       "    .dataframe tbody tr th:only-of-type {\n",
       "        vertical-align: middle;\n",
       "    }\n",
       "\n",
       "    .dataframe tbody tr th {\n",
       "        vertical-align: top;\n",
       "    }\n",
       "\n",
       "    .dataframe thead th {\n",
       "        text-align: right;\n",
       "    }\n",
       "</style>\n",
       "<table border=\"1\" class=\"dataframe\">\n",
       "  <thead>\n",
       "    <tr style=\"text-align: right;\">\n",
       "      <th></th>\n",
       "      <th>A</th>\n",
       "      <th>B</th>\n",
       "    </tr>\n",
       "  </thead>\n",
       "  <tbody>\n",
       "    <tr>\n",
       "      <th>1</th>\n",
       "      <td>2</td>\n",
       "      <td>B</td>\n",
       "    </tr>\n",
       "    <tr>\n",
       "      <th>2</th>\n",
       "      <td>3</td>\n",
       "      <td>C</td>\n",
       "    </tr>\n",
       "    <tr>\n",
       "      <th>3</th>\n",
       "      <td>4</td>\n",
       "      <td>D</td>\n",
       "    </tr>\n",
       "    <tr>\n",
       "      <th>4</th>\n",
       "      <td>5</td>\n",
       "      <td>E</td>\n",
       "    </tr>\n",
       "  </tbody>\n",
       "</table>\n",
       "</div>"
      ],
      "text/plain": [
       "   A  B\n",
       "1  2  B\n",
       "2  3  C\n",
       "3  4  D\n",
       "4  5  E"
      ]
     },
     "execution_count": 37,
     "metadata": {},
     "output_type": "execute_result"
    }
   ],
   "source": [
    "subset_iloc = df.iloc[1:5, 0:2]\n",
    "subset_iloc"
   ]
  },
  {
   "cell_type": "code",
   "execution_count": 38,
   "id": "9dd2edc3",
   "metadata": {
    "execution": {
     "iopub.execute_input": "2024-08-31T05:55:25.829701Z",
     "iopub.status.busy": "2024-08-31T05:55:25.829260Z",
     "iopub.status.idle": "2024-08-31T05:55:25.841199Z",
     "shell.execute_reply": "2024-08-31T05:55:25.840106Z"
    },
    "papermill": {
     "duration": 0.08667,
     "end_time": "2024-08-31T05:55:25.843815",
     "exception": false,
     "start_time": "2024-08-31T05:55:25.757145",
     "status": "completed"
    },
    "tags": []
   },
   "outputs": [
    {
     "data": {
      "text/html": [
       "<div>\n",
       "<style scoped>\n",
       "    .dataframe tbody tr th:only-of-type {\n",
       "        vertical-align: middle;\n",
       "    }\n",
       "\n",
       "    .dataframe tbody tr th {\n",
       "        vertical-align: top;\n",
       "    }\n",
       "\n",
       "    .dataframe thead th {\n",
       "        text-align: right;\n",
       "    }\n",
       "</style>\n",
       "<table border=\"1\" class=\"dataframe\">\n",
       "  <thead>\n",
       "    <tr style=\"text-align: right;\">\n",
       "      <th></th>\n",
       "      <th>A</th>\n",
       "      <th>B</th>\n",
       "    </tr>\n",
       "  </thead>\n",
       "  <tbody>\n",
       "    <tr>\n",
       "      <th>1</th>\n",
       "      <td>2</td>\n",
       "      <td>B</td>\n",
       "    </tr>\n",
       "    <tr>\n",
       "      <th>2</th>\n",
       "      <td>3</td>\n",
       "      <td>C</td>\n",
       "    </tr>\n",
       "    <tr>\n",
       "      <th>3</th>\n",
       "      <td>4</td>\n",
       "      <td>D</td>\n",
       "    </tr>\n",
       "    <tr>\n",
       "      <th>4</th>\n",
       "      <td>5</td>\n",
       "      <td>E</td>\n",
       "    </tr>\n",
       "  </tbody>\n",
       "</table>\n",
       "</div>"
      ],
      "text/plain": [
       "   A  B\n",
       "1  2  B\n",
       "2  3  C\n",
       "3  4  D\n",
       "4  5  E"
      ]
     },
     "execution_count": 38,
     "metadata": {},
     "output_type": "execute_result"
    }
   ],
   "source": [
    "subset_loc = df.loc[1:4, ['A','B']]\n",
    "subset_loc"
   ]
  },
  {
   "cell_type": "code",
   "execution_count": 39,
   "id": "68477fc9",
   "metadata": {
    "execution": {
     "iopub.execute_input": "2024-08-31T05:55:25.993904Z",
     "iopub.status.busy": "2024-08-31T05:55:25.993438Z",
     "iopub.status.idle": "2024-08-31T05:55:26.007433Z",
     "shell.execute_reply": "2024-08-31T05:55:26.006126Z"
    },
    "papermill": {
     "duration": 0.093777,
     "end_time": "2024-08-31T05:55:26.010088",
     "exception": false,
     "start_time": "2024-08-31T05:55:25.916311",
     "status": "completed"
    },
    "tags": []
   },
   "outputs": [
    {
     "data": {
      "text/html": [
       "<div>\n",
       "<style scoped>\n",
       "    .dataframe tbody tr th:only-of-type {\n",
       "        vertical-align: middle;\n",
       "    }\n",
       "\n",
       "    .dataframe tbody tr th {\n",
       "        vertical-align: top;\n",
       "    }\n",
       "\n",
       "    .dataframe thead th {\n",
       "        text-align: right;\n",
       "    }\n",
       "</style>\n",
       "<table border=\"1\" class=\"dataframe\">\n",
       "  <thead>\n",
       "    <tr style=\"text-align: right;\">\n",
       "      <th></th>\n",
       "      <th>A</th>\n",
       "      <th>B</th>\n",
       "      <th>C</th>\n",
       "    </tr>\n",
       "  </thead>\n",
       "  <tbody>\n",
       "    <tr>\n",
       "      <th>5</th>\n",
       "      <td>6</td>\n",
       "      <td>F</td>\n",
       "      <td>3.0</td>\n",
       "    </tr>\n",
       "    <tr>\n",
       "      <th>6</th>\n",
       "      <td>7</td>\n",
       "      <td>G</td>\n",
       "      <td>3.5</td>\n",
       "    </tr>\n",
       "    <tr>\n",
       "      <th>7</th>\n",
       "      <td>8</td>\n",
       "      <td>H</td>\n",
       "      <td>4.0</td>\n",
       "    </tr>\n",
       "    <tr>\n",
       "      <th>8</th>\n",
       "      <td>9</td>\n",
       "      <td>I</td>\n",
       "      <td>4.5</td>\n",
       "    </tr>\n",
       "    <tr>\n",
       "      <th>9</th>\n",
       "      <td>10</td>\n",
       "      <td>J</td>\n",
       "      <td>5.0</td>\n",
       "    </tr>\n",
       "  </tbody>\n",
       "</table>\n",
       "</div>"
      ],
      "text/plain": [
       "    A  B    C\n",
       "5   6  F  3.0\n",
       "6   7  G  3.5\n",
       "7   8  H  4.0\n",
       "8   9  I  4.5\n",
       "9  10  J  5.0"
      ]
     },
     "execution_count": 39,
     "metadata": {},
     "output_type": "execute_result"
    }
   ],
   "source": [
    "rows_greater_than_5 = df[df['A'] > 5]\n",
    "rows_greater_than_5"
   ]
  },
  {
   "cell_type": "markdown",
   "id": "5e9acaa0",
   "metadata": {
    "papermill": {
     "duration": 0.071458,
     "end_time": "2024-08-31T05:55:26.153558",
     "exception": false,
     "start_time": "2024-08-31T05:55:26.082100",
     "status": "completed"
    },
    "tags": []
   },
   "source": [
    "## Filtering Data"
   ]
  },
  {
   "cell_type": "code",
   "execution_count": 40,
   "id": "d250eff5",
   "metadata": {
    "execution": {
     "iopub.execute_input": "2024-08-31T05:55:26.300274Z",
     "iopub.status.busy": "2024-08-31T05:55:26.299853Z",
     "iopub.status.idle": "2024-08-31T05:55:26.313861Z",
     "shell.execute_reply": "2024-08-31T05:55:26.312633Z"
    },
    "papermill": {
     "duration": 0.090759,
     "end_time": "2024-08-31T05:55:26.316468",
     "exception": false,
     "start_time": "2024-08-31T05:55:26.225709",
     "status": "completed"
    },
    "tags": []
   },
   "outputs": [
    {
     "data": {
      "text/html": [
       "<div>\n",
       "<style scoped>\n",
       "    .dataframe tbody tr th:only-of-type {\n",
       "        vertical-align: middle;\n",
       "    }\n",
       "\n",
       "    .dataframe tbody tr th {\n",
       "        vertical-align: top;\n",
       "    }\n",
       "\n",
       "    .dataframe thead th {\n",
       "        text-align: right;\n",
       "    }\n",
       "</style>\n",
       "<table border=\"1\" class=\"dataframe\">\n",
       "  <thead>\n",
       "    <tr style=\"text-align: right;\">\n",
       "      <th></th>\n",
       "      <th>A</th>\n",
       "      <th>B</th>\n",
       "      <th>C</th>\n",
       "    </tr>\n",
       "  </thead>\n",
       "  <tbody>\n",
       "    <tr>\n",
       "      <th>3</th>\n",
       "      <td>4</td>\n",
       "      <td>D</td>\n",
       "      <td>2.0</td>\n",
       "    </tr>\n",
       "    <tr>\n",
       "      <th>4</th>\n",
       "      <td>5</td>\n",
       "      <td>E</td>\n",
       "      <td>2.5</td>\n",
       "    </tr>\n",
       "    <tr>\n",
       "      <th>5</th>\n",
       "      <td>6</td>\n",
       "      <td>F</td>\n",
       "      <td>3.0</td>\n",
       "    </tr>\n",
       "    <tr>\n",
       "      <th>6</th>\n",
       "      <td>7</td>\n",
       "      <td>G</td>\n",
       "      <td>3.5</td>\n",
       "    </tr>\n",
       "    <tr>\n",
       "      <th>7</th>\n",
       "      <td>8</td>\n",
       "      <td>H</td>\n",
       "      <td>4.0</td>\n",
       "    </tr>\n",
       "    <tr>\n",
       "      <th>8</th>\n",
       "      <td>9</td>\n",
       "      <td>I</td>\n",
       "      <td>4.5</td>\n",
       "    </tr>\n",
       "    <tr>\n",
       "      <th>9</th>\n",
       "      <td>10</td>\n",
       "      <td>J</td>\n",
       "      <td>5.0</td>\n",
       "    </tr>\n",
       "  </tbody>\n",
       "</table>\n",
       "</div>"
      ],
      "text/plain": [
       "    A  B    C\n",
       "3   4  D  2.0\n",
       "4   5  E  2.5\n",
       "5   6  F  3.0\n",
       "6   7  G  3.5\n",
       "7   8  H  4.0\n",
       "8   9  I  4.5\n",
       "9  10  J  5.0"
      ]
     },
     "execution_count": 40,
     "metadata": {},
     "output_type": "execute_result"
    }
   ],
   "source": [
    "filtered_rows = df[df['A'] > 3]\n",
    "filtered_rows"
   ]
  },
  {
   "cell_type": "code",
   "execution_count": 41,
   "id": "16746328",
   "metadata": {
    "execution": {
     "iopub.execute_input": "2024-08-31T05:55:26.466465Z",
     "iopub.status.busy": "2024-08-31T05:55:26.466061Z",
     "iopub.status.idle": "2024-08-31T05:55:26.481110Z",
     "shell.execute_reply": "2024-08-31T05:55:26.479799Z"
    },
    "papermill": {
     "duration": 0.092868,
     "end_time": "2024-08-31T05:55:26.483780",
     "exception": false,
     "start_time": "2024-08-31T05:55:26.390912",
     "status": "completed"
    },
    "tags": []
   },
   "outputs": [
    {
     "data": {
      "text/html": [
       "<div>\n",
       "<style scoped>\n",
       "    .dataframe tbody tr th:only-of-type {\n",
       "        vertical-align: middle;\n",
       "    }\n",
       "\n",
       "    .dataframe tbody tr th {\n",
       "        vertical-align: top;\n",
       "    }\n",
       "\n",
       "    .dataframe thead th {\n",
       "        text-align: right;\n",
       "    }\n",
       "</style>\n",
       "<table border=\"1\" class=\"dataframe\">\n",
       "  <thead>\n",
       "    <tr style=\"text-align: right;\">\n",
       "      <th></th>\n",
       "      <th>A</th>\n",
       "      <th>B</th>\n",
       "      <th>C</th>\n",
       "    </tr>\n",
       "  </thead>\n",
       "  <tbody>\n",
       "    <tr>\n",
       "      <th>3</th>\n",
       "      <td>4</td>\n",
       "      <td>D</td>\n",
       "      <td>2.0</td>\n",
       "    </tr>\n",
       "    <tr>\n",
       "      <th>4</th>\n",
       "      <td>5</td>\n",
       "      <td>E</td>\n",
       "      <td>2.5</td>\n",
       "    </tr>\n",
       "    <tr>\n",
       "      <th>5</th>\n",
       "      <td>6</td>\n",
       "      <td>F</td>\n",
       "      <td>3.0</td>\n",
       "    </tr>\n",
       "    <tr>\n",
       "      <th>6</th>\n",
       "      <td>7</td>\n",
       "      <td>G</td>\n",
       "      <td>3.5</td>\n",
       "    </tr>\n",
       "    <tr>\n",
       "      <th>7</th>\n",
       "      <td>8</td>\n",
       "      <td>H</td>\n",
       "      <td>4.0</td>\n",
       "    </tr>\n",
       "    <tr>\n",
       "      <th>8</th>\n",
       "      <td>9</td>\n",
       "      <td>I</td>\n",
       "      <td>4.5</td>\n",
       "    </tr>\n",
       "  </tbody>\n",
       "</table>\n",
       "</div>"
      ],
      "text/plain": [
       "   A  B    C\n",
       "3  4  D  2.0\n",
       "4  5  E  2.5\n",
       "5  6  F  3.0\n",
       "6  7  G  3.5\n",
       "7  8  H  4.0\n",
       "8  9  I  4.5"
      ]
     },
     "execution_count": 41,
     "metadata": {},
     "output_type": "execute_result"
    }
   ],
   "source": [
    "multiple_conditions = df[(df['A'] > 3) & (df['C'] < 5)]\n",
    "multiple_conditions"
   ]
  },
  {
   "cell_type": "code",
   "execution_count": 42,
   "id": "fb97d3ae",
   "metadata": {
    "execution": {
     "iopub.execute_input": "2024-08-31T05:55:26.633025Z",
     "iopub.status.busy": "2024-08-31T05:55:26.632600Z",
     "iopub.status.idle": "2024-08-31T05:55:26.648174Z",
     "shell.execute_reply": "2024-08-31T05:55:26.646963Z"
    },
    "papermill": {
     "duration": 0.092305,
     "end_time": "2024-08-31T05:55:26.650612",
     "exception": false,
     "start_time": "2024-08-31T05:55:26.558307",
     "status": "completed"
    },
    "tags": []
   },
   "outputs": [
    {
     "data": {
      "text/html": [
       "<div>\n",
       "<style scoped>\n",
       "    .dataframe tbody tr th:only-of-type {\n",
       "        vertical-align: middle;\n",
       "    }\n",
       "\n",
       "    .dataframe tbody tr th {\n",
       "        vertical-align: top;\n",
       "    }\n",
       "\n",
       "    .dataframe thead th {\n",
       "        text-align: right;\n",
       "    }\n",
       "</style>\n",
       "<table border=\"1\" class=\"dataframe\">\n",
       "  <thead>\n",
       "    <tr style=\"text-align: right;\">\n",
       "      <th></th>\n",
       "      <th>A</th>\n",
       "      <th>B</th>\n",
       "      <th>C</th>\n",
       "    </tr>\n",
       "  </thead>\n",
       "  <tbody>\n",
       "    <tr>\n",
       "      <th>0</th>\n",
       "      <td>1</td>\n",
       "      <td>A</td>\n",
       "      <td>0.5</td>\n",
       "    </tr>\n",
       "    <tr>\n",
       "      <th>2</th>\n",
       "      <td>3</td>\n",
       "      <td>C</td>\n",
       "      <td>1.5</td>\n",
       "    </tr>\n",
       "    <tr>\n",
       "      <th>4</th>\n",
       "      <td>5</td>\n",
       "      <td>E</td>\n",
       "      <td>2.5</td>\n",
       "    </tr>\n",
       "  </tbody>\n",
       "</table>\n",
       "</div>"
      ],
      "text/plain": [
       "   A  B    C\n",
       "0  1  A  0.5\n",
       "2  3  C  1.5\n",
       "4  5  E  2.5"
      ]
     },
     "execution_count": 42,
     "metadata": {},
     "output_type": "execute_result"
    }
   ],
   "source": [
    "rows_selected_value = df[df['B'].isin(['A','C','E'])]\n",
    "rows_selected_value"
   ]
  },
  {
   "cell_type": "code",
   "execution_count": 43,
   "id": "32ae4cfc",
   "metadata": {
    "execution": {
     "iopub.execute_input": "2024-08-31T05:55:26.798431Z",
     "iopub.status.busy": "2024-08-31T05:55:26.797490Z",
     "iopub.status.idle": "2024-08-31T05:55:26.818916Z",
     "shell.execute_reply": "2024-08-31T05:55:26.817640Z"
    },
    "papermill": {
     "duration": 0.09741,
     "end_time": "2024-08-31T05:55:26.821337",
     "exception": false,
     "start_time": "2024-08-31T05:55:26.723927",
     "status": "completed"
    },
    "tags": []
   },
   "outputs": [
    {
     "data": {
      "text/html": [
       "<div>\n",
       "<style scoped>\n",
       "    .dataframe tbody tr th:only-of-type {\n",
       "        vertical-align: middle;\n",
       "    }\n",
       "\n",
       "    .dataframe tbody tr th {\n",
       "        vertical-align: top;\n",
       "    }\n",
       "\n",
       "    .dataframe thead th {\n",
       "        text-align: right;\n",
       "    }\n",
       "</style>\n",
       "<table border=\"1\" class=\"dataframe\">\n",
       "  <thead>\n",
       "    <tr style=\"text-align: right;\">\n",
       "      <th></th>\n",
       "      <th>data</th>\n",
       "    </tr>\n",
       "    <tr>\n",
       "      <th>date</th>\n",
       "      <th></th>\n",
       "    </tr>\n",
       "  </thead>\n",
       "  <tbody>\n",
       "    <tr>\n",
       "      <th>2020-01-03</th>\n",
       "      <td>48</td>\n",
       "    </tr>\n",
       "    <tr>\n",
       "      <th>2020-01-04</th>\n",
       "      <td>38</td>\n",
       "    </tr>\n",
       "    <tr>\n",
       "      <th>2020-01-05</th>\n",
       "      <td>10</td>\n",
       "    </tr>\n",
       "    <tr>\n",
       "      <th>2020-01-06</th>\n",
       "      <td>46</td>\n",
       "    </tr>\n",
       "    <tr>\n",
       "      <th>2020-01-07</th>\n",
       "      <td>27</td>\n",
       "    </tr>\n",
       "  </tbody>\n",
       "</table>\n",
       "</div>"
      ],
      "text/plain": [
       "            data\n",
       "date            \n",
       "2020-01-03    48\n",
       "2020-01-04    38\n",
       "2020-01-05    10\n",
       "2020-01-06    46\n",
       "2020-01-07    27"
      ]
     },
     "execution_count": 43,
     "metadata": {},
     "output_type": "execute_result"
    }
   ],
   "source": [
    "date_range = pd.date_range(start='2020-01-01', end='2020-01-10', freq='D')\n",
    "df_date = pd.DataFrame(date_range, columns=['date'])\n",
    "df_date['data'] = np.random.randint(0, 100, size=len(date_range))\n",
    "df_date = df_date.set_index('date')\n",
    "\n",
    "subset_date = df_date['2020-01-03':'2020-01-07']\n",
    "subset_date"
   ]
  },
  {
   "cell_type": "code",
   "execution_count": 44,
   "id": "8672b1d7",
   "metadata": {
    "execution": {
     "iopub.execute_input": "2024-08-31T05:55:26.970658Z",
     "iopub.status.busy": "2024-08-31T05:55:26.970188Z",
     "iopub.status.idle": "2024-08-31T05:55:26.981680Z",
     "shell.execute_reply": "2024-08-31T05:55:26.980395Z"
    },
    "papermill": {
     "duration": 0.090323,
     "end_time": "2024-08-31T05:55:26.984170",
     "exception": false,
     "start_time": "2024-08-31T05:55:26.893847",
     "status": "completed"
    },
    "tags": []
   },
   "outputs": [
    {
     "data": {
      "text/plain": [
       "date\n",
       "2020-01-01    26.0\n",
       "2020-01-02    34.0\n",
       "2020-01-03    48.0\n",
       "2020-01-04    38.0\n",
       "2020-01-05     NaN\n",
       "2020-01-06    46.0\n",
       "2020-01-07    27.0\n",
       "2020-01-08    75.0\n",
       "2020-01-09    89.0\n",
       "2020-01-10    44.0\n",
       "Name: data, dtype: float64"
      ]
     },
     "execution_count": 44,
     "metadata": {},
     "output_type": "execute_result"
    }
   ],
   "source": [
    "subset_where = df_date['data'].where(df_date['data'] > 15)\n",
    "subset_where"
   ]
  },
  {
   "cell_type": "markdown",
   "id": "0d86ba39",
   "metadata": {
    "papermill": {
     "duration": 0.072428,
     "end_time": "2024-08-31T05:55:27.129404",
     "exception": false,
     "start_time": "2024-08-31T05:55:27.056976",
     "status": "completed"
    },
    "tags": []
   },
   "source": [
    "## Basic Operation"
   ]
  },
  {
   "cell_type": "markdown",
   "id": "8efa2eb1",
   "metadata": {
    "papermill": {
     "duration": 0.073059,
     "end_time": "2024-08-31T05:55:27.277368",
     "exception": false,
     "start_time": "2024-08-31T05:55:27.204309",
     "status": "completed"
    },
    "tags": []
   },
   "source": [
    "### Add New Column"
   ]
  },
  {
   "cell_type": "code",
   "execution_count": 45,
   "id": "31cf573e",
   "metadata": {
    "execution": {
     "iopub.execute_input": "2024-08-31T05:55:27.426697Z",
     "iopub.status.busy": "2024-08-31T05:55:27.426164Z",
     "iopub.status.idle": "2024-08-31T05:55:27.444386Z",
     "shell.execute_reply": "2024-08-31T05:55:27.443031Z"
    },
    "papermill": {
     "duration": 0.095078,
     "end_time": "2024-08-31T05:55:27.447073",
     "exception": false,
     "start_time": "2024-08-31T05:55:27.351995",
     "status": "completed"
    },
    "tags": []
   },
   "outputs": [
    {
     "data": {
      "text/html": [
       "<div>\n",
       "<style scoped>\n",
       "    .dataframe tbody tr th:only-of-type {\n",
       "        vertical-align: middle;\n",
       "    }\n",
       "\n",
       "    .dataframe tbody tr th {\n",
       "        vertical-align: top;\n",
       "    }\n",
       "\n",
       "    .dataframe thead th {\n",
       "        text-align: right;\n",
       "    }\n",
       "</style>\n",
       "<table border=\"1\" class=\"dataframe\">\n",
       "  <thead>\n",
       "    <tr style=\"text-align: right;\">\n",
       "      <th></th>\n",
       "      <th>A</th>\n",
       "      <th>B</th>\n",
       "      <th>C</th>\n",
       "      <th>D</th>\n",
       "      <th>E</th>\n",
       "    </tr>\n",
       "  </thead>\n",
       "  <tbody>\n",
       "    <tr>\n",
       "      <th>0</th>\n",
       "      <td>1</td>\n",
       "      <td>apple</td>\n",
       "      <td>1.1</td>\n",
       "      <td>10</td>\n",
       "      <td>new_column</td>\n",
       "    </tr>\n",
       "    <tr>\n",
       "      <th>1</th>\n",
       "      <td>2</td>\n",
       "      <td>banana</td>\n",
       "      <td>2.2</td>\n",
       "      <td>20</td>\n",
       "      <td>new_column</td>\n",
       "    </tr>\n",
       "    <tr>\n",
       "      <th>2</th>\n",
       "      <td>3</td>\n",
       "      <td>cherry</td>\n",
       "      <td>3.3</td>\n",
       "      <td>30</td>\n",
       "      <td>new_column</td>\n",
       "    </tr>\n",
       "    <tr>\n",
       "      <th>3</th>\n",
       "      <td>4</td>\n",
       "      <td>date</td>\n",
       "      <td>4.4</td>\n",
       "      <td>40</td>\n",
       "      <td>new_column</td>\n",
       "    </tr>\n",
       "    <tr>\n",
       "      <th>4</th>\n",
       "      <td>5</td>\n",
       "      <td>fig</td>\n",
       "      <td>5.5</td>\n",
       "      <td>50</td>\n",
       "      <td>new_column</td>\n",
       "    </tr>\n",
       "  </tbody>\n",
       "</table>\n",
       "</div>"
      ],
      "text/plain": [
       "   A       B    C   D           E\n",
       "0  1   apple  1.1  10  new_column\n",
       "1  2  banana  2.2  20  new_column\n",
       "2  3  cherry  3.3  30  new_column\n",
       "3  4    date  4.4  40  new_column\n",
       "4  5     fig  5.5  50  new_column"
      ]
     },
     "execution_count": 45,
     "metadata": {},
     "output_type": "execute_result"
    }
   ],
   "source": [
    "data_example = {\n",
    "    'A': [1,2,3,4,5],\n",
    "    'B': ['apple','banana','cherry','date','fig'],\n",
    "    'C': [1.1, 2.2, 3.3, 4.4, 5.5]\n",
    "}\n",
    "df = pd.DataFrame(data=data_example)\n",
    "\n",
    "df['D'] = df['A'] * 10\n",
    "df['E'] = 'new_column'\n",
    "df.head()"
   ]
  },
  {
   "cell_type": "markdown",
   "id": "8f76f47a",
   "metadata": {
    "papermill": {
     "duration": 0.075791,
     "end_time": "2024-08-31T05:55:27.597959",
     "exception": false,
     "start_time": "2024-08-31T05:55:27.522168",
     "status": "completed"
    },
    "tags": []
   },
   "source": [
    "### Deleting Column and Row"
   ]
  },
  {
   "cell_type": "code",
   "execution_count": 46,
   "id": "0ecd7cf4",
   "metadata": {
    "execution": {
     "iopub.execute_input": "2024-08-31T05:55:27.746019Z",
     "iopub.status.busy": "2024-08-31T05:55:27.744676Z",
     "iopub.status.idle": "2024-08-31T05:55:27.760190Z",
     "shell.execute_reply": "2024-08-31T05:55:27.758417Z"
    },
    "papermill": {
     "duration": 0.091971,
     "end_time": "2024-08-31T05:55:27.762920",
     "exception": false,
     "start_time": "2024-08-31T05:55:27.670949",
     "status": "completed"
    },
    "tags": []
   },
   "outputs": [
    {
     "data": {
      "text/html": [
       "<div>\n",
       "<style scoped>\n",
       "    .dataframe tbody tr th:only-of-type {\n",
       "        vertical-align: middle;\n",
       "    }\n",
       "\n",
       "    .dataframe tbody tr th {\n",
       "        vertical-align: top;\n",
       "    }\n",
       "\n",
       "    .dataframe thead th {\n",
       "        text-align: right;\n",
       "    }\n",
       "</style>\n",
       "<table border=\"1\" class=\"dataframe\">\n",
       "  <thead>\n",
       "    <tr style=\"text-align: right;\">\n",
       "      <th></th>\n",
       "      <th>A</th>\n",
       "      <th>B</th>\n",
       "      <th>C</th>\n",
       "      <th>D</th>\n",
       "    </tr>\n",
       "  </thead>\n",
       "  <tbody>\n",
       "    <tr>\n",
       "      <th>0</th>\n",
       "      <td>1</td>\n",
       "      <td>apple</td>\n",
       "      <td>1.1</td>\n",
       "      <td>10</td>\n",
       "    </tr>\n",
       "    <tr>\n",
       "      <th>1</th>\n",
       "      <td>2</td>\n",
       "      <td>banana</td>\n",
       "      <td>2.2</td>\n",
       "      <td>20</td>\n",
       "    </tr>\n",
       "    <tr>\n",
       "      <th>2</th>\n",
       "      <td>3</td>\n",
       "      <td>cherry</td>\n",
       "      <td>3.3</td>\n",
       "      <td>30</td>\n",
       "    </tr>\n",
       "    <tr>\n",
       "      <th>3</th>\n",
       "      <td>4</td>\n",
       "      <td>date</td>\n",
       "      <td>4.4</td>\n",
       "      <td>40</td>\n",
       "    </tr>\n",
       "    <tr>\n",
       "      <th>4</th>\n",
       "      <td>5</td>\n",
       "      <td>fig</td>\n",
       "      <td>5.5</td>\n",
       "      <td>50</td>\n",
       "    </tr>\n",
       "  </tbody>\n",
       "</table>\n",
       "</div>"
      ],
      "text/plain": [
       "   A       B    C   D\n",
       "0  1   apple  1.1  10\n",
       "1  2  banana  2.2  20\n",
       "2  3  cherry  3.3  30\n",
       "3  4    date  4.4  40\n",
       "4  5     fig  5.5  50"
      ]
     },
     "execution_count": 46,
     "metadata": {},
     "output_type": "execute_result"
    }
   ],
   "source": [
    "df_example_dropped_col = df.drop(columns=['E'])\n",
    "df_example_dropped_col"
   ]
  },
  {
   "cell_type": "code",
   "execution_count": 47,
   "id": "2b63ec7b",
   "metadata": {
    "execution": {
     "iopub.execute_input": "2024-08-31T05:55:27.909933Z",
     "iopub.status.busy": "2024-08-31T05:55:27.909452Z",
     "iopub.status.idle": "2024-08-31T05:55:27.924715Z",
     "shell.execute_reply": "2024-08-31T05:55:27.923414Z"
    },
    "papermill": {
     "duration": 0.092069,
     "end_time": "2024-08-31T05:55:27.927401",
     "exception": false,
     "start_time": "2024-08-31T05:55:27.835332",
     "status": "completed"
    },
    "tags": []
   },
   "outputs": [
    {
     "data": {
      "text/html": [
       "<div>\n",
       "<style scoped>\n",
       "    .dataframe tbody tr th:only-of-type {\n",
       "        vertical-align: middle;\n",
       "    }\n",
       "\n",
       "    .dataframe tbody tr th {\n",
       "        vertical-align: top;\n",
       "    }\n",
       "\n",
       "    .dataframe thead th {\n",
       "        text-align: right;\n",
       "    }\n",
       "</style>\n",
       "<table border=\"1\" class=\"dataframe\">\n",
       "  <thead>\n",
       "    <tr style=\"text-align: right;\">\n",
       "      <th></th>\n",
       "      <th>A</th>\n",
       "      <th>B</th>\n",
       "      <th>C</th>\n",
       "      <th>D</th>\n",
       "      <th>E</th>\n",
       "    </tr>\n",
       "  </thead>\n",
       "  <tbody>\n",
       "    <tr>\n",
       "      <th>0</th>\n",
       "      <td>1</td>\n",
       "      <td>apple</td>\n",
       "      <td>1.1</td>\n",
       "      <td>10</td>\n",
       "      <td>new_column</td>\n",
       "    </tr>\n",
       "    <tr>\n",
       "      <th>1</th>\n",
       "      <td>2</td>\n",
       "      <td>banana</td>\n",
       "      <td>2.2</td>\n",
       "      <td>20</td>\n",
       "      <td>new_column</td>\n",
       "    </tr>\n",
       "    <tr>\n",
       "      <th>2</th>\n",
       "      <td>3</td>\n",
       "      <td>cherry</td>\n",
       "      <td>3.3</td>\n",
       "      <td>30</td>\n",
       "      <td>new_column</td>\n",
       "    </tr>\n",
       "    <tr>\n",
       "      <th>3</th>\n",
       "      <td>4</td>\n",
       "      <td>date</td>\n",
       "      <td>4.4</td>\n",
       "      <td>40</td>\n",
       "      <td>new_column</td>\n",
       "    </tr>\n",
       "  </tbody>\n",
       "</table>\n",
       "</div>"
      ],
      "text/plain": [
       "   A       B    C   D           E\n",
       "0  1   apple  1.1  10  new_column\n",
       "1  2  banana  2.2  20  new_column\n",
       "2  3  cherry  3.3  30  new_column\n",
       "3  4    date  4.4  40  new_column"
      ]
     },
     "execution_count": 47,
     "metadata": {},
     "output_type": "execute_result"
    }
   ],
   "source": [
    "df_example_dropped_row = df.drop(index = 4)\n",
    "df_example_dropped_row"
   ]
  },
  {
   "cell_type": "markdown",
   "id": "1e6d5507",
   "metadata": {
    "papermill": {
     "duration": 0.075873,
     "end_time": "2024-08-31T05:55:28.079161",
     "exception": false,
     "start_time": "2024-08-31T05:55:28.003288",
     "status": "completed"
    },
    "tags": []
   },
   "source": [
    "## Applying Change to Data"
   ]
  },
  {
   "cell_type": "code",
   "execution_count": 48,
   "id": "0cdfb1b8",
   "metadata": {
    "execution": {
     "iopub.execute_input": "2024-08-31T05:55:28.229719Z",
     "iopub.status.busy": "2024-08-31T05:55:28.228863Z",
     "iopub.status.idle": "2024-08-31T05:55:28.241879Z",
     "shell.execute_reply": "2024-08-31T05:55:28.240735Z"
    },
    "papermill": {
     "duration": 0.089242,
     "end_time": "2024-08-31T05:55:28.244318",
     "exception": false,
     "start_time": "2024-08-31T05:55:28.155076",
     "status": "completed"
    },
    "tags": []
   },
   "outputs": [
    {
     "data": {
      "text/html": [
       "<div>\n",
       "<style scoped>\n",
       "    .dataframe tbody tr th:only-of-type {\n",
       "        vertical-align: middle;\n",
       "    }\n",
       "\n",
       "    .dataframe tbody tr th {\n",
       "        vertical-align: top;\n",
       "    }\n",
       "\n",
       "    .dataframe thead th {\n",
       "        text-align: right;\n",
       "    }\n",
       "</style>\n",
       "<table border=\"1\" class=\"dataframe\">\n",
       "  <thead>\n",
       "    <tr style=\"text-align: right;\">\n",
       "      <th></th>\n",
       "      <th>B_Upper</th>\n",
       "      <th>B</th>\n",
       "    </tr>\n",
       "  </thead>\n",
       "  <tbody>\n",
       "    <tr>\n",
       "      <th>0</th>\n",
       "      <td>APPLE</td>\n",
       "      <td>apple</td>\n",
       "    </tr>\n",
       "    <tr>\n",
       "      <th>1</th>\n",
       "      <td>BANANA</td>\n",
       "      <td>banana</td>\n",
       "    </tr>\n",
       "    <tr>\n",
       "      <th>2</th>\n",
       "      <td>CHERRY</td>\n",
       "      <td>cherry</td>\n",
       "    </tr>\n",
       "    <tr>\n",
       "      <th>3</th>\n",
       "      <td>DATE</td>\n",
       "      <td>date</td>\n",
       "    </tr>\n",
       "    <tr>\n",
       "      <th>4</th>\n",
       "      <td>FIG</td>\n",
       "      <td>fig</td>\n",
       "    </tr>\n",
       "  </tbody>\n",
       "</table>\n",
       "</div>"
      ],
      "text/plain": [
       "  B_Upper       B\n",
       "0   APPLE   apple\n",
       "1  BANANA  banana\n",
       "2  CHERRY  cherry\n",
       "3    DATE    date\n",
       "4     FIG     fig"
      ]
     },
     "execution_count": 48,
     "metadata": {},
     "output_type": "execute_result"
    }
   ],
   "source": [
    "df['B_Upper'] = df['B'].apply(lambda x: x.upper())\n",
    "df[['B_Upper','B']]"
   ]
  },
  {
   "cell_type": "markdown",
   "id": "8dbd0815",
   "metadata": {
    "papermill": {
     "duration": 0.074054,
     "end_time": "2024-08-31T05:55:28.392393",
     "exception": false,
     "start_time": "2024-08-31T05:55:28.318339",
     "status": "completed"
    },
    "tags": []
   },
   "source": [
    "### Replacing a Value"
   ]
  },
  {
   "cell_type": "code",
   "execution_count": 49,
   "id": "34f806ba",
   "metadata": {
    "execution": {
     "iopub.execute_input": "2024-08-31T05:55:28.541626Z",
     "iopub.status.busy": "2024-08-31T05:55:28.541199Z",
     "iopub.status.idle": "2024-08-31T05:55:28.557846Z",
     "shell.execute_reply": "2024-08-31T05:55:28.556491Z"
    },
    "papermill": {
     "duration": 0.094237,
     "end_time": "2024-08-31T05:55:28.560605",
     "exception": false,
     "start_time": "2024-08-31T05:55:28.466368",
     "status": "completed"
    },
    "tags": []
   },
   "outputs": [
    {
     "data": {
      "text/html": [
       "<div>\n",
       "<style scoped>\n",
       "    .dataframe tbody tr th:only-of-type {\n",
       "        vertical-align: middle;\n",
       "    }\n",
       "\n",
       "    .dataframe tbody tr th {\n",
       "        vertical-align: top;\n",
       "    }\n",
       "\n",
       "    .dataframe thead th {\n",
       "        text-align: right;\n",
       "    }\n",
       "</style>\n",
       "<table border=\"1\" class=\"dataframe\">\n",
       "  <thead>\n",
       "    <tr style=\"text-align: right;\">\n",
       "      <th></th>\n",
       "      <th>A</th>\n",
       "      <th>B</th>\n",
       "      <th>C</th>\n",
       "      <th>D</th>\n",
       "      <th>E</th>\n",
       "      <th>B_Upper</th>\n",
       "    </tr>\n",
       "  </thead>\n",
       "  <tbody>\n",
       "    <tr>\n",
       "      <th>0</th>\n",
       "      <td>1</td>\n",
       "      <td>grape</td>\n",
       "      <td>1.1</td>\n",
       "      <td>10</td>\n",
       "      <td>new_column</td>\n",
       "      <td>APPLE</td>\n",
       "    </tr>\n",
       "    <tr>\n",
       "      <th>1</th>\n",
       "      <td>2</td>\n",
       "      <td>watermelon</td>\n",
       "      <td>2.2</td>\n",
       "      <td>20</td>\n",
       "      <td>new_column</td>\n",
       "      <td>BANANA</td>\n",
       "    </tr>\n",
       "    <tr>\n",
       "      <th>2</th>\n",
       "      <td>3</td>\n",
       "      <td>cherry</td>\n",
       "      <td>3.3</td>\n",
       "      <td>30</td>\n",
       "      <td>new_column</td>\n",
       "      <td>CHERRY</td>\n",
       "    </tr>\n",
       "    <tr>\n",
       "      <th>3</th>\n",
       "      <td>4</td>\n",
       "      <td>date</td>\n",
       "      <td>4.4</td>\n",
       "      <td>40</td>\n",
       "      <td>new_column</td>\n",
       "      <td>DATE</td>\n",
       "    </tr>\n",
       "    <tr>\n",
       "      <th>4</th>\n",
       "      <td>5</td>\n",
       "      <td>fig</td>\n",
       "      <td>5.5</td>\n",
       "      <td>50</td>\n",
       "      <td>new_column</td>\n",
       "      <td>FIG</td>\n",
       "    </tr>\n",
       "  </tbody>\n",
       "</table>\n",
       "</div>"
      ],
      "text/plain": [
       "   A           B    C   D           E B_Upper\n",
       "0  1       grape  1.1  10  new_column   APPLE\n",
       "1  2  watermelon  2.2  20  new_column  BANANA\n",
       "2  3      cherry  3.3  30  new_column  CHERRY\n",
       "3  4        date  4.4  40  new_column    DATE\n",
       "4  5         fig  5.5  50  new_column     FIG"
      ]
     },
     "execution_count": 49,
     "metadata": {},
     "output_type": "execute_result"
    }
   ],
   "source": [
    "df_replaced = df.replace({\n",
    "    'B': {\n",
    "        'apple': 'grape',\n",
    "        'banana': 'watermelon'\n",
    "    }\n",
    "})\n",
    "df_replaced"
   ]
  },
  {
   "cell_type": "markdown",
   "id": "ec51847a",
   "metadata": {
    "papermill": {
     "duration": 0.073925,
     "end_time": "2024-08-31T05:55:28.709391",
     "exception": false,
     "start_time": "2024-08-31T05:55:28.635466",
     "status": "completed"
    },
    "tags": []
   },
   "source": [
    "### Rename a Column"
   ]
  },
  {
   "cell_type": "code",
   "execution_count": 50,
   "id": "48ce868e",
   "metadata": {
    "execution": {
     "iopub.execute_input": "2024-08-31T05:55:28.858456Z",
     "iopub.status.busy": "2024-08-31T05:55:28.857930Z",
     "iopub.status.idle": "2024-08-31T05:55:28.875374Z",
     "shell.execute_reply": "2024-08-31T05:55:28.873986Z"
    },
    "papermill": {
     "duration": 0.094741,
     "end_time": "2024-08-31T05:55:28.878057",
     "exception": false,
     "start_time": "2024-08-31T05:55:28.783316",
     "status": "completed"
    },
    "tags": []
   },
   "outputs": [
    {
     "data": {
      "text/html": [
       "<div>\n",
       "<style scoped>\n",
       "    .dataframe tbody tr th:only-of-type {\n",
       "        vertical-align: middle;\n",
       "    }\n",
       "\n",
       "    .dataframe tbody tr th {\n",
       "        vertical-align: top;\n",
       "    }\n",
       "\n",
       "    .dataframe thead th {\n",
       "        text-align: right;\n",
       "    }\n",
       "</style>\n",
       "<table border=\"1\" class=\"dataframe\">\n",
       "  <thead>\n",
       "    <tr style=\"text-align: right;\">\n",
       "      <th></th>\n",
       "      <th>X</th>\n",
       "      <th>Y</th>\n",
       "      <th>C</th>\n",
       "      <th>D</th>\n",
       "      <th>E</th>\n",
       "      <th>B_Upper</th>\n",
       "    </tr>\n",
       "  </thead>\n",
       "  <tbody>\n",
       "    <tr>\n",
       "      <th>0</th>\n",
       "      <td>1</td>\n",
       "      <td>apple</td>\n",
       "      <td>1.1</td>\n",
       "      <td>10</td>\n",
       "      <td>new_column</td>\n",
       "      <td>APPLE</td>\n",
       "    </tr>\n",
       "    <tr>\n",
       "      <th>1</th>\n",
       "      <td>2</td>\n",
       "      <td>banana</td>\n",
       "      <td>2.2</td>\n",
       "      <td>20</td>\n",
       "      <td>new_column</td>\n",
       "      <td>BANANA</td>\n",
       "    </tr>\n",
       "    <tr>\n",
       "      <th>2</th>\n",
       "      <td>3</td>\n",
       "      <td>cherry</td>\n",
       "      <td>3.3</td>\n",
       "      <td>30</td>\n",
       "      <td>new_column</td>\n",
       "      <td>CHERRY</td>\n",
       "    </tr>\n",
       "    <tr>\n",
       "      <th>3</th>\n",
       "      <td>4</td>\n",
       "      <td>date</td>\n",
       "      <td>4.4</td>\n",
       "      <td>40</td>\n",
       "      <td>new_column</td>\n",
       "      <td>DATE</td>\n",
       "    </tr>\n",
       "    <tr>\n",
       "      <th>4</th>\n",
       "      <td>5</td>\n",
       "      <td>fig</td>\n",
       "      <td>5.5</td>\n",
       "      <td>50</td>\n",
       "      <td>new_column</td>\n",
       "      <td>FIG</td>\n",
       "    </tr>\n",
       "  </tbody>\n",
       "</table>\n",
       "</div>"
      ],
      "text/plain": [
       "   X       Y    C   D           E B_Upper\n",
       "0  1   apple  1.1  10  new_column   APPLE\n",
       "1  2  banana  2.2  20  new_column  BANANA\n",
       "2  3  cherry  3.3  30  new_column  CHERRY\n",
       "3  4    date  4.4  40  new_column    DATE\n",
       "4  5     fig  5.5  50  new_column     FIG"
      ]
     },
     "execution_count": 50,
     "metadata": {},
     "output_type": "execute_result"
    }
   ],
   "source": [
    "df_renamed = df.rename(columns={\n",
    "    'A': 'X',\n",
    "    'B': 'Y'\n",
    "})\n",
    "df_renamed"
   ]
  },
  {
   "cell_type": "markdown",
   "id": "5ae1e2ac",
   "metadata": {
    "papermill": {
     "duration": 0.077475,
     "end_time": "2024-08-31T05:55:29.034090",
     "exception": false,
     "start_time": "2024-08-31T05:55:28.956615",
     "status": "completed"
    },
    "tags": []
   },
   "source": [
    "## Resetting and Setting Index"
   ]
  },
  {
   "cell_type": "code",
   "execution_count": 51,
   "id": "920216f9",
   "metadata": {
    "execution": {
     "iopub.execute_input": "2024-08-31T05:55:29.208817Z",
     "iopub.status.busy": "2024-08-31T05:55:29.208360Z",
     "iopub.status.idle": "2024-08-31T05:55:29.223816Z",
     "shell.execute_reply": "2024-08-31T05:55:29.222549Z"
    },
    "papermill": {
     "duration": 0.098399,
     "end_time": "2024-08-31T05:55:29.226322",
     "exception": false,
     "start_time": "2024-08-31T05:55:29.127923",
     "status": "completed"
    },
    "tags": []
   },
   "outputs": [
    {
     "data": {
      "text/html": [
       "<div>\n",
       "<style scoped>\n",
       "    .dataframe tbody tr th:only-of-type {\n",
       "        vertical-align: middle;\n",
       "    }\n",
       "\n",
       "    .dataframe tbody tr th {\n",
       "        vertical-align: top;\n",
       "    }\n",
       "\n",
       "    .dataframe thead th {\n",
       "        text-align: right;\n",
       "    }\n",
       "</style>\n",
       "<table border=\"1\" class=\"dataframe\">\n",
       "  <thead>\n",
       "    <tr style=\"text-align: right;\">\n",
       "      <th></th>\n",
       "      <th>A</th>\n",
       "      <th>C</th>\n",
       "      <th>D</th>\n",
       "      <th>E</th>\n",
       "      <th>B_Upper</th>\n",
       "    </tr>\n",
       "    <tr>\n",
       "      <th>B</th>\n",
       "      <th></th>\n",
       "      <th></th>\n",
       "      <th></th>\n",
       "      <th></th>\n",
       "      <th></th>\n",
       "    </tr>\n",
       "  </thead>\n",
       "  <tbody>\n",
       "    <tr>\n",
       "      <th>apple</th>\n",
       "      <td>1</td>\n",
       "      <td>1.1</td>\n",
       "      <td>10</td>\n",
       "      <td>new_column</td>\n",
       "      <td>APPLE</td>\n",
       "    </tr>\n",
       "    <tr>\n",
       "      <th>banana</th>\n",
       "      <td>2</td>\n",
       "      <td>2.2</td>\n",
       "      <td>20</td>\n",
       "      <td>new_column</td>\n",
       "      <td>BANANA</td>\n",
       "    </tr>\n",
       "    <tr>\n",
       "      <th>cherry</th>\n",
       "      <td>3</td>\n",
       "      <td>3.3</td>\n",
       "      <td>30</td>\n",
       "      <td>new_column</td>\n",
       "      <td>CHERRY</td>\n",
       "    </tr>\n",
       "    <tr>\n",
       "      <th>date</th>\n",
       "      <td>4</td>\n",
       "      <td>4.4</td>\n",
       "      <td>40</td>\n",
       "      <td>new_column</td>\n",
       "      <td>DATE</td>\n",
       "    </tr>\n",
       "    <tr>\n",
       "      <th>fig</th>\n",
       "      <td>5</td>\n",
       "      <td>5.5</td>\n",
       "      <td>50</td>\n",
       "      <td>new_column</td>\n",
       "      <td>FIG</td>\n",
       "    </tr>\n",
       "  </tbody>\n",
       "</table>\n",
       "</div>"
      ],
      "text/plain": [
       "        A    C   D           E B_Upper\n",
       "B                                     \n",
       "apple   1  1.1  10  new_column   APPLE\n",
       "banana  2  2.2  20  new_column  BANANA\n",
       "cherry  3  3.3  30  new_column  CHERRY\n",
       "date    4  4.4  40  new_column    DATE\n",
       "fig     5  5.5  50  new_column     FIG"
      ]
     },
     "execution_count": 51,
     "metadata": {},
     "output_type": "execute_result"
    }
   ],
   "source": [
    "df_set_index = df.set_index('B')\n",
    "df_set_index"
   ]
  },
  {
   "cell_type": "code",
   "execution_count": 52,
   "id": "aca4b407",
   "metadata": {
    "execution": {
     "iopub.execute_input": "2024-08-31T05:55:29.379330Z",
     "iopub.status.busy": "2024-08-31T05:55:29.378344Z",
     "iopub.status.idle": "2024-08-31T05:55:29.394107Z",
     "shell.execute_reply": "2024-08-31T05:55:29.392992Z"
    },
    "papermill": {
     "duration": 0.095389,
     "end_time": "2024-08-31T05:55:29.396699",
     "exception": false,
     "start_time": "2024-08-31T05:55:29.301310",
     "status": "completed"
    },
    "tags": []
   },
   "outputs": [
    {
     "data": {
      "text/html": [
       "<div>\n",
       "<style scoped>\n",
       "    .dataframe tbody tr th:only-of-type {\n",
       "        vertical-align: middle;\n",
       "    }\n",
       "\n",
       "    .dataframe tbody tr th {\n",
       "        vertical-align: top;\n",
       "    }\n",
       "\n",
       "    .dataframe thead th {\n",
       "        text-align: right;\n",
       "    }\n",
       "</style>\n",
       "<table border=\"1\" class=\"dataframe\">\n",
       "  <thead>\n",
       "    <tr style=\"text-align: right;\">\n",
       "      <th></th>\n",
       "      <th>B</th>\n",
       "      <th>A</th>\n",
       "      <th>C</th>\n",
       "      <th>D</th>\n",
       "      <th>E</th>\n",
       "      <th>B_Upper</th>\n",
       "    </tr>\n",
       "  </thead>\n",
       "  <tbody>\n",
       "    <tr>\n",
       "      <th>0</th>\n",
       "      <td>apple</td>\n",
       "      <td>1</td>\n",
       "      <td>1.1</td>\n",
       "      <td>10</td>\n",
       "      <td>new_column</td>\n",
       "      <td>APPLE</td>\n",
       "    </tr>\n",
       "    <tr>\n",
       "      <th>1</th>\n",
       "      <td>banana</td>\n",
       "      <td>2</td>\n",
       "      <td>2.2</td>\n",
       "      <td>20</td>\n",
       "      <td>new_column</td>\n",
       "      <td>BANANA</td>\n",
       "    </tr>\n",
       "    <tr>\n",
       "      <th>2</th>\n",
       "      <td>cherry</td>\n",
       "      <td>3</td>\n",
       "      <td>3.3</td>\n",
       "      <td>30</td>\n",
       "      <td>new_column</td>\n",
       "      <td>CHERRY</td>\n",
       "    </tr>\n",
       "    <tr>\n",
       "      <th>3</th>\n",
       "      <td>date</td>\n",
       "      <td>4</td>\n",
       "      <td>4.4</td>\n",
       "      <td>40</td>\n",
       "      <td>new_column</td>\n",
       "      <td>DATE</td>\n",
       "    </tr>\n",
       "    <tr>\n",
       "      <th>4</th>\n",
       "      <td>fig</td>\n",
       "      <td>5</td>\n",
       "      <td>5.5</td>\n",
       "      <td>50</td>\n",
       "      <td>new_column</td>\n",
       "      <td>FIG</td>\n",
       "    </tr>\n",
       "  </tbody>\n",
       "</table>\n",
       "</div>"
      ],
      "text/plain": [
       "        B  A    C   D           E B_Upper\n",
       "0   apple  1  1.1  10  new_column   APPLE\n",
       "1  banana  2  2.2  20  new_column  BANANA\n",
       "2  cherry  3  3.3  30  new_column  CHERRY\n",
       "3    date  4  4.4  40  new_column    DATE\n",
       "4     fig  5  5.5  50  new_column     FIG"
      ]
     },
     "execution_count": 52,
     "metadata": {},
     "output_type": "execute_result"
    }
   ],
   "source": [
    "df_reset_index = df_set_index.reset_index()\n",
    "df_reset_index"
   ]
  },
  {
   "cell_type": "code",
   "execution_count": 53,
   "id": "0307d281",
   "metadata": {
    "execution": {
     "iopub.execute_input": "2024-08-31T05:55:29.549497Z",
     "iopub.status.busy": "2024-08-31T05:55:29.549003Z",
     "iopub.status.idle": "2024-08-31T05:55:29.569756Z",
     "shell.execute_reply": "2024-08-31T05:55:29.568623Z"
    },
    "papermill": {
     "duration": 0.098923,
     "end_time": "2024-08-31T05:55:29.572284",
     "exception": false,
     "start_time": "2024-08-31T05:55:29.473361",
     "status": "completed"
    },
    "tags": []
   },
   "outputs": [
    {
     "data": {
      "text/html": [
       "<div>\n",
       "<style scoped>\n",
       "    .dataframe tbody tr th:only-of-type {\n",
       "        vertical-align: middle;\n",
       "    }\n",
       "\n",
       "    .dataframe tbody tr th {\n",
       "        vertical-align: top;\n",
       "    }\n",
       "\n",
       "    .dataframe thead th {\n",
       "        text-align: right;\n",
       "    }\n",
       "</style>\n",
       "<table border=\"1\" class=\"dataframe\">\n",
       "  <thead>\n",
       "    <tr style=\"text-align: right;\">\n",
       "      <th></th>\n",
       "      <th>A</th>\n",
       "      <th>B</th>\n",
       "      <th>C</th>\n",
       "    </tr>\n",
       "  </thead>\n",
       "  <tbody>\n",
       "    <tr>\n",
       "      <th>0</th>\n",
       "      <td>1.0</td>\n",
       "      <td>A</td>\n",
       "      <td>0.5</td>\n",
       "    </tr>\n",
       "    <tr>\n",
       "      <th>1</th>\n",
       "      <td>2.0</td>\n",
       "      <td>B</td>\n",
       "      <td>1.0</td>\n",
       "    </tr>\n",
       "    <tr>\n",
       "      <th>2</th>\n",
       "      <td>3.0</td>\n",
       "      <td>C</td>\n",
       "      <td>1.5</td>\n",
       "    </tr>\n",
       "    <tr>\n",
       "      <th>3</th>\n",
       "      <td>4.0</td>\n",
       "      <td>D</td>\n",
       "      <td>2.0</td>\n",
       "    </tr>\n",
       "    <tr>\n",
       "      <th>4</th>\n",
       "      <td>5.0</td>\n",
       "      <td>E</td>\n",
       "      <td>2.5</td>\n",
       "    </tr>\n",
       "    <tr>\n",
       "      <th>5</th>\n",
       "      <td>6.0</td>\n",
       "      <td>F</td>\n",
       "      <td>3.0</td>\n",
       "    </tr>\n",
       "    <tr>\n",
       "      <th>6</th>\n",
       "      <td>7.0</td>\n",
       "      <td>G</td>\n",
       "      <td>3.5</td>\n",
       "    </tr>\n",
       "    <tr>\n",
       "      <th>7</th>\n",
       "      <td>8.0</td>\n",
       "      <td>H</td>\n",
       "      <td>4.0</td>\n",
       "    </tr>\n",
       "    <tr>\n",
       "      <th>8</th>\n",
       "      <td>9.0</td>\n",
       "      <td>I</td>\n",
       "      <td>4.5</td>\n",
       "    </tr>\n",
       "    <tr>\n",
       "      <th>9</th>\n",
       "      <td>10.0</td>\n",
       "      <td>J</td>\n",
       "      <td>5.0</td>\n",
       "    </tr>\n",
       "    <tr>\n",
       "      <th>10</th>\n",
       "      <td>NaN</td>\n",
       "      <td>NaN</td>\n",
       "      <td>NaN</td>\n",
       "    </tr>\n",
       "    <tr>\n",
       "      <th>11</th>\n",
       "      <td>NaN</td>\n",
       "      <td>NaN</td>\n",
       "      <td>NaN</td>\n",
       "    </tr>\n",
       "  </tbody>\n",
       "</table>\n",
       "</div>"
      ],
      "text/plain": [
       "       A    B    C\n",
       "0    1.0    A  0.5\n",
       "1    2.0    B  1.0\n",
       "2    3.0    C  1.5\n",
       "3    4.0    D  2.0\n",
       "4    5.0    E  2.5\n",
       "5    6.0    F  3.0\n",
       "6    7.0    G  3.5\n",
       "7    8.0    H  4.0\n",
       "8    9.0    I  4.5\n",
       "9   10.0    J  5.0\n",
       "10   NaN  NaN  NaN\n",
       "11   NaN  NaN  NaN"
      ]
     },
     "execution_count": 53,
     "metadata": {},
     "output_type": "execute_result"
    }
   ],
   "source": [
    "data = {\n",
    "    'A': [i for i in range(1, 11)],\n",
    "    'B': [chr(i) for i in range(65, 75)],\n",
    "    'C': [i * 0.5 for i in range(1, 11)]\n",
    "}\n",
    "df = pd.DataFrame(data=data)\n",
    "df\n",
    "\n",
    "new_index = list(range(0,12))\n",
    "reindex_df = df.reindex(new_index)\n",
    "reindex_df"
   ]
  },
  {
   "cell_type": "markdown",
   "id": "38438da1",
   "metadata": {
    "papermill": {
     "duration": 0.07531,
     "end_time": "2024-08-31T05:55:29.723230",
     "exception": false,
     "start_time": "2024-08-31T05:55:29.647920",
     "status": "completed"
    },
    "tags": []
   },
   "source": [
    "## Pandas Method"
   ]
  },
  {
   "cell_type": "markdown",
   "id": "b9c0bd47",
   "metadata": {
    "papermill": {
     "duration": 0.073775,
     "end_time": "2024-08-31T05:55:29.871711",
     "exception": false,
     "start_time": "2024-08-31T05:55:29.797936",
     "status": "completed"
    },
    "tags": []
   },
   "source": [
    "### Statistic Method"
   ]
  },
  {
   "cell_type": "code",
   "execution_count": 54,
   "id": "0272453b",
   "metadata": {
    "execution": {
     "iopub.execute_input": "2024-08-31T05:55:30.025703Z",
     "iopub.status.busy": "2024-08-31T05:55:30.025237Z",
     "iopub.status.idle": "2024-08-31T05:55:30.044779Z",
     "shell.execute_reply": "2024-08-31T05:55:30.043563Z"
    },
    "papermill": {
     "duration": 0.100832,
     "end_time": "2024-08-31T05:55:30.047546",
     "exception": false,
     "start_time": "2024-08-31T05:55:29.946714",
     "status": "completed"
    },
    "tags": []
   },
   "outputs": [
    {
     "data": {
      "text/html": [
       "<div>\n",
       "<style scoped>\n",
       "    .dataframe tbody tr th:only-of-type {\n",
       "        vertical-align: middle;\n",
       "    }\n",
       "\n",
       "    .dataframe tbody tr th {\n",
       "        vertical-align: top;\n",
       "    }\n",
       "\n",
       "    .dataframe thead th {\n",
       "        text-align: right;\n",
       "    }\n",
       "</style>\n",
       "<table border=\"1\" class=\"dataframe\">\n",
       "  <thead>\n",
       "    <tr style=\"text-align: right;\">\n",
       "      <th></th>\n",
       "      <th>A</th>\n",
       "      <th>B</th>\n",
       "      <th>C</th>\n",
       "    </tr>\n",
       "  </thead>\n",
       "  <tbody>\n",
       "    <tr>\n",
       "      <th>0</th>\n",
       "      <td>0.496714</td>\n",
       "      <td>9</td>\n",
       "      <td>pen</td>\n",
       "    </tr>\n",
       "    <tr>\n",
       "      <th>1</th>\n",
       "      <td>-0.138264</td>\n",
       "      <td>5</td>\n",
       "      <td>pen</td>\n",
       "    </tr>\n",
       "    <tr>\n",
       "      <th>2</th>\n",
       "      <td>0.647689</td>\n",
       "      <td>1</td>\n",
       "      <td>pen</td>\n",
       "    </tr>\n",
       "    <tr>\n",
       "      <th>3</th>\n",
       "      <td>1.523030</td>\n",
       "      <td>3</td>\n",
       "      <td>pen</td>\n",
       "    </tr>\n",
       "    <tr>\n",
       "      <th>4</th>\n",
       "      <td>-0.234153</td>\n",
       "      <td>8</td>\n",
       "      <td>eraser</td>\n",
       "    </tr>\n",
       "    <tr>\n",
       "      <th>...</th>\n",
       "      <td>...</td>\n",
       "      <td>...</td>\n",
       "      <td>...</td>\n",
       "    </tr>\n",
       "    <tr>\n",
       "      <th>95</th>\n",
       "      <td>-1.463515</td>\n",
       "      <td>3</td>\n",
       "      <td>eraser</td>\n",
       "    </tr>\n",
       "    <tr>\n",
       "      <th>96</th>\n",
       "      <td>0.296120</td>\n",
       "      <td>9</td>\n",
       "      <td>pencil</td>\n",
       "    </tr>\n",
       "    <tr>\n",
       "      <th>97</th>\n",
       "      <td>0.261055</td>\n",
       "      <td>3</td>\n",
       "      <td>pencil</td>\n",
       "    </tr>\n",
       "    <tr>\n",
       "      <th>98</th>\n",
       "      <td>0.005113</td>\n",
       "      <td>9</td>\n",
       "      <td>pencil</td>\n",
       "    </tr>\n",
       "    <tr>\n",
       "      <th>99</th>\n",
       "      <td>-0.234587</td>\n",
       "      <td>2</td>\n",
       "      <td>pen</td>\n",
       "    </tr>\n",
       "  </tbody>\n",
       "</table>\n",
       "<p>100 rows × 3 columns</p>\n",
       "</div>"
      ],
      "text/plain": [
       "           A  B       C\n",
       "0   0.496714  9     pen\n",
       "1  -0.138264  5     pen\n",
       "2   0.647689  1     pen\n",
       "3   1.523030  3     pen\n",
       "4  -0.234153  8  eraser\n",
       "..       ... ..     ...\n",
       "95 -1.463515  3  eraser\n",
       "96  0.296120  9  pencil\n",
       "97  0.261055  3  pencil\n",
       "98  0.005113  9  pencil\n",
       "99 -0.234587  2     pen\n",
       "\n",
       "[100 rows x 3 columns]"
      ]
     },
     "execution_count": 54,
     "metadata": {},
     "output_type": "execute_result"
    }
   ],
   "source": [
    "np.random.seed(42)\n",
    "df_stats = pd.DataFrame({\n",
    "    'A': np.random.randn(100),\n",
    "    'B': np.random.randint(1, 10, 100),\n",
    "    'C': np.random.choice(['pencil','pen','eraser'], 100)\n",
    "})\n",
    "df_stats"
   ]
  },
  {
   "cell_type": "markdown",
   "id": "5da43701",
   "metadata": {
    "papermill": {
     "duration": 0.074678,
     "end_time": "2024-08-31T05:55:30.197610",
     "exception": false,
     "start_time": "2024-08-31T05:55:30.122932",
     "status": "completed"
    },
    "tags": []
   },
   "source": [
    "### Mean, Mode, Modus"
   ]
  },
  {
   "cell_type": "code",
   "execution_count": 55,
   "id": "726ac912",
   "metadata": {
    "execution": {
     "iopub.execute_input": "2024-08-31T05:55:30.352348Z",
     "iopub.status.busy": "2024-08-31T05:55:30.351921Z",
     "iopub.status.idle": "2024-08-31T05:55:30.362387Z",
     "shell.execute_reply": "2024-08-31T05:55:30.361181Z"
    },
    "papermill": {
     "duration": 0.091138,
     "end_time": "2024-08-31T05:55:30.364876",
     "exception": false,
     "start_time": "2024-08-31T05:55:30.273738",
     "status": "completed"
    },
    "tags": []
   },
   "outputs": [
    {
     "data": {
      "text/plain": [
       "(-0.10384651739409384,\n",
       " 4.0,\n",
       " 0    pencil\n",
       " Name: C, dtype: object)"
      ]
     },
     "execution_count": 55,
     "metadata": {},
     "output_type": "execute_result"
    }
   ],
   "source": [
    "mean_A = df_stats['A'].mean()\n",
    "median_B = df_stats['B'].median()\n",
    "mode_C = df_stats['C'].mode()\n",
    "\n",
    "mean_A, median_B, mode_C"
   ]
  },
  {
   "cell_type": "markdown",
   "id": "5da92ff4",
   "metadata": {
    "papermill": {
     "duration": 0.077476,
     "end_time": "2024-08-31T05:55:30.518284",
     "exception": false,
     "start_time": "2024-08-31T05:55:30.440808",
     "status": "completed"
    },
    "tags": []
   },
   "source": [
    "### Aggregate Method"
   ]
  },
  {
   "cell_type": "code",
   "execution_count": 56,
   "id": "485a83b3",
   "metadata": {
    "execution": {
     "iopub.execute_input": "2024-08-31T05:55:30.671815Z",
     "iopub.status.busy": "2024-08-31T05:55:30.671335Z",
     "iopub.status.idle": "2024-08-31T05:55:30.688607Z",
     "shell.execute_reply": "2024-08-31T05:55:30.687485Z"
    },
    "papermill": {
     "duration": 0.097549,
     "end_time": "2024-08-31T05:55:30.691167",
     "exception": false,
     "start_time": "2024-08-31T05:55:30.593618",
     "status": "completed"
    },
    "tags": []
   },
   "outputs": [
    {
     "data": {
      "text/html": [
       "<div>\n",
       "<style scoped>\n",
       "    .dataframe tbody tr th:only-of-type {\n",
       "        vertical-align: middle;\n",
       "    }\n",
       "\n",
       "    .dataframe tbody tr th {\n",
       "        vertical-align: top;\n",
       "    }\n",
       "\n",
       "    .dataframe thead th {\n",
       "        text-align: right;\n",
       "    }\n",
       "</style>\n",
       "<table border=\"1\" class=\"dataframe\">\n",
       "  <thead>\n",
       "    <tr style=\"text-align: right;\">\n",
       "      <th></th>\n",
       "      <th>A</th>\n",
       "      <th>B</th>\n",
       "    </tr>\n",
       "  </thead>\n",
       "  <tbody>\n",
       "    <tr>\n",
       "      <th>mean</th>\n",
       "      <td>-0.103847</td>\n",
       "      <td>NaN</td>\n",
       "    </tr>\n",
       "    <tr>\n",
       "      <th>std</th>\n",
       "      <td>0.908168</td>\n",
       "      <td>NaN</td>\n",
       "    </tr>\n",
       "    <tr>\n",
       "      <th>min</th>\n",
       "      <td>-2.619745</td>\n",
       "      <td>NaN</td>\n",
       "    </tr>\n",
       "    <tr>\n",
       "      <th>max</th>\n",
       "      <td>1.852278</td>\n",
       "      <td>NaN</td>\n",
       "    </tr>\n",
       "    <tr>\n",
       "      <th>sum</th>\n",
       "      <td>NaN</td>\n",
       "      <td>473.0</td>\n",
       "    </tr>\n",
       "    <tr>\n",
       "      <th>median</th>\n",
       "      <td>NaN</td>\n",
       "      <td>4.0</td>\n",
       "    </tr>\n",
       "  </tbody>\n",
       "</table>\n",
       "</div>"
      ],
      "text/plain": [
       "               A      B\n",
       "mean   -0.103847    NaN\n",
       "std     0.908168    NaN\n",
       "min    -2.619745    NaN\n",
       "max     1.852278    NaN\n",
       "sum          NaN  473.0\n",
       "median       NaN    4.0"
      ]
     },
     "execution_count": 56,
     "metadata": {},
     "output_type": "execute_result"
    }
   ],
   "source": [
    "aggregated = df_stats.agg({\n",
    "    'A': ['mean','std','min','max'],\n",
    "    'B': ['sum','median']\n",
    "})\n",
    "aggregated"
   ]
  },
  {
   "cell_type": "code",
   "execution_count": 57,
   "id": "1644b0c5",
   "metadata": {
    "execution": {
     "iopub.execute_input": "2024-08-31T05:55:30.844407Z",
     "iopub.status.busy": "2024-08-31T05:55:30.843573Z",
     "iopub.status.idle": "2024-08-31T05:55:30.857772Z",
     "shell.execute_reply": "2024-08-31T05:55:30.856671Z"
    },
    "papermill": {
     "duration": 0.09295,
     "end_time": "2024-08-31T05:55:30.860228",
     "exception": false,
     "start_time": "2024-08-31T05:55:30.767278",
     "status": "completed"
    },
    "tags": []
   },
   "outputs": [
    {
     "data": {
      "text/html": [
       "<div>\n",
       "<style scoped>\n",
       "    .dataframe tbody tr th:only-of-type {\n",
       "        vertical-align: middle;\n",
       "    }\n",
       "\n",
       "    .dataframe tbody tr th {\n",
       "        vertical-align: top;\n",
       "    }\n",
       "\n",
       "    .dataframe thead th {\n",
       "        text-align: right;\n",
       "    }\n",
       "</style>\n",
       "<table border=\"1\" class=\"dataframe\">\n",
       "  <thead>\n",
       "    <tr style=\"text-align: right;\">\n",
       "      <th></th>\n",
       "      <th>C</th>\n",
       "      <th>length_C</th>\n",
       "    </tr>\n",
       "  </thead>\n",
       "  <tbody>\n",
       "    <tr>\n",
       "      <th>0</th>\n",
       "      <td>pen</td>\n",
       "      <td>3</td>\n",
       "    </tr>\n",
       "    <tr>\n",
       "      <th>1</th>\n",
       "      <td>pen</td>\n",
       "      <td>3</td>\n",
       "    </tr>\n",
       "    <tr>\n",
       "      <th>2</th>\n",
       "      <td>pen</td>\n",
       "      <td>3</td>\n",
       "    </tr>\n",
       "    <tr>\n",
       "      <th>3</th>\n",
       "      <td>pen</td>\n",
       "      <td>3</td>\n",
       "    </tr>\n",
       "    <tr>\n",
       "      <th>4</th>\n",
       "      <td>eraser</td>\n",
       "      <td>6</td>\n",
       "    </tr>\n",
       "    <tr>\n",
       "      <th>...</th>\n",
       "      <td>...</td>\n",
       "      <td>...</td>\n",
       "    </tr>\n",
       "    <tr>\n",
       "      <th>95</th>\n",
       "      <td>eraser</td>\n",
       "      <td>6</td>\n",
       "    </tr>\n",
       "    <tr>\n",
       "      <th>96</th>\n",
       "      <td>pencil</td>\n",
       "      <td>6</td>\n",
       "    </tr>\n",
       "    <tr>\n",
       "      <th>97</th>\n",
       "      <td>pencil</td>\n",
       "      <td>6</td>\n",
       "    </tr>\n",
       "    <tr>\n",
       "      <th>98</th>\n",
       "      <td>pencil</td>\n",
       "      <td>6</td>\n",
       "    </tr>\n",
       "    <tr>\n",
       "      <th>99</th>\n",
       "      <td>pen</td>\n",
       "      <td>3</td>\n",
       "    </tr>\n",
       "  </tbody>\n",
       "</table>\n",
       "<p>100 rows × 2 columns</p>\n",
       "</div>"
      ],
      "text/plain": [
       "         C  length_C\n",
       "0      pen         3\n",
       "1      pen         3\n",
       "2      pen         3\n",
       "3      pen         3\n",
       "4   eraser         6\n",
       "..     ...       ...\n",
       "95  eraser         6\n",
       "96  pencil         6\n",
       "97  pencil         6\n",
       "98  pencil         6\n",
       "99     pen         3\n",
       "\n",
       "[100 rows x 2 columns]"
      ]
     },
     "execution_count": 57,
     "metadata": {},
     "output_type": "execute_result"
    }
   ],
   "source": [
    "df_stats['length_C'] = df_stats['C'].apply(len)\n",
    "df_stats[['C','length_C']]"
   ]
  },
  {
   "cell_type": "code",
   "execution_count": 58,
   "id": "2aa66020",
   "metadata": {
    "execution": {
     "iopub.execute_input": "2024-08-31T05:55:31.021609Z",
     "iopub.status.busy": "2024-08-31T05:55:31.021129Z",
     "iopub.status.idle": "2024-08-31T05:55:31.039271Z",
     "shell.execute_reply": "2024-08-31T05:55:31.037939Z"
    },
    "papermill": {
     "duration": 0.103352,
     "end_time": "2024-08-31T05:55:31.041972",
     "exception": false,
     "start_time": "2024-08-31T05:55:30.938620",
     "status": "completed"
    },
    "tags": []
   },
   "outputs": [
    {
     "data": {
      "text/html": [
       "<div>\n",
       "<style scoped>\n",
       "    .dataframe tbody tr th:only-of-type {\n",
       "        vertical-align: middle;\n",
       "    }\n",
       "\n",
       "    .dataframe tbody tr th {\n",
       "        vertical-align: top;\n",
       "    }\n",
       "\n",
       "    .dataframe thead th {\n",
       "        text-align: right;\n",
       "    }\n",
       "</style>\n",
       "<table border=\"1\" class=\"dataframe\">\n",
       "  <thead>\n",
       "    <tr style=\"text-align: right;\">\n",
       "      <th></th>\n",
       "      <th>A</th>\n",
       "      <th>B</th>\n",
       "      <th>C</th>\n",
       "      <th>length_C</th>\n",
       "      <th>short_C</th>\n",
       "    </tr>\n",
       "  </thead>\n",
       "  <tbody>\n",
       "    <tr>\n",
       "      <th>0</th>\n",
       "      <td>0.496714</td>\n",
       "      <td>9</td>\n",
       "      <td>pen</td>\n",
       "      <td>3</td>\n",
       "      <td>PN</td>\n",
       "    </tr>\n",
       "    <tr>\n",
       "      <th>1</th>\n",
       "      <td>-0.138264</td>\n",
       "      <td>5</td>\n",
       "      <td>pen</td>\n",
       "      <td>3</td>\n",
       "      <td>PN</td>\n",
       "    </tr>\n",
       "    <tr>\n",
       "      <th>2</th>\n",
       "      <td>0.647689</td>\n",
       "      <td>1</td>\n",
       "      <td>pen</td>\n",
       "      <td>3</td>\n",
       "      <td>PN</td>\n",
       "    </tr>\n",
       "    <tr>\n",
       "      <th>3</th>\n",
       "      <td>1.523030</td>\n",
       "      <td>3</td>\n",
       "      <td>pen</td>\n",
       "      <td>3</td>\n",
       "      <td>PN</td>\n",
       "    </tr>\n",
       "    <tr>\n",
       "      <th>4</th>\n",
       "      <td>-0.234153</td>\n",
       "      <td>8</td>\n",
       "      <td>eraser</td>\n",
       "      <td>6</td>\n",
       "      <td>ERS</td>\n",
       "    </tr>\n",
       "    <tr>\n",
       "      <th>...</th>\n",
       "      <td>...</td>\n",
       "      <td>...</td>\n",
       "      <td>...</td>\n",
       "      <td>...</td>\n",
       "      <td>...</td>\n",
       "    </tr>\n",
       "    <tr>\n",
       "      <th>95</th>\n",
       "      <td>-1.463515</td>\n",
       "      <td>3</td>\n",
       "      <td>eraser</td>\n",
       "      <td>6</td>\n",
       "      <td>ERS</td>\n",
       "    </tr>\n",
       "    <tr>\n",
       "      <th>96</th>\n",
       "      <td>0.296120</td>\n",
       "      <td>9</td>\n",
       "      <td>pencil</td>\n",
       "      <td>6</td>\n",
       "      <td>PCL</td>\n",
       "    </tr>\n",
       "    <tr>\n",
       "      <th>97</th>\n",
       "      <td>0.261055</td>\n",
       "      <td>3</td>\n",
       "      <td>pencil</td>\n",
       "      <td>6</td>\n",
       "      <td>PCL</td>\n",
       "    </tr>\n",
       "    <tr>\n",
       "      <th>98</th>\n",
       "      <td>0.005113</td>\n",
       "      <td>9</td>\n",
       "      <td>pencil</td>\n",
       "      <td>6</td>\n",
       "      <td>PCL</td>\n",
       "    </tr>\n",
       "    <tr>\n",
       "      <th>99</th>\n",
       "      <td>-0.234587</td>\n",
       "      <td>2</td>\n",
       "      <td>pen</td>\n",
       "      <td>3</td>\n",
       "      <td>PN</td>\n",
       "    </tr>\n",
       "  </tbody>\n",
       "</table>\n",
       "<p>100 rows × 5 columns</p>\n",
       "</div>"
      ],
      "text/plain": [
       "           A  B       C  length_C short_C\n",
       "0   0.496714  9     pen         3      PN\n",
       "1  -0.138264  5     pen         3      PN\n",
       "2   0.647689  1     pen         3      PN\n",
       "3   1.523030  3     pen         3      PN\n",
       "4  -0.234153  8  eraser         6     ERS\n",
       "..       ... ..     ...       ...     ...\n",
       "95 -1.463515  3  eraser         6     ERS\n",
       "96  0.296120  9  pencil         6     PCL\n",
       "97  0.261055  3  pencil         6     PCL\n",
       "98  0.005113  9  pencil         6     PCL\n",
       "99 -0.234587  2     pen         3      PN\n",
       "\n",
       "[100 rows x 5 columns]"
      ]
     },
     "execution_count": 58,
     "metadata": {},
     "output_type": "execute_result"
    }
   ],
   "source": [
    "replacement = {\n",
    "    'pencil': 'PCL',\n",
    "    'pen': 'PN',\n",
    "    'eraser': 'ERS'\n",
    "}\n",
    "df_stats['short_C'] = df_stats['C'].map(replacement)\n",
    "df_stats"
   ]
  },
  {
   "cell_type": "markdown",
   "id": "eccfc3ee",
   "metadata": {
    "papermill": {
     "duration": 0.077185,
     "end_time": "2024-08-31T05:55:31.196552",
     "exception": false,
     "start_time": "2024-08-31T05:55:31.119367",
     "status": "completed"
    },
    "tags": []
   },
   "source": [
    "### Method Chaining"
   ]
  },
  {
   "cell_type": "code",
   "execution_count": 59,
   "id": "28a3308c",
   "metadata": {
    "execution": {
     "iopub.execute_input": "2024-08-31T05:55:31.352471Z",
     "iopub.status.busy": "2024-08-31T05:55:31.352041Z",
     "iopub.status.idle": "2024-08-31T05:55:31.361520Z",
     "shell.execute_reply": "2024-08-31T05:55:31.360331Z"
    },
    "papermill": {
     "duration": 0.090433,
     "end_time": "2024-08-31T05:55:31.364176",
     "exception": false,
     "start_time": "2024-08-31T05:55:31.273743",
     "status": "completed"
    },
    "tags": []
   },
   "outputs": [
    {
     "data": {
      "text/plain": [
       "-0.10384651739409384"
      ]
     },
     "execution_count": 59,
     "metadata": {},
     "output_type": "execute_result"
    }
   ],
   "source": [
    "average_A_notna = df_stats[df_stats['B'].notna()]['A'].mean()\n",
    "average_A_notna"
   ]
  },
  {
   "cell_type": "markdown",
   "id": "422ce95e",
   "metadata": {
    "papermill": {
     "duration": 0.077585,
     "end_time": "2024-08-31T05:55:31.518517",
     "exception": false,
     "start_time": "2024-08-31T05:55:31.440932",
     "status": "completed"
    },
    "tags": []
   },
   "source": [
    "## Joining DataFrame"
   ]
  },
  {
   "cell_type": "markdown",
   "id": "dc2c0b0c",
   "metadata": {
    "papermill": {
     "duration": 0.075453,
     "end_time": "2024-08-31T05:55:31.670909",
     "exception": false,
     "start_time": "2024-08-31T05:55:31.595456",
     "status": "completed"
    },
    "tags": []
   },
   "source": [
    "### Join with concat"
   ]
  },
  {
   "cell_type": "code",
   "execution_count": 60,
   "id": "ff5f33d8",
   "metadata": {
    "execution": {
     "iopub.execute_input": "2024-08-31T05:55:31.878867Z",
     "iopub.status.busy": "2024-08-31T05:55:31.878413Z",
     "iopub.status.idle": "2024-08-31T05:55:31.896092Z",
     "shell.execute_reply": "2024-08-31T05:55:31.894956Z"
    },
    "papermill": {
     "duration": 0.097059,
     "end_time": "2024-08-31T05:55:31.898666",
     "exception": false,
     "start_time": "2024-08-31T05:55:31.801607",
     "status": "completed"
    },
    "tags": []
   },
   "outputs": [
    {
     "data": {
      "text/html": [
       "<div>\n",
       "<style scoped>\n",
       "    .dataframe tbody tr th:only-of-type {\n",
       "        vertical-align: middle;\n",
       "    }\n",
       "\n",
       "    .dataframe tbody tr th {\n",
       "        vertical-align: top;\n",
       "    }\n",
       "\n",
       "    .dataframe thead th {\n",
       "        text-align: right;\n",
       "    }\n",
       "</style>\n",
       "<table border=\"1\" class=\"dataframe\">\n",
       "  <thead>\n",
       "    <tr style=\"text-align: right;\">\n",
       "      <th></th>\n",
       "      <th>A</th>\n",
       "      <th>B</th>\n",
       "      <th>C</th>\n",
       "      <th>D</th>\n",
       "    </tr>\n",
       "  </thead>\n",
       "  <tbody>\n",
       "    <tr>\n",
       "      <th>0</th>\n",
       "      <td>A0</td>\n",
       "      <td>B0</td>\n",
       "      <td>C0</td>\n",
       "      <td>D0</td>\n",
       "    </tr>\n",
       "    <tr>\n",
       "      <th>1</th>\n",
       "      <td>A1</td>\n",
       "      <td>B1</td>\n",
       "      <td>C1</td>\n",
       "      <td>D1</td>\n",
       "    </tr>\n",
       "    <tr>\n",
       "      <th>2</th>\n",
       "      <td>A2</td>\n",
       "      <td>B2</td>\n",
       "      <td>C2</td>\n",
       "      <td>D2</td>\n",
       "    </tr>\n",
       "    <tr>\n",
       "      <th>3</th>\n",
       "      <td>A3</td>\n",
       "      <td>B3</td>\n",
       "      <td>C3</td>\n",
       "      <td>D3</td>\n",
       "    </tr>\n",
       "    <tr>\n",
       "      <th>0</th>\n",
       "      <td>A4</td>\n",
       "      <td>B4</td>\n",
       "      <td>C4</td>\n",
       "      <td>D4</td>\n",
       "    </tr>\n",
       "    <tr>\n",
       "      <th>1</th>\n",
       "      <td>A5</td>\n",
       "      <td>B5</td>\n",
       "      <td>C5</td>\n",
       "      <td>D5</td>\n",
       "    </tr>\n",
       "    <tr>\n",
       "      <th>2</th>\n",
       "      <td>A6</td>\n",
       "      <td>B6</td>\n",
       "      <td>C6</td>\n",
       "      <td>D6</td>\n",
       "    </tr>\n",
       "    <tr>\n",
       "      <th>3</th>\n",
       "      <td>A7</td>\n",
       "      <td>B7</td>\n",
       "      <td>C7</td>\n",
       "      <td>D7</td>\n",
       "    </tr>\n",
       "  </tbody>\n",
       "</table>\n",
       "</div>"
      ],
      "text/plain": [
       "    A   B   C   D\n",
       "0  A0  B0  C0  D0\n",
       "1  A1  B1  C1  D1\n",
       "2  A2  B2  C2  D2\n",
       "3  A3  B3  C3  D3\n",
       "0  A4  B4  C4  D4\n",
       "1  A5  B5  C5  D5\n",
       "2  A6  B6  C6  D6\n",
       "3  A7  B7  C7  D7"
      ]
     },
     "execution_count": 60,
     "metadata": {},
     "output_type": "execute_result"
    }
   ],
   "source": [
    "df1 = pd.DataFrame({\n",
    "    'A': ['A0', 'A1', 'A2', 'A3'],\n",
    "    'B': ['B0', 'B1', 'B2', 'B3'],\n",
    "    'C': ['C0', 'C1', 'C2', 'C3'],\n",
    "    'D': ['D0', 'D1', 'D2', 'D3']\n",
    "})\n",
    "\n",
    "df2 = pd.DataFrame({\n",
    "    'A': ['A4', 'A5', 'A6', 'A7'],\n",
    "    'B': ['B4', 'B5', 'B6', 'B7'],\n",
    "    'C': ['C4', 'C5', 'C6', 'C7'],\n",
    "    'D': ['D4', 'D5', 'D6', 'D7']\n",
    "})\n",
    "\n",
    "concatenated = pd.concat([df1, df2])\n",
    "concatenated"
   ]
  },
  {
   "cell_type": "code",
   "execution_count": 61,
   "id": "b4293d64",
   "metadata": {
    "execution": {
     "iopub.execute_input": "2024-08-31T05:55:32.054563Z",
     "iopub.status.busy": "2024-08-31T05:55:32.054138Z",
     "iopub.status.idle": "2024-08-31T05:55:32.067965Z",
     "shell.execute_reply": "2024-08-31T05:55:32.066817Z"
    },
    "papermill": {
     "duration": 0.095277,
     "end_time": "2024-08-31T05:55:32.070728",
     "exception": false,
     "start_time": "2024-08-31T05:55:31.975451",
     "status": "completed"
    },
    "tags": []
   },
   "outputs": [
    {
     "data": {
      "text/html": [
       "<div>\n",
       "<style scoped>\n",
       "    .dataframe tbody tr th:only-of-type {\n",
       "        vertical-align: middle;\n",
       "    }\n",
       "\n",
       "    .dataframe tbody tr th {\n",
       "        vertical-align: top;\n",
       "    }\n",
       "\n",
       "    .dataframe thead th {\n",
       "        text-align: right;\n",
       "    }\n",
       "</style>\n",
       "<table border=\"1\" class=\"dataframe\">\n",
       "  <thead>\n",
       "    <tr style=\"text-align: right;\">\n",
       "      <th></th>\n",
       "      <th>A</th>\n",
       "      <th>B</th>\n",
       "      <th>C</th>\n",
       "      <th>D</th>\n",
       "    </tr>\n",
       "  </thead>\n",
       "  <tbody>\n",
       "    <tr>\n",
       "      <th>0</th>\n",
       "      <td>A0</td>\n",
       "      <td>B0</td>\n",
       "      <td>C0</td>\n",
       "      <td>D0</td>\n",
       "    </tr>\n",
       "    <tr>\n",
       "      <th>1</th>\n",
       "      <td>A1</td>\n",
       "      <td>B1</td>\n",
       "      <td>C1</td>\n",
       "      <td>D1</td>\n",
       "    </tr>\n",
       "    <tr>\n",
       "      <th>2</th>\n",
       "      <td>A2</td>\n",
       "      <td>B2</td>\n",
       "      <td>C2</td>\n",
       "      <td>D2</td>\n",
       "    </tr>\n",
       "    <tr>\n",
       "      <th>3</th>\n",
       "      <td>A3</td>\n",
       "      <td>B3</td>\n",
       "      <td>C3</td>\n",
       "      <td>D3</td>\n",
       "    </tr>\n",
       "    <tr>\n",
       "      <th>4</th>\n",
       "      <td>A4</td>\n",
       "      <td>B4</td>\n",
       "      <td>C4</td>\n",
       "      <td>D4</td>\n",
       "    </tr>\n",
       "    <tr>\n",
       "      <th>5</th>\n",
       "      <td>A5</td>\n",
       "      <td>B5</td>\n",
       "      <td>C5</td>\n",
       "      <td>D5</td>\n",
       "    </tr>\n",
       "    <tr>\n",
       "      <th>6</th>\n",
       "      <td>A6</td>\n",
       "      <td>B6</td>\n",
       "      <td>C6</td>\n",
       "      <td>D6</td>\n",
       "    </tr>\n",
       "    <tr>\n",
       "      <th>7</th>\n",
       "      <td>A7</td>\n",
       "      <td>B7</td>\n",
       "      <td>C7</td>\n",
       "      <td>D7</td>\n",
       "    </tr>\n",
       "  </tbody>\n",
       "</table>\n",
       "</div>"
      ],
      "text/plain": [
       "    A   B   C   D\n",
       "0  A0  B0  C0  D0\n",
       "1  A1  B1  C1  D1\n",
       "2  A2  B2  C2  D2\n",
       "3  A3  B3  C3  D3\n",
       "4  A4  B4  C4  D4\n",
       "5  A5  B5  C5  D5\n",
       "6  A6  B6  C6  D6\n",
       "7  A7  B7  C7  D7"
      ]
     },
     "execution_count": 61,
     "metadata": {},
     "output_type": "execute_result"
    }
   ],
   "source": [
    "df_row_reindex = pd.concat([df1,df2], ignore_index=True)\n",
    "df_row_reindex"
   ]
  },
  {
   "cell_type": "code",
   "execution_count": 62,
   "id": "c6eaca76",
   "metadata": {
    "execution": {
     "iopub.execute_input": "2024-08-31T05:55:32.225630Z",
     "iopub.status.busy": "2024-08-31T05:55:32.225177Z",
     "iopub.status.idle": "2024-08-31T05:55:32.241576Z",
     "shell.execute_reply": "2024-08-31T05:55:32.240427Z"
    },
    "papermill": {
     "duration": 0.096456,
     "end_time": "2024-08-31T05:55:32.244116",
     "exception": false,
     "start_time": "2024-08-31T05:55:32.147660",
     "status": "completed"
    },
    "tags": []
   },
   "outputs": [
    {
     "data": {
      "text/html": [
       "<div>\n",
       "<style scoped>\n",
       "    .dataframe tbody tr th:only-of-type {\n",
       "        vertical-align: middle;\n",
       "    }\n",
       "\n",
       "    .dataframe tbody tr th {\n",
       "        vertical-align: top;\n",
       "    }\n",
       "\n",
       "    .dataframe thead th {\n",
       "        text-align: right;\n",
       "    }\n",
       "</style>\n",
       "<table border=\"1\" class=\"dataframe\">\n",
       "  <thead>\n",
       "    <tr style=\"text-align: right;\">\n",
       "      <th></th>\n",
       "      <th>A</th>\n",
       "      <th>B</th>\n",
       "      <th>C</th>\n",
       "      <th>D</th>\n",
       "      <th>A</th>\n",
       "      <th>B</th>\n",
       "      <th>C</th>\n",
       "      <th>D</th>\n",
       "    </tr>\n",
       "  </thead>\n",
       "  <tbody>\n",
       "    <tr>\n",
       "      <th>0</th>\n",
       "      <td>A0</td>\n",
       "      <td>B0</td>\n",
       "      <td>C0</td>\n",
       "      <td>D0</td>\n",
       "      <td>A4</td>\n",
       "      <td>B4</td>\n",
       "      <td>C4</td>\n",
       "      <td>D4</td>\n",
       "    </tr>\n",
       "    <tr>\n",
       "      <th>1</th>\n",
       "      <td>A1</td>\n",
       "      <td>B1</td>\n",
       "      <td>C1</td>\n",
       "      <td>D1</td>\n",
       "      <td>A5</td>\n",
       "      <td>B5</td>\n",
       "      <td>C5</td>\n",
       "      <td>D5</td>\n",
       "    </tr>\n",
       "    <tr>\n",
       "      <th>2</th>\n",
       "      <td>A2</td>\n",
       "      <td>B2</td>\n",
       "      <td>C2</td>\n",
       "      <td>D2</td>\n",
       "      <td>A6</td>\n",
       "      <td>B6</td>\n",
       "      <td>C6</td>\n",
       "      <td>D6</td>\n",
       "    </tr>\n",
       "    <tr>\n",
       "      <th>3</th>\n",
       "      <td>A3</td>\n",
       "      <td>B3</td>\n",
       "      <td>C3</td>\n",
       "      <td>D3</td>\n",
       "      <td>A7</td>\n",
       "      <td>B7</td>\n",
       "      <td>C7</td>\n",
       "      <td>D7</td>\n",
       "    </tr>\n",
       "  </tbody>\n",
       "</table>\n",
       "</div>"
      ],
      "text/plain": [
       "    A   B   C   D   A   B   C   D\n",
       "0  A0  B0  C0  D0  A4  B4  C4  D4\n",
       "1  A1  B1  C1  D1  A5  B5  C5  D5\n",
       "2  A2  B2  C2  D2  A6  B6  C6  D6\n",
       "3  A3  B3  C3  D3  A7  B7  C7  D7"
      ]
     },
     "execution_count": 62,
     "metadata": {},
     "output_type": "execute_result"
    }
   ],
   "source": [
    "df_concat_along_column = pd.concat([df1,df2], axis=1)\n",
    "df_concat_along_column"
   ]
  },
  {
   "cell_type": "markdown",
   "id": "97f80347",
   "metadata": {
    "papermill": {
     "duration": 0.080599,
     "end_time": "2024-08-31T05:55:32.402343",
     "exception": false,
     "start_time": "2024-08-31T05:55:32.321744",
     "status": "completed"
    },
    "tags": []
   },
   "source": [
    "### Join with Merge"
   ]
  },
  {
   "cell_type": "code",
   "execution_count": 63,
   "id": "4fe0e02f",
   "metadata": {
    "execution": {
     "iopub.execute_input": "2024-08-31T05:55:32.564868Z",
     "iopub.status.busy": "2024-08-31T05:55:32.564410Z",
     "iopub.status.idle": "2024-08-31T05:55:32.582665Z",
     "shell.execute_reply": "2024-08-31T05:55:32.581476Z"
    },
    "papermill": {
     "duration": 0.101181,
     "end_time": "2024-08-31T05:55:32.585594",
     "exception": false,
     "start_time": "2024-08-31T05:55:32.484413",
     "status": "completed"
    },
    "tags": []
   },
   "outputs": [
    {
     "data": {
      "text/html": [
       "<div>\n",
       "<style scoped>\n",
       "    .dataframe tbody tr th:only-of-type {\n",
       "        vertical-align: middle;\n",
       "    }\n",
       "\n",
       "    .dataframe tbody tr th {\n",
       "        vertical-align: top;\n",
       "    }\n",
       "\n",
       "    .dataframe thead th {\n",
       "        text-align: right;\n",
       "    }\n",
       "</style>\n",
       "<table border=\"1\" class=\"dataframe\">\n",
       "  <thead>\n",
       "    <tr style=\"text-align: right;\">\n",
       "      <th></th>\n",
       "      <th>key</th>\n",
       "      <th>A</th>\n",
       "      <th>B</th>\n",
       "      <th>C</th>\n",
       "      <th>D</th>\n",
       "    </tr>\n",
       "  </thead>\n",
       "  <tbody>\n",
       "    <tr>\n",
       "      <th>0</th>\n",
       "      <td>K0</td>\n",
       "      <td>A0</td>\n",
       "      <td>B0</td>\n",
       "      <td>C0</td>\n",
       "      <td>D0</td>\n",
       "    </tr>\n",
       "    <tr>\n",
       "      <th>1</th>\n",
       "      <td>K1</td>\n",
       "      <td>A1</td>\n",
       "      <td>B1</td>\n",
       "      <td>C1</td>\n",
       "      <td>D1</td>\n",
       "    </tr>\n",
       "    <tr>\n",
       "      <th>2</th>\n",
       "      <td>K2</td>\n",
       "      <td>A2</td>\n",
       "      <td>B2</td>\n",
       "      <td>C2</td>\n",
       "      <td>D2</td>\n",
       "    </tr>\n",
       "    <tr>\n",
       "      <th>3</th>\n",
       "      <td>K3</td>\n",
       "      <td>A3</td>\n",
       "      <td>B3</td>\n",
       "      <td>C3</td>\n",
       "      <td>D3</td>\n",
       "    </tr>\n",
       "  </tbody>\n",
       "</table>\n",
       "</div>"
      ],
      "text/plain": [
       "  key   A   B   C   D\n",
       "0  K0  A0  B0  C0  D0\n",
       "1  K1  A1  B1  C1  D1\n",
       "2  K2  A2  B2  C2  D2\n",
       "3  K3  A3  B3  C3  D3"
      ]
     },
     "execution_count": 63,
     "metadata": {},
     "output_type": "execute_result"
    }
   ],
   "source": [
    "df_left = pd.DataFrame({\n",
    "    'key': ['K0', 'K1', 'K2', 'K3'],\n",
    "    'A': ['A0', 'A1', 'A2', 'A3'],\n",
    "    'B': ['B0', 'B1', 'B2', 'B3']\n",
    "})\n",
    "\n",
    "df_right = pd.DataFrame({\n",
    "    'key': ['K0', 'K1', 'K2', 'K3'],\n",
    "    'C': ['C0', 'C1', 'C2', 'C3'],\n",
    "    'D': ['D0', 'D1', 'D2', 'D3']\n",
    "})\n",
    "\n",
    "merged = df_left.merge(df_right, on='key')\n",
    "merged"
   ]
  },
  {
   "cell_type": "code",
   "execution_count": 64,
   "id": "d6d4d737",
   "metadata": {
    "execution": {
     "iopub.execute_input": "2024-08-31T05:55:32.743518Z",
     "iopub.status.busy": "2024-08-31T05:55:32.742376Z",
     "iopub.status.idle": "2024-08-31T05:55:32.757954Z",
     "shell.execute_reply": "2024-08-31T05:55:32.756596Z"
    },
    "papermill": {
     "duration": 0.097883,
     "end_time": "2024-08-31T05:55:32.760831",
     "exception": false,
     "start_time": "2024-08-31T05:55:32.662948",
     "status": "completed"
    },
    "tags": []
   },
   "outputs": [
    {
     "data": {
      "text/html": [
       "<div>\n",
       "<style scoped>\n",
       "    .dataframe tbody tr th:only-of-type {\n",
       "        vertical-align: middle;\n",
       "    }\n",
       "\n",
       "    .dataframe tbody tr th {\n",
       "        vertical-align: top;\n",
       "    }\n",
       "\n",
       "    .dataframe thead th {\n",
       "        text-align: right;\n",
       "    }\n",
       "</style>\n",
       "<table border=\"1\" class=\"dataframe\">\n",
       "  <thead>\n",
       "    <tr style=\"text-align: right;\">\n",
       "      <th></th>\n",
       "      <th>key</th>\n",
       "      <th>A</th>\n",
       "      <th>B</th>\n",
       "      <th>C</th>\n",
       "      <th>D</th>\n",
       "    </tr>\n",
       "  </thead>\n",
       "  <tbody>\n",
       "    <tr>\n",
       "      <th>0</th>\n",
       "      <td>K0</td>\n",
       "      <td>A0</td>\n",
       "      <td>B0</td>\n",
       "      <td>C0</td>\n",
       "      <td>D0</td>\n",
       "    </tr>\n",
       "    <tr>\n",
       "      <th>1</th>\n",
       "      <td>K1</td>\n",
       "      <td>A1</td>\n",
       "      <td>B1</td>\n",
       "      <td>C1</td>\n",
       "      <td>D1</td>\n",
       "    </tr>\n",
       "    <tr>\n",
       "      <th>2</th>\n",
       "      <td>K2</td>\n",
       "      <td>A2</td>\n",
       "      <td>B2</td>\n",
       "      <td>C2</td>\n",
       "      <td>D2</td>\n",
       "    </tr>\n",
       "    <tr>\n",
       "      <th>3</th>\n",
       "      <td>K3</td>\n",
       "      <td>A3</td>\n",
       "      <td>B3</td>\n",
       "      <td>C3</td>\n",
       "      <td>D3</td>\n",
       "    </tr>\n",
       "  </tbody>\n",
       "</table>\n",
       "</div>"
      ],
      "text/plain": [
       "  key   A   B   C   D\n",
       "0  K0  A0  B0  C0  D0\n",
       "1  K1  A1  B1  C1  D1\n",
       "2  K2  A2  B2  C2  D2\n",
       "3  K3  A3  B3  C3  D3"
      ]
     },
     "execution_count": 64,
     "metadata": {},
     "output_type": "execute_result"
    }
   ],
   "source": [
    "merged_suffix = df_left.merge(df_right, on='key', suffixes=('_left', '_right'))\n",
    "merged_suffix"
   ]
  },
  {
   "cell_type": "code",
   "execution_count": 65,
   "id": "3e55e0fe",
   "metadata": {
    "execution": {
     "iopub.execute_input": "2024-08-31T05:55:32.922732Z",
     "iopub.status.busy": "2024-08-31T05:55:32.921564Z",
     "iopub.status.idle": "2024-08-31T05:55:32.943376Z",
     "shell.execute_reply": "2024-08-31T05:55:32.942196Z"
    },
    "papermill": {
     "duration": 0.105953,
     "end_time": "2024-08-31T05:55:32.946289",
     "exception": false,
     "start_time": "2024-08-31T05:55:32.840336",
     "status": "completed"
    },
    "tags": []
   },
   "outputs": [
    {
     "data": {
      "text/html": [
       "<div>\n",
       "<style scoped>\n",
       "    .dataframe tbody tr th:only-of-type {\n",
       "        vertical-align: middle;\n",
       "    }\n",
       "\n",
       "    .dataframe tbody tr th {\n",
       "        vertical-align: top;\n",
       "    }\n",
       "\n",
       "    .dataframe thead th {\n",
       "        text-align: right;\n",
       "    }\n",
       "</style>\n",
       "<table border=\"1\" class=\"dataframe\">\n",
       "  <thead>\n",
       "    <tr style=\"text-align: right;\">\n",
       "      <th></th>\n",
       "      <th>A</th>\n",
       "      <th>B</th>\n",
       "      <th>C</th>\n",
       "      <th>D</th>\n",
       "    </tr>\n",
       "  </thead>\n",
       "  <tbody>\n",
       "    <tr>\n",
       "      <th>K0</th>\n",
       "      <td>A0</td>\n",
       "      <td>B0</td>\n",
       "      <td>C0</td>\n",
       "      <td>D0</td>\n",
       "    </tr>\n",
       "    <tr>\n",
       "      <th>K2</th>\n",
       "      <td>A2</td>\n",
       "      <td>B2</td>\n",
       "      <td>C1</td>\n",
       "      <td>D1</td>\n",
       "    </tr>\n",
       "  </tbody>\n",
       "</table>\n",
       "</div>"
      ],
      "text/plain": [
       "     A   B   C   D\n",
       "K0  A0  B0  C0  D0\n",
       "K2  A2  B2  C1  D1"
      ]
     },
     "execution_count": 65,
     "metadata": {},
     "output_type": "execute_result"
    }
   ],
   "source": [
    "df_left_join = pd.DataFrame({\n",
    "    'A': ['A0', 'A1', 'A2'],\n",
    "    'B': ['B0', 'B1', 'B2']\n",
    "}, index=['K0', 'K1', 'K2'])\n",
    "\n",
    "df_right_join = pd.DataFrame({\n",
    "    'C': ['C0', 'C1', 'C2'],\n",
    "    'D': ['D0', 'D1', 'D2']\n",
    "}, index=['K0', 'K2', 'K3'])\n",
    "\n",
    "merged_index = df_left_join.merge(df_right_join, left_index=True, right_index=True, suffixes=('_left','_right'))\n",
    "merged_index"
   ]
  },
  {
   "cell_type": "markdown",
   "id": "7b14d702",
   "metadata": {
    "papermill": {
     "duration": 0.078439,
     "end_time": "2024-08-31T05:55:33.104133",
     "exception": false,
     "start_time": "2024-08-31T05:55:33.025694",
     "status": "completed"
    },
    "tags": []
   },
   "source": [
    "### Join with Join"
   ]
  },
  {
   "cell_type": "code",
   "execution_count": 66,
   "id": "69c79853",
   "metadata": {
    "execution": {
     "iopub.execute_input": "2024-08-31T05:55:33.264490Z",
     "iopub.status.busy": "2024-08-31T05:55:33.263372Z",
     "iopub.status.idle": "2024-08-31T05:55:33.280662Z",
     "shell.execute_reply": "2024-08-31T05:55:33.279427Z"
    },
    "papermill": {
     "duration": 0.100237,
     "end_time": "2024-08-31T05:55:33.283275",
     "exception": false,
     "start_time": "2024-08-31T05:55:33.183038",
     "status": "completed"
    },
    "tags": []
   },
   "outputs": [
    {
     "data": {
      "text/html": [
       "<div>\n",
       "<style scoped>\n",
       "    .dataframe tbody tr th:only-of-type {\n",
       "        vertical-align: middle;\n",
       "    }\n",
       "\n",
       "    .dataframe tbody tr th {\n",
       "        vertical-align: top;\n",
       "    }\n",
       "\n",
       "    .dataframe thead th {\n",
       "        text-align: right;\n",
       "    }\n",
       "</style>\n",
       "<table border=\"1\" class=\"dataframe\">\n",
       "  <thead>\n",
       "    <tr style=\"text-align: right;\">\n",
       "      <th></th>\n",
       "      <th>A</th>\n",
       "      <th>B</th>\n",
       "      <th>C</th>\n",
       "      <th>D</th>\n",
       "    </tr>\n",
       "  </thead>\n",
       "  <tbody>\n",
       "    <tr>\n",
       "      <th>K0</th>\n",
       "      <td>A0</td>\n",
       "      <td>B0</td>\n",
       "      <td>C0</td>\n",
       "      <td>D0</td>\n",
       "    </tr>\n",
       "    <tr>\n",
       "      <th>K1</th>\n",
       "      <td>A1</td>\n",
       "      <td>B1</td>\n",
       "      <td>NaN</td>\n",
       "      <td>NaN</td>\n",
       "    </tr>\n",
       "    <tr>\n",
       "      <th>K2</th>\n",
       "      <td>A2</td>\n",
       "      <td>B2</td>\n",
       "      <td>C1</td>\n",
       "      <td>D1</td>\n",
       "    </tr>\n",
       "    <tr>\n",
       "      <th>K3</th>\n",
       "      <td>NaN</td>\n",
       "      <td>NaN</td>\n",
       "      <td>C2</td>\n",
       "      <td>D2</td>\n",
       "    </tr>\n",
       "  </tbody>\n",
       "</table>\n",
       "</div>"
      ],
      "text/plain": [
       "      A    B    C    D\n",
       "K0   A0   B0   C0   D0\n",
       "K1   A1   B1  NaN  NaN\n",
       "K2   A2   B2   C1   D1\n",
       "K3  NaN  NaN   C2   D2"
      ]
     },
     "execution_count": 66,
     "metadata": {},
     "output_type": "execute_result"
    }
   ],
   "source": [
    "df_left_join = pd.DataFrame({\n",
    "    'A': ['A0', 'A1', 'A2'],\n",
    "    'B': ['B0', 'B1', 'B2']\n",
    "}, index=['K0', 'K1', 'K2'])\n",
    "\n",
    "df_right_join = pd.DataFrame({\n",
    "    'C': ['C0', 'C1', 'C2'],\n",
    "    'D': ['D0', 'D1', 'D2']\n",
    "}, index=['K0', 'K2', 'K3'])\n",
    "\n",
    "joined = df_left_join.join(df_right_join, how='outer')\n",
    "joined"
   ]
  },
  {
   "cell_type": "markdown",
   "id": "ac10532b",
   "metadata": {
    "papermill": {
     "duration": 0.080474,
     "end_time": "2024-08-31T05:55:33.443880",
     "exception": false,
     "start_time": "2024-08-31T05:55:33.363406",
     "status": "completed"
    },
    "tags": []
   },
   "source": [
    "## Sorting"
   ]
  },
  {
   "cell_type": "markdown",
   "id": "11b6c7f8",
   "metadata": {
    "papermill": {
     "duration": 0.082508,
     "end_time": "2024-08-31T05:55:33.607131",
     "exception": false,
     "start_time": "2024-08-31T05:55:33.524623",
     "status": "completed"
    },
    "tags": []
   },
   "source": [
    "### With sort_index()"
   ]
  },
  {
   "cell_type": "code",
   "execution_count": 67,
   "id": "a780388e",
   "metadata": {
    "execution": {
     "iopub.execute_input": "2024-08-31T05:55:33.768295Z",
     "iopub.status.busy": "2024-08-31T05:55:33.767865Z",
     "iopub.status.idle": "2024-08-31T05:55:33.782328Z",
     "shell.execute_reply": "2024-08-31T05:55:33.781254Z"
    },
    "papermill": {
     "duration": 0.097453,
     "end_time": "2024-08-31T05:55:33.784808",
     "exception": false,
     "start_time": "2024-08-31T05:55:33.687355",
     "status": "completed"
    },
    "tags": []
   },
   "outputs": [
    {
     "data": {
      "text/html": [
       "<div>\n",
       "<style scoped>\n",
       "    .dataframe tbody tr th:only-of-type {\n",
       "        vertical-align: middle;\n",
       "    }\n",
       "\n",
       "    .dataframe tbody tr th {\n",
       "        vertical-align: top;\n",
       "    }\n",
       "\n",
       "    .dataframe thead th {\n",
       "        text-align: right;\n",
       "    }\n",
       "</style>\n",
       "<table border=\"1\" class=\"dataframe\">\n",
       "  <thead>\n",
       "    <tr style=\"text-align: right;\">\n",
       "      <th></th>\n",
       "      <th>A</th>\n",
       "      <th>B</th>\n",
       "      <th>C</th>\n",
       "    </tr>\n",
       "  </thead>\n",
       "  <tbody>\n",
       "    <tr>\n",
       "      <th>K0</th>\n",
       "      <td>1</td>\n",
       "      <td>11</td>\n",
       "      <td>C1</td>\n",
       "    </tr>\n",
       "    <tr>\n",
       "      <th>K1</th>\n",
       "      <td>2</td>\n",
       "      <td>22</td>\n",
       "      <td>C2</td>\n",
       "    </tr>\n",
       "    <tr>\n",
       "      <th>K2</th>\n",
       "      <td>3</td>\n",
       "      <td>33</td>\n",
       "      <td>C3</td>\n",
       "    </tr>\n",
       "  </tbody>\n",
       "</table>\n",
       "</div>"
      ],
      "text/plain": [
       "    A   B   C\n",
       "K0  1  11  C1\n",
       "K1  2  22  C2\n",
       "K2  3  33  C3"
      ]
     },
     "execution_count": 67,
     "metadata": {},
     "output_type": "execute_result"
    }
   ],
   "source": [
    "df_unsorted_index = pd.DataFrame({\n",
    "    'A': [3, 1, 2],\n",
    "    'B': [33, 11, 22],\n",
    "    'C': ['C3', 'C1', 'C2']\n",
    "}, index=['K2', 'K0', 'K1'])\n",
    "df_unsorted_index\n",
    "\n",
    "df_sorted_index = df_unsorted_index.sort_index()\n",
    "df_sorted_index"
   ]
  },
  {
   "cell_type": "markdown",
   "id": "ab7a9040",
   "metadata": {
    "papermill": {
     "duration": 0.077299,
     "end_time": "2024-08-31T05:55:33.940654",
     "exception": false,
     "start_time": "2024-08-31T05:55:33.863355",
     "status": "completed"
    },
    "tags": []
   },
   "source": [
    "### Sort by Single Column"
   ]
  },
  {
   "cell_type": "code",
   "execution_count": 68,
   "id": "2530821a",
   "metadata": {
    "execution": {
     "iopub.execute_input": "2024-08-31T05:55:34.100365Z",
     "iopub.status.busy": "2024-08-31T05:55:34.099960Z",
     "iopub.status.idle": "2024-08-31T05:55:34.113712Z",
     "shell.execute_reply": "2024-08-31T05:55:34.112617Z"
    },
    "papermill": {
     "duration": 0.096143,
     "end_time": "2024-08-31T05:55:34.116284",
     "exception": false,
     "start_time": "2024-08-31T05:55:34.020141",
     "status": "completed"
    },
    "tags": []
   },
   "outputs": [
    {
     "data": {
      "text/html": [
       "<div>\n",
       "<style scoped>\n",
       "    .dataframe tbody tr th:only-of-type {\n",
       "        vertical-align: middle;\n",
       "    }\n",
       "\n",
       "    .dataframe tbody tr th {\n",
       "        vertical-align: top;\n",
       "    }\n",
       "\n",
       "    .dataframe thead th {\n",
       "        text-align: right;\n",
       "    }\n",
       "</style>\n",
       "<table border=\"1\" class=\"dataframe\">\n",
       "  <thead>\n",
       "    <tr style=\"text-align: right;\">\n",
       "      <th></th>\n",
       "      <th>A</th>\n",
       "      <th>B</th>\n",
       "      <th>C</th>\n",
       "    </tr>\n",
       "  </thead>\n",
       "  <tbody>\n",
       "    <tr>\n",
       "      <th>K0</th>\n",
       "      <td>1</td>\n",
       "      <td>11</td>\n",
       "      <td>C1</td>\n",
       "    </tr>\n",
       "    <tr>\n",
       "      <th>K1</th>\n",
       "      <td>2</td>\n",
       "      <td>22</td>\n",
       "      <td>C2</td>\n",
       "    </tr>\n",
       "    <tr>\n",
       "      <th>K2</th>\n",
       "      <td>3</td>\n",
       "      <td>33</td>\n",
       "      <td>C3</td>\n",
       "    </tr>\n",
       "  </tbody>\n",
       "</table>\n",
       "</div>"
      ],
      "text/plain": [
       "    A   B   C\n",
       "K0  1  11  C1\n",
       "K1  2  22  C2\n",
       "K2  3  33  C3"
      ]
     },
     "execution_count": 68,
     "metadata": {},
     "output_type": "execute_result"
    }
   ],
   "source": [
    "df_sorted_values = df_unsorted_index.sort_values(by='A')\n",
    "df_sorted_values"
   ]
  },
  {
   "cell_type": "markdown",
   "id": "743b67fa",
   "metadata": {
    "papermill": {
     "duration": 0.080179,
     "end_time": "2024-08-31T05:55:34.276122",
     "exception": false,
     "start_time": "2024-08-31T05:55:34.195943",
     "status": "completed"
    },
    "tags": []
   },
   "source": [
    "### Sort by Multiple Column"
   ]
  },
  {
   "cell_type": "code",
   "execution_count": 69,
   "id": "09b5b5dc",
   "metadata": {
    "execution": {
     "iopub.execute_input": "2024-08-31T05:55:34.438733Z",
     "iopub.status.busy": "2024-08-31T05:55:34.438285Z",
     "iopub.status.idle": "2024-08-31T05:55:34.451219Z",
     "shell.execute_reply": "2024-08-31T05:55:34.449948Z"
    },
    "papermill": {
     "duration": 0.098434,
     "end_time": "2024-08-31T05:55:34.454053",
     "exception": false,
     "start_time": "2024-08-31T05:55:34.355619",
     "status": "completed"
    },
    "tags": []
   },
   "outputs": [
    {
     "data": {
      "text/html": [
       "<div>\n",
       "<style scoped>\n",
       "    .dataframe tbody tr th:only-of-type {\n",
       "        vertical-align: middle;\n",
       "    }\n",
       "\n",
       "    .dataframe tbody tr th {\n",
       "        vertical-align: top;\n",
       "    }\n",
       "\n",
       "    .dataframe thead th {\n",
       "        text-align: right;\n",
       "    }\n",
       "</style>\n",
       "<table border=\"1\" class=\"dataframe\">\n",
       "  <thead>\n",
       "    <tr style=\"text-align: right;\">\n",
       "      <th></th>\n",
       "      <th>A</th>\n",
       "      <th>B</th>\n",
       "      <th>C</th>\n",
       "    </tr>\n",
       "  </thead>\n",
       "  <tbody>\n",
       "    <tr>\n",
       "      <th>K0</th>\n",
       "      <td>1</td>\n",
       "      <td>11</td>\n",
       "      <td>C1</td>\n",
       "    </tr>\n",
       "    <tr>\n",
       "      <th>K1</th>\n",
       "      <td>2</td>\n",
       "      <td>22</td>\n",
       "      <td>C2</td>\n",
       "    </tr>\n",
       "    <tr>\n",
       "      <th>K2</th>\n",
       "      <td>3</td>\n",
       "      <td>33</td>\n",
       "      <td>C3</td>\n",
       "    </tr>\n",
       "  </tbody>\n",
       "</table>\n",
       "</div>"
      ],
      "text/plain": [
       "    A   B   C\n",
       "K0  1  11  C1\n",
       "K1  2  22  C2\n",
       "K2  3  33  C3"
      ]
     },
     "execution_count": 69,
     "metadata": {},
     "output_type": "execute_result"
    }
   ],
   "source": [
    "df_sorted_multi_values = df_unsorted_index.sort_values(by=['A','B'])\n",
    "df_sorted_multi_values"
   ]
  },
  {
   "cell_type": "markdown",
   "id": "afc28d4c",
   "metadata": {
    "papermill": {
     "duration": 0.078378,
     "end_time": "2024-08-31T05:55:34.615148",
     "exception": false,
     "start_time": "2024-08-31T05:55:34.536770",
     "status": "completed"
    },
    "tags": []
   },
   "source": [
    "### Reverse Sort"
   ]
  },
  {
   "cell_type": "code",
   "execution_count": 70,
   "id": "e6785b2c",
   "metadata": {
    "execution": {
     "iopub.execute_input": "2024-08-31T05:55:34.774425Z",
     "iopub.status.busy": "2024-08-31T05:55:34.774024Z",
     "iopub.status.idle": "2024-08-31T05:55:34.785954Z",
     "shell.execute_reply": "2024-08-31T05:55:34.784620Z"
    },
    "papermill": {
     "duration": 0.094405,
     "end_time": "2024-08-31T05:55:34.788576",
     "exception": false,
     "start_time": "2024-08-31T05:55:34.694171",
     "status": "completed"
    },
    "tags": []
   },
   "outputs": [
    {
     "data": {
      "text/html": [
       "<div>\n",
       "<style scoped>\n",
       "    .dataframe tbody tr th:only-of-type {\n",
       "        vertical-align: middle;\n",
       "    }\n",
       "\n",
       "    .dataframe tbody tr th {\n",
       "        vertical-align: top;\n",
       "    }\n",
       "\n",
       "    .dataframe thead th {\n",
       "        text-align: right;\n",
       "    }\n",
       "</style>\n",
       "<table border=\"1\" class=\"dataframe\">\n",
       "  <thead>\n",
       "    <tr style=\"text-align: right;\">\n",
       "      <th></th>\n",
       "      <th>A</th>\n",
       "      <th>B</th>\n",
       "      <th>C</th>\n",
       "    </tr>\n",
       "  </thead>\n",
       "  <tbody>\n",
       "    <tr>\n",
       "      <th>K2</th>\n",
       "      <td>3</td>\n",
       "      <td>33</td>\n",
       "      <td>C3</td>\n",
       "    </tr>\n",
       "    <tr>\n",
       "      <th>K1</th>\n",
       "      <td>2</td>\n",
       "      <td>22</td>\n",
       "      <td>C2</td>\n",
       "    </tr>\n",
       "    <tr>\n",
       "      <th>K0</th>\n",
       "      <td>1</td>\n",
       "      <td>11</td>\n",
       "      <td>C1</td>\n",
       "    </tr>\n",
       "  </tbody>\n",
       "</table>\n",
       "</div>"
      ],
      "text/plain": [
       "    A   B   C\n",
       "K2  3  33  C3\n",
       "K1  2  22  C2\n",
       "K0  1  11  C1"
      ]
     },
     "execution_count": 70,
     "metadata": {},
     "output_type": "execute_result"
    }
   ],
   "source": [
    "df_sorted_descending = df_unsorted_index.sort_values(by='A', ascending=False)\n",
    "df_sorted_descending"
   ]
  },
  {
   "cell_type": "markdown",
   "id": "181f443b",
   "metadata": {
    "papermill": {
     "duration": 0.077892,
     "end_time": "2024-08-31T05:55:34.945399",
     "exception": false,
     "start_time": "2024-08-31T05:55:34.867507",
     "status": "completed"
    },
    "tags": []
   },
   "source": [
    "### Ascending-Descending Depends By Column"
   ]
  },
  {
   "cell_type": "code",
   "execution_count": 71,
   "id": "4541e564",
   "metadata": {
    "execution": {
     "iopub.execute_input": "2024-08-31T05:55:35.105560Z",
     "iopub.status.busy": "2024-08-31T05:55:35.105127Z",
     "iopub.status.idle": "2024-08-31T05:55:35.120641Z",
     "shell.execute_reply": "2024-08-31T05:55:35.119623Z"
    },
    "papermill": {
     "duration": 0.097489,
     "end_time": "2024-08-31T05:55:35.122998",
     "exception": false,
     "start_time": "2024-08-31T05:55:35.025509",
     "status": "completed"
    },
    "tags": []
   },
   "outputs": [
    {
     "data": {
      "text/html": [
       "<div>\n",
       "<style scoped>\n",
       "    .dataframe tbody tr th:only-of-type {\n",
       "        vertical-align: middle;\n",
       "    }\n",
       "\n",
       "    .dataframe tbody tr th {\n",
       "        vertical-align: top;\n",
       "    }\n",
       "\n",
       "    .dataframe thead th {\n",
       "        text-align: right;\n",
       "    }\n",
       "</style>\n",
       "<table border=\"1\" class=\"dataframe\">\n",
       "  <thead>\n",
       "    <tr style=\"text-align: right;\">\n",
       "      <th></th>\n",
       "      <th>Name</th>\n",
       "      <th>Age</th>\n",
       "      <th>Score</th>\n",
       "    </tr>\n",
       "  </thead>\n",
       "  <tbody>\n",
       "    <tr>\n",
       "      <th>1</th>\n",
       "      <td>Bob</td>\n",
       "      <td>25</td>\n",
       "      <td>90</td>\n",
       "    </tr>\n",
       "    <tr>\n",
       "      <th>0</th>\n",
       "      <td>Alice</td>\n",
       "      <td>25</td>\n",
       "      <td>85</td>\n",
       "    </tr>\n",
       "    <tr>\n",
       "      <th>3</th>\n",
       "      <td>David</td>\n",
       "      <td>30</td>\n",
       "      <td>78</td>\n",
       "    </tr>\n",
       "    <tr>\n",
       "      <th>2</th>\n",
       "      <td>Charlie</td>\n",
       "      <td>35</td>\n",
       "      <td>88</td>\n",
       "    </tr>\n",
       "  </tbody>\n",
       "</table>\n",
       "</div>"
      ],
      "text/plain": [
       "      Name  Age  Score\n",
       "1      Bob   25     90\n",
       "0    Alice   25     85\n",
       "3    David   30     78\n",
       "2  Charlie   35     88"
      ]
     },
     "execution_count": 71,
     "metadata": {},
     "output_type": "execute_result"
    }
   ],
   "source": [
    "df_multi_sort = pd.DataFrame({\n",
    "    'Name': ['Alice', 'Bob', 'Charlie', 'David'],\n",
    "    'Age': [25, 25, 35, 30],\n",
    "    'Score': [85, 90, 88, 78]\n",
    "})\n",
    "df_sorted_multi_order = df_multi_sort.sort_values(by=['Age','Score'], ascending=[True,False])\n",
    "df_sorted_multi_order"
   ]
  },
  {
   "cell_type": "markdown",
   "id": "1fa4a35b",
   "metadata": {
    "papermill": {
     "duration": 0.079021,
     "end_time": "2024-08-31T05:55:35.282078",
     "exception": false,
     "start_time": "2024-08-31T05:55:35.203057",
     "status": "completed"
    },
    "tags": []
   },
   "source": [
    "### Sort by MultiIndex"
   ]
  },
  {
   "cell_type": "code",
   "execution_count": 72,
   "id": "0ca6a6d7",
   "metadata": {
    "execution": {
     "iopub.execute_input": "2024-08-31T05:55:35.447143Z",
     "iopub.status.busy": "2024-08-31T05:55:35.445881Z",
     "iopub.status.idle": "2024-08-31T05:55:35.463746Z",
     "shell.execute_reply": "2024-08-31T05:55:35.462463Z"
    },
    "papermill": {
     "duration": 0.104162,
     "end_time": "2024-08-31T05:55:35.466345",
     "exception": false,
     "start_time": "2024-08-31T05:55:35.362183",
     "status": "completed"
    },
    "tags": []
   },
   "outputs": [
    {
     "data": {
      "text/html": [
       "<div>\n",
       "<style scoped>\n",
       "    .dataframe tbody tr th:only-of-type {\n",
       "        vertical-align: middle;\n",
       "    }\n",
       "\n",
       "    .dataframe tbody tr th {\n",
       "        vertical-align: top;\n",
       "    }\n",
       "\n",
       "    .dataframe thead th {\n",
       "        text-align: right;\n",
       "    }\n",
       "</style>\n",
       "<table border=\"1\" class=\"dataframe\">\n",
       "  <thead>\n",
       "    <tr style=\"text-align: right;\">\n",
       "      <th></th>\n",
       "      <th></th>\n",
       "      <th>A</th>\n",
       "      <th>B</th>\n",
       "    </tr>\n",
       "    <tr>\n",
       "      <th>key1</th>\n",
       "      <th>key2</th>\n",
       "      <th></th>\n",
       "      <th></th>\n",
       "    </tr>\n",
       "  </thead>\n",
       "  <tbody>\n",
       "    <tr>\n",
       "      <th rowspan=\"2\" valign=\"top\">K0</th>\n",
       "      <th>L0</th>\n",
       "      <td>1</td>\n",
       "      <td>6</td>\n",
       "    </tr>\n",
       "    <tr>\n",
       "      <th>L1</th>\n",
       "      <td>2</td>\n",
       "      <td>5</td>\n",
       "    </tr>\n",
       "    <tr>\n",
       "      <th>K1</th>\n",
       "      <th>L0</th>\n",
       "      <td>3</td>\n",
       "      <td>4</td>\n",
       "    </tr>\n",
       "    <tr>\n",
       "      <th rowspan=\"2\" valign=\"top\">K2</th>\n",
       "      <th>L0</th>\n",
       "      <td>4</td>\n",
       "      <td>3</td>\n",
       "    </tr>\n",
       "    <tr>\n",
       "      <th>L1</th>\n",
       "      <td>5</td>\n",
       "      <td>2</td>\n",
       "    </tr>\n",
       "    <tr>\n",
       "      <th>K3</th>\n",
       "      <th>L0</th>\n",
       "      <td>6</td>\n",
       "      <td>1</td>\n",
       "    </tr>\n",
       "  </tbody>\n",
       "</table>\n",
       "</div>"
      ],
      "text/plain": [
       "           A  B\n",
       "key1 key2      \n",
       "K0   L0    1  6\n",
       "     L1    2  5\n",
       "K1   L0    3  4\n",
       "K2   L0    4  3\n",
       "     L1    5  2\n",
       "K3   L0    6  1"
      ]
     },
     "execution_count": 72,
     "metadata": {},
     "output_type": "execute_result"
    }
   ],
   "source": [
    "arrays = [\n",
    "    ['K0','K0','K1','K2','K2','K3'],\n",
    "    ['L0','L1','L0','L0','L1','L0']\n",
    "]\n",
    "index = pd.MultiIndex.from_arrays(arrays, names=('key1','key2'))\n",
    "df_multiindex = pd.DataFrame({\n",
    "    'A': [1,2,3,4,5,6],\n",
    "    'B': [6,5,4,3,2,1]\n",
    "}, index=index)\n",
    "df_multiindex"
   ]
  },
  {
   "cell_type": "code",
   "execution_count": 73,
   "id": "8a6033ce",
   "metadata": {
    "execution": {
     "iopub.execute_input": "2024-08-31T05:55:35.627631Z",
     "iopub.status.busy": "2024-08-31T05:55:35.626610Z",
     "iopub.status.idle": "2024-08-31T05:55:35.639819Z",
     "shell.execute_reply": "2024-08-31T05:55:35.638629Z"
    },
    "papermill": {
     "duration": 0.096567,
     "end_time": "2024-08-31T05:55:35.642347",
     "exception": false,
     "start_time": "2024-08-31T05:55:35.545780",
     "status": "completed"
    },
    "tags": []
   },
   "outputs": [
    {
     "data": {
      "text/html": [
       "<div>\n",
       "<style scoped>\n",
       "    .dataframe tbody tr th:only-of-type {\n",
       "        vertical-align: middle;\n",
       "    }\n",
       "\n",
       "    .dataframe tbody tr th {\n",
       "        vertical-align: top;\n",
       "    }\n",
       "\n",
       "    .dataframe thead th {\n",
       "        text-align: right;\n",
       "    }\n",
       "</style>\n",
       "<table border=\"1\" class=\"dataframe\">\n",
       "  <thead>\n",
       "    <tr style=\"text-align: right;\">\n",
       "      <th></th>\n",
       "      <th></th>\n",
       "      <th>A</th>\n",
       "      <th>B</th>\n",
       "    </tr>\n",
       "    <tr>\n",
       "      <th>key1</th>\n",
       "      <th>key2</th>\n",
       "      <th></th>\n",
       "      <th></th>\n",
       "    </tr>\n",
       "  </thead>\n",
       "  <tbody>\n",
       "    <tr>\n",
       "      <th>K0</th>\n",
       "      <th>L0</th>\n",
       "      <td>1</td>\n",
       "      <td>6</td>\n",
       "    </tr>\n",
       "    <tr>\n",
       "      <th>K1</th>\n",
       "      <th>L0</th>\n",
       "      <td>3</td>\n",
       "      <td>4</td>\n",
       "    </tr>\n",
       "    <tr>\n",
       "      <th>K2</th>\n",
       "      <th>L0</th>\n",
       "      <td>4</td>\n",
       "      <td>3</td>\n",
       "    </tr>\n",
       "    <tr>\n",
       "      <th>K3</th>\n",
       "      <th>L0</th>\n",
       "      <td>6</td>\n",
       "      <td>1</td>\n",
       "    </tr>\n",
       "    <tr>\n",
       "      <th>K0</th>\n",
       "      <th>L1</th>\n",
       "      <td>2</td>\n",
       "      <td>5</td>\n",
       "    </tr>\n",
       "    <tr>\n",
       "      <th>K2</th>\n",
       "      <th>L1</th>\n",
       "      <td>5</td>\n",
       "      <td>2</td>\n",
       "    </tr>\n",
       "  </tbody>\n",
       "</table>\n",
       "</div>"
      ],
      "text/plain": [
       "           A  B\n",
       "key1 key2      \n",
       "K0   L0    1  6\n",
       "K1   L0    3  4\n",
       "K2   L0    4  3\n",
       "K3   L0    6  1\n",
       "K0   L1    2  5\n",
       "K2   L1    5  2"
      ]
     },
     "execution_count": 73,
     "metadata": {},
     "output_type": "execute_result"
    }
   ],
   "source": [
    "df_sorted_multiindex = df_multiindex.sort_index(level='key2')\n",
    "df_sorted_multiindex"
   ]
  },
  {
   "cell_type": "markdown",
   "id": "548ff915",
   "metadata": {
    "papermill": {
     "duration": 0.079126,
     "end_time": "2024-08-31T05:55:35.801170",
     "exception": false,
     "start_time": "2024-08-31T05:55:35.722044",
     "status": "completed"
    },
    "tags": []
   },
   "source": [
    "### Sort by Categorical"
   ]
  },
  {
   "cell_type": "code",
   "execution_count": 74,
   "id": "df519c9d",
   "metadata": {
    "execution": {
     "iopub.execute_input": "2024-08-31T05:55:35.964177Z",
     "iopub.status.busy": "2024-08-31T05:55:35.963367Z",
     "iopub.status.idle": "2024-08-31T05:55:35.983252Z",
     "shell.execute_reply": "2024-08-31T05:55:35.982007Z"
    },
    "papermill": {
     "duration": 0.105697,
     "end_time": "2024-08-31T05:55:35.986326",
     "exception": false,
     "start_time": "2024-08-31T05:55:35.880629",
     "status": "completed"
    },
    "tags": []
   },
   "outputs": [
    {
     "name": "stdout",
     "output_type": "stream",
     "text": [
      "<class 'pandas.core.frame.DataFrame'>\n",
      "RangeIndex: 6 entries, 0 to 5\n",
      "Data columns (total 1 columns):\n",
      " #   Column  Non-Null Count  Dtype   \n",
      "---  ------  --------------  -----   \n",
      " 0   grade   6 non-null      category\n",
      "dtypes: category(1)\n",
      "memory usage: 338.0 bytes\n"
     ]
    },
    {
     "data": {
      "text/html": [
       "<div>\n",
       "<style scoped>\n",
       "    .dataframe tbody tr th:only-of-type {\n",
       "        vertical-align: middle;\n",
       "    }\n",
       "\n",
       "    .dataframe tbody tr th {\n",
       "        vertical-align: top;\n",
       "    }\n",
       "\n",
       "    .dataframe thead th {\n",
       "        text-align: right;\n",
       "    }\n",
       "</style>\n",
       "<table border=\"1\" class=\"dataframe\">\n",
       "  <thead>\n",
       "    <tr style=\"text-align: right;\">\n",
       "      <th></th>\n",
       "      <th>grade</th>\n",
       "    </tr>\n",
       "  </thead>\n",
       "  <tbody>\n",
       "    <tr>\n",
       "      <th>2</th>\n",
       "      <td>bronze</td>\n",
       "    </tr>\n",
       "    <tr>\n",
       "      <th>1</th>\n",
       "      <td>silver</td>\n",
       "    </tr>\n",
       "    <tr>\n",
       "      <th>5</th>\n",
       "      <td>silver</td>\n",
       "    </tr>\n",
       "    <tr>\n",
       "      <th>0</th>\n",
       "      <td>gold</td>\n",
       "    </tr>\n",
       "    <tr>\n",
       "      <th>4</th>\n",
       "      <td>gold</td>\n",
       "    </tr>\n",
       "    <tr>\n",
       "      <th>3</th>\n",
       "      <td>platinum</td>\n",
       "    </tr>\n",
       "  </tbody>\n",
       "</table>\n",
       "</div>"
      ],
      "text/plain": [
       "      grade\n",
       "2    bronze\n",
       "1    silver\n",
       "5    silver\n",
       "0      gold\n",
       "4      gold\n",
       "3  platinum"
      ]
     },
     "execution_count": 74,
     "metadata": {},
     "output_type": "execute_result"
    }
   ],
   "source": [
    "df_categorical = pd.DataFrame({\n",
    "    'grade': ['gold', 'silver', 'bronze', 'platinum', 'gold', 'silver']\n",
    "})\n",
    "order = ['bronze','silver','gold','platinum']\n",
    "df_categorical['grade'] = pd.Categorical(df_categorical['grade'], categories=order, ordered=True)\n",
    "df_categorical.info()\n",
    "\n",
    "df_sorted_categorical = df_categorical.sort_values(by='grade')\n",
    "df_sorted_categorical"
   ]
  },
  {
   "cell_type": "markdown",
   "id": "0a5ddf46",
   "metadata": {
    "papermill": {
     "duration": 0.081044,
     "end_time": "2024-08-31T05:55:36.153423",
     "exception": false,
     "start_time": "2024-08-31T05:55:36.072379",
     "status": "completed"
    },
    "tags": []
   },
   "source": [
    "### Sort by String Length"
   ]
  },
  {
   "cell_type": "code",
   "execution_count": 75,
   "id": "41a32092",
   "metadata": {
    "execution": {
     "iopub.execute_input": "2024-08-31T05:55:36.316390Z",
     "iopub.status.busy": "2024-08-31T05:55:36.315940Z",
     "iopub.status.idle": "2024-08-31T05:55:36.331075Z",
     "shell.execute_reply": "2024-08-31T05:55:36.329867Z"
    },
    "papermill": {
     "duration": 0.098721,
     "end_time": "2024-08-31T05:55:36.333668",
     "exception": false,
     "start_time": "2024-08-31T05:55:36.234947",
     "status": "completed"
    },
    "tags": []
   },
   "outputs": [
    {
     "data": {
      "text/html": [
       "<div>\n",
       "<style scoped>\n",
       "    .dataframe tbody tr th:only-of-type {\n",
       "        vertical-align: middle;\n",
       "    }\n",
       "\n",
       "    .dataframe tbody tr th {\n",
       "        vertical-align: top;\n",
       "    }\n",
       "\n",
       "    .dataframe thead th {\n",
       "        text-align: right;\n",
       "    }\n",
       "</style>\n",
       "<table border=\"1\" class=\"dataframe\">\n",
       "  <thead>\n",
       "    <tr style=\"text-align: right;\">\n",
       "      <th></th>\n",
       "      <th>Name</th>\n",
       "      <th>Age</th>\n",
       "    </tr>\n",
       "  </thead>\n",
       "  <tbody>\n",
       "    <tr>\n",
       "      <th>1</th>\n",
       "      <td>Bob</td>\n",
       "      <td>30</td>\n",
       "    </tr>\n",
       "    <tr>\n",
       "      <th>0</th>\n",
       "      <td>Alice</td>\n",
       "      <td>25</td>\n",
       "    </tr>\n",
       "    <tr>\n",
       "      <th>3</th>\n",
       "      <td>David</td>\n",
       "      <td>40</td>\n",
       "    </tr>\n",
       "    <tr>\n",
       "      <th>2</th>\n",
       "      <td>Charlie</td>\n",
       "      <td>35</td>\n",
       "    </tr>\n",
       "  </tbody>\n",
       "</table>\n",
       "</div>"
      ],
      "text/plain": [
       "      Name  Age\n",
       "1      Bob   30\n",
       "0    Alice   25\n",
       "3    David   40\n",
       "2  Charlie   35"
      ]
     },
     "execution_count": 75,
     "metadata": {},
     "output_type": "execute_result"
    }
   ],
   "source": [
    "df_custom_sort = pd.DataFrame({\n",
    "    'Name': ['Alice','Bob','Charlie','David'],\n",
    "    'Age': [25,30,35,40]\n",
    "})\n",
    "\n",
    "def custom_sort(series):\n",
    "    return series.str.len()\n",
    "\n",
    "sorted_df_custom_sort = df_custom_sort.sort_values(by='Name', key=custom_sort)\n",
    "sorted_df_custom_sort"
   ]
  },
  {
   "cell_type": "markdown",
   "id": "aa74134b",
   "metadata": {
    "papermill": {
     "duration": 0.079915,
     "end_time": "2024-08-31T05:55:36.496502",
     "exception": false,
     "start_time": "2024-08-31T05:55:36.416587",
     "status": "completed"
    },
    "tags": []
   },
   "source": [
    "### Sort by Mixed String"
   ]
  },
  {
   "cell_type": "code",
   "execution_count": 76,
   "id": "e068213f",
   "metadata": {
    "execution": {
     "iopub.execute_input": "2024-08-31T05:55:36.658428Z",
     "iopub.status.busy": "2024-08-31T05:55:36.658003Z",
     "iopub.status.idle": "2024-08-31T05:55:36.670743Z",
     "shell.execute_reply": "2024-08-31T05:55:36.669583Z"
    },
    "papermill": {
     "duration": 0.096399,
     "end_time": "2024-08-31T05:55:36.673185",
     "exception": false,
     "start_time": "2024-08-31T05:55:36.576786",
     "status": "completed"
    },
    "tags": []
   },
   "outputs": [
    {
     "data": {
      "text/html": [
       "<div>\n",
       "<style scoped>\n",
       "    .dataframe tbody tr th:only-of-type {\n",
       "        vertical-align: middle;\n",
       "    }\n",
       "\n",
       "    .dataframe tbody tr th {\n",
       "        vertical-align: top;\n",
       "    }\n",
       "\n",
       "    .dataframe thead th {\n",
       "        text-align: right;\n",
       "    }\n",
       "</style>\n",
       "<table border=\"1\" class=\"dataframe\">\n",
       "  <thead>\n",
       "    <tr style=\"text-align: right;\">\n",
       "      <th></th>\n",
       "      <th>name</th>\n",
       "    </tr>\n",
       "  </thead>\n",
       "  <tbody>\n",
       "    <tr>\n",
       "      <th>0</th>\n",
       "      <td>alice</td>\n",
       "    </tr>\n",
       "    <tr>\n",
       "      <th>1</th>\n",
       "      <td>Bob</td>\n",
       "    </tr>\n",
       "    <tr>\n",
       "      <th>2</th>\n",
       "      <td>CHARLIE</td>\n",
       "    </tr>\n",
       "    <tr>\n",
       "      <th>3</th>\n",
       "      <td>David</td>\n",
       "    </tr>\n",
       "    <tr>\n",
       "      <th>4</th>\n",
       "      <td>eve</td>\n",
       "    </tr>\n",
       "    <tr>\n",
       "      <th>5</th>\n",
       "      <td>FRANK</td>\n",
       "    </tr>\n",
       "  </tbody>\n",
       "</table>\n",
       "</div>"
      ],
      "text/plain": [
       "      name\n",
       "0    alice\n",
       "1      Bob\n",
       "2  CHARLIE\n",
       "3    David\n",
       "4      eve\n",
       "5    FRANK"
      ]
     },
     "execution_count": 76,
     "metadata": {},
     "output_type": "execute_result"
    }
   ],
   "source": [
    "df_mixed_case = pd.DataFrame({\n",
    "    'name': ['alice', 'Bob', 'CHARLIE', 'David', 'eve', 'FRANK']\n",
    "})\n",
    "\n",
    "df_sorted_case_insensitive = df_mixed_case.sort_values(by='name', key=lambda x: x.str.lower())\n",
    "df_sorted_case_insensitive"
   ]
  },
  {
   "cell_type": "markdown",
   "id": "d509c5e9",
   "metadata": {
    "papermill": {
     "duration": 0.080108,
     "end_time": "2024-08-31T05:55:36.834299",
     "exception": false,
     "start_time": "2024-08-31T05:55:36.754191",
     "status": "completed"
    },
    "tags": []
   },
   "source": [
    "## Data Cleaning"
   ]
  },
  {
   "cell_type": "markdown",
   "id": "72f3d0be",
   "metadata": {
    "papermill": {
     "duration": 0.080365,
     "end_time": "2024-08-31T05:55:36.995278",
     "exception": false,
     "start_time": "2024-08-31T05:55:36.914913",
     "status": "completed"
    },
    "tags": []
   },
   "source": [
    "### Treating Missing Value"
   ]
  },
  {
   "cell_type": "code",
   "execution_count": 77,
   "id": "8d36496f",
   "metadata": {
    "execution": {
     "iopub.execute_input": "2024-08-31T05:55:37.217727Z",
     "iopub.status.busy": "2024-08-31T05:55:37.217287Z",
     "iopub.status.idle": "2024-08-31T05:55:37.232083Z",
     "shell.execute_reply": "2024-08-31T05:55:37.230792Z"
    },
    "papermill": {
     "duration": 0.099877,
     "end_time": "2024-08-31T05:55:37.234574",
     "exception": false,
     "start_time": "2024-08-31T05:55:37.134697",
     "status": "completed"
    },
    "tags": []
   },
   "outputs": [
    {
     "data": {
      "text/html": [
       "<div>\n",
       "<style scoped>\n",
       "    .dataframe tbody tr th:only-of-type {\n",
       "        vertical-align: middle;\n",
       "    }\n",
       "\n",
       "    .dataframe tbody tr th {\n",
       "        vertical-align: top;\n",
       "    }\n",
       "\n",
       "    .dataframe thead th {\n",
       "        text-align: right;\n",
       "    }\n",
       "</style>\n",
       "<table border=\"1\" class=\"dataframe\">\n",
       "  <thead>\n",
       "    <tr style=\"text-align: right;\">\n",
       "      <th></th>\n",
       "      <th>A</th>\n",
       "      <th>B</th>\n",
       "      <th>C</th>\n",
       "    </tr>\n",
       "  </thead>\n",
       "  <tbody>\n",
       "    <tr>\n",
       "      <th>0</th>\n",
       "      <td>False</td>\n",
       "      <td>False</td>\n",
       "      <td>False</td>\n",
       "    </tr>\n",
       "    <tr>\n",
       "      <th>1</th>\n",
       "      <td>False</td>\n",
       "      <td>True</td>\n",
       "      <td>False</td>\n",
       "    </tr>\n",
       "    <tr>\n",
       "      <th>2</th>\n",
       "      <td>True</td>\n",
       "      <td>True</td>\n",
       "      <td>False</td>\n",
       "    </tr>\n",
       "    <tr>\n",
       "      <th>3</th>\n",
       "      <td>False</td>\n",
       "      <td>False</td>\n",
       "      <td>False</td>\n",
       "    </tr>\n",
       "    <tr>\n",
       "      <th>4</th>\n",
       "      <td>False</td>\n",
       "      <td>False</td>\n",
       "      <td>False</td>\n",
       "    </tr>\n",
       "  </tbody>\n",
       "</table>\n",
       "</div>"
      ],
      "text/plain": [
       "       A      B      C\n",
       "0  False  False  False\n",
       "1  False   True  False\n",
       "2   True   True  False\n",
       "3  False  False  False\n",
       "4  False  False  False"
      ]
     },
     "execution_count": 77,
     "metadata": {},
     "output_type": "execute_result"
    }
   ],
   "source": [
    "df_missing = pd.DataFrame({\n",
    "    'A': [1,2,np.nan,4,5],\n",
    "    'B': [5,np.nan,np.nan,8,9],\n",
    "    'C': [1,2,3,4,5]\n",
    "})\n",
    "\n",
    "df_missing_isna = df_missing.isna()\n",
    "df_missing_isna"
   ]
  },
  {
   "cell_type": "code",
   "execution_count": 78,
   "id": "a7ae2628",
   "metadata": {
    "execution": {
     "iopub.execute_input": "2024-08-31T05:55:37.398305Z",
     "iopub.status.busy": "2024-08-31T05:55:37.397884Z",
     "iopub.status.idle": "2024-08-31T05:55:37.410808Z",
     "shell.execute_reply": "2024-08-31T05:55:37.408965Z"
    },
    "papermill": {
     "duration": 0.097678,
     "end_time": "2024-08-31T05:55:37.413458",
     "exception": false,
     "start_time": "2024-08-31T05:55:37.315780",
     "status": "completed"
    },
    "tags": []
   },
   "outputs": [
    {
     "name": "stdout",
     "output_type": "stream",
     "text": [
      "<class 'pandas.core.frame.DataFrame'>\n",
      "RangeIndex: 5 entries, 0 to 4\n",
      "Data columns (total 3 columns):\n",
      " #   Column  Non-Null Count  Dtype  \n",
      "---  ------  --------------  -----  \n",
      " 0   A       4 non-null      float64\n",
      " 1   B       3 non-null      float64\n",
      " 2   C       5 non-null      int64  \n",
      "dtypes: float64(2), int64(1)\n",
      "memory usage: 248.0 bytes\n"
     ]
    }
   ],
   "source": [
    "df_missing.info()"
   ]
  },
  {
   "cell_type": "code",
   "execution_count": 79,
   "id": "9d156f90",
   "metadata": {
    "execution": {
     "iopub.execute_input": "2024-08-31T05:55:37.578353Z",
     "iopub.status.busy": "2024-08-31T05:55:37.577574Z",
     "iopub.status.idle": "2024-08-31T05:55:37.587790Z",
     "shell.execute_reply": "2024-08-31T05:55:37.586618Z"
    },
    "papermill": {
     "duration": 0.09515,
     "end_time": "2024-08-31T05:55:37.590205",
     "exception": false,
     "start_time": "2024-08-31T05:55:37.495055",
     "status": "completed"
    },
    "tags": []
   },
   "outputs": [
    {
     "data": {
      "text/plain": [
       "A    1\n",
       "B    2\n",
       "C    0\n",
       "dtype: int64"
      ]
     },
     "execution_count": 79,
     "metadata": {},
     "output_type": "execute_result"
    }
   ],
   "source": [
    "df_missing.isna().sum()"
   ]
  },
  {
   "cell_type": "code",
   "execution_count": 80,
   "id": "f1945a0d",
   "metadata": {
    "execution": {
     "iopub.execute_input": "2024-08-31T05:55:37.756406Z",
     "iopub.status.busy": "2024-08-31T05:55:37.755975Z",
     "iopub.status.idle": "2024-08-31T05:55:37.961318Z",
     "shell.execute_reply": "2024-08-31T05:55:37.960147Z"
    },
    "papermill": {
     "duration": 0.291088,
     "end_time": "2024-08-31T05:55:37.964077",
     "exception": false,
     "start_time": "2024-08-31T05:55:37.672989",
     "status": "completed"
    },
    "tags": []
   },
   "outputs": [
    {
     "data": {
      "image/png": "[encoded data removed]",
      "text/plain": [
       "<Figure size 640x480 with 1 Axes>"
      ]
     },
     "metadata": {},
     "output_type": "display_data"
    }
   ],
   "source": [
    "sns.heatmap(df_missing.isna(), cbar=False)\n",
    "plt.show()"
   ]
  },
  {
   "cell_type": "code",
   "execution_count": 81,
   "id": "c485e13a",
   "metadata": {
    "execution": {
     "iopub.execute_input": "2024-08-31T05:55:38.138858Z",
     "iopub.status.busy": "2024-08-31T05:55:38.138394Z",
     "iopub.status.idle": "2024-08-31T05:55:38.148239Z",
     "shell.execute_reply": "2024-08-31T05:55:38.146952Z"
    },
    "papermill": {
     "duration": 0.099021,
     "end_time": "2024-08-31T05:55:38.150833",
     "exception": false,
     "start_time": "2024-08-31T05:55:38.051812",
     "status": "completed"
    },
    "tags": []
   },
   "outputs": [
    {
     "data": {
      "text/plain": [
       "0    False\n",
       "1     True\n",
       "2    False\n",
       "3    False\n",
       "4     True\n",
       "dtype: bool"
      ]
     },
     "execution_count": 81,
     "metadata": {},
     "output_type": "execute_result"
    }
   ],
   "source": [
    "series_missing = pd.Series([1, np.nan, 3, 4, np.nan])\n",
    "series_missing.isna()"
   ]
  },
  {
   "cell_type": "markdown",
   "id": "4e0cba61",
   "metadata": {
    "papermill": {
     "duration": 0.085114,
     "end_time": "2024-08-31T05:55:38.332723",
     "exception": false,
     "start_time": "2024-08-31T05:55:38.247609",
     "status": "completed"
    },
    "tags": []
   },
   "source": [
    "### Treating Missing Data in Categorical Value"
   ]
  },
  {
   "cell_type": "code",
   "execution_count": 82,
   "id": "c0f63d7d",
   "metadata": {
    "execution": {
     "iopub.execute_input": "2024-08-31T05:55:38.533215Z",
     "iopub.status.busy": "2024-08-31T05:55:38.532670Z",
     "iopub.status.idle": "2024-08-31T05:55:38.548965Z",
     "shell.execute_reply": "2024-08-31T05:55:38.547845Z"
    },
    "papermill": {
     "duration": 0.110963,
     "end_time": "2024-08-31T05:55:38.552012",
     "exception": false,
     "start_time": "2024-08-31T05:55:38.441049",
     "status": "completed"
    },
    "tags": []
   },
   "outputs": [
    {
     "data": {
      "text/html": [
       "<div>\n",
       "<style scoped>\n",
       "    .dataframe tbody tr th:only-of-type {\n",
       "        vertical-align: middle;\n",
       "    }\n",
       "\n",
       "    .dataframe tbody tr th {\n",
       "        vertical-align: top;\n",
       "    }\n",
       "\n",
       "    .dataframe thead th {\n",
       "        text-align: right;\n",
       "    }\n",
       "</style>\n",
       "<table border=\"1\" class=\"dataframe\">\n",
       "  <thead>\n",
       "    <tr style=\"text-align: right;\">\n",
       "      <th></th>\n",
       "      <th>A</th>\n",
       "      <th>B</th>\n",
       "    </tr>\n",
       "  </thead>\n",
       "  <tbody>\n",
       "    <tr>\n",
       "      <th>0</th>\n",
       "      <td>False</td>\n",
       "      <td>False</td>\n",
       "    </tr>\n",
       "    <tr>\n",
       "      <th>1</th>\n",
       "      <td>True</td>\n",
       "      <td>True</td>\n",
       "    </tr>\n",
       "    <tr>\n",
       "      <th>2</th>\n",
       "      <td>False</td>\n",
       "      <td>True</td>\n",
       "    </tr>\n",
       "  </tbody>\n",
       "</table>\n",
       "</div>"
      ],
      "text/plain": [
       "       A      B\n",
       "0  False  False\n",
       "1   True   True\n",
       "2  False   True"
      ]
     },
     "execution_count": 82,
     "metadata": {},
     "output_type": "execute_result"
    }
   ],
   "source": [
    "df_categorical = pd.DataFrame({\n",
    "    'A': ['foo', '', 'bar'],\n",
    "    'B': ['baz','N/A', ''\n",
    "]})\n",
    "df_categorical.replace(['','N/A','?'], np.nan, inplace=True)\n",
    "df_categorical.isna()"
   ]
  },
  {
   "cell_type": "markdown",
   "id": "8d956250",
   "metadata": {
    "papermill": {
     "duration": 0.093956,
     "end_time": "2024-08-31T05:55:38.736794",
     "exception": false,
     "start_time": "2024-08-31T05:55:38.642838",
     "status": "completed"
    },
    "tags": []
   },
   "source": [
    "### Fill Missing Value With Constant"
   ]
  },
  {
   "cell_type": "code",
   "execution_count": 83,
   "id": "82938f97",
   "metadata": {
    "execution": {
     "iopub.execute_input": "2024-08-31T05:55:38.916614Z",
     "iopub.status.busy": "2024-08-31T05:55:38.915500Z",
     "iopub.status.idle": "2024-08-31T05:55:38.928879Z",
     "shell.execute_reply": "2024-08-31T05:55:38.927594Z"
    },
    "papermill": {
     "duration": 0.11078,
     "end_time": "2024-08-31T05:55:38.931463",
     "exception": false,
     "start_time": "2024-08-31T05:55:38.820683",
     "status": "completed"
    },
    "tags": []
   },
   "outputs": [
    {
     "data": {
      "text/plain": [
       "0    1.0\n",
       "1    0.0\n",
       "2    3.0\n",
       "3    4.0\n",
       "4    5.0\n",
       "Name: A, dtype: float64"
      ]
     },
     "execution_count": 83,
     "metadata": {},
     "output_type": "execute_result"
    }
   ],
   "source": [
    "data = {\n",
    "    'A': [1, np.nan, 3, 4, 5],\n",
    "    'B': [5, 4, np.nan, 2, 1]\n",
    "}\n",
    "df = pd.DataFrame(data)\n",
    "df['A'].fillna(0)"
   ]
  },
  {
   "cell_type": "markdown",
   "id": "b02878f2",
   "metadata": {
    "papermill": {
     "duration": 0.104796,
     "end_time": "2024-08-31T05:55:39.121776",
     "exception": false,
     "start_time": "2024-08-31T05:55:39.016980",
     "status": "completed"
    },
    "tags": []
   },
   "source": [
    "### Fill Missing Value With Interpolation"
   ]
  },
  {
   "cell_type": "code",
   "execution_count": 84,
   "id": "97d58998",
   "metadata": {
    "execution": {
     "iopub.execute_input": "2024-08-31T05:55:39.309247Z",
     "iopub.status.busy": "2024-08-31T05:55:39.308708Z",
     "iopub.status.idle": "2024-08-31T05:55:39.321922Z",
     "shell.execute_reply": "2024-08-31T05:55:39.320643Z"
    },
    "papermill": {
     "duration": 0.101708,
     "end_time": "2024-08-31T05:55:39.324842",
     "exception": false,
     "start_time": "2024-08-31T05:55:39.223134",
     "status": "completed"
    },
    "tags": []
   },
   "outputs": [
    {
     "data": {
      "text/plain": [
       "0    5.0\n",
       "1    4.0\n",
       "2    4.0\n",
       "3    2.0\n",
       "4    1.0\n",
       "Name: B, dtype: float64"
      ]
     },
     "execution_count": 84,
     "metadata": {},
     "output_type": "execute_result"
    }
   ],
   "source": [
    "df['B'].ffill()"
   ]
  },
  {
   "cell_type": "markdown",
   "id": "7c72e2ce",
   "metadata": {
    "papermill": {
     "duration": 0.084609,
     "end_time": "2024-08-31T05:55:39.499400",
     "exception": false,
     "start_time": "2024-08-31T05:55:39.414791",
     "status": "completed"
    },
    "tags": []
   },
   "source": [
    "### Fill Missing Value With Aggregation"
   ]
  },
  {
   "cell_type": "code",
   "execution_count": 85,
   "id": "69c1d101",
   "metadata": {
    "execution": {
     "iopub.execute_input": "2024-08-31T05:55:39.667471Z",
     "iopub.status.busy": "2024-08-31T05:55:39.667025Z",
     "iopub.status.idle": "2024-08-31T05:55:39.677107Z",
     "shell.execute_reply": "2024-08-31T05:55:39.675795Z"
    },
    "papermill": {
     "duration": 0.096529,
     "end_time": "2024-08-31T05:55:39.679699",
     "exception": false,
     "start_time": "2024-08-31T05:55:39.583170",
     "status": "completed"
    },
    "tags": []
   },
   "outputs": [
    {
     "data": {
      "text/plain": [
       "0    1.00\n",
       "1    3.25\n",
       "2    3.00\n",
       "3    4.00\n",
       "4    5.00\n",
       "Name: A, dtype: float64"
      ]
     },
     "execution_count": 85,
     "metadata": {},
     "output_type": "execute_result"
    }
   ],
   "source": [
    "df['A'].fillna(df['A'].mean())"
   ]
  },
  {
   "cell_type": "code",
   "execution_count": 86,
   "id": "2b5e0b27",
   "metadata": {
    "execution": {
     "iopub.execute_input": "2024-08-31T05:55:39.849706Z",
     "iopub.status.busy": "2024-08-31T05:55:39.849258Z",
     "iopub.status.idle": "2024-08-31T05:55:39.862129Z",
     "shell.execute_reply": "2024-08-31T05:55:39.861055Z"
    },
    "papermill": {
     "duration": 0.099345,
     "end_time": "2024-08-31T05:55:39.864745",
     "exception": false,
     "start_time": "2024-08-31T05:55:39.765400",
     "status": "completed"
    },
    "tags": []
   },
   "outputs": [
    {
     "data": {
      "text/html": [
       "<div>\n",
       "<style scoped>\n",
       "    .dataframe tbody tr th:only-of-type {\n",
       "        vertical-align: middle;\n",
       "    }\n",
       "\n",
       "    .dataframe tbody tr th {\n",
       "        vertical-align: top;\n",
       "    }\n",
       "\n",
       "    .dataframe thead th {\n",
       "        text-align: right;\n",
       "    }\n",
       "</style>\n",
       "<table border=\"1\" class=\"dataframe\">\n",
       "  <thead>\n",
       "    <tr style=\"text-align: right;\">\n",
       "      <th></th>\n",
       "      <th>A</th>\n",
       "      <th>B</th>\n",
       "    </tr>\n",
       "  </thead>\n",
       "  <tbody>\n",
       "    <tr>\n",
       "      <th>0</th>\n",
       "      <td>1.0</td>\n",
       "      <td>5.0</td>\n",
       "    </tr>\n",
       "    <tr>\n",
       "      <th>3</th>\n",
       "      <td>4.0</td>\n",
       "      <td>2.0</td>\n",
       "    </tr>\n",
       "    <tr>\n",
       "      <th>4</th>\n",
       "      <td>5.0</td>\n",
       "      <td>1.0</td>\n",
       "    </tr>\n",
       "  </tbody>\n",
       "</table>\n",
       "</div>"
      ],
      "text/plain": [
       "     A    B\n",
       "0  1.0  5.0\n",
       "3  4.0  2.0\n",
       "4  5.0  1.0"
      ]
     },
     "execution_count": 86,
     "metadata": {},
     "output_type": "execute_result"
    }
   ],
   "source": [
    "df.dropna()"
   ]
  },
  {
   "cell_type": "markdown",
   "id": "42cfff64",
   "metadata": {
    "papermill": {
     "duration": 0.100855,
     "end_time": "2024-08-31T05:55:40.048350",
     "exception": false,
     "start_time": "2024-08-31T05:55:39.947495",
     "status": "completed"
    },
    "tags": []
   },
   "source": [
    "### Delete Null Value"
   ]
  },
  {
   "cell_type": "code",
   "execution_count": 87,
   "id": "d43a8a3d",
   "metadata": {
    "execution": {
     "iopub.execute_input": "2024-08-31T05:55:40.215677Z",
     "iopub.status.busy": "2024-08-31T05:55:40.215213Z",
     "iopub.status.idle": "2024-08-31T05:55:40.231319Z",
     "shell.execute_reply": "2024-08-31T05:55:40.229998Z"
    },
    "papermill": {
     "duration": 0.102516,
     "end_time": "2024-08-31T05:55:40.233842",
     "exception": false,
     "start_time": "2024-08-31T05:55:40.131326",
     "status": "completed"
    },
    "tags": []
   },
   "outputs": [
    {
     "data": {
      "text/html": [
       "<div>\n",
       "<style scoped>\n",
       "    .dataframe tbody tr th:only-of-type {\n",
       "        vertical-align: middle;\n",
       "    }\n",
       "\n",
       "    .dataframe tbody tr th {\n",
       "        vertical-align: top;\n",
       "    }\n",
       "\n",
       "    .dataframe thead th {\n",
       "        text-align: right;\n",
       "    }\n",
       "</style>\n",
       "<table border=\"1\" class=\"dataframe\">\n",
       "  <thead>\n",
       "    <tr style=\"text-align: right;\">\n",
       "      <th></th>\n",
       "      <th>A</th>\n",
       "      <th>B</th>\n",
       "      <th>Company</th>\n",
       "    </tr>\n",
       "  </thead>\n",
       "  <tbody>\n",
       "    <tr>\n",
       "      <th>0</th>\n",
       "      <td>1.0</td>\n",
       "      <td>5.0</td>\n",
       "      <td>Apple</td>\n",
       "    </tr>\n",
       "    <tr>\n",
       "      <th>3</th>\n",
       "      <td>4.0</td>\n",
       "      <td>2.0</td>\n",
       "      <td>Apple</td>\n",
       "    </tr>\n",
       "    <tr>\n",
       "      <th>4</th>\n",
       "      <td>5.0</td>\n",
       "      <td>1.0</td>\n",
       "      <td>Microsoft</td>\n",
       "    </tr>\n",
       "  </tbody>\n",
       "</table>\n",
       "</div>"
      ],
      "text/plain": [
       "     A    B    Company\n",
       "0  1.0  5.0      Apple\n",
       "3  4.0  2.0      Apple\n",
       "4  5.0  1.0  Microsoft"
      ]
     },
     "execution_count": 87,
     "metadata": {},
     "output_type": "execute_result"
    }
   ],
   "source": [
    "data = {\n",
    "    'A': [1, np.nan, 3, 4, 5],\n",
    "    'B': [5, 4, np.nan, 2, 1],\n",
    "    'Company': ['Apple', 'Microsoft', 'Apple', 'Apple', 'Microsoft']\n",
    "}\n",
    "df = pd.DataFrame(data)\n",
    "df_dropped = df.dropna()\n",
    "df_dropped"
   ]
  },
  {
   "cell_type": "code",
   "execution_count": 88,
   "id": "8d21532e",
   "metadata": {
    "execution": {
     "iopub.execute_input": "2024-08-31T05:55:40.403488Z",
     "iopub.status.busy": "2024-08-31T05:55:40.403037Z",
     "iopub.status.idle": "2024-08-31T05:55:40.418047Z",
     "shell.execute_reply": "2024-08-31T05:55:40.416871Z"
    },
    "papermill": {
     "duration": 0.102115,
     "end_time": "2024-08-31T05:55:40.420705",
     "exception": false,
     "start_time": "2024-08-31T05:55:40.318590",
     "status": "completed"
    },
    "tags": []
   },
   "outputs": [
    {
     "data": {
      "text/html": [
       "<div>\n",
       "<style scoped>\n",
       "    .dataframe tbody tr th:only-of-type {\n",
       "        vertical-align: middle;\n",
       "    }\n",
       "\n",
       "    .dataframe tbody tr th {\n",
       "        vertical-align: top;\n",
       "    }\n",
       "\n",
       "    .dataframe thead th {\n",
       "        text-align: right;\n",
       "    }\n",
       "</style>\n",
       "<table border=\"1\" class=\"dataframe\">\n",
       "  <thead>\n",
       "    <tr style=\"text-align: right;\">\n",
       "      <th></th>\n",
       "      <th>A</th>\n",
       "      <th>B</th>\n",
       "      <th>Company</th>\n",
       "    </tr>\n",
       "  </thead>\n",
       "  <tbody>\n",
       "    <tr>\n",
       "      <th>0</th>\n",
       "      <td>1.0</td>\n",
       "      <td>5.0</td>\n",
       "      <td>Apple</td>\n",
       "    </tr>\n",
       "    <tr>\n",
       "      <th>2</th>\n",
       "      <td>3.0</td>\n",
       "      <td>NaN</td>\n",
       "      <td>Apple</td>\n",
       "    </tr>\n",
       "    <tr>\n",
       "      <th>3</th>\n",
       "      <td>4.0</td>\n",
       "      <td>2.0</td>\n",
       "      <td>Apple</td>\n",
       "    </tr>\n",
       "    <tr>\n",
       "      <th>4</th>\n",
       "      <td>5.0</td>\n",
       "      <td>1.0</td>\n",
       "      <td>Microsoft</td>\n",
       "    </tr>\n",
       "  </tbody>\n",
       "</table>\n",
       "</div>"
      ],
      "text/plain": [
       "     A    B    Company\n",
       "0  1.0  5.0      Apple\n",
       "2  3.0  NaN      Apple\n",
       "3  4.0  2.0      Apple\n",
       "4  5.0  1.0  Microsoft"
      ]
     },
     "execution_count": 88,
     "metadata": {},
     "output_type": "execute_result"
    }
   ],
   "source": [
    "df_dropped_A = df.dropna(subset=['A'])\n",
    "df_dropped_A"
   ]
  },
  {
   "cell_type": "code",
   "execution_count": 89,
   "id": "37a402a7",
   "metadata": {
    "execution": {
     "iopub.execute_input": "2024-08-31T05:55:40.593625Z",
     "iopub.status.busy": "2024-08-31T05:55:40.593160Z",
     "iopub.status.idle": "2024-08-31T05:55:40.604752Z",
     "shell.execute_reply": "2024-08-31T05:55:40.603621Z"
    },
    "papermill": {
     "duration": 0.099083,
     "end_time": "2024-08-31T05:55:40.607152",
     "exception": false,
     "start_time": "2024-08-31T05:55:40.508069",
     "status": "completed"
    },
    "tags": []
   },
   "outputs": [
    {
     "data": {
      "text/html": [
       "<div>\n",
       "<style scoped>\n",
       "    .dataframe tbody tr th:only-of-type {\n",
       "        vertical-align: middle;\n",
       "    }\n",
       "\n",
       "    .dataframe tbody tr th {\n",
       "        vertical-align: top;\n",
       "    }\n",
       "\n",
       "    .dataframe thead th {\n",
       "        text-align: right;\n",
       "    }\n",
       "</style>\n",
       "<table border=\"1\" class=\"dataframe\">\n",
       "  <thead>\n",
       "    <tr style=\"text-align: right;\">\n",
       "      <th></th>\n",
       "      <th>Company</th>\n",
       "    </tr>\n",
       "  </thead>\n",
       "  <tbody>\n",
       "    <tr>\n",
       "      <th>0</th>\n",
       "      <td>Apple</td>\n",
       "    </tr>\n",
       "    <tr>\n",
       "      <th>1</th>\n",
       "      <td>Microsoft</td>\n",
       "    </tr>\n",
       "    <tr>\n",
       "      <th>2</th>\n",
       "      <td>Apple</td>\n",
       "    </tr>\n",
       "    <tr>\n",
       "      <th>3</th>\n",
       "      <td>Apple</td>\n",
       "    </tr>\n",
       "    <tr>\n",
       "      <th>4</th>\n",
       "      <td>Microsoft</td>\n",
       "    </tr>\n",
       "  </tbody>\n",
       "</table>\n",
       "</div>"
      ],
      "text/plain": [
       "     Company\n",
       "0      Apple\n",
       "1  Microsoft\n",
       "2      Apple\n",
       "3      Apple\n",
       "4  Microsoft"
      ]
     },
     "execution_count": 89,
     "metadata": {},
     "output_type": "execute_result"
    }
   ],
   "source": [
    "df_dropped_columns = df.dropna(axis=1)\n",
    "df_dropped_columns"
   ]
  },
  {
   "cell_type": "code",
   "execution_count": 90,
   "id": "073ec91d",
   "metadata": {
    "execution": {
     "iopub.execute_input": "2024-08-31T05:55:40.775721Z",
     "iopub.status.busy": "2024-08-31T05:55:40.775269Z",
     "iopub.status.idle": "2024-08-31T05:55:40.789739Z",
     "shell.execute_reply": "2024-08-31T05:55:40.788548Z"
    },
    "papermill": {
     "duration": 0.101024,
     "end_time": "2024-08-31T05:55:40.792212",
     "exception": false,
     "start_time": "2024-08-31T05:55:40.691188",
     "status": "completed"
    },
    "tags": []
   },
   "outputs": [
    {
     "data": {
      "text/html": [
       "<div>\n",
       "<style scoped>\n",
       "    .dataframe tbody tr th:only-of-type {\n",
       "        vertical-align: middle;\n",
       "    }\n",
       "\n",
       "    .dataframe tbody tr th {\n",
       "        vertical-align: top;\n",
       "    }\n",
       "\n",
       "    .dataframe thead th {\n",
       "        text-align: right;\n",
       "    }\n",
       "</style>\n",
       "<table border=\"1\" class=\"dataframe\">\n",
       "  <thead>\n",
       "    <tr style=\"text-align: right;\">\n",
       "      <th></th>\n",
       "      <th>A</th>\n",
       "      <th>B</th>\n",
       "      <th>Company</th>\n",
       "    </tr>\n",
       "  </thead>\n",
       "  <tbody>\n",
       "    <tr>\n",
       "      <th>0</th>\n",
       "      <td>1.0</td>\n",
       "      <td>5.0</td>\n",
       "      <td>Apple</td>\n",
       "    </tr>\n",
       "    <tr>\n",
       "      <th>1</th>\n",
       "      <td>NaN</td>\n",
       "      <td>4.0</td>\n",
       "      <td>Microsoft</td>\n",
       "    </tr>\n",
       "    <tr>\n",
       "      <th>2</th>\n",
       "      <td>3.0</td>\n",
       "      <td>NaN</td>\n",
       "      <td>Apple</td>\n",
       "    </tr>\n",
       "    <tr>\n",
       "      <th>3</th>\n",
       "      <td>4.0</td>\n",
       "      <td>2.0</td>\n",
       "      <td>Apple</td>\n",
       "    </tr>\n",
       "    <tr>\n",
       "      <th>4</th>\n",
       "      <td>5.0</td>\n",
       "      <td>1.0</td>\n",
       "      <td>Microsoft</td>\n",
       "    </tr>\n",
       "  </tbody>\n",
       "</table>\n",
       "</div>"
      ],
      "text/plain": [
       "     A    B    Company\n",
       "0  1.0  5.0      Apple\n",
       "1  NaN  4.0  Microsoft\n",
       "2  3.0  NaN      Apple\n",
       "3  4.0  2.0      Apple\n",
       "4  5.0  1.0  Microsoft"
      ]
     },
     "execution_count": 90,
     "metadata": {},
     "output_type": "execute_result"
    }
   ],
   "source": [
    "df_dropped_thresh = df.dropna(thresh=2)\n",
    "df_dropped_thresh"
   ]
  },
  {
   "cell_type": "markdown",
   "id": "89e51218",
   "metadata": {
    "papermill": {
     "duration": 0.082526,
     "end_time": "2024-08-31T05:55:40.959905",
     "exception": false,
     "start_time": "2024-08-31T05:55:40.877379",
     "status": "completed"
    },
    "tags": []
   },
   "source": [
    "### Transforming Data"
   ]
  },
  {
   "cell_type": "code",
   "execution_count": 91,
   "id": "4babad22",
   "metadata": {
    "execution": {
     "iopub.execute_input": "2024-08-31T05:55:41.130716Z",
     "iopub.status.busy": "2024-08-31T05:55:41.129950Z",
     "iopub.status.idle": "2024-08-31T05:55:41.139822Z",
     "shell.execute_reply": "2024-08-31T05:55:41.138626Z"
    },
    "papermill": {
     "duration": 0.097287,
     "end_time": "2024-08-31T05:55:41.142425",
     "exception": false,
     "start_time": "2024-08-31T05:55:41.045138",
     "status": "completed"
    },
    "tags": []
   },
   "outputs": [
    {
     "data": {
      "text/plain": [
       "0     2.0\n",
       "1     NaN\n",
       "2     6.0\n",
       "3     8.0\n",
       "4    10.0\n",
       "Name: A, dtype: float64"
      ]
     },
     "execution_count": 91,
     "metadata": {},
     "output_type": "execute_result"
    }
   ],
   "source": [
    "df['A'] * 2"
   ]
  },
  {
   "cell_type": "code",
   "execution_count": 92,
   "id": "c2e4ee76",
   "metadata": {
    "execution": {
     "iopub.execute_input": "2024-08-31T05:55:41.315191Z",
     "iopub.status.busy": "2024-08-31T05:55:41.314731Z",
     "iopub.status.idle": "2024-08-31T05:55:41.324924Z",
     "shell.execute_reply": "2024-08-31T05:55:41.323755Z"
    },
    "papermill": {
     "duration": 0.100067,
     "end_time": "2024-08-31T05:55:41.327519",
     "exception": false,
     "start_time": "2024-08-31T05:55:41.227452",
     "status": "completed"
    },
    "tags": []
   },
   "outputs": [
    {
     "data": {
      "text/plain": [
       "0     2.0\n",
       "1     NaN\n",
       "2     6.0\n",
       "3     8.0\n",
       "4    10.0\n",
       "Name: A, dtype: float64"
      ]
     },
     "execution_count": 92,
     "metadata": {},
     "output_type": "execute_result"
    }
   ],
   "source": [
    "df['A'].apply(lambda x: x * 2)"
   ]
  },
  {
   "cell_type": "code",
   "execution_count": 93,
   "id": "795ecd34",
   "metadata": {
    "execution": {
     "iopub.execute_input": "2024-08-31T05:55:41.503287Z",
     "iopub.status.busy": "2024-08-31T05:55:41.502829Z",
     "iopub.status.idle": "2024-08-31T05:55:41.512718Z",
     "shell.execute_reply": "2024-08-31T05:55:41.511446Z"
    },
    "papermill": {
     "duration": 0.103033,
     "end_time": "2024-08-31T05:55:41.515501",
     "exception": false,
     "start_time": "2024-08-31T05:55:41.412468",
     "status": "completed"
    },
    "tags": []
   },
   "outputs": [
    {
     "data": {
      "text/plain": [
       "0    AAPL\n",
       "1    MSFT\n",
       "2    AAPL\n",
       "3    AAPL\n",
       "4    MSFT\n",
       "Name: Company, dtype: object"
      ]
     },
     "execution_count": 93,
     "metadata": {},
     "output_type": "execute_result"
    }
   ],
   "source": [
    "df['Company'].map({\n",
    "    'Apple': 'AAPL',\n",
    "    'Microsoft': 'MSFT'\n",
    "})"
   ]
  },
  {
   "cell_type": "code",
   "execution_count": 94,
   "id": "842d132c",
   "metadata": {
    "execution": {
     "iopub.execute_input": "2024-08-31T05:55:41.689014Z",
     "iopub.status.busy": "2024-08-31T05:55:41.688554Z",
     "iopub.status.idle": "2024-08-31T05:55:41.698484Z",
     "shell.execute_reply": "2024-08-31T05:55:41.697091Z"
    },
    "papermill": {
     "duration": 0.09994,
     "end_time": "2024-08-31T05:55:41.701165",
     "exception": false,
     "start_time": "2024-08-31T05:55:41.601225",
     "status": "completed"
    },
    "tags": []
   },
   "outputs": [
    {
     "data": {
      "text/plain": [
       "0    AAPL\n",
       "1    MSFT\n",
       "2    AAPL\n",
       "3    AAPL\n",
       "4    MSFT\n",
       "Name: Company, dtype: object"
      ]
     },
     "execution_count": 94,
     "metadata": {},
     "output_type": "execute_result"
    }
   ],
   "source": [
    "df['Company'].replace({\n",
    "    'Apple': 'AAPL',\n",
    "    'Microsoft': 'MSFT'\n",
    "})"
   ]
  },
  {
   "cell_type": "code",
   "execution_count": 95,
   "id": "a6608753",
   "metadata": {
    "execution": {
     "iopub.execute_input": "2024-08-31T05:55:41.877660Z",
     "iopub.status.busy": "2024-08-31T05:55:41.877208Z",
     "iopub.status.idle": "2024-08-31T05:55:41.887359Z",
     "shell.execute_reply": "2024-08-31T05:55:41.886084Z"
    },
    "papermill": {
     "duration": 0.102201,
     "end_time": "2024-08-31T05:55:41.889930",
     "exception": false,
     "start_time": "2024-08-31T05:55:41.787729",
     "status": "completed"
    },
    "tags": []
   },
   "outputs": [
    {
     "data": {
      "text/plain": [
       "0   -2.25\n",
       "1     NaN\n",
       "2   -0.25\n",
       "3    0.75\n",
       "4    1.75\n",
       "Name: A, dtype: float64"
      ]
     },
     "execution_count": 95,
     "metadata": {},
     "output_type": "execute_result"
    }
   ],
   "source": [
    "mean_A = df['A'].mean()\n",
    "df['A'] - mean_A"
   ]
  },
  {
   "cell_type": "code",
   "execution_count": 96,
   "id": "637ad818",
   "metadata": {
    "execution": {
     "iopub.execute_input": "2024-08-31T05:55:42.067991Z",
     "iopub.status.busy": "2024-08-31T05:55:42.067524Z",
     "iopub.status.idle": "2024-08-31T05:55:42.087512Z",
     "shell.execute_reply": "2024-08-31T05:55:42.086310Z"
    },
    "papermill": {
     "duration": 0.113555,
     "end_time": "2024-08-31T05:55:42.090121",
     "exception": false,
     "start_time": "2024-08-31T05:55:41.976566",
     "status": "completed"
    },
    "tags": []
   },
   "outputs": [
    {
     "data": {
      "text/html": [
       "<div>\n",
       "<style scoped>\n",
       "    .dataframe tbody tr th:only-of-type {\n",
       "        vertical-align: middle;\n",
       "    }\n",
       "\n",
       "    .dataframe tbody tr th {\n",
       "        vertical-align: top;\n",
       "    }\n",
       "\n",
       "    .dataframe thead th {\n",
       "        text-align: right;\n",
       "    }\n",
       "</style>\n",
       "<table border=\"1\" class=\"dataframe\">\n",
       "  <thead>\n",
       "    <tr style=\"text-align: right;\">\n",
       "      <th></th>\n",
       "      <th>A</th>\n",
       "      <th>B</th>\n",
       "      <th>Company</th>\n",
       "      <th>A_binned</th>\n",
       "    </tr>\n",
       "  </thead>\n",
       "  <tbody>\n",
       "    <tr>\n",
       "      <th>0</th>\n",
       "      <td>1.0</td>\n",
       "      <td>5.0</td>\n",
       "      <td>Apple</td>\n",
       "      <td>Low</td>\n",
       "    </tr>\n",
       "    <tr>\n",
       "      <th>1</th>\n",
       "      <td>NaN</td>\n",
       "      <td>4.0</td>\n",
       "      <td>Microsoft</td>\n",
       "      <td>NaN</td>\n",
       "    </tr>\n",
       "    <tr>\n",
       "      <th>2</th>\n",
       "      <td>3.0</td>\n",
       "      <td>NaN</td>\n",
       "      <td>Apple</td>\n",
       "      <td>Medium</td>\n",
       "    </tr>\n",
       "    <tr>\n",
       "      <th>3</th>\n",
       "      <td>4.0</td>\n",
       "      <td>2.0</td>\n",
       "      <td>Apple</td>\n",
       "      <td>Medium</td>\n",
       "    </tr>\n",
       "    <tr>\n",
       "      <th>4</th>\n",
       "      <td>5.0</td>\n",
       "      <td>1.0</td>\n",
       "      <td>Microsoft</td>\n",
       "      <td>High</td>\n",
       "    </tr>\n",
       "  </tbody>\n",
       "</table>\n",
       "</div>"
      ],
      "text/plain": [
       "     A    B    Company A_binned\n",
       "0  1.0  5.0      Apple      Low\n",
       "1  NaN  4.0  Microsoft      NaN\n",
       "2  3.0  NaN      Apple   Medium\n",
       "3  4.0  2.0      Apple   Medium\n",
       "4  5.0  1.0  Microsoft     High"
      ]
     },
     "execution_count": 96,
     "metadata": {},
     "output_type": "execute_result"
    }
   ],
   "source": [
    "bins = [0,2,4,6]\n",
    "labels = ['Low','Medium','High']\n",
    "df['A_binned'] = pd.cut(df['A'], bins=bins, labels=labels)\n",
    "df"
   ]
  },
  {
   "cell_type": "code",
   "execution_count": 97,
   "id": "00e3b199",
   "metadata": {
    "execution": {
     "iopub.execute_input": "2024-08-31T05:55:42.264008Z",
     "iopub.status.busy": "2024-08-31T05:55:42.263470Z",
     "iopub.status.idle": "2024-08-31T05:55:42.284032Z",
     "shell.execute_reply": "2024-08-31T05:55:42.282768Z"
    },
    "papermill": {
     "duration": 0.110055,
     "end_time": "2024-08-31T05:55:42.286877",
     "exception": false,
     "start_time": "2024-08-31T05:55:42.176822",
     "status": "completed"
    },
    "tags": []
   },
   "outputs": [
    {
     "data": {
      "text/html": [
       "<div>\n",
       "<style scoped>\n",
       "    .dataframe tbody tr th:only-of-type {\n",
       "        vertical-align: middle;\n",
       "    }\n",
       "\n",
       "    .dataframe tbody tr th {\n",
       "        vertical-align: top;\n",
       "    }\n",
       "\n",
       "    .dataframe thead th {\n",
       "        text-align: right;\n",
       "    }\n",
       "</style>\n",
       "<table border=\"1\" class=\"dataframe\">\n",
       "  <thead>\n",
       "    <tr style=\"text-align: right;\">\n",
       "      <th></th>\n",
       "      <th>A</th>\n",
       "      <th>B</th>\n",
       "      <th>Company</th>\n",
       "      <th>A_binned</th>\n",
       "      <th>A_normalized</th>\n",
       "    </tr>\n",
       "  </thead>\n",
       "  <tbody>\n",
       "    <tr>\n",
       "      <th>0</th>\n",
       "      <td>1.0</td>\n",
       "      <td>5.0</td>\n",
       "      <td>Apple</td>\n",
       "      <td>Low</td>\n",
       "      <td>0.00</td>\n",
       "    </tr>\n",
       "    <tr>\n",
       "      <th>1</th>\n",
       "      <td>NaN</td>\n",
       "      <td>4.0</td>\n",
       "      <td>Microsoft</td>\n",
       "      <td>NaN</td>\n",
       "      <td>NaN</td>\n",
       "    </tr>\n",
       "    <tr>\n",
       "      <th>2</th>\n",
       "      <td>3.0</td>\n",
       "      <td>NaN</td>\n",
       "      <td>Apple</td>\n",
       "      <td>Medium</td>\n",
       "      <td>0.50</td>\n",
       "    </tr>\n",
       "    <tr>\n",
       "      <th>3</th>\n",
       "      <td>4.0</td>\n",
       "      <td>2.0</td>\n",
       "      <td>Apple</td>\n",
       "      <td>Medium</td>\n",
       "      <td>0.75</td>\n",
       "    </tr>\n",
       "    <tr>\n",
       "      <th>4</th>\n",
       "      <td>5.0</td>\n",
       "      <td>1.0</td>\n",
       "      <td>Microsoft</td>\n",
       "      <td>High</td>\n",
       "      <td>1.00</td>\n",
       "    </tr>\n",
       "  </tbody>\n",
       "</table>\n",
       "</div>"
      ],
      "text/plain": [
       "     A    B    Company A_binned  A_normalized\n",
       "0  1.0  5.0      Apple      Low          0.00\n",
       "1  NaN  4.0  Microsoft      NaN           NaN\n",
       "2  3.0  NaN      Apple   Medium          0.50\n",
       "3  4.0  2.0      Apple   Medium          0.75\n",
       "4  5.0  1.0  Microsoft     High          1.00"
      ]
     },
     "execution_count": 97,
     "metadata": {},
     "output_type": "execute_result"
    }
   ],
   "source": [
    "df['A_normalized'] = (df['A'] - df['A'].min()) / (df['A'].max() - df['A'].min())\n",
    "df"
   ]
  },
  {
   "cell_type": "code",
   "execution_count": 98,
   "id": "cd4936ca",
   "metadata": {
    "execution": {
     "iopub.execute_input": "2024-08-31T05:55:42.462616Z",
     "iopub.status.busy": "2024-08-31T05:55:42.461388Z",
     "iopub.status.idle": "2024-08-31T05:55:42.479573Z",
     "shell.execute_reply": "2024-08-31T05:55:42.478138Z"
    },
    "papermill": {
     "duration": 0.109266,
     "end_time": "2024-08-31T05:55:42.482225",
     "exception": false,
     "start_time": "2024-08-31T05:55:42.372959",
     "status": "completed"
    },
    "tags": []
   },
   "outputs": [
    {
     "data": {
      "text/html": [
       "<div>\n",
       "<style scoped>\n",
       "    .dataframe tbody tr th:only-of-type {\n",
       "        vertical-align: middle;\n",
       "    }\n",
       "\n",
       "    .dataframe tbody tr th {\n",
       "        vertical-align: top;\n",
       "    }\n",
       "\n",
       "    .dataframe thead th {\n",
       "        text-align: right;\n",
       "    }\n",
       "</style>\n",
       "<table border=\"1\" class=\"dataframe\">\n",
       "  <thead>\n",
       "    <tr style=\"text-align: right;\">\n",
       "      <th></th>\n",
       "      <th>A</th>\n",
       "      <th>B</th>\n",
       "      <th>Company</th>\n",
       "      <th>A_binned</th>\n",
       "      <th>A_normalized</th>\n",
       "      <th>A_log</th>\n",
       "    </tr>\n",
       "  </thead>\n",
       "  <tbody>\n",
       "    <tr>\n",
       "      <th>0</th>\n",
       "      <td>1.0</td>\n",
       "      <td>5.0</td>\n",
       "      <td>Apple</td>\n",
       "      <td>Low</td>\n",
       "      <td>0.00</td>\n",
       "      <td>0.000000</td>\n",
       "    </tr>\n",
       "    <tr>\n",
       "      <th>1</th>\n",
       "      <td>NaN</td>\n",
       "      <td>4.0</td>\n",
       "      <td>Microsoft</td>\n",
       "      <td>NaN</td>\n",
       "      <td>NaN</td>\n",
       "      <td>NaN</td>\n",
       "    </tr>\n",
       "    <tr>\n",
       "      <th>2</th>\n",
       "      <td>3.0</td>\n",
       "      <td>NaN</td>\n",
       "      <td>Apple</td>\n",
       "      <td>Medium</td>\n",
       "      <td>0.50</td>\n",
       "      <td>1.098612</td>\n",
       "    </tr>\n",
       "    <tr>\n",
       "      <th>3</th>\n",
       "      <td>4.0</td>\n",
       "      <td>2.0</td>\n",
       "      <td>Apple</td>\n",
       "      <td>Medium</td>\n",
       "      <td>0.75</td>\n",
       "      <td>1.386294</td>\n",
       "    </tr>\n",
       "    <tr>\n",
       "      <th>4</th>\n",
       "      <td>5.0</td>\n",
       "      <td>1.0</td>\n",
       "      <td>Microsoft</td>\n",
       "      <td>High</td>\n",
       "      <td>1.00</td>\n",
       "      <td>1.609438</td>\n",
       "    </tr>\n",
       "  </tbody>\n",
       "</table>\n",
       "</div>"
      ],
      "text/plain": [
       "     A    B    Company A_binned  A_normalized     A_log\n",
       "0  1.0  5.0      Apple      Low          0.00  0.000000\n",
       "1  NaN  4.0  Microsoft      NaN           NaN       NaN\n",
       "2  3.0  NaN      Apple   Medium          0.50  1.098612\n",
       "3  4.0  2.0      Apple   Medium          0.75  1.386294\n",
       "4  5.0  1.0  Microsoft     High          1.00  1.609438"
      ]
     },
     "execution_count": 98,
     "metadata": {},
     "output_type": "execute_result"
    }
   ],
   "source": [
    "df['A_log'] = np.log(df['A'])\n",
    "df"
   ]
  },
  {
   "cell_type": "code",
   "execution_count": 99,
   "id": "3057fae9",
   "metadata": {
    "execution": {
     "iopub.execute_input": "2024-08-31T05:55:42.662359Z",
     "iopub.status.busy": "2024-08-31T05:55:42.661925Z",
     "iopub.status.idle": "2024-08-31T05:55:42.683506Z",
     "shell.execute_reply": "2024-08-31T05:55:42.682035Z"
    },
    "papermill": {
     "duration": 0.114078,
     "end_time": "2024-08-31T05:55:42.686171",
     "exception": false,
     "start_time": "2024-08-31T05:55:42.572093",
     "status": "completed"
    },
    "tags": []
   },
   "outputs": [
    {
     "data": {
      "text/html": [
       "<div>\n",
       "<style scoped>\n",
       "    .dataframe tbody tr th:only-of-type {\n",
       "        vertical-align: middle;\n",
       "    }\n",
       "\n",
       "    .dataframe tbody tr th {\n",
       "        vertical-align: top;\n",
       "    }\n",
       "\n",
       "    .dataframe thead th {\n",
       "        text-align: right;\n",
       "    }\n",
       "</style>\n",
       "<table border=\"1\" class=\"dataframe\">\n",
       "  <thead>\n",
       "    <tr style=\"text-align: right;\">\n",
       "      <th></th>\n",
       "      <th>A</th>\n",
       "      <th>B</th>\n",
       "      <th>A_binned</th>\n",
       "      <th>A_normalized</th>\n",
       "      <th>A_log</th>\n",
       "      <th>Company_Apple</th>\n",
       "      <th>Company_Microsoft</th>\n",
       "    </tr>\n",
       "  </thead>\n",
       "  <tbody>\n",
       "    <tr>\n",
       "      <th>0</th>\n",
       "      <td>1.0</td>\n",
       "      <td>5.0</td>\n",
       "      <td>Low</td>\n",
       "      <td>0.00</td>\n",
       "      <td>0.000000</td>\n",
       "      <td>True</td>\n",
       "      <td>False</td>\n",
       "    </tr>\n",
       "    <tr>\n",
       "      <th>1</th>\n",
       "      <td>NaN</td>\n",
       "      <td>4.0</td>\n",
       "      <td>NaN</td>\n",
       "      <td>NaN</td>\n",
       "      <td>NaN</td>\n",
       "      <td>False</td>\n",
       "      <td>True</td>\n",
       "    </tr>\n",
       "    <tr>\n",
       "      <th>2</th>\n",
       "      <td>3.0</td>\n",
       "      <td>NaN</td>\n",
       "      <td>Medium</td>\n",
       "      <td>0.50</td>\n",
       "      <td>1.098612</td>\n",
       "      <td>True</td>\n",
       "      <td>False</td>\n",
       "    </tr>\n",
       "    <tr>\n",
       "      <th>3</th>\n",
       "      <td>4.0</td>\n",
       "      <td>2.0</td>\n",
       "      <td>Medium</td>\n",
       "      <td>0.75</td>\n",
       "      <td>1.386294</td>\n",
       "      <td>True</td>\n",
       "      <td>False</td>\n",
       "    </tr>\n",
       "    <tr>\n",
       "      <th>4</th>\n",
       "      <td>5.0</td>\n",
       "      <td>1.0</td>\n",
       "      <td>High</td>\n",
       "      <td>1.00</td>\n",
       "      <td>1.609438</td>\n",
       "      <td>False</td>\n",
       "      <td>True</td>\n",
       "    </tr>\n",
       "  </tbody>\n",
       "</table>\n",
       "</div>"
      ],
      "text/plain": [
       "     A    B A_binned  A_normalized     A_log  Company_Apple  Company_Microsoft\n",
       "0  1.0  5.0      Low          0.00  0.000000           True              False\n",
       "1  NaN  4.0      NaN           NaN       NaN          False               True\n",
       "2  3.0  NaN   Medium          0.50  1.098612           True              False\n",
       "3  4.0  2.0   Medium          0.75  1.386294           True              False\n",
       "4  5.0  1.0     High          1.00  1.609438          False               True"
      ]
     },
     "execution_count": 99,
     "metadata": {},
     "output_type": "execute_result"
    }
   ],
   "source": [
    "pd.get_dummies(df, columns=['Company'])"
   ]
  },
  {
   "cell_type": "code",
   "execution_count": 100,
   "id": "a09e6ff8",
   "metadata": {
    "execution": {
     "iopub.execute_input": "2024-08-31T05:55:42.862662Z",
     "iopub.status.busy": "2024-08-31T05:55:42.862168Z",
     "iopub.status.idle": "2024-08-31T05:55:42.876265Z",
     "shell.execute_reply": "2024-08-31T05:55:42.874993Z"
    },
    "papermill": {
     "duration": 0.10502,
     "end_time": "2024-08-31T05:55:42.879035",
     "exception": false,
     "start_time": "2024-08-31T05:55:42.774015",
     "status": "completed"
    },
    "tags": []
   },
   "outputs": [
    {
     "data": {
      "text/plain": [
       "2     6.0\n",
       "3     8.0\n",
       "4    10.0\n",
       "Name: A, dtype: float64"
      ]
     },
     "execution_count": 100,
     "metadata": {},
     "output_type": "execute_result"
    }
   ],
   "source": [
    "df.query('A > 2')['A'] * 2"
   ]
  },
  {
   "cell_type": "markdown",
   "id": "14d66d7e",
   "metadata": {
    "papermill": {
     "duration": 0.089351,
     "end_time": "2024-08-31T05:55:43.057326",
     "exception": false,
     "start_time": "2024-08-31T05:55:42.967975",
     "status": "completed"
    },
    "tags": []
   },
   "source": [
    "## Changing Data Type"
   ]
  },
  {
   "cell_type": "code",
   "execution_count": 101,
   "id": "1b71ebbf",
   "metadata": {
    "execution": {
     "iopub.execute_input": "2024-08-31T05:55:43.232065Z",
     "iopub.status.busy": "2024-08-31T05:55:43.231635Z",
     "iopub.status.idle": "2024-08-31T05:55:43.244016Z",
     "shell.execute_reply": "2024-08-31T05:55:43.242737Z"
    },
    "papermill": {
     "duration": 0.102673,
     "end_time": "2024-08-31T05:55:43.247365",
     "exception": false,
     "start_time": "2024-08-31T05:55:43.144692",
     "status": "completed"
    },
    "tags": []
   },
   "outputs": [
    {
     "name": "stdout",
     "output_type": "stream",
     "text": [
      "<class 'pandas.core.frame.DataFrame'>\n",
      "RangeIndex: 3 entries, 0 to 2\n",
      "Data columns (total 2 columns):\n",
      " #   Column   Non-Null Count  Dtype \n",
      "---  ------   --------------  ----- \n",
      " 0   harga    3 non-null      object\n",
      " 1   tanggal  3 non-null      object\n",
      "dtypes: object(2)\n",
      "memory usage: 176.0+ bytes\n"
     ]
    }
   ],
   "source": [
    "df = pd.DataFrame({\n",
    "    'harga': ['1000', '2000', '3000'],\n",
    "    'tanggal': ['2021-01-01', '2021-01-02', '2021-01-03']\n",
    "})\n",
    "df.info()"
   ]
  },
  {
   "cell_type": "code",
   "execution_count": 102,
   "id": "83e531eb",
   "metadata": {
    "execution": {
     "iopub.execute_input": "2024-08-31T05:55:43.424671Z",
     "iopub.status.busy": "2024-08-31T05:55:43.424174Z",
     "iopub.status.idle": "2024-08-31T05:55:43.440758Z",
     "shell.execute_reply": "2024-08-31T05:55:43.439230Z"
    },
    "papermill": {
     "duration": 0.110891,
     "end_time": "2024-08-31T05:55:43.445085",
     "exception": false,
     "start_time": "2024-08-31T05:55:43.334194",
     "status": "completed"
    },
    "tags": []
   },
   "outputs": [
    {
     "name": "stdout",
     "output_type": "stream",
     "text": [
      "<class 'pandas.core.frame.DataFrame'>\n",
      "RangeIndex: 3 entries, 0 to 2\n",
      "Data columns (total 2 columns):\n",
      " #   Column   Non-Null Count  Dtype \n",
      "---  ------   --------------  ----- \n",
      " 0   harga    3 non-null      int64 \n",
      " 1   tanggal  3 non-null      object\n",
      "dtypes: int64(1), object(1)\n",
      "memory usage: 176.0+ bytes\n"
     ]
    }
   ],
   "source": [
    "df['harga'] = df['harga'].astype(int)\n",
    "df.info()"
   ]
  },
  {
   "cell_type": "code",
   "execution_count": 103,
   "id": "ab6835f6",
   "metadata": {
    "execution": {
     "iopub.execute_input": "2024-08-31T05:55:43.625196Z",
     "iopub.status.busy": "2024-08-31T05:55:43.624715Z",
     "iopub.status.idle": "2024-08-31T05:55:43.644367Z",
     "shell.execute_reply": "2024-08-31T05:55:43.642978Z"
    },
    "papermill": {
     "duration": 0.111381,
     "end_time": "2024-08-31T05:55:43.647322",
     "exception": false,
     "start_time": "2024-08-31T05:55:43.535941",
     "status": "completed"
    },
    "tags": []
   },
   "outputs": [
    {
     "name": "stdout",
     "output_type": "stream",
     "text": [
      "<class 'pandas.core.frame.DataFrame'>\n",
      "RangeIndex: 3 entries, 0 to 2\n",
      "Data columns (total 2 columns):\n",
      " #   Column   Non-Null Count  Dtype         \n",
      "---  ------   --------------  -----         \n",
      " 0   harga    3 non-null      int64         \n",
      " 1   tanggal  3 non-null      datetime64[ns]\n",
      "dtypes: datetime64[ns](1), int64(1)\n",
      "memory usage: 176.0 bytes\n"
     ]
    }
   ],
   "source": [
    "df['tanggal'] = pd.to_datetime(df['tanggal'])\n",
    "df.info()"
   ]
  },
  {
   "cell_type": "code",
   "execution_count": 104,
   "id": "4ef0d30b",
   "metadata": {
    "execution": {
     "iopub.execute_input": "2024-08-31T05:55:43.824483Z",
     "iopub.status.busy": "2024-08-31T05:55:43.824050Z",
     "iopub.status.idle": "2024-08-31T05:55:43.838466Z",
     "shell.execute_reply": "2024-08-31T05:55:43.837134Z"
    },
    "papermill": {
     "duration": 0.106204,
     "end_time": "2024-08-31T05:55:43.841194",
     "exception": false,
     "start_time": "2024-08-31T05:55:43.734990",
     "status": "completed"
    },
    "tags": []
   },
   "outputs": [
    {
     "data": {
      "text/html": [
       "<div>\n",
       "<style scoped>\n",
       "    .dataframe tbody tr th:only-of-type {\n",
       "        vertical-align: middle;\n",
       "    }\n",
       "\n",
       "    .dataframe tbody tr th {\n",
       "        vertical-align: top;\n",
       "    }\n",
       "\n",
       "    .dataframe thead th {\n",
       "        text-align: right;\n",
       "    }\n",
       "</style>\n",
       "<table border=\"1\" class=\"dataframe\">\n",
       "  <thead>\n",
       "    <tr style=\"text-align: right;\">\n",
       "      <th></th>\n",
       "      <th>harga</th>\n",
       "      <th>tanggal</th>\n",
       "    </tr>\n",
       "  </thead>\n",
       "  <tbody>\n",
       "    <tr>\n",
       "      <th>0</th>\n",
       "      <td>1000.0</td>\n",
       "      <td>2021-01-01</td>\n",
       "    </tr>\n",
       "    <tr>\n",
       "      <th>1</th>\n",
       "      <td>NaN</td>\n",
       "      <td>2021-01-02</td>\n",
       "    </tr>\n",
       "    <tr>\n",
       "      <th>2</th>\n",
       "      <td>3000.0</td>\n",
       "      <td>2021-01-03</td>\n",
       "    </tr>\n",
       "  </tbody>\n",
       "</table>\n",
       "</div>"
      ],
      "text/plain": [
       "    harga    tanggal\n",
       "0  1000.0 2021-01-01\n",
       "1     NaN 2021-01-02\n",
       "2  3000.0 2021-01-03"
      ]
     },
     "execution_count": 104,
     "metadata": {},
     "output_type": "execute_result"
    }
   ],
   "source": [
    "df['harga'] = ['1000', 'dua ribu', '3000']\n",
    "df['harga'] = pd.to_numeric(df['harga'], errors='coerce')\n",
    "df"
   ]
  },
  {
   "cell_type": "code",
   "execution_count": 105,
   "id": "c6626f5d",
   "metadata": {
    "execution": {
     "iopub.execute_input": "2024-08-31T05:55:44.020842Z",
     "iopub.status.busy": "2024-08-31T05:55:44.019385Z",
     "iopub.status.idle": "2024-08-31T05:55:44.029485Z",
     "shell.execute_reply": "2024-08-31T05:55:44.028306Z"
    },
    "papermill": {
     "duration": 0.103894,
     "end_time": "2024-08-31T05:55:44.033329",
     "exception": false,
     "start_time": "2024-08-31T05:55:43.929435",
     "status": "completed"
    },
    "tags": []
   },
   "outputs": [
    {
     "data": {
      "text/plain": [
       "harga             float64\n",
       "tanggal    datetime64[ns]\n",
       "dtype: object"
      ]
     },
     "execution_count": 105,
     "metadata": {},
     "output_type": "execute_result"
    }
   ],
   "source": [
    "df = df.infer_objects()\n",
    "df.dtypes"
   ]
  },
  {
   "cell_type": "markdown",
   "id": "fcd26567",
   "metadata": {
    "papermill": {
     "duration": 0.090654,
     "end_time": "2024-08-31T05:55:44.213334",
     "exception": false,
     "start_time": "2024-08-31T05:55:44.122680",
     "status": "completed"
    },
    "tags": []
   },
   "source": [
    "## Duplicate Data"
   ]
  },
  {
   "cell_type": "code",
   "execution_count": 106,
   "id": "5d5d6bda",
   "metadata": {
    "execution": {
     "iopub.execute_input": "2024-08-31T05:55:44.393504Z",
     "iopub.status.busy": "2024-08-31T05:55:44.392338Z",
     "iopub.status.idle": "2024-08-31T05:55:44.404745Z",
     "shell.execute_reply": "2024-08-31T05:55:44.403576Z"
    },
    "papermill": {
     "duration": 0.105991,
     "end_time": "2024-08-31T05:55:44.407352",
     "exception": false,
     "start_time": "2024-08-31T05:55:44.301361",
     "status": "completed"
    },
    "tags": []
   },
   "outputs": [
    {
     "data": {
      "text/plain": [
       "0    False\n",
       "1    False\n",
       "2    False\n",
       "3     True\n",
       "4     True\n",
       "5    False\n",
       "dtype: bool"
      ]
     },
     "execution_count": 106,
     "metadata": {},
     "output_type": "execute_result"
    }
   ],
   "source": [
    "data_dup = {\n",
    "    'Name': ['Alice', 'Bob', 'Charlie', 'Alice', 'Bob', 'David'],\n",
    "    'Age': [25, 30, 35, 25, 30, 40],\n",
    "    'Occupation': ['Engineer', 'Doctor', 'Artist', 'Engineer', 'Doctor',\n",
    "    'Writer']\n",
    "}\n",
    "df_dup = pd.DataFrame(data_dup)\n",
    "df_dup.duplicated()"
   ]
  },
  {
   "cell_type": "code",
   "execution_count": 107,
   "id": "73a1e99c",
   "metadata": {
    "execution": {
     "iopub.execute_input": "2024-08-31T05:55:44.587384Z",
     "iopub.status.busy": "2024-08-31T05:55:44.586923Z",
     "iopub.status.idle": "2024-08-31T05:55:44.600853Z",
     "shell.execute_reply": "2024-08-31T05:55:44.599628Z"
    },
    "papermill": {
     "duration": 0.106062,
     "end_time": "2024-08-31T05:55:44.603356",
     "exception": false,
     "start_time": "2024-08-31T05:55:44.497294",
     "status": "completed"
    },
    "tags": []
   },
   "outputs": [
    {
     "data": {
      "text/html": [
       "<div>\n",
       "<style scoped>\n",
       "    .dataframe tbody tr th:only-of-type {\n",
       "        vertical-align: middle;\n",
       "    }\n",
       "\n",
       "    .dataframe tbody tr th {\n",
       "        vertical-align: top;\n",
       "    }\n",
       "\n",
       "    .dataframe thead th {\n",
       "        text-align: right;\n",
       "    }\n",
       "</style>\n",
       "<table border=\"1\" class=\"dataframe\">\n",
       "  <thead>\n",
       "    <tr style=\"text-align: right;\">\n",
       "      <th></th>\n",
       "      <th>Name</th>\n",
       "      <th>Age</th>\n",
       "      <th>Occupation</th>\n",
       "    </tr>\n",
       "  </thead>\n",
       "  <tbody>\n",
       "    <tr>\n",
       "      <th>0</th>\n",
       "      <td>Alice</td>\n",
       "      <td>25</td>\n",
       "      <td>Engineer</td>\n",
       "    </tr>\n",
       "    <tr>\n",
       "      <th>1</th>\n",
       "      <td>Bob</td>\n",
       "      <td>30</td>\n",
       "      <td>Doctor</td>\n",
       "    </tr>\n",
       "    <tr>\n",
       "      <th>2</th>\n",
       "      <td>Charlie</td>\n",
       "      <td>35</td>\n",
       "      <td>Artist</td>\n",
       "    </tr>\n",
       "    <tr>\n",
       "      <th>5</th>\n",
       "      <td>David</td>\n",
       "      <td>40</td>\n",
       "      <td>Writer</td>\n",
       "    </tr>\n",
       "  </tbody>\n",
       "</table>\n",
       "</div>"
      ],
      "text/plain": [
       "      Name  Age Occupation\n",
       "0    Alice   25   Engineer\n",
       "1      Bob   30     Doctor\n",
       "2  Charlie   35     Artist\n",
       "5    David   40     Writer"
      ]
     },
     "execution_count": 107,
     "metadata": {},
     "output_type": "execute_result"
    }
   ],
   "source": [
    "df_dup.drop_duplicates(inplace=True)\n",
    "df_dup"
   ]
  },
  {
   "cell_type": "code",
   "execution_count": 108,
   "id": "4b8ed91d",
   "metadata": {
    "execution": {
     "iopub.execute_input": "2024-08-31T05:55:44.782687Z",
     "iopub.status.busy": "2024-08-31T05:55:44.782174Z",
     "iopub.status.idle": "2024-08-31T05:55:44.797862Z",
     "shell.execute_reply": "2024-08-31T05:55:44.796560Z"
    },
    "papermill": {
     "duration": 0.108726,
     "end_time": "2024-08-31T05:55:44.800431",
     "exception": false,
     "start_time": "2024-08-31T05:55:44.691705",
     "status": "completed"
    },
    "tags": []
   },
   "outputs": [
    {
     "data": {
      "text/html": [
       "<div>\n",
       "<style scoped>\n",
       "    .dataframe tbody tr th:only-of-type {\n",
       "        vertical-align: middle;\n",
       "    }\n",
       "\n",
       "    .dataframe tbody tr th {\n",
       "        vertical-align: top;\n",
       "    }\n",
       "\n",
       "    .dataframe thead th {\n",
       "        text-align: right;\n",
       "    }\n",
       "</style>\n",
       "<table border=\"1\" class=\"dataframe\">\n",
       "  <thead>\n",
       "    <tr style=\"text-align: right;\">\n",
       "      <th></th>\n",
       "      <th>Name</th>\n",
       "      <th>Age</th>\n",
       "      <th>Occupation</th>\n",
       "    </tr>\n",
       "  </thead>\n",
       "  <tbody>\n",
       "    <tr>\n",
       "      <th>0</th>\n",
       "      <td>Alice</td>\n",
       "      <td>25</td>\n",
       "      <td>Engineer</td>\n",
       "    </tr>\n",
       "    <tr>\n",
       "      <th>1</th>\n",
       "      <td>Bob</td>\n",
       "      <td>30</td>\n",
       "      <td>Doctor</td>\n",
       "    </tr>\n",
       "    <tr>\n",
       "      <th>2</th>\n",
       "      <td>Charlie</td>\n",
       "      <td>35</td>\n",
       "      <td>Artist</td>\n",
       "    </tr>\n",
       "    <tr>\n",
       "      <th>5</th>\n",
       "      <td>David</td>\n",
       "      <td>40</td>\n",
       "      <td>Writer</td>\n",
       "    </tr>\n",
       "  </tbody>\n",
       "</table>\n",
       "</div>"
      ],
      "text/plain": [
       "      Name  Age Occupation\n",
       "0    Alice   25   Engineer\n",
       "1      Bob   30     Doctor\n",
       "2  Charlie   35     Artist\n",
       "5    David   40     Writer"
      ]
     },
     "execution_count": 108,
     "metadata": {},
     "output_type": "execute_result"
    }
   ],
   "source": [
    "data_name_dup = {\n",
    "    'Name': ['Alice', 'Bob', 'Charlie', 'Alice', 'Bob', 'David'],\n",
    "    'Age': [25, 30, 35, 40, 45, 40],\n",
    "    'Occupation': ['Engineer', 'Doctor', 'Artist', 'Writer', 'Dancer','Writer']\n",
    "}\n",
    "df_name_dup = pd.DataFrame(data_name_dup)\n",
    "df_name_dup.drop_duplicates(subset=['Name'], inplace=True)\n",
    "df_name_dup\n",
    "\n",
    "## In case you want to retain order\n",
    "# df.drop_duplicates(keep='last', inplace=True)"
   ]
  },
  {
   "cell_type": "markdown",
   "id": "0f3e1d14",
   "metadata": {
    "papermill": {
     "duration": 0.087128,
     "end_time": "2024-08-31T05:55:44.974621",
     "exception": false,
     "start_time": "2024-08-31T05:55:44.887493",
     "status": "completed"
    },
    "tags": []
   },
   "source": [
    "## Scaling"
   ]
  },
  {
   "cell_type": "code",
   "execution_count": 109,
   "id": "2aea6e9e",
   "metadata": {
    "execution": {
     "iopub.execute_input": "2024-08-31T05:55:45.152041Z",
     "iopub.status.busy": "2024-08-31T05:55:45.150660Z",
     "iopub.status.idle": "2024-08-31T05:55:45.165801Z",
     "shell.execute_reply": "2024-08-31T05:55:45.164405Z"
    },
    "papermill": {
     "duration": 0.105722,
     "end_time": "2024-08-31T05:55:45.168433",
     "exception": false,
     "start_time": "2024-08-31T05:55:45.062711",
     "status": "completed"
    },
    "tags": []
   },
   "outputs": [
    {
     "data": {
      "text/html": [
       "<div>\n",
       "<style scoped>\n",
       "    .dataframe tbody tr th:only-of-type {\n",
       "        vertical-align: middle;\n",
       "    }\n",
       "\n",
       "    .dataframe tbody tr th {\n",
       "        vertical-align: top;\n",
       "    }\n",
       "\n",
       "    .dataframe thead th {\n",
       "        text-align: right;\n",
       "    }\n",
       "</style>\n",
       "<table border=\"1\" class=\"dataframe\">\n",
       "  <thead>\n",
       "    <tr style=\"text-align: right;\">\n",
       "      <th></th>\n",
       "      <th>Salary</th>\n",
       "      <th>Age</th>\n",
       "      <th>Experience</th>\n",
       "    </tr>\n",
       "  </thead>\n",
       "  <tbody>\n",
       "    <tr>\n",
       "      <th>0</th>\n",
       "      <td>6732</td>\n",
       "      <td>58</td>\n",
       "      <td>17</td>\n",
       "    </tr>\n",
       "    <tr>\n",
       "      <th>1</th>\n",
       "      <td>6607</td>\n",
       "      <td>59</td>\n",
       "      <td>6</td>\n",
       "    </tr>\n",
       "    <tr>\n",
       "      <th>2</th>\n",
       "      <td>5653</td>\n",
       "      <td>43</td>\n",
       "      <td>16</td>\n",
       "    </tr>\n",
       "    <tr>\n",
       "      <th>3</th>\n",
       "      <td>7264</td>\n",
       "      <td>44</td>\n",
       "      <td>16</td>\n",
       "    </tr>\n",
       "    <tr>\n",
       "      <th>4</th>\n",
       "      <td>8931</td>\n",
       "      <td>37</td>\n",
       "      <td>1</td>\n",
       "    </tr>\n",
       "    <tr>\n",
       "      <th>5</th>\n",
       "      <td>8859</td>\n",
       "      <td>57</td>\n",
       "      <td>19</td>\n",
       "    </tr>\n",
       "    <tr>\n",
       "      <th>6</th>\n",
       "      <td>5033</td>\n",
       "      <td>45</td>\n",
       "      <td>4</td>\n",
       "    </tr>\n",
       "    <tr>\n",
       "      <th>7</th>\n",
       "      <td>8373</td>\n",
       "      <td>33</td>\n",
       "      <td>18</td>\n",
       "    </tr>\n",
       "    <tr>\n",
       "      <th>8</th>\n",
       "      <td>7468</td>\n",
       "      <td>28</td>\n",
       "      <td>15</td>\n",
       "    </tr>\n",
       "    <tr>\n",
       "      <th>9</th>\n",
       "      <td>4705</td>\n",
       "      <td>29</td>\n",
       "      <td>8</td>\n",
       "    </tr>\n",
       "  </tbody>\n",
       "</table>\n",
       "</div>"
      ],
      "text/plain": [
       "   Salary  Age  Experience\n",
       "0    6732   58          17\n",
       "1    6607   59           6\n",
       "2    5653   43          16\n",
       "3    7264   44          16\n",
       "4    8931   37           1\n",
       "5    8859   57          19\n",
       "6    5033   45           4\n",
       "7    8373   33          18\n",
       "8    7468   28          15\n",
       "9    4705   29           8"
      ]
     },
     "execution_count": 109,
     "metadata": {},
     "output_type": "execute_result"
    }
   ],
   "source": [
    "np.random.seed(0)\n",
    "data_norm = {\n",
    "    'Salary': np.random.randint(4000, 9000, 10),\n",
    "    'Age': np.random.randint(20, 60, 10),\n",
    "    'Experience': np.random.randint(1, 20, 10)\n",
    "}\n",
    "df_norm = pd.DataFrame(data_norm)\n",
    "df_norm"
   ]
  },
  {
   "cell_type": "markdown",
   "id": "30c98823",
   "metadata": {
    "papermill": {
     "duration": 0.088329,
     "end_time": "2024-08-31T05:55:45.403191",
     "exception": false,
     "start_time": "2024-08-31T05:55:45.314862",
     "status": "completed"
    },
    "tags": []
   },
   "source": [
    "### Min-Max Scaling"
   ]
  },
  {
   "cell_type": "code",
   "execution_count": 110,
   "id": "98f1656f",
   "metadata": {
    "execution": {
     "iopub.execute_input": "2024-08-31T05:55:45.583919Z",
     "iopub.status.busy": "2024-08-31T05:55:45.582322Z",
     "iopub.status.idle": "2024-08-31T05:55:45.602017Z",
     "shell.execute_reply": "2024-08-31T05:55:45.600953Z"
    },
    "papermill": {
     "duration": 0.112717,
     "end_time": "2024-08-31T05:55:45.604614",
     "exception": false,
     "start_time": "2024-08-31T05:55:45.491897",
     "status": "completed"
    },
    "tags": []
   },
   "outputs": [
    {
     "data": {
      "text/html": [
       "<div>\n",
       "<style scoped>\n",
       "    .dataframe tbody tr th:only-of-type {\n",
       "        vertical-align: middle;\n",
       "    }\n",
       "\n",
       "    .dataframe tbody tr th {\n",
       "        vertical-align: top;\n",
       "    }\n",
       "\n",
       "    .dataframe thead th {\n",
       "        text-align: right;\n",
       "    }\n",
       "</style>\n",
       "<table border=\"1\" class=\"dataframe\">\n",
       "  <thead>\n",
       "    <tr style=\"text-align: right;\">\n",
       "      <th></th>\n",
       "      <th>Salary</th>\n",
       "      <th>Age</th>\n",
       "      <th>Experience</th>\n",
       "    </tr>\n",
       "  </thead>\n",
       "  <tbody>\n",
       "    <tr>\n",
       "      <th>0</th>\n",
       "      <td>0.479650</td>\n",
       "      <td>0.967742</td>\n",
       "      <td>0.888889</td>\n",
       "    </tr>\n",
       "    <tr>\n",
       "      <th>1</th>\n",
       "      <td>0.450071</td>\n",
       "      <td>1.000000</td>\n",
       "      <td>0.277778</td>\n",
       "    </tr>\n",
       "    <tr>\n",
       "      <th>2</th>\n",
       "      <td>0.224326</td>\n",
       "      <td>0.483871</td>\n",
       "      <td>0.833333</td>\n",
       "    </tr>\n",
       "    <tr>\n",
       "      <th>3</th>\n",
       "      <td>0.605537</td>\n",
       "      <td>0.516129</td>\n",
       "      <td>0.833333</td>\n",
       "    </tr>\n",
       "    <tr>\n",
       "      <th>4</th>\n",
       "      <td>1.000000</td>\n",
       "      <td>0.290323</td>\n",
       "      <td>0.000000</td>\n",
       "    </tr>\n",
       "    <tr>\n",
       "      <th>5</th>\n",
       "      <td>0.982963</td>\n",
       "      <td>0.935484</td>\n",
       "      <td>1.000000</td>\n",
       "    </tr>\n",
       "    <tr>\n",
       "      <th>6</th>\n",
       "      <td>0.077615</td>\n",
       "      <td>0.548387</td>\n",
       "      <td>0.166667</td>\n",
       "    </tr>\n",
       "    <tr>\n",
       "      <th>7</th>\n",
       "      <td>0.867960</td>\n",
       "      <td>0.161290</td>\n",
       "      <td>0.944444</td>\n",
       "    </tr>\n",
       "    <tr>\n",
       "      <th>8</th>\n",
       "      <td>0.653810</td>\n",
       "      <td>0.000000</td>\n",
       "      <td>0.777778</td>\n",
       "    </tr>\n",
       "    <tr>\n",
       "      <th>9</th>\n",
       "      <td>0.000000</td>\n",
       "      <td>0.032258</td>\n",
       "      <td>0.388889</td>\n",
       "    </tr>\n",
       "  </tbody>\n",
       "</table>\n",
       "</div>"
      ],
      "text/plain": [
       "     Salary       Age  Experience\n",
       "0  0.479650  0.967742    0.888889\n",
       "1  0.450071  1.000000    0.277778\n",
       "2  0.224326  0.483871    0.833333\n",
       "3  0.605537  0.516129    0.833333\n",
       "4  1.000000  0.290323    0.000000\n",
       "5  0.982963  0.935484    1.000000\n",
       "6  0.077615  0.548387    0.166667\n",
       "7  0.867960  0.161290    0.944444\n",
       "8  0.653810  0.000000    0.777778\n",
       "9  0.000000  0.032258    0.388889"
      ]
     },
     "execution_count": 110,
     "metadata": {},
     "output_type": "execute_result"
    }
   ],
   "source": [
    "def minmax_scaling(series):\n",
    "    return (series - series.min()) / (series.max() - series.min())\n",
    "\n",
    "df_norm = minmax_scaling(df_norm)\n",
    "df_norm"
   ]
  },
  {
   "cell_type": "markdown",
   "id": "7d127766",
   "metadata": {
    "papermill": {
     "duration": 0.08757,
     "end_time": "2024-08-31T05:55:45.782608",
     "exception": false,
     "start_time": "2024-08-31T05:55:45.695038",
     "status": "completed"
    },
    "tags": []
   },
   "source": [
    "### Z-Score"
   ]
  },
  {
   "cell_type": "code",
   "execution_count": 111,
   "id": "cbb971e9",
   "metadata": {
    "execution": {
     "iopub.execute_input": "2024-08-31T05:55:45.962115Z",
     "iopub.status.busy": "2024-08-31T05:55:45.961680Z",
     "iopub.status.idle": "2024-08-31T05:55:45.979472Z",
     "shell.execute_reply": "2024-08-31T05:55:45.978142Z"
    },
    "papermill": {
     "duration": 0.111901,
     "end_time": "2024-08-31T05:55:45.982358",
     "exception": false,
     "start_time": "2024-08-31T05:55:45.870457",
     "status": "completed"
    },
    "tags": []
   },
   "outputs": [
    {
     "data": {
      "text/html": [
       "<div>\n",
       "<style scoped>\n",
       "    .dataframe tbody tr th:only-of-type {\n",
       "        vertical-align: middle;\n",
       "    }\n",
       "\n",
       "    .dataframe tbody tr th {\n",
       "        vertical-align: top;\n",
       "    }\n",
       "\n",
       "    .dataframe thead th {\n",
       "        text-align: right;\n",
       "    }\n",
       "</style>\n",
       "<table border=\"1\" class=\"dataframe\">\n",
       "  <thead>\n",
       "    <tr style=\"text-align: right;\">\n",
       "      <th></th>\n",
       "      <th>Salary</th>\n",
       "      <th>Age</th>\n",
       "      <th>Experience</th>\n",
       "    </tr>\n",
       "  </thead>\n",
       "  <tbody>\n",
       "    <tr>\n",
       "      <th>0</th>\n",
       "      <td>-0.152648</td>\n",
       "      <td>1.253316</td>\n",
       "      <td>0.761510</td>\n",
       "    </tr>\n",
       "    <tr>\n",
       "      <th>1</th>\n",
       "      <td>-0.235429</td>\n",
       "      <td>1.338576</td>\n",
       "      <td>-0.913812</td>\n",
       "    </tr>\n",
       "    <tr>\n",
       "      <th>2</th>\n",
       "      <td>-0.867212</td>\n",
       "      <td>-0.025578</td>\n",
       "      <td>0.609208</td>\n",
       "    </tr>\n",
       "    <tr>\n",
       "      <th>3</th>\n",
       "      <td>0.199667</td>\n",
       "      <td>0.059682</td>\n",
       "      <td>0.609208</td>\n",
       "    </tr>\n",
       "    <tr>\n",
       "      <th>4</th>\n",
       "      <td>1.303632</td>\n",
       "      <td>-0.537136</td>\n",
       "      <td>-1.675321</td>\n",
       "    </tr>\n",
       "    <tr>\n",
       "      <th>5</th>\n",
       "      <td>1.255950</td>\n",
       "      <td>1.168057</td>\n",
       "      <td>1.066113</td>\n",
       "    </tr>\n",
       "    <tr>\n",
       "      <th>6</th>\n",
       "      <td>-1.277804</td>\n",
       "      <td>0.144941</td>\n",
       "      <td>-1.218415</td>\n",
       "    </tr>\n",
       "    <tr>\n",
       "      <th>7</th>\n",
       "      <td>0.934099</td>\n",
       "      <td>-0.878174</td>\n",
       "      <td>0.913812</td>\n",
       "    </tr>\n",
       "    <tr>\n",
       "      <th>8</th>\n",
       "      <td>0.334766</td>\n",
       "      <td>-1.304472</td>\n",
       "      <td>0.456906</td>\n",
       "    </tr>\n",
       "    <tr>\n",
       "      <th>9</th>\n",
       "      <td>-1.495021</td>\n",
       "      <td>-1.219213</td>\n",
       "      <td>-0.609208</td>\n",
       "    </tr>\n",
       "  </tbody>\n",
       "</table>\n",
       "</div>"
      ],
      "text/plain": [
       "     Salary       Age  Experience\n",
       "0 -0.152648  1.253316    0.761510\n",
       "1 -0.235429  1.338576   -0.913812\n",
       "2 -0.867212 -0.025578    0.609208\n",
       "3  0.199667  0.059682    0.609208\n",
       "4  1.303632 -0.537136   -1.675321\n",
       "5  1.255950  1.168057    1.066113\n",
       "6 -1.277804  0.144941   -1.218415\n",
       "7  0.934099 -0.878174    0.913812\n",
       "8  0.334766 -1.304472    0.456906\n",
       "9 -1.495021 -1.219213   -0.609208"
      ]
     },
     "execution_count": 111,
     "metadata": {},
     "output_type": "execute_result"
    }
   ],
   "source": [
    "def zscore_scaling(series):\n",
    "    return (series - series.mean()) / series.std()\n",
    "\n",
    "df_norm_zscore = df_norm.apply(zscore_scaling)\n",
    "df_norm_zscore"
   ]
  },
  {
   "cell_type": "code",
   "execution_count": 112,
   "id": "df4deebb",
   "metadata": {
    "execution": {
     "iopub.execute_input": "2024-08-31T05:55:46.165675Z",
     "iopub.status.busy": "2024-08-31T05:55:46.164607Z",
     "iopub.status.idle": "2024-08-31T05:55:46.179643Z",
     "shell.execute_reply": "2024-08-31T05:55:46.178422Z"
    },
    "papermill": {
     "duration": 0.108543,
     "end_time": "2024-08-31T05:55:46.182286",
     "exception": false,
     "start_time": "2024-08-31T05:55:46.073743",
     "status": "completed"
    },
    "tags": []
   },
   "outputs": [
    {
     "data": {
      "text/html": [
       "<div>\n",
       "<style scoped>\n",
       "    .dataframe tbody tr th:only-of-type {\n",
       "        vertical-align: middle;\n",
       "    }\n",
       "\n",
       "    .dataframe tbody tr th {\n",
       "        vertical-align: top;\n",
       "    }\n",
       "\n",
       "    .dataframe thead th {\n",
       "        text-align: right;\n",
       "    }\n",
       "</style>\n",
       "<table border=\"1\" class=\"dataframe\">\n",
       "  <thead>\n",
       "    <tr style=\"text-align: right;\">\n",
       "      <th></th>\n",
       "      <th>Salary</th>\n",
       "      <th>Age</th>\n",
       "      <th>Experience</th>\n",
       "    </tr>\n",
       "  </thead>\n",
       "  <tbody>\n",
       "    <tr>\n",
       "      <th>0</th>\n",
       "      <td>0.391805</td>\n",
       "      <td>0.676887</td>\n",
       "      <td>0.635989</td>\n",
       "    </tr>\n",
       "    <tr>\n",
       "      <th>1</th>\n",
       "      <td>0.371613</td>\n",
       "      <td>0.693147</td>\n",
       "      <td>0.245122</td>\n",
       "    </tr>\n",
       "    <tr>\n",
       "      <th>2</th>\n",
       "      <td>0.202390</td>\n",
       "      <td>0.394654</td>\n",
       "      <td>0.606136</td>\n",
       "    </tr>\n",
       "    <tr>\n",
       "      <th>3</th>\n",
       "      <td>0.473458</td>\n",
       "      <td>0.416160</td>\n",
       "      <td>0.606136</td>\n",
       "    </tr>\n",
       "    <tr>\n",
       "      <th>4</th>\n",
       "      <td>0.693147</td>\n",
       "      <td>0.254892</td>\n",
       "      <td>0.000000</td>\n",
       "    </tr>\n",
       "    <tr>\n",
       "      <th>5</th>\n",
       "      <td>0.684592</td>\n",
       "      <td>0.660357</td>\n",
       "      <td>0.693147</td>\n",
       "    </tr>\n",
       "    <tr>\n",
       "      <th>6</th>\n",
       "      <td>0.074750</td>\n",
       "      <td>0.437214</td>\n",
       "      <td>0.154151</td>\n",
       "    </tr>\n",
       "    <tr>\n",
       "      <th>7</th>\n",
       "      <td>0.624847</td>\n",
       "      <td>0.149532</td>\n",
       "      <td>0.664976</td>\n",
       "    </tr>\n",
       "    <tr>\n",
       "      <th>8</th>\n",
       "      <td>0.503082</td>\n",
       "      <td>0.000000</td>\n",
       "      <td>0.575364</td>\n",
       "    </tr>\n",
       "    <tr>\n",
       "      <th>9</th>\n",
       "      <td>0.000000</td>\n",
       "      <td>0.031749</td>\n",
       "      <td>0.328504</td>\n",
       "    </tr>\n",
       "  </tbody>\n",
       "</table>\n",
       "</div>"
      ],
      "text/plain": [
       "     Salary       Age  Experience\n",
       "0  0.391805  0.676887    0.635989\n",
       "1  0.371613  0.693147    0.245122\n",
       "2  0.202390  0.394654    0.606136\n",
       "3  0.473458  0.416160    0.606136\n",
       "4  0.693147  0.254892    0.000000\n",
       "5  0.684592  0.660357    0.693147\n",
       "6  0.074750  0.437214    0.154151\n",
       "7  0.624847  0.149532    0.664976\n",
       "8  0.503082  0.000000    0.575364\n",
       "9  0.000000  0.031749    0.328504"
      ]
     },
     "execution_count": 112,
     "metadata": {},
     "output_type": "execute_result"
    }
   ],
   "source": [
    "def log_transform(series):\n",
    "    return np.log1p(series)\n",
    "\n",
    "df_norm_log = df_norm.apply(log_transform)\n",
    "df_norm_log"
   ]
  },
  {
   "cell_type": "markdown",
   "id": "cb3cd0fe",
   "metadata": {
    "papermill": {
     "duration": 0.088611,
     "end_time": "2024-08-31T05:55:46.360647",
     "exception": false,
     "start_time": "2024-08-31T05:55:46.272036",
     "status": "completed"
    },
    "tags": []
   },
   "source": [
    "## String Manipulation"
   ]
  },
  {
   "cell_type": "code",
   "execution_count": 113,
   "id": "a51f98d6",
   "metadata": {
    "execution": {
     "iopub.execute_input": "2024-08-31T05:55:46.541013Z",
     "iopub.status.busy": "2024-08-31T05:55:46.539688Z",
     "iopub.status.idle": "2024-08-31T05:55:46.554447Z",
     "shell.execute_reply": "2024-08-31T05:55:46.553261Z"
    },
    "papermill": {
     "duration": 0.107534,
     "end_time": "2024-08-31T05:55:46.557197",
     "exception": false,
     "start_time": "2024-08-31T05:55:46.449663",
     "status": "completed"
    },
    "tags": []
   },
   "outputs": [
    {
     "data": {
      "text/html": [
       "<div>\n",
       "<style scoped>\n",
       "    .dataframe tbody tr th:only-of-type {\n",
       "        vertical-align: middle;\n",
       "    }\n",
       "\n",
       "    .dataframe tbody tr th {\n",
       "        vertical-align: top;\n",
       "    }\n",
       "\n",
       "    .dataframe thead th {\n",
       "        text-align: right;\n",
       "    }\n",
       "</style>\n",
       "<table border=\"1\" class=\"dataframe\">\n",
       "  <thead>\n",
       "    <tr style=\"text-align: right;\">\n",
       "      <th></th>\n",
       "      <th>Nama</th>\n",
       "      <th>Alamat</th>\n",
       "    </tr>\n",
       "  </thead>\n",
       "  <tbody>\n",
       "    <tr>\n",
       "      <th>0</th>\n",
       "      <td>ALICE</td>\n",
       "      <td>JL. Anggrek 12</td>\n",
       "    </tr>\n",
       "    <tr>\n",
       "      <th>1</th>\n",
       "      <td>Bob</td>\n",
       "      <td>Jl. Mawar No. 5</td>\n",
       "    </tr>\n",
       "    <tr>\n",
       "      <th>2</th>\n",
       "      <td>Charlie</td>\n",
       "      <td>Jl. Melati, No.10</td>\n",
       "    </tr>\n",
       "    <tr>\n",
       "      <th>3</th>\n",
       "      <td>DAvid</td>\n",
       "      <td>Jl. Tulip 3A</td>\n",
       "    </tr>\n",
       "    <tr>\n",
       "      <th>4</th>\n",
       "      <td>eve</td>\n",
       "      <td>Jl. Sakura 2B</td>\n",
       "    </tr>\n",
       "  </tbody>\n",
       "</table>\n",
       "</div>"
      ],
      "text/plain": [
       "       Nama             Alamat\n",
       "0     ALICE     JL. Anggrek 12\n",
       "1       Bob    Jl. Mawar No. 5\n",
       "2  Charlie   Jl. Melati, No.10\n",
       "3     DAvid       Jl. Tulip 3A\n",
       "4       eve      Jl. Sakura 2B"
      ]
     },
     "execution_count": 113,
     "metadata": {},
     "output_type": "execute_result"
    }
   ],
   "source": [
    "data = {\n",
    "    'Nama': ['ALICE', 'Bob', 'Charlie ', ' DAvid', 'eve'],\n",
    "    'Alamat': ['JL. Anggrek 12', 'Jl. Mawar No. 5', 'Jl. Melati, No.10', 'Jl. Tulip 3A', 'Jl. Sakura 2B']\n",
    "}\n",
    "df = pd.DataFrame(data)\n",
    "df"
   ]
  },
  {
   "cell_type": "code",
   "execution_count": 114,
   "id": "0b54a931",
   "metadata": {
    "execution": {
     "iopub.execute_input": "2024-08-31T05:55:46.737305Z",
     "iopub.status.busy": "2024-08-31T05:55:46.736874Z",
     "iopub.status.idle": "2024-08-31T05:55:46.746099Z",
     "shell.execute_reply": "2024-08-31T05:55:46.744844Z"
    },
    "papermill": {
     "duration": 0.10162,
     "end_time": "2024-08-31T05:55:46.748770",
     "exception": false,
     "start_time": "2024-08-31T05:55:46.647150",
     "status": "completed"
    },
    "tags": []
   },
   "outputs": [
    {
     "data": {
      "text/plain": [
       "0       alice\n",
       "1         bob\n",
       "2    charlie \n",
       "3       david\n",
       "4         eve\n",
       "Name: Nama, dtype: object"
      ]
     },
     "execution_count": 114,
     "metadata": {},
     "output_type": "execute_result"
    }
   ],
   "source": [
    "df['Nama'].str.lower()"
   ]
  },
  {
   "cell_type": "code",
   "execution_count": 115,
   "id": "57f8d7bd",
   "metadata": {
    "execution": {
     "iopub.execute_input": "2024-08-31T05:55:46.927327Z",
     "iopub.status.busy": "2024-08-31T05:55:46.926887Z",
     "iopub.status.idle": "2024-08-31T05:55:46.935869Z",
     "shell.execute_reply": "2024-08-31T05:55:46.934843Z"
    },
    "papermill": {
     "duration": 0.101425,
     "end_time": "2024-08-31T05:55:46.938291",
     "exception": false,
     "start_time": "2024-08-31T05:55:46.836866",
     "status": "completed"
    },
    "tags": []
   },
   "outputs": [
    {
     "data": {
      "text/plain": [
       "0      ALICE\n",
       "1        Bob\n",
       "2    Charlie\n",
       "3      DAvid\n",
       "4        eve\n",
       "Name: Nama, dtype: object"
      ]
     },
     "execution_count": 115,
     "metadata": {},
     "output_type": "execute_result"
    }
   ],
   "source": [
    "df['Nama'].str.strip()"
   ]
  },
  {
   "cell_type": "code",
   "execution_count": 116,
   "id": "585136a2",
   "metadata": {
    "execution": {
     "iopub.execute_input": "2024-08-31T05:55:47.120350Z",
     "iopub.status.busy": "2024-08-31T05:55:47.119781Z",
     "iopub.status.idle": "2024-08-31T05:55:47.134743Z",
     "shell.execute_reply": "2024-08-31T05:55:47.133575Z"
    },
    "papermill": {
     "duration": 0.109717,
     "end_time": "2024-08-31T05:55:47.137504",
     "exception": false,
     "start_time": "2024-08-31T05:55:47.027787",
     "status": "completed"
    },
    "tags": []
   },
   "outputs": [
    {
     "data": {
      "text/html": [
       "<div>\n",
       "<style scoped>\n",
       "    .dataframe tbody tr th:only-of-type {\n",
       "        vertical-align: middle;\n",
       "    }\n",
       "\n",
       "    .dataframe tbody tr th {\n",
       "        vertical-align: top;\n",
       "    }\n",
       "\n",
       "    .dataframe thead th {\n",
       "        text-align: right;\n",
       "    }\n",
       "</style>\n",
       "<table border=\"1\" class=\"dataframe\">\n",
       "  <thead>\n",
       "    <tr style=\"text-align: right;\">\n",
       "      <th></th>\n",
       "      <th>Nama</th>\n",
       "      <th>Alamat</th>\n",
       "      <th>Jalan</th>\n",
       "      <th>No</th>\n",
       "    </tr>\n",
       "  </thead>\n",
       "  <tbody>\n",
       "    <tr>\n",
       "      <th>0</th>\n",
       "      <td>ALICE</td>\n",
       "      <td>JL. Anggrek 12</td>\n",
       "      <td>JL. Anggrek 12</td>\n",
       "      <td>None</td>\n",
       "    </tr>\n",
       "    <tr>\n",
       "      <th>1</th>\n",
       "      <td>Bob</td>\n",
       "      <td>Jl. Mawar No. 5</td>\n",
       "      <td>Jl. Mawar No. 5</td>\n",
       "      <td>None</td>\n",
       "    </tr>\n",
       "    <tr>\n",
       "      <th>2</th>\n",
       "      <td>Charlie</td>\n",
       "      <td>Jl. Melati, No.10</td>\n",
       "      <td>Jl. Melati</td>\n",
       "      <td>No.10</td>\n",
       "    </tr>\n",
       "    <tr>\n",
       "      <th>3</th>\n",
       "      <td>DAvid</td>\n",
       "      <td>Jl. Tulip 3A</td>\n",
       "      <td>Jl. Tulip 3A</td>\n",
       "      <td>None</td>\n",
       "    </tr>\n",
       "    <tr>\n",
       "      <th>4</th>\n",
       "      <td>eve</td>\n",
       "      <td>Jl. Sakura 2B</td>\n",
       "      <td>Jl. Sakura 2B</td>\n",
       "      <td>None</td>\n",
       "    </tr>\n",
       "  </tbody>\n",
       "</table>\n",
       "</div>"
      ],
      "text/plain": [
       "       Nama             Alamat            Jalan      No\n",
       "0     ALICE     JL. Anggrek 12   JL. Anggrek 12    None\n",
       "1       Bob    Jl. Mawar No. 5  Jl. Mawar No. 5    None\n",
       "2  Charlie   Jl. Melati, No.10       Jl. Melati   No.10\n",
       "3     DAvid       Jl. Tulip 3A     Jl. Tulip 3A    None\n",
       "4       eve      Jl. Sakura 2B    Jl. Sakura 2B    None"
      ]
     },
     "execution_count": 116,
     "metadata": {},
     "output_type": "execute_result"
    }
   ],
   "source": [
    "df[['Jalan','No']] = df['Alamat'].str.split(',', expand=True)\n",
    "df"
   ]
  },
  {
   "cell_type": "code",
   "execution_count": 117,
   "id": "a9212a70",
   "metadata": {
    "execution": {
     "iopub.execute_input": "2024-08-31T05:55:47.318582Z",
     "iopub.status.busy": "2024-08-31T05:55:47.318107Z",
     "iopub.status.idle": "2024-08-31T05:55:47.332791Z",
     "shell.execute_reply": "2024-08-31T05:55:47.331619Z"
    },
    "papermill": {
     "duration": 0.107473,
     "end_time": "2024-08-31T05:55:47.335375",
     "exception": false,
     "start_time": "2024-08-31T05:55:47.227902",
     "status": "completed"
    },
    "tags": []
   },
   "outputs": [
    {
     "data": {
      "text/html": [
       "<div>\n",
       "<style scoped>\n",
       "    .dataframe tbody tr th:only-of-type {\n",
       "        vertical-align: middle;\n",
       "    }\n",
       "\n",
       "    .dataframe tbody tr th {\n",
       "        vertical-align: top;\n",
       "    }\n",
       "\n",
       "    .dataframe thead th {\n",
       "        text-align: right;\n",
       "    }\n",
       "</style>\n",
       "<table border=\"1\" class=\"dataframe\">\n",
       "  <thead>\n",
       "    <tr style=\"text-align: right;\">\n",
       "      <th></th>\n",
       "      <th>Nama</th>\n",
       "      <th>Alamat</th>\n",
       "      <th>Jalan</th>\n",
       "      <th>No</th>\n",
       "      <th>Info</th>\n",
       "    </tr>\n",
       "  </thead>\n",
       "  <tbody>\n",
       "    <tr>\n",
       "      <th>0</th>\n",
       "      <td>ALICE</td>\n",
       "      <td>JL. Anggrek 12</td>\n",
       "      <td>JL. Anggrek 12</td>\n",
       "      <td>None</td>\n",
       "      <td>ALICE tinggal di JL. Anggrek 12</td>\n",
       "    </tr>\n",
       "    <tr>\n",
       "      <th>1</th>\n",
       "      <td>Bob</td>\n",
       "      <td>Jl. Mawar No. 5</td>\n",
       "      <td>Jl. Mawar No. 5</td>\n",
       "      <td>None</td>\n",
       "      <td>Bob tinggal di Jl. Mawar No. 5</td>\n",
       "    </tr>\n",
       "    <tr>\n",
       "      <th>2</th>\n",
       "      <td>Charlie</td>\n",
       "      <td>Jl. Melati, No.10</td>\n",
       "      <td>Jl. Melati</td>\n",
       "      <td>No.10</td>\n",
       "      <td>Charlie  tinggal di Jl. Melati, No.10</td>\n",
       "    </tr>\n",
       "    <tr>\n",
       "      <th>3</th>\n",
       "      <td>DAvid</td>\n",
       "      <td>Jl. Tulip 3A</td>\n",
       "      <td>Jl. Tulip 3A</td>\n",
       "      <td>None</td>\n",
       "      <td>DAvid tinggal di Jl. Tulip 3A</td>\n",
       "    </tr>\n",
       "    <tr>\n",
       "      <th>4</th>\n",
       "      <td>eve</td>\n",
       "      <td>Jl. Sakura 2B</td>\n",
       "      <td>Jl. Sakura 2B</td>\n",
       "      <td>None</td>\n",
       "      <td>eve tinggal di Jl. Sakura 2B</td>\n",
       "    </tr>\n",
       "  </tbody>\n",
       "</table>\n",
       "</div>"
      ],
      "text/plain": [
       "       Nama             Alamat            Jalan      No  \\\n",
       "0     ALICE     JL. Anggrek 12   JL. Anggrek 12    None   \n",
       "1       Bob    Jl. Mawar No. 5  Jl. Mawar No. 5    None   \n",
       "2  Charlie   Jl. Melati, No.10       Jl. Melati   No.10   \n",
       "3     DAvid       Jl. Tulip 3A     Jl. Tulip 3A    None   \n",
       "4       eve      Jl. Sakura 2B    Jl. Sakura 2B    None   \n",
       "\n",
       "                                    Info  \n",
       "0        ALICE tinggal di JL. Anggrek 12  \n",
       "1         Bob tinggal di Jl. Mawar No. 5  \n",
       "2  Charlie  tinggal di Jl. Melati, No.10  \n",
       "3          DAvid tinggal di Jl. Tulip 3A  \n",
       "4           eve tinggal di Jl. Sakura 2B  "
      ]
     },
     "execution_count": 117,
     "metadata": {},
     "output_type": "execute_result"
    }
   ],
   "source": [
    "df['Info'] = df['Nama'] + ' tinggal di ' + df['Alamat']\n",
    "df"
   ]
  },
  {
   "cell_type": "code",
   "execution_count": 118,
   "id": "8266ad96",
   "metadata": {
    "execution": {
     "iopub.execute_input": "2024-08-31T05:55:47.518221Z",
     "iopub.status.busy": "2024-08-31T05:55:47.517782Z",
     "iopub.status.idle": "2024-08-31T05:55:47.526840Z",
     "shell.execute_reply": "2024-08-31T05:55:47.525635Z"
    },
    "papermill": {
     "duration": 0.103145,
     "end_time": "2024-08-31T05:55:47.529333",
     "exception": false,
     "start_time": "2024-08-31T05:55:47.426188",
     "status": "completed"
    },
    "tags": []
   },
   "outputs": [
    {
     "data": {
      "text/plain": [
       "0     Jalan Anggrek 12\n",
       "1      Jl. Mawar No. 5\n",
       "2    Jl. Melati, No.10\n",
       "3         Jl. Tulip 3A\n",
       "4        Jl. Sakura 2B\n",
       "Name: Alamat, dtype: object"
      ]
     },
     "execution_count": 118,
     "metadata": {},
     "output_type": "execute_result"
    }
   ],
   "source": [
    "df['Alamat'].str.replace('JL.','Jalan')"
   ]
  },
  {
   "cell_type": "code",
   "execution_count": 119,
   "id": "b1a5ad43",
   "metadata": {
    "execution": {
     "iopub.execute_input": "2024-08-31T05:55:47.711736Z",
     "iopub.status.busy": "2024-08-31T05:55:47.711311Z",
     "iopub.status.idle": "2024-08-31T05:55:47.720700Z",
     "shell.execute_reply": "2024-08-31T05:55:47.719418Z"
    },
    "papermill": {
     "duration": 0.102518,
     "end_time": "2024-08-31T05:55:47.723271",
     "exception": false,
     "start_time": "2024-08-31T05:55:47.620753",
     "status": "completed"
    },
    "tags": []
   },
   "outputs": [
    {
     "data": {
      "text/plain": [
       "0     True\n",
       "1    False\n",
       "2    False\n",
       "3    False\n",
       "4    False\n",
       "Name: Alamat, dtype: bool"
      ]
     },
     "execution_count": 119,
     "metadata": {},
     "output_type": "execute_result"
    }
   ],
   "source": [
    "df['Alamat'].str.contains('Anggrek')"
   ]
  },
  {
   "cell_type": "code",
   "execution_count": 120,
   "id": "fb5c76f3",
   "metadata": {
    "execution": {
     "iopub.execute_input": "2024-08-31T05:55:47.904726Z",
     "iopub.status.busy": "2024-08-31T05:55:47.903933Z",
     "iopub.status.idle": "2024-08-31T05:55:47.920172Z",
     "shell.execute_reply": "2024-08-31T05:55:47.918994Z"
    },
    "papermill": {
     "duration": 0.110751,
     "end_time": "2024-08-31T05:55:47.922948",
     "exception": false,
     "start_time": "2024-08-31T05:55:47.812197",
     "status": "completed"
    },
    "tags": []
   },
   "outputs": [
    {
     "data": {
      "text/html": [
       "<div>\n",
       "<style scoped>\n",
       "    .dataframe tbody tr th:only-of-type {\n",
       "        vertical-align: middle;\n",
       "    }\n",
       "\n",
       "    .dataframe tbody tr th {\n",
       "        vertical-align: top;\n",
       "    }\n",
       "\n",
       "    .dataframe thead th {\n",
       "        text-align: right;\n",
       "    }\n",
       "</style>\n",
       "<table border=\"1\" class=\"dataframe\">\n",
       "  <thead>\n",
       "    <tr style=\"text-align: right;\">\n",
       "      <th></th>\n",
       "      <th>Nama</th>\n",
       "      <th>Alamat</th>\n",
       "      <th>Jalan</th>\n",
       "      <th>No</th>\n",
       "      <th>Info</th>\n",
       "      <th>No Rumah</th>\n",
       "    </tr>\n",
       "  </thead>\n",
       "  <tbody>\n",
       "    <tr>\n",
       "      <th>0</th>\n",
       "      <td>ALICE</td>\n",
       "      <td>JL. Anggrek 12</td>\n",
       "      <td>JL. Anggrek 12</td>\n",
       "      <td>None</td>\n",
       "      <td>ALICE tinggal di JL. Anggrek 12</td>\n",
       "      <td>12</td>\n",
       "    </tr>\n",
       "    <tr>\n",
       "      <th>1</th>\n",
       "      <td>Bob</td>\n",
       "      <td>Jl. Mawar No. 5</td>\n",
       "      <td>Jl. Mawar No. 5</td>\n",
       "      <td>None</td>\n",
       "      <td>Bob tinggal di Jl. Mawar No. 5</td>\n",
       "      <td>5</td>\n",
       "    </tr>\n",
       "    <tr>\n",
       "      <th>2</th>\n",
       "      <td>Charlie</td>\n",
       "      <td>Jl. Melati, No.10</td>\n",
       "      <td>Jl. Melati</td>\n",
       "      <td>No.10</td>\n",
       "      <td>Charlie  tinggal di Jl. Melati, No.10</td>\n",
       "      <td>10</td>\n",
       "    </tr>\n",
       "    <tr>\n",
       "      <th>3</th>\n",
       "      <td>DAvid</td>\n",
       "      <td>Jl. Tulip 3A</td>\n",
       "      <td>Jl. Tulip 3A</td>\n",
       "      <td>None</td>\n",
       "      <td>DAvid tinggal di Jl. Tulip 3A</td>\n",
       "      <td>3</td>\n",
       "    </tr>\n",
       "    <tr>\n",
       "      <th>4</th>\n",
       "      <td>eve</td>\n",
       "      <td>Jl. Sakura 2B</td>\n",
       "      <td>Jl. Sakura 2B</td>\n",
       "      <td>None</td>\n",
       "      <td>eve tinggal di Jl. Sakura 2B</td>\n",
       "      <td>2</td>\n",
       "    </tr>\n",
       "  </tbody>\n",
       "</table>\n",
       "</div>"
      ],
      "text/plain": [
       "       Nama             Alamat            Jalan      No  \\\n",
       "0     ALICE     JL. Anggrek 12   JL. Anggrek 12    None   \n",
       "1       Bob    Jl. Mawar No. 5  Jl. Mawar No. 5    None   \n",
       "2  Charlie   Jl. Melati, No.10       Jl. Melati   No.10   \n",
       "3     DAvid       Jl. Tulip 3A     Jl. Tulip 3A    None   \n",
       "4       eve      Jl. Sakura 2B    Jl. Sakura 2B    None   \n",
       "\n",
       "                                    Info No Rumah  \n",
       "0        ALICE tinggal di JL. Anggrek 12       12  \n",
       "1         Bob tinggal di Jl. Mawar No. 5        5  \n",
       "2  Charlie  tinggal di Jl. Melati, No.10       10  \n",
       "3          DAvid tinggal di Jl. Tulip 3A        3  \n",
       "4           eve tinggal di Jl. Sakura 2B        2  "
      ]
     },
     "execution_count": 120,
     "metadata": {},
     "output_type": "execute_result"
    }
   ],
   "source": [
    "df['No Rumah'] = df['Alamat'].str.extract('(\\d+)')\n",
    "df"
   ]
  },
  {
   "cell_type": "code",
   "execution_count": 121,
   "id": "da4a9e62",
   "metadata": {
    "execution": {
     "iopub.execute_input": "2024-08-31T05:55:48.109676Z",
     "iopub.status.busy": "2024-08-31T05:55:48.109218Z",
     "iopub.status.idle": "2024-08-31T05:55:48.125341Z",
     "shell.execute_reply": "2024-08-31T05:55:48.123994Z"
    },
    "papermill": {
     "duration": 0.113921,
     "end_time": "2024-08-31T05:55:48.128244",
     "exception": false,
     "start_time": "2024-08-31T05:55:48.014323",
     "status": "completed"
    },
    "tags": []
   },
   "outputs": [
    {
     "data": {
      "text/html": [
       "<div>\n",
       "<style scoped>\n",
       "    .dataframe tbody tr th:only-of-type {\n",
       "        vertical-align: middle;\n",
       "    }\n",
       "\n",
       "    .dataframe tbody tr th {\n",
       "        vertical-align: top;\n",
       "    }\n",
       "\n",
       "    .dataframe thead th {\n",
       "        text-align: right;\n",
       "    }\n",
       "</style>\n",
       "<table border=\"1\" class=\"dataframe\">\n",
       "  <thead>\n",
       "    <tr style=\"text-align: right;\">\n",
       "      <th></th>\n",
       "      <th>Nama</th>\n",
       "      <th>Alamat</th>\n",
       "      <th>Jalan</th>\n",
       "      <th>No</th>\n",
       "      <th>Info</th>\n",
       "      <th>No Rumah</th>\n",
       "      <th>Panjang Nama</th>\n",
       "    </tr>\n",
       "  </thead>\n",
       "  <tbody>\n",
       "    <tr>\n",
       "      <th>0</th>\n",
       "      <td>ALICE</td>\n",
       "      <td>JL. Anggrek 12</td>\n",
       "      <td>JL. Anggrek 12</td>\n",
       "      <td>None</td>\n",
       "      <td>ALICE tinggal di JL. Anggrek 12</td>\n",
       "      <td>12</td>\n",
       "      <td>5</td>\n",
       "    </tr>\n",
       "    <tr>\n",
       "      <th>1</th>\n",
       "      <td>Bob</td>\n",
       "      <td>Jl. Mawar No. 5</td>\n",
       "      <td>Jl. Mawar No. 5</td>\n",
       "      <td>None</td>\n",
       "      <td>Bob tinggal di Jl. Mawar No. 5</td>\n",
       "      <td>5</td>\n",
       "      <td>3</td>\n",
       "    </tr>\n",
       "    <tr>\n",
       "      <th>2</th>\n",
       "      <td>Charlie</td>\n",
       "      <td>Jl. Melati, No.10</td>\n",
       "      <td>Jl. Melati</td>\n",
       "      <td>No.10</td>\n",
       "      <td>Charlie  tinggal di Jl. Melati, No.10</td>\n",
       "      <td>10</td>\n",
       "      <td>8</td>\n",
       "    </tr>\n",
       "    <tr>\n",
       "      <th>3</th>\n",
       "      <td>DAvid</td>\n",
       "      <td>Jl. Tulip 3A</td>\n",
       "      <td>Jl. Tulip 3A</td>\n",
       "      <td>None</td>\n",
       "      <td>DAvid tinggal di Jl. Tulip 3A</td>\n",
       "      <td>3</td>\n",
       "      <td>6</td>\n",
       "    </tr>\n",
       "    <tr>\n",
       "      <th>4</th>\n",
       "      <td>eve</td>\n",
       "      <td>Jl. Sakura 2B</td>\n",
       "      <td>Jl. Sakura 2B</td>\n",
       "      <td>None</td>\n",
       "      <td>eve tinggal di Jl. Sakura 2B</td>\n",
       "      <td>2</td>\n",
       "      <td>3</td>\n",
       "    </tr>\n",
       "  </tbody>\n",
       "</table>\n",
       "</div>"
      ],
      "text/plain": [
       "       Nama             Alamat            Jalan      No  \\\n",
       "0     ALICE     JL. Anggrek 12   JL. Anggrek 12    None   \n",
       "1       Bob    Jl. Mawar No. 5  Jl. Mawar No. 5    None   \n",
       "2  Charlie   Jl. Melati, No.10       Jl. Melati   No.10   \n",
       "3     DAvid       Jl. Tulip 3A     Jl. Tulip 3A    None   \n",
       "4       eve      Jl. Sakura 2B    Jl. Sakura 2B    None   \n",
       "\n",
       "                                    Info No Rumah  Panjang Nama  \n",
       "0        ALICE tinggal di JL. Anggrek 12       12             5  \n",
       "1         Bob tinggal di Jl. Mawar No. 5        5             3  \n",
       "2  Charlie  tinggal di Jl. Melati, No.10       10             8  \n",
       "3          DAvid tinggal di Jl. Tulip 3A        3             6  \n",
       "4           eve tinggal di Jl. Sakura 2B        2             3  "
      ]
     },
     "execution_count": 121,
     "metadata": {},
     "output_type": "execute_result"
    }
   ],
   "source": [
    "df['Panjang Nama'] = df['Nama'].str.len()\n",
    "df"
   ]
  },
  {
   "cell_type": "code",
   "execution_count": 122,
   "id": "29c667be",
   "metadata": {
    "execution": {
     "iopub.execute_input": "2024-08-31T05:55:48.312421Z",
     "iopub.status.busy": "2024-08-31T05:55:48.311446Z",
     "iopub.status.idle": "2024-08-31T05:55:48.326671Z",
     "shell.execute_reply": "2024-08-31T05:55:48.325451Z"
    },
    "papermill": {
     "duration": 0.109848,
     "end_time": "2024-08-31T05:55:48.329161",
     "exception": false,
     "start_time": "2024-08-31T05:55:48.219313",
     "status": "completed"
    },
    "tags": []
   },
   "outputs": [
    {
     "data": {
      "text/html": [
       "<div>\n",
       "<style scoped>\n",
       "    .dataframe tbody tr th:only-of-type {\n",
       "        vertical-align: middle;\n",
       "    }\n",
       "\n",
       "    .dataframe tbody tr th {\n",
       "        vertical-align: top;\n",
       "    }\n",
       "\n",
       "    .dataframe thead th {\n",
       "        text-align: right;\n",
       "    }\n",
       "</style>\n",
       "<table border=\"1\" class=\"dataframe\">\n",
       "  <thead>\n",
       "    <tr style=\"text-align: right;\">\n",
       "      <th></th>\n",
       "      <th>Tanggal</th>\n",
       "    </tr>\n",
       "  </thead>\n",
       "  <tbody>\n",
       "    <tr>\n",
       "      <th>0</th>\n",
       "      <td>2023-12-01</td>\n",
       "    </tr>\n",
       "  </tbody>\n",
       "</table>\n",
       "</div>"
      ],
      "text/plain": [
       "     Tanggal\n",
       "0 2023-12-01"
      ]
     },
     "execution_count": 122,
     "metadata": {},
     "output_type": "execute_result"
    }
   ],
   "source": [
    "# Data awal\n",
    "tanggal_data = ['12-01-2023', '15 Jan 2023', 'Jan 20, 2023']\n",
    "df_tanggal = pd.DataFrame({'Tanggal': tanggal_data})\n",
    "\n",
    "# Mengonversi kolom 'Tanggal' menjadi format datetime\n",
    "df_tanggal['Tanggal'] = pd.to_datetime(df_tanggal['Tanggal'], errors='coerce')\n",
    "\n",
    "# Menampilkan hasil\n",
    "df_tanggal.drop([1,2])\n",
    "# df_tanggal.drop(['Tanggal'],axis=1)"
   ]
  },
  {
   "cell_type": "code",
   "execution_count": 123,
   "id": "9c9d06dc",
   "metadata": {
    "execution": {
     "iopub.execute_input": "2024-08-31T05:55:48.517760Z",
     "iopub.status.busy": "2024-08-31T05:55:48.517323Z",
     "iopub.status.idle": "2024-08-31T05:55:48.534692Z",
     "shell.execute_reply": "2024-08-31T05:55:48.533433Z"
    },
    "papermill": {
     "duration": 0.115897,
     "end_time": "2024-08-31T05:55:48.537266",
     "exception": false,
     "start_time": "2024-08-31T05:55:48.421369",
     "status": "completed"
    },
    "tags": []
   },
   "outputs": [
    {
     "data": {
      "text/html": [
       "<div>\n",
       "<style scoped>\n",
       "    .dataframe tbody tr th:only-of-type {\n",
       "        vertical-align: middle;\n",
       "    }\n",
       "\n",
       "    .dataframe tbody tr th {\n",
       "        vertical-align: top;\n",
       "    }\n",
       "\n",
       "    .dataframe thead th {\n",
       "        text-align: right;\n",
       "    }\n",
       "</style>\n",
       "<table border=\"1\" class=\"dataframe\">\n",
       "  <thead>\n",
       "    <tr style=\"text-align: right;\">\n",
       "      <th></th>\n",
       "      <th>Tanggal</th>\n",
       "      <th>Hari</th>\n",
       "      <th>Bulan</th>\n",
       "      <th>Tahun</th>\n",
       "    </tr>\n",
       "  </thead>\n",
       "  <tbody>\n",
       "    <tr>\n",
       "      <th>0</th>\n",
       "      <td>2023-12-01</td>\n",
       "      <td>1.0</td>\n",
       "      <td>12.0</td>\n",
       "      <td>2023.0</td>\n",
       "    </tr>\n",
       "    <tr>\n",
       "      <th>1</th>\n",
       "      <td>NaT</td>\n",
       "      <td>NaN</td>\n",
       "      <td>NaN</td>\n",
       "      <td>NaN</td>\n",
       "    </tr>\n",
       "    <tr>\n",
       "      <th>2</th>\n",
       "      <td>NaT</td>\n",
       "      <td>NaN</td>\n",
       "      <td>NaN</td>\n",
       "      <td>NaN</td>\n",
       "    </tr>\n",
       "  </tbody>\n",
       "</table>\n",
       "</div>"
      ],
      "text/plain": [
       "     Tanggal  Hari  Bulan   Tahun\n",
       "0 2023-12-01   1.0   12.0  2023.0\n",
       "1        NaT   NaN    NaN     NaN\n",
       "2        NaT   NaN    NaN     NaN"
      ]
     },
     "execution_count": 123,
     "metadata": {},
     "output_type": "execute_result"
    }
   ],
   "source": [
    "df_tanggal['Hari'] = df_tanggal['Tanggal'].dt.day\n",
    "df_tanggal['Bulan'] = df_tanggal['Tanggal'].dt.month\n",
    "df_tanggal['Tahun'] = df_tanggal['Tanggal'].dt.year\n",
    "df_tanggal"
   ]
  },
  {
   "cell_type": "markdown",
   "id": "cd37a460",
   "metadata": {
    "papermill": {
     "duration": 0.090204,
     "end_time": "2024-08-31T05:55:48.719104",
     "exception": false,
     "start_time": "2024-08-31T05:55:48.628900",
     "status": "completed"
    },
    "tags": []
   },
   "source": [
    "## Apply and Map"
   ]
  },
  {
   "cell_type": "code",
   "execution_count": 124,
   "id": "44324116",
   "metadata": {
    "execution": {
     "iopub.execute_input": "2024-08-31T05:55:48.907585Z",
     "iopub.status.busy": "2024-08-31T05:55:48.907131Z",
     "iopub.status.idle": "2024-08-31T05:55:48.921875Z",
     "shell.execute_reply": "2024-08-31T05:55:48.920643Z"
    },
    "papermill": {
     "duration": 0.113811,
     "end_time": "2024-08-31T05:55:48.924472",
     "exception": false,
     "start_time": "2024-08-31T05:55:48.810661",
     "status": "completed"
    },
    "tags": []
   },
   "outputs": [
    {
     "data": {
      "text/html": [
       "<div>\n",
       "<style scoped>\n",
       "    .dataframe tbody tr th:only-of-type {\n",
       "        vertical-align: middle;\n",
       "    }\n",
       "\n",
       "    .dataframe tbody tr th {\n",
       "        vertical-align: top;\n",
       "    }\n",
       "\n",
       "    .dataframe thead th {\n",
       "        text-align: right;\n",
       "    }\n",
       "</style>\n",
       "<table border=\"1\" class=\"dataframe\">\n",
       "  <thead>\n",
       "    <tr style=\"text-align: right;\">\n",
       "      <th></th>\n",
       "      <th>Nama</th>\n",
       "      <th>Usia</th>\n",
       "      <th>Panjang Nama</th>\n",
       "    </tr>\n",
       "  </thead>\n",
       "  <tbody>\n",
       "    <tr>\n",
       "      <th>0</th>\n",
       "      <td>Alice</td>\n",
       "      <td>25</td>\n",
       "      <td>5</td>\n",
       "    </tr>\n",
       "    <tr>\n",
       "      <th>1</th>\n",
       "      <td>Bob</td>\n",
       "      <td>30</td>\n",
       "      <td>3</td>\n",
       "    </tr>\n",
       "    <tr>\n",
       "      <th>2</th>\n",
       "      <td>Charlie</td>\n",
       "      <td>35</td>\n",
       "      <td>7</td>\n",
       "    </tr>\n",
       "    <tr>\n",
       "      <th>3</th>\n",
       "      <td>David</td>\n",
       "      <td>40</td>\n",
       "      <td>5</td>\n",
       "    </tr>\n",
       "  </tbody>\n",
       "</table>\n",
       "</div>"
      ],
      "text/plain": [
       "      Nama  Usia  Panjang Nama\n",
       "0    Alice    25             5\n",
       "1      Bob    30             3\n",
       "2  Charlie    35             7\n",
       "3    David    40             5"
      ]
     },
     "execution_count": 124,
     "metadata": {},
     "output_type": "execute_result"
    }
   ],
   "source": [
    "df = pd.DataFrame({\n",
    "    'Nama': ['Alice', 'Bob', 'Charlie', 'David'],\n",
    "    'Usia': [25, 30, 35, 40],\n",
    "})\n",
    "\n",
    "df['Panjang Nama'] = df['Nama'].apply(len)\n",
    "df"
   ]
  },
  {
   "cell_type": "code",
   "execution_count": 125,
   "id": "2eb73623",
   "metadata": {
    "execution": {
     "iopub.execute_input": "2024-08-31T05:55:49.126862Z",
     "iopub.status.busy": "2024-08-31T05:55:49.125696Z",
     "iopub.status.idle": "2024-08-31T05:55:49.149358Z",
     "shell.execute_reply": "2024-08-31T05:55:49.147686Z"
    },
    "papermill": {
     "duration": 0.136368,
     "end_time": "2024-08-31T05:55:49.153218",
     "exception": false,
     "start_time": "2024-08-31T05:55:49.016850",
     "status": "completed"
    },
    "tags": []
   },
   "outputs": [
    {
     "data": {
      "text/html": [
       "<div>\n",
       "<style scoped>\n",
       "    .dataframe tbody tr th:only-of-type {\n",
       "        vertical-align: middle;\n",
       "    }\n",
       "\n",
       "    .dataframe tbody tr th {\n",
       "        vertical-align: top;\n",
       "    }\n",
       "\n",
       "    .dataframe thead th {\n",
       "        text-align: right;\n",
       "    }\n",
       "</style>\n",
       "<table border=\"1\" class=\"dataframe\">\n",
       "  <thead>\n",
       "    <tr style=\"text-align: right;\">\n",
       "      <th></th>\n",
       "      <th>Nama</th>\n",
       "      <th>Usia</th>\n",
       "      <th>Panjang Nama</th>\n",
       "      <th>Kategori_Usia</th>\n",
       "    </tr>\n",
       "  </thead>\n",
       "  <tbody>\n",
       "    <tr>\n",
       "      <th>0</th>\n",
       "      <td>Alice</td>\n",
       "      <td>25</td>\n",
       "      <td>5</td>\n",
       "      <td>Muda</td>\n",
       "    </tr>\n",
       "    <tr>\n",
       "      <th>1</th>\n",
       "      <td>Bob</td>\n",
       "      <td>30</td>\n",
       "      <td>3</td>\n",
       "      <td>Tua</td>\n",
       "    </tr>\n",
       "    <tr>\n",
       "      <th>2</th>\n",
       "      <td>Charlie</td>\n",
       "      <td>35</td>\n",
       "      <td>7</td>\n",
       "      <td>Tua</td>\n",
       "    </tr>\n",
       "    <tr>\n",
       "      <th>3</th>\n",
       "      <td>David</td>\n",
       "      <td>40</td>\n",
       "      <td>5</td>\n",
       "      <td>Tua</td>\n",
       "    </tr>\n",
       "  </tbody>\n",
       "</table>\n",
       "</div>"
      ],
      "text/plain": [
       "      Nama  Usia  Panjang Nama Kategori_Usia\n",
       "0    Alice    25             5          Muda\n",
       "1      Bob    30             3           Tua\n",
       "2  Charlie    35             7           Tua\n",
       "3    David    40             5           Tua"
      ]
     },
     "execution_count": 125,
     "metadata": {},
     "output_type": "execute_result"
    }
   ],
   "source": [
    "def kategori_usia(usia):\n",
    "    return 'Muda' if usia < 30 else 'Tua'\n",
    "\n",
    "df['Kategori_Usia'] = df['Usia'].map(kategori_usia)\n",
    "df"
   ]
  },
  {
   "cell_type": "code",
   "execution_count": 126,
   "id": "90753bfa",
   "metadata": {
    "execution": {
     "iopub.execute_input": "2024-08-31T05:55:49.336960Z",
     "iopub.status.busy": "2024-08-31T05:55:49.336510Z",
     "iopub.status.idle": "2024-08-31T05:55:49.350783Z",
     "shell.execute_reply": "2024-08-31T05:55:49.349369Z"
    },
    "papermill": {
     "duration": 0.108997,
     "end_time": "2024-08-31T05:55:49.353320",
     "exception": false,
     "start_time": "2024-08-31T05:55:49.244323",
     "status": "completed"
    },
    "tags": []
   },
   "outputs": [
    {
     "data": {
      "text/html": [
       "<div>\n",
       "<style scoped>\n",
       "    .dataframe tbody tr th:only-of-type {\n",
       "        vertical-align: middle;\n",
       "    }\n",
       "\n",
       "    .dataframe tbody tr th {\n",
       "        vertical-align: top;\n",
       "    }\n",
       "\n",
       "    .dataframe thead th {\n",
       "        text-align: right;\n",
       "    }\n",
       "</style>\n",
       "<table border=\"1\" class=\"dataframe\">\n",
       "  <thead>\n",
       "    <tr style=\"text-align: right;\">\n",
       "      <th></th>\n",
       "      <th>Nama</th>\n",
       "      <th>Usia</th>\n",
       "      <th>Panjang Nama</th>\n",
       "      <th>Kategori_Usia</th>\n",
       "      <th>Setengah_Usia</th>\n",
       "    </tr>\n",
       "  </thead>\n",
       "  <tbody>\n",
       "    <tr>\n",
       "      <th>0</th>\n",
       "      <td>Alice</td>\n",
       "      <td>25</td>\n",
       "      <td>5</td>\n",
       "      <td>Muda</td>\n",
       "      <td>12.5</td>\n",
       "    </tr>\n",
       "    <tr>\n",
       "      <th>1</th>\n",
       "      <td>Bob</td>\n",
       "      <td>30</td>\n",
       "      <td>3</td>\n",
       "      <td>Tua</td>\n",
       "      <td>15.0</td>\n",
       "    </tr>\n",
       "    <tr>\n",
       "      <th>2</th>\n",
       "      <td>Charlie</td>\n",
       "      <td>35</td>\n",
       "      <td>7</td>\n",
       "      <td>Tua</td>\n",
       "      <td>17.5</td>\n",
       "    </tr>\n",
       "    <tr>\n",
       "      <th>3</th>\n",
       "      <td>David</td>\n",
       "      <td>40</td>\n",
       "      <td>5</td>\n",
       "      <td>Tua</td>\n",
       "      <td>20.0</td>\n",
       "    </tr>\n",
       "  </tbody>\n",
       "</table>\n",
       "</div>"
      ],
      "text/plain": [
       "      Nama  Usia  Panjang Nama Kategori_Usia  Setengah_Usia\n",
       "0    Alice    25             5          Muda           12.5\n",
       "1      Bob    30             3           Tua           15.0\n",
       "2  Charlie    35             7           Tua           17.5\n",
       "3    David    40             5           Tua           20.0"
      ]
     },
     "execution_count": 126,
     "metadata": {},
     "output_type": "execute_result"
    }
   ],
   "source": [
    "df['Setengah_Usia'] = df['Usia'].apply(lambda x: x/2)\n",
    "df"
   ]
  },
  {
   "cell_type": "code",
   "execution_count": 127,
   "id": "efb72070",
   "metadata": {
    "execution": {
     "iopub.execute_input": "2024-08-31T05:55:49.543093Z",
     "iopub.status.busy": "2024-08-31T05:55:49.542217Z",
     "iopub.status.idle": "2024-08-31T05:55:49.559056Z",
     "shell.execute_reply": "2024-08-31T05:55:49.557638Z"
    },
    "papermill": {
     "duration": 0.11313,
     "end_time": "2024-08-31T05:55:49.561712",
     "exception": false,
     "start_time": "2024-08-31T05:55:49.448582",
     "status": "completed"
    },
    "tags": []
   },
   "outputs": [
    {
     "data": {
      "text/html": [
       "<div>\n",
       "<style scoped>\n",
       "    .dataframe tbody tr th:only-of-type {\n",
       "        vertical-align: middle;\n",
       "    }\n",
       "\n",
       "    .dataframe tbody tr th {\n",
       "        vertical-align: top;\n",
       "    }\n",
       "\n",
       "    .dataframe thead th {\n",
       "        text-align: right;\n",
       "    }\n",
       "</style>\n",
       "<table border=\"1\" class=\"dataframe\">\n",
       "  <thead>\n",
       "    <tr style=\"text-align: right;\">\n",
       "      <th></th>\n",
       "      <th>Nama</th>\n",
       "      <th>Usia</th>\n",
       "      <th>Panjang Nama</th>\n",
       "      <th>Kategori_Usia</th>\n",
       "      <th>Setengah_Usia</th>\n",
       "      <th>Hobi</th>\n",
       "    </tr>\n",
       "  </thead>\n",
       "  <tbody>\n",
       "    <tr>\n",
       "      <th>0</th>\n",
       "      <td>Alice</td>\n",
       "      <td>25</td>\n",
       "      <td>5</td>\n",
       "      <td>Muda</td>\n",
       "      <td>12.5</td>\n",
       "      <td>Membaca</td>\n",
       "    </tr>\n",
       "    <tr>\n",
       "      <th>1</th>\n",
       "      <td>Bob</td>\n",
       "      <td>30</td>\n",
       "      <td>3</td>\n",
       "      <td>Tua</td>\n",
       "      <td>15.0</td>\n",
       "      <td>Bersepeda</td>\n",
       "    </tr>\n",
       "    <tr>\n",
       "      <th>2</th>\n",
       "      <td>Charlie</td>\n",
       "      <td>35</td>\n",
       "      <td>7</td>\n",
       "      <td>Tua</td>\n",
       "      <td>17.5</td>\n",
       "      <td>Memasak</td>\n",
       "    </tr>\n",
       "    <tr>\n",
       "      <th>3</th>\n",
       "      <td>David</td>\n",
       "      <td>40</td>\n",
       "      <td>5</td>\n",
       "      <td>Tua</td>\n",
       "      <td>20.0</td>\n",
       "      <td>Menulis</td>\n",
       "    </tr>\n",
       "  </tbody>\n",
       "</table>\n",
       "</div>"
      ],
      "text/plain": [
       "      Nama  Usia  Panjang Nama Kategori_Usia  Setengah_Usia       Hobi\n",
       "0    Alice    25             5          Muda           12.5    Membaca\n",
       "1      Bob    30             3           Tua           15.0  Bersepeda\n",
       "2  Charlie    35             7           Tua           17.5    Memasak\n",
       "3    David    40             5           Tua           20.0    Menulis"
      ]
     },
     "execution_count": 127,
     "metadata": {},
     "output_type": "execute_result"
    }
   ],
   "source": [
    "hobi_kamus = {\n",
    "    'Alice': 'Membaca',\n",
    "    'Bob': 'Bersepeda',\n",
    "    'Charlie': 'Memasak',\n",
    "    'David': 'Menulis'\n",
    "}\n",
    "df['Hobi'] = df['Nama'].map(hobi_kamus)\n",
    "df"
   ]
  },
  {
   "cell_type": "code",
   "execution_count": 128,
   "id": "803d4c15",
   "metadata": {
    "execution": {
     "iopub.execute_input": "2024-08-31T05:55:49.753642Z",
     "iopub.status.busy": "2024-08-31T05:55:49.753155Z",
     "iopub.status.idle": "2024-08-31T05:55:49.770777Z",
     "shell.execute_reply": "2024-08-31T05:55:49.769448Z"
    },
    "papermill": {
     "duration": 0.117772,
     "end_time": "2024-08-31T05:55:49.773390",
     "exception": false,
     "start_time": "2024-08-31T05:55:49.655618",
     "status": "completed"
    },
    "tags": []
   },
   "outputs": [
    {
     "data": {
      "text/html": [
       "<div>\n",
       "<style scoped>\n",
       "    .dataframe tbody tr th:only-of-type {\n",
       "        vertical-align: middle;\n",
       "    }\n",
       "\n",
       "    .dataframe tbody tr th {\n",
       "        vertical-align: top;\n",
       "    }\n",
       "\n",
       "    .dataframe thead th {\n",
       "        text-align: right;\n",
       "    }\n",
       "</style>\n",
       "<table border=\"1\" class=\"dataframe\">\n",
       "  <thead>\n",
       "    <tr style=\"text-align: right;\">\n",
       "      <th></th>\n",
       "      <th>Nama</th>\n",
       "      <th>Usia</th>\n",
       "      <th>Panjang Nama</th>\n",
       "      <th>Kategori_Usia</th>\n",
       "      <th>Setengah_Usia</th>\n",
       "      <th>Hobi</th>\n",
       "      <th>Info</th>\n",
       "    </tr>\n",
       "  </thead>\n",
       "  <tbody>\n",
       "    <tr>\n",
       "      <th>0</th>\n",
       "      <td>Alice</td>\n",
       "      <td>25</td>\n",
       "      <td>5</td>\n",
       "      <td>Muda</td>\n",
       "      <td>12.5</td>\n",
       "      <td>Membaca</td>\n",
       "      <td>Alice berusia 25 tahun</td>\n",
       "    </tr>\n",
       "    <tr>\n",
       "      <th>1</th>\n",
       "      <td>Bob</td>\n",
       "      <td>30</td>\n",
       "      <td>3</td>\n",
       "      <td>Tua</td>\n",
       "      <td>15.0</td>\n",
       "      <td>Bersepeda</td>\n",
       "      <td>Bob berusia 30 tahun</td>\n",
       "    </tr>\n",
       "    <tr>\n",
       "      <th>2</th>\n",
       "      <td>Charlie</td>\n",
       "      <td>35</td>\n",
       "      <td>7</td>\n",
       "      <td>Tua</td>\n",
       "      <td>17.5</td>\n",
       "      <td>Memasak</td>\n",
       "      <td>Charlie berusia 35 tahun</td>\n",
       "    </tr>\n",
       "    <tr>\n",
       "      <th>3</th>\n",
       "      <td>David</td>\n",
       "      <td>40</td>\n",
       "      <td>5</td>\n",
       "      <td>Tua</td>\n",
       "      <td>20.0</td>\n",
       "      <td>Menulis</td>\n",
       "      <td>David berusia 40 tahun</td>\n",
       "    </tr>\n",
       "  </tbody>\n",
       "</table>\n",
       "</div>"
      ],
      "text/plain": [
       "      Nama  Usia  Panjang Nama Kategori_Usia  Setengah_Usia       Hobi  \\\n",
       "0    Alice    25             5          Muda           12.5    Membaca   \n",
       "1      Bob    30             3           Tua           15.0  Bersepeda   \n",
       "2  Charlie    35             7           Tua           17.5    Memasak   \n",
       "3    David    40             5           Tua           20.0    Menulis   \n",
       "\n",
       "                       Info  \n",
       "0    Alice berusia 25 tahun  \n",
       "1      Bob berusia 30 tahun  \n",
       "2  Charlie berusia 35 tahun  \n",
       "3    David berusia 40 tahun  "
      ]
     },
     "execution_count": 128,
     "metadata": {},
     "output_type": "execute_result"
    }
   ],
   "source": [
    "df['Info'] = df.apply(lambda x: f\"{x['Nama']} berusia {x['Usia']} tahun\", axis=1)\n",
    "df"
   ]
  },
  {
   "cell_type": "code",
   "execution_count": 129,
   "id": "b4a73d22",
   "metadata": {
    "execution": {
     "iopub.execute_input": "2024-08-31T05:55:49.959649Z",
     "iopub.status.busy": "2024-08-31T05:55:49.959156Z",
     "iopub.status.idle": "2024-08-31T05:55:49.976454Z",
     "shell.execute_reply": "2024-08-31T05:55:49.975155Z"
    },
    "papermill": {
     "duration": 0.114023,
     "end_time": "2024-08-31T05:55:49.979039",
     "exception": false,
     "start_time": "2024-08-31T05:55:49.865016",
     "status": "completed"
    },
    "tags": []
   },
   "outputs": [
    {
     "data": {
      "text/html": [
       "<div>\n",
       "<style scoped>\n",
       "    .dataframe tbody tr th:only-of-type {\n",
       "        vertical-align: middle;\n",
       "    }\n",
       "\n",
       "    .dataframe tbody tr th {\n",
       "        vertical-align: top;\n",
       "    }\n",
       "\n",
       "    .dataframe thead th {\n",
       "        text-align: right;\n",
       "    }\n",
       "</style>\n",
       "<table border=\"1\" class=\"dataframe\">\n",
       "  <thead>\n",
       "    <tr style=\"text-align: right;\">\n",
       "      <th></th>\n",
       "      <th>Nama</th>\n",
       "      <th>Usia</th>\n",
       "      <th>Panjang Nama</th>\n",
       "      <th>Kategori_Usia</th>\n",
       "      <th>Setengah_Usia</th>\n",
       "      <th>Hobi</th>\n",
       "      <th>Info</th>\n",
       "      <th>Adalah_Penulis</th>\n",
       "    </tr>\n",
       "  </thead>\n",
       "  <tbody>\n",
       "    <tr>\n",
       "      <th>0</th>\n",
       "      <td>Alice</td>\n",
       "      <td>25</td>\n",
       "      <td>5</td>\n",
       "      <td>Muda</td>\n",
       "      <td>12.5</td>\n",
       "      <td>Membaca</td>\n",
       "      <td>Alice berusia 25 tahun</td>\n",
       "      <td>False</td>\n",
       "    </tr>\n",
       "    <tr>\n",
       "      <th>1</th>\n",
       "      <td>Bob</td>\n",
       "      <td>30</td>\n",
       "      <td>3</td>\n",
       "      <td>Tua</td>\n",
       "      <td>15.0</td>\n",
       "      <td>Bersepeda</td>\n",
       "      <td>Bob berusia 30 tahun</td>\n",
       "      <td>False</td>\n",
       "    </tr>\n",
       "    <tr>\n",
       "      <th>2</th>\n",
       "      <td>Charlie</td>\n",
       "      <td>35</td>\n",
       "      <td>7</td>\n",
       "      <td>Tua</td>\n",
       "      <td>17.5</td>\n",
       "      <td>Memasak</td>\n",
       "      <td>Charlie berusia 35 tahun</td>\n",
       "      <td>False</td>\n",
       "    </tr>\n",
       "    <tr>\n",
       "      <th>3</th>\n",
       "      <td>David</td>\n",
       "      <td>40</td>\n",
       "      <td>5</td>\n",
       "      <td>Tua</td>\n",
       "      <td>20.0</td>\n",
       "      <td>Menulis</td>\n",
       "      <td>David berusia 40 tahun</td>\n",
       "      <td>True</td>\n",
       "    </tr>\n",
       "  </tbody>\n",
       "</table>\n",
       "</div>"
      ],
      "text/plain": [
       "      Nama  Usia  Panjang Nama Kategori_Usia  Setengah_Usia       Hobi  \\\n",
       "0    Alice    25             5          Muda           12.5    Membaca   \n",
       "1      Bob    30             3           Tua           15.0  Bersepeda   \n",
       "2  Charlie    35             7           Tua           17.5    Memasak   \n",
       "3    David    40             5           Tua           20.0    Menulis   \n",
       "\n",
       "                       Info  Adalah_Penulis  \n",
       "0    Alice berusia 25 tahun           False  \n",
       "1      Bob berusia 30 tahun           False  \n",
       "2  Charlie berusia 35 tahun           False  \n",
       "3    David berusia 40 tahun            True  "
      ]
     },
     "execution_count": 129,
     "metadata": {},
     "output_type": "execute_result"
    }
   ],
   "source": [
    "df['Adalah_Penulis'] = df['Hobi'].apply(lambda x: True if x == \"Menulis\" else False)\n",
    "df"
   ]
  },
  {
   "cell_type": "code",
   "execution_count": 130,
   "id": "935a32c4",
   "metadata": {
    "execution": {
     "iopub.execute_input": "2024-08-31T05:55:50.169359Z",
     "iopub.status.busy": "2024-08-31T05:55:50.168342Z",
     "iopub.status.idle": "2024-08-31T05:55:50.186217Z",
     "shell.execute_reply": "2024-08-31T05:55:50.185081Z"
    },
    "papermill": {
     "duration": 0.113877,
     "end_time": "2024-08-31T05:55:50.188658",
     "exception": false,
     "start_time": "2024-08-31T05:55:50.074781",
     "status": "completed"
    },
    "tags": []
   },
   "outputs": [
    {
     "data": {
      "text/html": [
       "<div>\n",
       "<style scoped>\n",
       "    .dataframe tbody tr th:only-of-type {\n",
       "        vertical-align: middle;\n",
       "    }\n",
       "\n",
       "    .dataframe tbody tr th {\n",
       "        vertical-align: top;\n",
       "    }\n",
       "\n",
       "    .dataframe thead th {\n",
       "        text-align: right;\n",
       "    }\n",
       "</style>\n",
       "<table border=\"1\" class=\"dataframe\">\n",
       "  <thead>\n",
       "    <tr style=\"text-align: right;\">\n",
       "      <th></th>\n",
       "      <th>Nama</th>\n",
       "      <th>Usia</th>\n",
       "      <th>Panjang Nama</th>\n",
       "      <th>Kategori_Usia</th>\n",
       "      <th>Setengah_Usia</th>\n",
       "      <th>Hobi</th>\n",
       "      <th>Info</th>\n",
       "      <th>Adalah_Penulis</th>\n",
       "      <th>Warna_Favorit</th>\n",
       "    </tr>\n",
       "  </thead>\n",
       "  <tbody>\n",
       "    <tr>\n",
       "      <th>0</th>\n",
       "      <td>Alice</td>\n",
       "      <td>25</td>\n",
       "      <td>5</td>\n",
       "      <td>Muda</td>\n",
       "      <td>12.5</td>\n",
       "      <td>Membaca</td>\n",
       "      <td>Alice berusia 25 tahun</td>\n",
       "      <td>False</td>\n",
       "      <td>Merah</td>\n",
       "    </tr>\n",
       "    <tr>\n",
       "      <th>1</th>\n",
       "      <td>Bob</td>\n",
       "      <td>30</td>\n",
       "      <td>3</td>\n",
       "      <td>Tua</td>\n",
       "      <td>15.0</td>\n",
       "      <td>Bersepeda</td>\n",
       "      <td>Bob berusia 30 tahun</td>\n",
       "      <td>False</td>\n",
       "      <td>Biru</td>\n",
       "    </tr>\n",
       "    <tr>\n",
       "      <th>2</th>\n",
       "      <td>Charlie</td>\n",
       "      <td>35</td>\n",
       "      <td>7</td>\n",
       "      <td>Tua</td>\n",
       "      <td>17.5</td>\n",
       "      <td>Memasak</td>\n",
       "      <td>Charlie berusia 35 tahun</td>\n",
       "      <td>False</td>\n",
       "      <td>Hijau</td>\n",
       "    </tr>\n",
       "    <tr>\n",
       "      <th>3</th>\n",
       "      <td>David</td>\n",
       "      <td>40</td>\n",
       "      <td>5</td>\n",
       "      <td>Tua</td>\n",
       "      <td>20.0</td>\n",
       "      <td>Menulis</td>\n",
       "      <td>David berusia 40 tahun</td>\n",
       "      <td>True</td>\n",
       "      <td>Biru</td>\n",
       "    </tr>\n",
       "  </tbody>\n",
       "</table>\n",
       "</div>"
      ],
      "text/plain": [
       "      Nama  Usia  Panjang Nama Kategori_Usia  Setengah_Usia       Hobi  \\\n",
       "0    Alice    25             5          Muda           12.5    Membaca   \n",
       "1      Bob    30             3           Tua           15.0  Bersepeda   \n",
       "2  Charlie    35             7           Tua           17.5    Memasak   \n",
       "3    David    40             5           Tua           20.0    Menulis   \n",
       "\n",
       "                       Info  Adalah_Penulis Warna_Favorit  \n",
       "0    Alice berusia 25 tahun           False         Merah  \n",
       "1      Bob berusia 30 tahun           False          Biru  \n",
       "2  Charlie berusia 35 tahun           False         Hijau  \n",
       "3    David berusia 40 tahun            True          Biru  "
      ]
     },
     "execution_count": 130,
     "metadata": {},
     "output_type": "execute_result"
    }
   ],
   "source": [
    "warna_kamus = {\n",
    "    'Alice': 'Merah',\n",
    "    'Charlie': 'Hijau',\n",
    "}\n",
    "df['Warna_Favorit'] = df['Nama'].map(warna_kamus).fillna('Biru')\n",
    "df"
   ]
  },
  {
   "cell_type": "code",
   "execution_count": 131,
   "id": "1b7b9c97",
   "metadata": {
    "execution": {
     "iopub.execute_input": "2024-08-31T05:55:50.375718Z",
     "iopub.status.busy": "2024-08-31T05:55:50.375247Z",
     "iopub.status.idle": "2024-08-31T05:55:50.394144Z",
     "shell.execute_reply": "2024-08-31T05:55:50.392990Z"
    },
    "papermill": {
     "duration": 0.116544,
     "end_time": "2024-08-31T05:55:50.396875",
     "exception": false,
     "start_time": "2024-08-31T05:55:50.280331",
     "status": "completed"
    },
    "tags": []
   },
   "outputs": [
    {
     "data": {
      "text/html": [
       "<div>\n",
       "<style scoped>\n",
       "    .dataframe tbody tr th:only-of-type {\n",
       "        vertical-align: middle;\n",
       "    }\n",
       "\n",
       "    .dataframe tbody tr th {\n",
       "        vertical-align: top;\n",
       "    }\n",
       "\n",
       "    .dataframe thead th {\n",
       "        text-align: right;\n",
       "    }\n",
       "</style>\n",
       "<table border=\"1\" class=\"dataframe\">\n",
       "  <thead>\n",
       "    <tr style=\"text-align: right;\">\n",
       "      <th></th>\n",
       "      <th>Nama</th>\n",
       "      <th>Usia</th>\n",
       "      <th>Panjang Nama</th>\n",
       "      <th>Kategori_Usia</th>\n",
       "      <th>Setengah_Usia</th>\n",
       "      <th>Hobi</th>\n",
       "      <th>Info</th>\n",
       "      <th>Adalah_Penulis</th>\n",
       "      <th>Warna_Favorit</th>\n",
       "      <th>Preferensi_Aktivitas</th>\n",
       "    </tr>\n",
       "  </thead>\n",
       "  <tbody>\n",
       "    <tr>\n",
       "      <th>0</th>\n",
       "      <td>Alice</td>\n",
       "      <td>25</td>\n",
       "      <td>5</td>\n",
       "      <td>Muda</td>\n",
       "      <td>12.5</td>\n",
       "      <td>Membaca</td>\n",
       "      <td>Alice berusia 25 tahun</td>\n",
       "      <td>False</td>\n",
       "      <td>Merah</td>\n",
       "      <td>Dalam</td>\n",
       "    </tr>\n",
       "    <tr>\n",
       "      <th>1</th>\n",
       "      <td>Bob</td>\n",
       "      <td>30</td>\n",
       "      <td>3</td>\n",
       "      <td>Tua</td>\n",
       "      <td>15.0</td>\n",
       "      <td>Bersepeda</td>\n",
       "      <td>Bob berusia 30 tahun</td>\n",
       "      <td>False</td>\n",
       "      <td>Biru</td>\n",
       "      <td>Luar</td>\n",
       "    </tr>\n",
       "    <tr>\n",
       "      <th>2</th>\n",
       "      <td>Charlie</td>\n",
       "      <td>35</td>\n",
       "      <td>7</td>\n",
       "      <td>Tua</td>\n",
       "      <td>17.5</td>\n",
       "      <td>Memasak</td>\n",
       "      <td>Charlie berusia 35 tahun</td>\n",
       "      <td>False</td>\n",
       "      <td>Hijau</td>\n",
       "      <td>Dalam</td>\n",
       "    </tr>\n",
       "    <tr>\n",
       "      <th>3</th>\n",
       "      <td>David</td>\n",
       "      <td>40</td>\n",
       "      <td>5</td>\n",
       "      <td>Tua</td>\n",
       "      <td>20.0</td>\n",
       "      <td>Menulis</td>\n",
       "      <td>David berusia 40 tahun</td>\n",
       "      <td>True</td>\n",
       "      <td>Biru</td>\n",
       "      <td>Dalam</td>\n",
       "    </tr>\n",
       "  </tbody>\n",
       "</table>\n",
       "</div>"
      ],
      "text/plain": [
       "      Nama  Usia  Panjang Nama Kategori_Usia  Setengah_Usia       Hobi  \\\n",
       "0    Alice    25             5          Muda           12.5    Membaca   \n",
       "1      Bob    30             3           Tua           15.0  Bersepeda   \n",
       "2  Charlie    35             7           Tua           17.5    Memasak   \n",
       "3    David    40             5           Tua           20.0    Menulis   \n",
       "\n",
       "                       Info  Adalah_Penulis Warna_Favorit Preferensi_Aktivitas  \n",
       "0    Alice berusia 25 tahun           False         Merah                Dalam  \n",
       "1      Bob berusia 30 tahun           False          Biru                 Luar  \n",
       "2  Charlie berusia 35 tahun           False         Hijau                Dalam  \n",
       "3    David berusia 40 tahun            True          Biru                Dalam  "
      ]
     },
     "execution_count": 131,
     "metadata": {},
     "output_type": "execute_result"
    }
   ],
   "source": [
    "def aktivitas_preferensi(row):\n",
    "    if row == \"Bersepeda\":\n",
    "        return \"Luar\"\n",
    "    return \"Dalam\"\n",
    "\n",
    "df['Preferensi_Aktivitas'] = df['Hobi'].map(aktivitas_preferensi)\n",
    "df"
   ]
  },
  {
   "cell_type": "markdown",
   "id": "b701667e",
   "metadata": {
    "papermill": {
     "duration": 0.094097,
     "end_time": "2024-08-31T05:55:50.584949",
     "exception": false,
     "start_time": "2024-08-31T05:55:50.490852",
     "status": "completed"
    },
    "tags": []
   },
   "source": [
    "## Data Visualization"
   ]
  },
  {
   "cell_type": "markdown",
   "id": "6576d390",
   "metadata": {
    "papermill": {
     "duration": 0.092262,
     "end_time": "2024-08-31T05:55:50.769394",
     "exception": false,
     "start_time": "2024-08-31T05:55:50.677132",
     "status": "completed"
    },
    "tags": []
   },
   "source": [
    "### Line Plot"
   ]
  },
  {
   "cell_type": "code",
   "execution_count": 132,
   "id": "893d2363",
   "metadata": {
    "execution": {
     "iopub.execute_input": "2024-08-31T05:55:50.957269Z",
     "iopub.status.busy": "2024-08-31T05:55:50.956838Z",
     "iopub.status.idle": "2024-08-31T05:55:51.350606Z",
     "shell.execute_reply": "2024-08-31T05:55:51.349106Z"
    },
    "papermill": {
     "duration": 0.491212,
     "end_time": "2024-08-31T05:55:51.353336",
     "exception": false,
     "start_time": "2024-08-31T05:55:50.862124",
     "status": "completed"
    },
    "tags": []
   },
   "outputs": [
    {
     "data": {
      "text/plain": [
       "<Axes: title={'center': 'Line Plot Kolom A'}, xlabel='Index', ylabel='Nilai A'>"
      ]
     },
     "execution_count": 132,
     "metadata": {},
     "output_type": "execute_result"
    },
    {
     "data": {
      "image/png": "[encoded data removed]",
      "text/plain": [
       "<Figure size 640x480 with 1 Axes>"
      ]
     },
     "metadata": {},
     "output_type": "display_data"
    }
   ],
   "source": [
    "df = pd.DataFrame({\n",
    "    'A': np.random.randn(100),\n",
    "    'B': np.random.randint(1, 100, 100),\n",
    "    'C': np.random.uniform(0, 1, 100)\n",
    "})\n",
    "df['A'].plot(title='Line Plot Kolom A', xlabel='Index', ylabel='Nilai A')"
   ]
  },
  {
   "cell_type": "markdown",
   "id": "aaefc7d5",
   "metadata": {
    "papermill": {
     "duration": 0.09606,
     "end_time": "2024-08-31T05:55:51.544157",
     "exception": false,
     "start_time": "2024-08-31T05:55:51.448097",
     "status": "completed"
    },
    "tags": []
   },
   "source": [
    "### Histogram"
   ]
  },
  {
   "cell_type": "code",
   "execution_count": 133,
   "id": "e7bb0ae1",
   "metadata": {
    "execution": {
     "iopub.execute_input": "2024-08-31T05:55:51.735743Z",
     "iopub.status.busy": "2024-08-31T05:55:51.735270Z",
     "iopub.status.idle": "2024-08-31T05:55:52.000012Z",
     "shell.execute_reply": "2024-08-31T05:55:51.998614Z"
    },
    "papermill": {
     "duration": 0.362803,
     "end_time": "2024-08-31T05:55:52.002847",
     "exception": false,
     "start_time": "2024-08-31T05:55:51.640044",
     "status": "completed"
    },
    "tags": []
   },
   "outputs": [
    {
     "data": {
      "text/plain": [
       "<Axes: ylabel='Frequency'>"
      ]
     },
     "execution_count": 133,
     "metadata": {},
     "output_type": "execute_result"
    },
    {
     "data": {
      "image/png": "[encoded data removed]",
      "text/plain": [
       "<Figure size 640x480 with 1 Axes>"
      ]
     },
     "metadata": {},
     "output_type": "display_data"
    }
   ],
   "source": [
    "df['B'].plot(kind='hist')"
   ]
  },
  {
   "cell_type": "code",
   "execution_count": 134,
   "id": "40ef4a9c",
   "metadata": {
    "execution": {
     "iopub.execute_input": "2024-08-31T05:55:52.200973Z",
     "iopub.status.busy": "2024-08-31T05:55:52.200525Z",
     "iopub.status.idle": "2024-08-31T05:55:53.119152Z",
     "shell.execute_reply": "2024-08-31T05:55:53.118050Z"
    },
    "papermill": {
     "duration": 1.018667,
     "end_time": "2024-08-31T05:55:53.122946",
     "exception": false,
     "start_time": "2024-08-31T05:55:52.104279",
     "status": "completed"
    },
    "tags": []
   },
   "outputs": [
    {
     "data": {
      "image/png": "[encoded data removed]",
      "text/plain": [
       "<Figure size 1000x800 with 3 Axes>"
      ]
     },
     "metadata": {},
     "output_type": "display_data"
    }
   ],
   "source": [
    "ax = df.plot(subplots=True, layout=(3,1), figsize=(10,8), title='Subplots Untuk Setiap Kolom')"
   ]
  },
  {
   "cell_type": "code",
   "execution_count": 135,
   "id": "d6c2312e",
   "metadata": {
    "execution": {
     "iopub.execute_input": "2024-08-31T05:55:53.319072Z",
     "iopub.status.busy": "2024-08-31T05:55:53.318649Z",
     "iopub.status.idle": "2024-08-31T05:55:53.632581Z",
     "shell.execute_reply": "2024-08-31T05:55:53.631346Z"
    },
    "papermill": {
     "duration": 0.414308,
     "end_time": "2024-08-31T05:55:53.635030",
     "exception": false,
     "start_time": "2024-08-31T05:55:53.220722",
     "status": "completed"
    },
    "tags": []
   },
   "outputs": [
    {
     "data": {
      "text/plain": [
       "<Axes: title={'center': 'Garis Putus-Putus untuk Kolom A'}>"
      ]
     },
     "execution_count": 135,
     "metadata": {},
     "output_type": "execute_result"
    },
    {
     "data": {
      "image/png": "[encoded data removed]",
      "text/plain": [
       "<Figure size 640x480 with 1 Axes>"
      ]
     },
     "metadata": {},
     "output_type": "display_data"
    }
   ],
   "source": [
    "df['A'].plot(style='--', title='Garis Putus-Putus untuk Kolom A', color='red')"
   ]
  },
  {
   "cell_type": "code",
   "execution_count": 136,
   "id": "0452800a",
   "metadata": {
    "execution": {
     "iopub.execute_input": "2024-08-31T05:55:53.832271Z",
     "iopub.status.busy": "2024-08-31T05:55:53.831358Z",
     "iopub.status.idle": "2024-08-31T05:55:54.297157Z",
     "shell.execute_reply": "2024-08-31T05:55:54.295884Z"
    },
    "papermill": {
     "duration": 0.56779,
     "end_time": "2024-08-31T05:55:54.300019",
     "exception": false,
     "start_time": "2024-08-31T05:55:53.732229",
     "status": "completed"
    },
    "tags": []
   },
   "outputs": [
    {
     "data": {
      "image/png": "[encoded data removed]",
      "text/plain": [
       "<Figure size 640x480 with 1 Axes>"
      ]
     },
     "metadata": {},
     "output_type": "display_data"
    }
   ],
   "source": [
    "plot = df['A'].plot(title='Line Plot Kolom A', grid=True)\n",
    "plot.figure.savefig('plot.png')"
   ]
  },
  {
   "cell_type": "markdown",
   "id": "562de1be",
   "metadata": {
    "papermill": {
     "duration": 0.112872,
     "end_time": "2024-08-31T05:55:54.515137",
     "exception": false,
     "start_time": "2024-08-31T05:55:54.402265",
     "status": "completed"
    },
    "tags": []
   },
   "source": [
    "## Advanced Operation"
   ]
  },
  {
   "cell_type": "markdown",
   "id": "1a4db542",
   "metadata": {
    "papermill": {
     "duration": 0.101906,
     "end_time": "2024-08-31T05:55:54.722188",
     "exception": false,
     "start_time": "2024-08-31T05:55:54.620282",
     "status": "completed"
    },
    "tags": []
   },
   "source": [
    "### Group By"
   ]
  },
  {
   "cell_type": "code",
   "execution_count": 137,
   "id": "bdef69a1",
   "metadata": {
    "execution": {
     "iopub.execute_input": "2024-08-31T05:55:54.927887Z",
     "iopub.status.busy": "2024-08-31T05:55:54.927429Z",
     "iopub.status.idle": "2024-08-31T05:55:54.943330Z",
     "shell.execute_reply": "2024-08-31T05:55:54.942130Z"
    },
    "papermill": {
     "duration": 0.121027,
     "end_time": "2024-08-31T05:55:54.945686",
     "exception": false,
     "start_time": "2024-08-31T05:55:54.824659",
     "status": "completed"
    },
    "tags": []
   },
   "outputs": [
    {
     "data": {
      "text/html": [
       "<div>\n",
       "<style scoped>\n",
       "    .dataframe tbody tr th:only-of-type {\n",
       "        vertical-align: middle;\n",
       "    }\n",
       "\n",
       "    .dataframe tbody tr th {\n",
       "        vertical-align: top;\n",
       "    }\n",
       "\n",
       "    .dataframe thead th {\n",
       "        text-align: right;\n",
       "    }\n",
       "</style>\n",
       "<table border=\"1\" class=\"dataframe\">\n",
       "  <thead>\n",
       "    <tr style=\"text-align: right;\">\n",
       "      <th></th>\n",
       "      <th>Nilai</th>\n",
       "    </tr>\n",
       "    <tr>\n",
       "      <th>Kategori</th>\n",
       "      <th></th>\n",
       "    </tr>\n",
       "  </thead>\n",
       "  <tbody>\n",
       "    <tr>\n",
       "      <th>A</th>\n",
       "      <td>0.597473</td>\n",
       "    </tr>\n",
       "    <tr>\n",
       "      <th>B</th>\n",
       "      <td>0.501379</td>\n",
       "    </tr>\n",
       "    <tr>\n",
       "      <th>C</th>\n",
       "      <td>0.611422</td>\n",
       "    </tr>\n",
       "  </tbody>\n",
       "</table>\n",
       "</div>"
      ],
      "text/plain": [
       "             Nilai\n",
       "Kategori          \n",
       "A         0.597473\n",
       "B         0.501379\n",
       "C         0.611422"
      ]
     },
     "execution_count": 137,
     "metadata": {},
     "output_type": "execute_result"
    }
   ],
   "source": [
    "df = pd.DataFrame({\n",
    "    'Kategori': np.random.choice(['A', 'B', 'C'], size=10),\n",
    "    'Nilai': np.random.rand(10)\n",
    "})\n",
    "grouped = df.groupby('Kategori').mean()\n",
    "grouped"
   ]
  },
  {
   "cell_type": "code",
   "execution_count": 138,
   "id": "6a5fb920",
   "metadata": {
    "execution": {
     "iopub.execute_input": "2024-08-31T05:55:55.153480Z",
     "iopub.status.busy": "2024-08-31T05:55:55.153030Z",
     "iopub.status.idle": "2024-08-31T05:55:55.173770Z",
     "shell.execute_reply": "2024-08-31T05:55:55.172590Z"
    },
    "papermill": {
     "duration": 0.128721,
     "end_time": "2024-08-31T05:55:55.176232",
     "exception": false,
     "start_time": "2024-08-31T05:55:55.047511",
     "status": "completed"
    },
    "tags": []
   },
   "outputs": [
    {
     "data": {
      "text/html": [
       "<div>\n",
       "<style scoped>\n",
       "    .dataframe tbody tr th:only-of-type {\n",
       "        vertical-align: middle;\n",
       "    }\n",
       "\n",
       "    .dataframe tbody tr th {\n",
       "        vertical-align: top;\n",
       "    }\n",
       "\n",
       "    .dataframe thead tr th {\n",
       "        text-align: left;\n",
       "    }\n",
       "\n",
       "    .dataframe thead tr:last-of-type th {\n",
       "        text-align: right;\n",
       "    }\n",
       "</style>\n",
       "<table border=\"1\" class=\"dataframe\">\n",
       "  <thead>\n",
       "    <tr>\n",
       "      <th></th>\n",
       "      <th colspan=\"3\" halign=\"left\">Nilai</th>\n",
       "    </tr>\n",
       "    <tr>\n",
       "      <th></th>\n",
       "      <th>mean</th>\n",
       "      <th>sum</th>\n",
       "      <th>count</th>\n",
       "    </tr>\n",
       "    <tr>\n",
       "      <th>Kategori</th>\n",
       "      <th></th>\n",
       "      <th></th>\n",
       "      <th></th>\n",
       "    </tr>\n",
       "  </thead>\n",
       "  <tbody>\n",
       "    <tr>\n",
       "      <th>A</th>\n",
       "      <td>0.597473</td>\n",
       "      <td>1.792418</td>\n",
       "      <td>3</td>\n",
       "    </tr>\n",
       "    <tr>\n",
       "      <th>B</th>\n",
       "      <td>0.501379</td>\n",
       "      <td>1.002757</td>\n",
       "      <td>2</td>\n",
       "    </tr>\n",
       "    <tr>\n",
       "      <th>C</th>\n",
       "      <td>0.611422</td>\n",
       "      <td>3.057110</td>\n",
       "      <td>5</td>\n",
       "    </tr>\n",
       "  </tbody>\n",
       "</table>\n",
       "</div>"
      ],
      "text/plain": [
       "             Nilai                \n",
       "              mean       sum count\n",
       "Kategori                          \n",
       "A         0.597473  1.792418     3\n",
       "B         0.501379  1.002757     2\n",
       "C         0.611422  3.057110     5"
      ]
     },
     "execution_count": 138,
     "metadata": {},
     "output_type": "execute_result"
    }
   ],
   "source": [
    "aggregated = df.groupby('Kategori').agg(['mean','sum','count'])\n",
    "aggregated"
   ]
  },
  {
   "cell_type": "code",
   "execution_count": 139,
   "id": "f530df2e",
   "metadata": {
    "execution": {
     "iopub.execute_input": "2024-08-31T05:55:55.381043Z",
     "iopub.status.busy": "2024-08-31T05:55:55.380612Z",
     "iopub.status.idle": "2024-08-31T05:55:55.397036Z",
     "shell.execute_reply": "2024-08-31T05:55:55.395846Z"
    },
    "papermill": {
     "duration": 0.122863,
     "end_time": "2024-08-31T05:55:55.399848",
     "exception": false,
     "start_time": "2024-08-31T05:55:55.276985",
     "status": "completed"
    },
    "tags": []
   },
   "outputs": [
    {
     "data": {
      "text/html": [
       "<div>\n",
       "<style scoped>\n",
       "    .dataframe tbody tr th:only-of-type {\n",
       "        vertical-align: middle;\n",
       "    }\n",
       "\n",
       "    .dataframe tbody tr th {\n",
       "        vertical-align: top;\n",
       "    }\n",
       "\n",
       "    .dataframe thead tr th {\n",
       "        text-align: left;\n",
       "    }\n",
       "\n",
       "    .dataframe thead tr:last-of-type th {\n",
       "        text-align: right;\n",
       "    }\n",
       "</style>\n",
       "<table border=\"1\" class=\"dataframe\">\n",
       "  <thead>\n",
       "    <tr>\n",
       "      <th></th>\n",
       "      <th colspan=\"2\" halign=\"left\">Nilai</th>\n",
       "    </tr>\n",
       "    <tr>\n",
       "      <th></th>\n",
       "      <th>mean</th>\n",
       "      <th>sum</th>\n",
       "    </tr>\n",
       "    <tr>\n",
       "      <th>Kategori</th>\n",
       "      <th></th>\n",
       "      <th></th>\n",
       "    </tr>\n",
       "  </thead>\n",
       "  <tbody>\n",
       "    <tr>\n",
       "      <th>A</th>\n",
       "      <td>0.597473</td>\n",
       "      <td>1.792418</td>\n",
       "    </tr>\n",
       "    <tr>\n",
       "      <th>B</th>\n",
       "      <td>0.501379</td>\n",
       "      <td>1.002757</td>\n",
       "    </tr>\n",
       "    <tr>\n",
       "      <th>C</th>\n",
       "      <td>0.611422</td>\n",
       "      <td>3.057110</td>\n",
       "    </tr>\n",
       "  </tbody>\n",
       "</table>\n",
       "</div>"
      ],
      "text/plain": [
       "             Nilai          \n",
       "              mean       sum\n",
       "Kategori                    \n",
       "A         0.597473  1.792418\n",
       "B         0.501379  1.002757\n",
       "C         0.611422  3.057110"
      ]
     },
     "execution_count": 139,
     "metadata": {},
     "output_type": "execute_result"
    }
   ],
   "source": [
    "aggregated = df.groupby('Kategori').agg({\n",
    "    'Nilai': ['mean','sum']\n",
    "})\n",
    "aggregated"
   ]
  },
  {
   "cell_type": "code",
   "execution_count": 140,
   "id": "2401e8dd",
   "metadata": {
    "execution": {
     "iopub.execute_input": "2024-08-31T05:55:55.607658Z",
     "iopub.status.busy": "2024-08-31T05:55:55.606572Z",
     "iopub.status.idle": "2024-08-31T05:55:55.623229Z",
     "shell.execute_reply": "2024-08-31T05:55:55.621917Z"
    },
    "papermill": {
     "duration": 0.124072,
     "end_time": "2024-08-31T05:55:55.625851",
     "exception": false,
     "start_time": "2024-08-31T05:55:55.501779",
     "status": "completed"
    },
    "tags": []
   },
   "outputs": [
    {
     "data": {
      "text/html": [
       "<div>\n",
       "<style scoped>\n",
       "    .dataframe tbody tr th:only-of-type {\n",
       "        vertical-align: middle;\n",
       "    }\n",
       "\n",
       "    .dataframe tbody tr th {\n",
       "        vertical-align: top;\n",
       "    }\n",
       "\n",
       "    .dataframe thead th {\n",
       "        text-align: right;\n",
       "    }\n",
       "</style>\n",
       "<table border=\"1\" class=\"dataframe\">\n",
       "  <thead>\n",
       "    <tr style=\"text-align: right;\">\n",
       "      <th></th>\n",
       "      <th>Kategori</th>\n",
       "      <th>Nilai</th>\n",
       "    </tr>\n",
       "  </thead>\n",
       "  <tbody>\n",
       "    <tr>\n",
       "      <th>0</th>\n",
       "      <td>C</td>\n",
       "      <td>0.533466</td>\n",
       "    </tr>\n",
       "    <tr>\n",
       "      <th>1</th>\n",
       "      <td>A</td>\n",
       "      <td>0.304582</td>\n",
       "    </tr>\n",
       "    <tr>\n",
       "      <th>2</th>\n",
       "      <td>C</td>\n",
       "      <td>0.882860</td>\n",
       "    </tr>\n",
       "    <tr>\n",
       "      <th>4</th>\n",
       "      <td>A</td>\n",
       "      <td>0.677412</td>\n",
       "    </tr>\n",
       "    <tr>\n",
       "      <th>5</th>\n",
       "      <td>A</td>\n",
       "      <td>0.810424</td>\n",
       "    </tr>\n",
       "    <tr>\n",
       "      <th>6</th>\n",
       "      <td>C</td>\n",
       "      <td>0.432148</td>\n",
       "    </tr>\n",
       "    <tr>\n",
       "      <th>8</th>\n",
       "      <td>C</td>\n",
       "      <td>0.829602</td>\n",
       "    </tr>\n",
       "    <tr>\n",
       "      <th>9</th>\n",
       "      <td>C</td>\n",
       "      <td>0.379034</td>\n",
       "    </tr>\n",
       "  </tbody>\n",
       "</table>\n",
       "</div>"
      ],
      "text/plain": [
       "  Kategori     Nilai\n",
       "0        C  0.533466\n",
       "1        A  0.304582\n",
       "2        C  0.882860\n",
       "4        A  0.677412\n",
       "5        A  0.810424\n",
       "6        C  0.432148\n",
       "8        C  0.829602\n",
       "9        C  0.379034"
      ]
     },
     "execution_count": 140,
     "metadata": {},
     "output_type": "execute_result"
    }
   ],
   "source": [
    "filtered = df.groupby('Kategori').filter(lambda x: len(x) > 2)\n",
    "filtered"
   ]
  },
  {
   "cell_type": "markdown",
   "id": "d1c67dd1",
   "metadata": {
    "papermill": {
     "duration": 0.100327,
     "end_time": "2024-08-31T05:55:55.828305",
     "exception": false,
     "start_time": "2024-08-31T05:55:55.727978",
     "status": "completed"
    },
    "tags": []
   },
   "source": [
    "### Pivot Table"
   ]
  },
  {
   "cell_type": "code",
   "execution_count": 141,
   "id": "750f5afd",
   "metadata": {
    "execution": {
     "iopub.execute_input": "2024-08-31T05:55:56.037050Z",
     "iopub.status.busy": "2024-08-31T05:55:56.036432Z",
     "iopub.status.idle": "2024-08-31T05:55:56.057772Z",
     "shell.execute_reply": "2024-08-31T05:55:56.056636Z"
    },
    "papermill": {
     "duration": 0.130337,
     "end_time": "2024-08-31T05:55:56.060611",
     "exception": false,
     "start_time": "2024-08-31T05:55:55.930274",
     "status": "completed"
    },
    "tags": []
   },
   "outputs": [
    {
     "data": {
      "text/html": [
       "<div>\n",
       "<style scoped>\n",
       "    .dataframe tbody tr th:only-of-type {\n",
       "        vertical-align: middle;\n",
       "    }\n",
       "\n",
       "    .dataframe tbody tr th {\n",
       "        vertical-align: top;\n",
       "    }\n",
       "\n",
       "    .dataframe thead tr th {\n",
       "        text-align: left;\n",
       "    }\n",
       "\n",
       "    .dataframe thead tr:last-of-type th {\n",
       "        text-align: right;\n",
       "    }\n",
       "</style>\n",
       "<table border=\"1\" class=\"dataframe\">\n",
       "  <thead>\n",
       "    <tr>\n",
       "      <th></th>\n",
       "      <th>mean</th>\n",
       "      <th>sum</th>\n",
       "    </tr>\n",
       "    <tr>\n",
       "      <th></th>\n",
       "      <th>Nilai</th>\n",
       "      <th>Nilai</th>\n",
       "    </tr>\n",
       "    <tr>\n",
       "      <th>Kategori</th>\n",
       "      <th></th>\n",
       "      <th></th>\n",
       "    </tr>\n",
       "  </thead>\n",
       "  <tbody>\n",
       "    <tr>\n",
       "      <th>A</th>\n",
       "      <td>0.597473</td>\n",
       "      <td>1.792418</td>\n",
       "    </tr>\n",
       "    <tr>\n",
       "      <th>B</th>\n",
       "      <td>0.501379</td>\n",
       "      <td>1.002757</td>\n",
       "    </tr>\n",
       "    <tr>\n",
       "      <th>C</th>\n",
       "      <td>0.611422</td>\n",
       "      <td>3.057110</td>\n",
       "    </tr>\n",
       "  </tbody>\n",
       "</table>\n",
       "</div>"
      ],
      "text/plain": [
       "              mean       sum\n",
       "             Nilai     Nilai\n",
       "Kategori                    \n",
       "A         0.597473  1.792418\n",
       "B         0.501379  1.002757\n",
       "C         0.611422  3.057110"
      ]
     },
     "execution_count": 141,
     "metadata": {},
     "output_type": "execute_result"
    }
   ],
   "source": [
    "pivot_simple = df.pivot_table(values='Nilai', index='Kategori', aggfunc=['mean','sum'])\n",
    "pivot_simple"
   ]
  },
  {
   "cell_type": "code",
   "execution_count": 142,
   "id": "0cb3b498",
   "metadata": {
    "execution": {
     "iopub.execute_input": "2024-08-31T05:55:56.267152Z",
     "iopub.status.busy": "2024-08-31T05:55:56.266707Z",
     "iopub.status.idle": "2024-08-31T05:55:56.280692Z",
     "shell.execute_reply": "2024-08-31T05:55:56.279193Z"
    },
    "papermill": {
     "duration": 0.120484,
     "end_time": "2024-08-31T05:55:56.283756",
     "exception": false,
     "start_time": "2024-08-31T05:55:56.163272",
     "status": "completed"
    },
    "tags": []
   },
   "outputs": [
    {
     "name": "stdout",
     "output_type": "stream",
     "text": [
      "df 1:\n"
     ]
    },
    {
     "data": {
      "text/html": [
       "<div>\n",
       "<style scoped>\n",
       "    .dataframe tbody tr th:only-of-type {\n",
       "        vertical-align: middle;\n",
       "    }\n",
       "\n",
       "    .dataframe tbody tr th {\n",
       "        vertical-align: top;\n",
       "    }\n",
       "\n",
       "    .dataframe thead th {\n",
       "        text-align: right;\n",
       "    }\n",
       "</style>\n",
       "<table border=\"1\" class=\"dataframe\">\n",
       "  <thead>\n",
       "    <tr style=\"text-align: right;\">\n",
       "      <th></th>\n",
       "      <th>Kategori</th>\n",
       "      <th>Data 1</th>\n",
       "    </tr>\n",
       "  </thead>\n",
       "  <tbody>\n",
       "    <tr>\n",
       "      <th>0</th>\n",
       "      <td>A</td>\n",
       "      <td>0.096550</td>\n",
       "    </tr>\n",
       "    <tr>\n",
       "      <th>1</th>\n",
       "      <td>B</td>\n",
       "      <td>0.256140</td>\n",
       "    </tr>\n",
       "    <tr>\n",
       "      <th>2</th>\n",
       "      <td>C</td>\n",
       "      <td>0.591935</td>\n",
       "    </tr>\n",
       "    <tr>\n",
       "      <th>3</th>\n",
       "      <td>D</td>\n",
       "      <td>0.476477</td>\n",
       "    </tr>\n",
       "  </tbody>\n",
       "</table>\n",
       "</div>"
      ],
      "text/plain": [
       "  Kategori    Data 1\n",
       "0        A  0.096550\n",
       "1        B  0.256140\n",
       "2        C  0.591935\n",
       "3        D  0.476477"
      ]
     },
     "execution_count": 142,
     "metadata": {},
     "output_type": "execute_result"
    }
   ],
   "source": [
    "df = pd.DataFrame({\n",
    "    'Kategori': ['A', 'B', 'C', 'D'],\n",
    "    'Data 1': np.random.rand(4)\n",
    "})\n",
    "print(\"df 1:\")\n",
    "df.head()"
   ]
  },
  {
   "cell_type": "code",
   "execution_count": 143,
   "id": "624e873e",
   "metadata": {
    "execution": {
     "iopub.execute_input": "2024-08-31T05:55:56.490167Z",
     "iopub.status.busy": "2024-08-31T05:55:56.489762Z",
     "iopub.status.idle": "2024-08-31T05:55:56.505185Z",
     "shell.execute_reply": "2024-08-31T05:55:56.503758Z"
    },
    "papermill": {
     "duration": 0.124194,
     "end_time": "2024-08-31T05:55:56.509774",
     "exception": false,
     "start_time": "2024-08-31T05:55:56.385580",
     "status": "completed"
    },
    "tags": []
   },
   "outputs": [
    {
     "name": "stdout",
     "output_type": "stream",
     "text": [
      "df 2:\n"
     ]
    },
    {
     "data": {
      "text/html": [
       "<div>\n",
       "<style scoped>\n",
       "    .dataframe tbody tr th:only-of-type {\n",
       "        vertical-align: middle;\n",
       "    }\n",
       "\n",
       "    .dataframe tbody tr th {\n",
       "        vertical-align: top;\n",
       "    }\n",
       "\n",
       "    .dataframe thead th {\n",
       "        text-align: right;\n",
       "    }\n",
       "</style>\n",
       "<table border=\"1\" class=\"dataframe\">\n",
       "  <thead>\n",
       "    <tr style=\"text-align: right;\">\n",
       "      <th></th>\n",
       "      <th>Kategori</th>\n",
       "      <th>Data 2</th>\n",
       "    </tr>\n",
       "  </thead>\n",
       "  <tbody>\n",
       "    <tr>\n",
       "      <th>0</th>\n",
       "      <td>C</td>\n",
       "      <td>0.487935</td>\n",
       "    </tr>\n",
       "    <tr>\n",
       "      <th>1</th>\n",
       "      <td>D</td>\n",
       "      <td>0.458515</td>\n",
       "    </tr>\n",
       "    <tr>\n",
       "      <th>2</th>\n",
       "      <td>E</td>\n",
       "      <td>0.524593</td>\n",
       "    </tr>\n",
       "    <tr>\n",
       "      <th>3</th>\n",
       "      <td>F</td>\n",
       "      <td>0.442015</td>\n",
       "    </tr>\n",
       "  </tbody>\n",
       "</table>\n",
       "</div>"
      ],
      "text/plain": [
       "  Kategori    Data 2\n",
       "0        C  0.487935\n",
       "1        D  0.458515\n",
       "2        E  0.524593\n",
       "3        F  0.442015"
      ]
     },
     "execution_count": 143,
     "metadata": {},
     "output_type": "execute_result"
    }
   ],
   "source": [
    "df2 = pd.DataFrame({\n",
    "    'Kategori': ['C', 'D', 'E', 'F'],\n",
    "    'Data 2': np.random.rand(4)\n",
    "})\n",
    "print(\"df 2:\")\n",
    "df2.head()"
   ]
  },
  {
   "cell_type": "code",
   "execution_count": 144,
   "id": "fa0b645c",
   "metadata": {
    "execution": {
     "iopub.execute_input": "2024-08-31T05:55:56.718670Z",
     "iopub.status.busy": "2024-08-31T05:55:56.718225Z",
     "iopub.status.idle": "2024-08-31T05:55:56.732758Z",
     "shell.execute_reply": "2024-08-31T05:55:56.731555Z"
    },
    "papermill": {
     "duration": 0.120326,
     "end_time": "2024-08-31T05:55:56.735238",
     "exception": false,
     "start_time": "2024-08-31T05:55:56.614912",
     "status": "completed"
    },
    "tags": []
   },
   "outputs": [
    {
     "data": {
      "text/html": [
       "<div>\n",
       "<style scoped>\n",
       "    .dataframe tbody tr th:only-of-type {\n",
       "        vertical-align: middle;\n",
       "    }\n",
       "\n",
       "    .dataframe tbody tr th {\n",
       "        vertical-align: top;\n",
       "    }\n",
       "\n",
       "    .dataframe thead th {\n",
       "        text-align: right;\n",
       "    }\n",
       "</style>\n",
       "<table border=\"1\" class=\"dataframe\">\n",
       "  <thead>\n",
       "    <tr style=\"text-align: right;\">\n",
       "      <th></th>\n",
       "      <th>Kategori</th>\n",
       "      <th>Data 1</th>\n",
       "      <th>Data 2</th>\n",
       "    </tr>\n",
       "  </thead>\n",
       "  <tbody>\n",
       "    <tr>\n",
       "      <th>0</th>\n",
       "      <td>C</td>\n",
       "      <td>0.591935</td>\n",
       "      <td>0.487935</td>\n",
       "    </tr>\n",
       "    <tr>\n",
       "      <th>1</th>\n",
       "      <td>D</td>\n",
       "      <td>0.476477</td>\n",
       "      <td>0.458515</td>\n",
       "    </tr>\n",
       "  </tbody>\n",
       "</table>\n",
       "</div>"
      ],
      "text/plain": [
       "  Kategori    Data 1    Data 2\n",
       "0        C  0.591935  0.487935\n",
       "1        D  0.476477  0.458515"
      ]
     },
     "execution_count": 144,
     "metadata": {},
     "output_type": "execute_result"
    }
   ],
   "source": [
    "merged_simple = pd.merge(df, df2, on='Kategori')\n",
    "merged_simple"
   ]
  },
  {
   "cell_type": "code",
   "execution_count": 145,
   "id": "229c118e",
   "metadata": {
    "execution": {
     "iopub.execute_input": "2024-08-31T05:55:56.940122Z",
     "iopub.status.busy": "2024-08-31T05:55:56.939396Z",
     "iopub.status.idle": "2024-08-31T05:55:56.953954Z",
     "shell.execute_reply": "2024-08-31T05:55:56.952766Z"
    },
    "papermill": {
     "duration": 0.119528,
     "end_time": "2024-08-31T05:55:56.956401",
     "exception": false,
     "start_time": "2024-08-31T05:55:56.836873",
     "status": "completed"
    },
    "tags": []
   },
   "outputs": [
    {
     "data": {
      "text/html": [
       "<div>\n",
       "<style scoped>\n",
       "    .dataframe tbody tr th:only-of-type {\n",
       "        vertical-align: middle;\n",
       "    }\n",
       "\n",
       "    .dataframe tbody tr th {\n",
       "        vertical-align: top;\n",
       "    }\n",
       "\n",
       "    .dataframe thead th {\n",
       "        text-align: right;\n",
       "    }\n",
       "</style>\n",
       "<table border=\"1\" class=\"dataframe\">\n",
       "  <thead>\n",
       "    <tr style=\"text-align: right;\">\n",
       "      <th></th>\n",
       "      <th>Kategori</th>\n",
       "      <th>Data 1</th>\n",
       "      <th>Data 2</th>\n",
       "    </tr>\n",
       "  </thead>\n",
       "  <tbody>\n",
       "    <tr>\n",
       "      <th>0</th>\n",
       "      <td>A</td>\n",
       "      <td>0.096550</td>\n",
       "      <td>NaN</td>\n",
       "    </tr>\n",
       "    <tr>\n",
       "      <th>1</th>\n",
       "      <td>B</td>\n",
       "      <td>0.256140</td>\n",
       "      <td>NaN</td>\n",
       "    </tr>\n",
       "    <tr>\n",
       "      <th>2</th>\n",
       "      <td>C</td>\n",
       "      <td>0.591935</td>\n",
       "      <td>0.487935</td>\n",
       "    </tr>\n",
       "    <tr>\n",
       "      <th>3</th>\n",
       "      <td>D</td>\n",
       "      <td>0.476477</td>\n",
       "      <td>0.458515</td>\n",
       "    </tr>\n",
       "  </tbody>\n",
       "</table>\n",
       "</div>"
      ],
      "text/plain": [
       "  Kategori    Data 1    Data 2\n",
       "0        A  0.096550       NaN\n",
       "1        B  0.256140       NaN\n",
       "2        C  0.591935  0.487935\n",
       "3        D  0.476477  0.458515"
      ]
     },
     "execution_count": 145,
     "metadata": {},
     "output_type": "execute_result"
    }
   ],
   "source": [
    "merged_left = pd.merge(df, df2, on='Kategori', how='left')\n",
    "merged_left"
   ]
  },
  {
   "cell_type": "code",
   "execution_count": 146,
   "id": "4e41437b",
   "metadata": {
    "execution": {
     "iopub.execute_input": "2024-08-31T05:55:57.163458Z",
     "iopub.status.busy": "2024-08-31T05:55:57.163055Z",
     "iopub.status.idle": "2024-08-31T05:55:57.178274Z",
     "shell.execute_reply": "2024-08-31T05:55:57.177095Z"
    },
    "papermill": {
     "duration": 0.122479,
     "end_time": "2024-08-31T05:55:57.180791",
     "exception": false,
     "start_time": "2024-08-31T05:55:57.058312",
     "status": "completed"
    },
    "tags": []
   },
   "outputs": [
    {
     "data": {
      "text/html": [
       "<div>\n",
       "<style scoped>\n",
       "    .dataframe tbody tr th:only-of-type {\n",
       "        vertical-align: middle;\n",
       "    }\n",
       "\n",
       "    .dataframe tbody tr th {\n",
       "        vertical-align: top;\n",
       "    }\n",
       "\n",
       "    .dataframe thead th {\n",
       "        text-align: right;\n",
       "    }\n",
       "</style>\n",
       "<table border=\"1\" class=\"dataframe\">\n",
       "  <thead>\n",
       "    <tr style=\"text-align: right;\">\n",
       "      <th></th>\n",
       "      <th>Kategori</th>\n",
       "      <th>Data 1</th>\n",
       "      <th>Data 2</th>\n",
       "    </tr>\n",
       "  </thead>\n",
       "  <tbody>\n",
       "    <tr>\n",
       "      <th>0</th>\n",
       "      <td>C</td>\n",
       "      <td>0.591935</td>\n",
       "      <td>0.487935</td>\n",
       "    </tr>\n",
       "    <tr>\n",
       "      <th>1</th>\n",
       "      <td>D</td>\n",
       "      <td>0.476477</td>\n",
       "      <td>0.458515</td>\n",
       "    </tr>\n",
       "    <tr>\n",
       "      <th>2</th>\n",
       "      <td>E</td>\n",
       "      <td>NaN</td>\n",
       "      <td>0.524593</td>\n",
       "    </tr>\n",
       "    <tr>\n",
       "      <th>3</th>\n",
       "      <td>F</td>\n",
       "      <td>NaN</td>\n",
       "      <td>0.442015</td>\n",
       "    </tr>\n",
       "  </tbody>\n",
       "</table>\n",
       "</div>"
      ],
      "text/plain": [
       "  Kategori    Data 1    Data 2\n",
       "0        C  0.591935  0.487935\n",
       "1        D  0.476477  0.458515\n",
       "2        E       NaN  0.524593\n",
       "3        F       NaN  0.442015"
      ]
     },
     "execution_count": 146,
     "metadata": {},
     "output_type": "execute_result"
    }
   ],
   "source": [
    "merged_right = pd.merge(df, df2, on='Kategori', how='right')\n",
    "merged_right"
   ]
  },
  {
   "cell_type": "code",
   "execution_count": 147,
   "id": "a0588b51",
   "metadata": {
    "execution": {
     "iopub.execute_input": "2024-08-31T05:55:57.387447Z",
     "iopub.status.busy": "2024-08-31T05:55:57.387009Z",
     "iopub.status.idle": "2024-08-31T05:55:57.402786Z",
     "shell.execute_reply": "2024-08-31T05:55:57.401600Z"
    },
    "papermill": {
     "duration": 0.12159,
     "end_time": "2024-08-31T05:55:57.405356",
     "exception": false,
     "start_time": "2024-08-31T05:55:57.283766",
     "status": "completed"
    },
    "tags": []
   },
   "outputs": [
    {
     "data": {
      "text/html": [
       "<div>\n",
       "<style scoped>\n",
       "    .dataframe tbody tr th:only-of-type {\n",
       "        vertical-align: middle;\n",
       "    }\n",
       "\n",
       "    .dataframe tbody tr th {\n",
       "        vertical-align: top;\n",
       "    }\n",
       "\n",
       "    .dataframe thead th {\n",
       "        text-align: right;\n",
       "    }\n",
       "</style>\n",
       "<table border=\"1\" class=\"dataframe\">\n",
       "  <thead>\n",
       "    <tr style=\"text-align: right;\">\n",
       "      <th></th>\n",
       "      <th>Kategori</th>\n",
       "      <th>Data 1</th>\n",
       "      <th>Data 2</th>\n",
       "    </tr>\n",
       "  </thead>\n",
       "  <tbody>\n",
       "    <tr>\n",
       "      <th>0</th>\n",
       "      <td>C</td>\n",
       "      <td>0.591935</td>\n",
       "      <td>0.487935</td>\n",
       "    </tr>\n",
       "    <tr>\n",
       "      <th>1</th>\n",
       "      <td>D</td>\n",
       "      <td>0.476477</td>\n",
       "      <td>0.458515</td>\n",
       "    </tr>\n",
       "  </tbody>\n",
       "</table>\n",
       "</div>"
      ],
      "text/plain": [
       "  Kategori    Data 1    Data 2\n",
       "0        C  0.591935  0.487935\n",
       "1        D  0.476477  0.458515"
      ]
     },
     "execution_count": 147,
     "metadata": {},
     "output_type": "execute_result"
    }
   ],
   "source": [
    "merged_inner = pd.merge(df, df2, on='Kategori', how='inner')\n",
    "merged_inner"
   ]
  },
  {
   "cell_type": "code",
   "execution_count": 148,
   "id": "64c74298",
   "metadata": {
    "execution": {
     "iopub.execute_input": "2024-08-31T05:55:57.615218Z",
     "iopub.status.busy": "2024-08-31T05:55:57.614797Z",
     "iopub.status.idle": "2024-08-31T05:55:57.631843Z",
     "shell.execute_reply": "2024-08-31T05:55:57.630579Z"
    },
    "papermill": {
     "duration": 0.125799,
     "end_time": "2024-08-31T05:55:57.634448",
     "exception": false,
     "start_time": "2024-08-31T05:55:57.508649",
     "status": "completed"
    },
    "tags": []
   },
   "outputs": [
    {
     "data": {
      "text/html": [
       "<div>\n",
       "<style scoped>\n",
       "    .dataframe tbody tr th:only-of-type {\n",
       "        vertical-align: middle;\n",
       "    }\n",
       "\n",
       "    .dataframe tbody tr th {\n",
       "        vertical-align: top;\n",
       "    }\n",
       "\n",
       "    .dataframe thead th {\n",
       "        text-align: right;\n",
       "    }\n",
       "</style>\n",
       "<table border=\"1\" class=\"dataframe\">\n",
       "  <thead>\n",
       "    <tr style=\"text-align: right;\">\n",
       "      <th></th>\n",
       "      <th>Kategori</th>\n",
       "      <th>Data 1</th>\n",
       "      <th>Data 2</th>\n",
       "    </tr>\n",
       "  </thead>\n",
       "  <tbody>\n",
       "    <tr>\n",
       "      <th>0</th>\n",
       "      <td>A</td>\n",
       "      <td>0.096550</td>\n",
       "      <td>NaN</td>\n",
       "    </tr>\n",
       "    <tr>\n",
       "      <th>1</th>\n",
       "      <td>B</td>\n",
       "      <td>0.256140</td>\n",
       "      <td>NaN</td>\n",
       "    </tr>\n",
       "    <tr>\n",
       "      <th>2</th>\n",
       "      <td>C</td>\n",
       "      <td>0.591935</td>\n",
       "      <td>0.487935</td>\n",
       "    </tr>\n",
       "    <tr>\n",
       "      <th>3</th>\n",
       "      <td>D</td>\n",
       "      <td>0.476477</td>\n",
       "      <td>0.458515</td>\n",
       "    </tr>\n",
       "    <tr>\n",
       "      <th>4</th>\n",
       "      <td>E</td>\n",
       "      <td>NaN</td>\n",
       "      <td>0.524593</td>\n",
       "    </tr>\n",
       "    <tr>\n",
       "      <th>5</th>\n",
       "      <td>F</td>\n",
       "      <td>NaN</td>\n",
       "      <td>0.442015</td>\n",
       "    </tr>\n",
       "  </tbody>\n",
       "</table>\n",
       "</div>"
      ],
      "text/plain": [
       "  Kategori    Data 1    Data 2\n",
       "0        A  0.096550       NaN\n",
       "1        B  0.256140       NaN\n",
       "2        C  0.591935  0.487935\n",
       "3        D  0.476477  0.458515\n",
       "4        E       NaN  0.524593\n",
       "5        F       NaN  0.442015"
      ]
     },
     "execution_count": 148,
     "metadata": {},
     "output_type": "execute_result"
    }
   ],
   "source": [
    "merged_outer = pd.merge(df, df2, on='Kategori', how='outer')\n",
    "merged_outer"
   ]
  },
  {
   "cell_type": "code",
   "execution_count": 149,
   "id": "e98f5717",
   "metadata": {
    "execution": {
     "iopub.execute_input": "2024-08-31T05:55:57.844451Z",
     "iopub.status.busy": "2024-08-31T05:55:57.843366Z",
     "iopub.status.idle": "2024-08-31T05:55:57.858209Z",
     "shell.execute_reply": "2024-08-31T05:55:57.857042Z"
    },
    "papermill": {
     "duration": 0.123376,
     "end_time": "2024-08-31T05:55:57.861018",
     "exception": false,
     "start_time": "2024-08-31T05:55:57.737642",
     "status": "completed"
    },
    "tags": []
   },
   "outputs": [
    {
     "data": {
      "text/html": [
       "<div>\n",
       "<style scoped>\n",
       "    .dataframe tbody tr th:only-of-type {\n",
       "        vertical-align: middle;\n",
       "    }\n",
       "\n",
       "    .dataframe tbody tr th {\n",
       "        vertical-align: top;\n",
       "    }\n",
       "\n",
       "    .dataframe thead th {\n",
       "        text-align: right;\n",
       "    }\n",
       "</style>\n",
       "<table border=\"1\" class=\"dataframe\">\n",
       "  <thead>\n",
       "    <tr style=\"text-align: right;\">\n",
       "      <th></th>\n",
       "      <th>Kategori_x</th>\n",
       "      <th>Data 1</th>\n",
       "      <th>Kategori_y</th>\n",
       "      <th>Data 2</th>\n",
       "    </tr>\n",
       "  </thead>\n",
       "  <tbody>\n",
       "    <tr>\n",
       "      <th>0</th>\n",
       "      <td>A</td>\n",
       "      <td>0.096550</td>\n",
       "      <td>C</td>\n",
       "      <td>0.487935</td>\n",
       "    </tr>\n",
       "    <tr>\n",
       "      <th>1</th>\n",
       "      <td>B</td>\n",
       "      <td>0.256140</td>\n",
       "      <td>D</td>\n",
       "      <td>0.458515</td>\n",
       "    </tr>\n",
       "    <tr>\n",
       "      <th>2</th>\n",
       "      <td>C</td>\n",
       "      <td>0.591935</td>\n",
       "      <td>E</td>\n",
       "      <td>0.524593</td>\n",
       "    </tr>\n",
       "    <tr>\n",
       "      <th>3</th>\n",
       "      <td>D</td>\n",
       "      <td>0.476477</td>\n",
       "      <td>F</td>\n",
       "      <td>0.442015</td>\n",
       "    </tr>\n",
       "  </tbody>\n",
       "</table>\n",
       "</div>"
      ],
      "text/plain": [
       "  Kategori_x    Data 1 Kategori_y    Data 2\n",
       "0          A  0.096550          C  0.487935\n",
       "1          B  0.256140          D  0.458515\n",
       "2          C  0.591935          E  0.524593\n",
       "3          D  0.476477          F  0.442015"
      ]
     },
     "execution_count": 149,
     "metadata": {},
     "output_type": "execute_result"
    }
   ],
   "source": [
    "merged_index = pd.merge(df, df2, left_index=True, right_index=True)\n",
    "merged_index"
   ]
  },
  {
   "cell_type": "code",
   "execution_count": 150,
   "id": "2a7056e5",
   "metadata": {
    "execution": {
     "iopub.execute_input": "2024-08-31T05:55:58.073521Z",
     "iopub.status.busy": "2024-08-31T05:55:58.073089Z",
     "iopub.status.idle": "2024-08-31T05:55:58.098873Z",
     "shell.execute_reply": "2024-08-31T05:55:58.097654Z"
    },
    "papermill": {
     "duration": 0.135001,
     "end_time": "2024-08-31T05:55:58.101993",
     "exception": false,
     "start_time": "2024-08-31T05:55:57.966992",
     "status": "completed"
    },
    "tags": []
   },
   "outputs": [
    {
     "data": {
      "text/html": [
       "<div>\n",
       "<style scoped>\n",
       "    .dataframe tbody tr th:only-of-type {\n",
       "        vertical-align: middle;\n",
       "    }\n",
       "\n",
       "    .dataframe tbody tr th {\n",
       "        vertical-align: top;\n",
       "    }\n",
       "\n",
       "    .dataframe thead th {\n",
       "        text-align: right;\n",
       "    }\n",
       "</style>\n",
       "<table border=\"1\" class=\"dataframe\">\n",
       "  <thead>\n",
       "    <tr style=\"text-align: right;\">\n",
       "      <th></th>\n",
       "      <th>Kategori</th>\n",
       "      <th>Data 1</th>\n",
       "      <th>Data 2</th>\n",
       "      <th>_merge</th>\n",
       "    </tr>\n",
       "  </thead>\n",
       "  <tbody>\n",
       "    <tr>\n",
       "      <th>0</th>\n",
       "      <td>A</td>\n",
       "      <td>0.096550</td>\n",
       "      <td>NaN</td>\n",
       "      <td>left_only</td>\n",
       "    </tr>\n",
       "    <tr>\n",
       "      <th>1</th>\n",
       "      <td>B</td>\n",
       "      <td>0.256140</td>\n",
       "      <td>NaN</td>\n",
       "      <td>left_only</td>\n",
       "    </tr>\n",
       "    <tr>\n",
       "      <th>2</th>\n",
       "      <td>C</td>\n",
       "      <td>0.591935</td>\n",
       "      <td>0.487935</td>\n",
       "      <td>both</td>\n",
       "    </tr>\n",
       "    <tr>\n",
       "      <th>3</th>\n",
       "      <td>D</td>\n",
       "      <td>0.476477</td>\n",
       "      <td>0.458515</td>\n",
       "      <td>both</td>\n",
       "    </tr>\n",
       "    <tr>\n",
       "      <th>4</th>\n",
       "      <td>E</td>\n",
       "      <td>NaN</td>\n",
       "      <td>0.524593</td>\n",
       "      <td>right_only</td>\n",
       "    </tr>\n",
       "    <tr>\n",
       "      <th>5</th>\n",
       "      <td>F</td>\n",
       "      <td>NaN</td>\n",
       "      <td>0.442015</td>\n",
       "      <td>right_only</td>\n",
       "    </tr>\n",
       "  </tbody>\n",
       "</table>\n",
       "</div>"
      ],
      "text/plain": [
       "  Kategori    Data 1    Data 2      _merge\n",
       "0        A  0.096550       NaN   left_only\n",
       "1        B  0.256140       NaN   left_only\n",
       "2        C  0.591935  0.487935        both\n",
       "3        D  0.476477  0.458515        both\n",
       "4        E       NaN  0.524593  right_only\n",
       "5        F       NaN  0.442015  right_only"
      ]
     },
     "execution_count": 150,
     "metadata": {},
     "output_type": "execute_result"
    }
   ],
   "source": [
    "merged_indicator = pd.merge(df, df2, on='Kategori', how='outer', indicator=True)\n",
    "merged_indicator"
   ]
  },
  {
   "cell_type": "code",
   "execution_count": 151,
   "id": "8010c1d2",
   "metadata": {
    "execution": {
     "iopub.execute_input": "2024-08-31T05:55:58.312785Z",
     "iopub.status.busy": "2024-08-31T05:55:58.312257Z",
     "iopub.status.idle": "2024-08-31T05:55:58.333715Z",
     "shell.execute_reply": "2024-08-31T05:55:58.332340Z"
    },
    "papermill": {
     "duration": 0.131006,
     "end_time": "2024-08-31T05:55:58.336395",
     "exception": false,
     "start_time": "2024-08-31T05:55:58.205389",
     "status": "completed"
    },
    "tags": []
   },
   "outputs": [
    {
     "data": {
      "text/html": [
       "<div>\n",
       "<style scoped>\n",
       "    .dataframe tbody tr th:only-of-type {\n",
       "        vertical-align: middle;\n",
       "    }\n",
       "\n",
       "    .dataframe tbody tr th {\n",
       "        vertical-align: top;\n",
       "    }\n",
       "\n",
       "    .dataframe thead th {\n",
       "        text-align: right;\n",
       "    }\n",
       "</style>\n",
       "<table border=\"1\" class=\"dataframe\">\n",
       "  <thead>\n",
       "    <tr style=\"text-align: right;\">\n",
       "      <th></th>\n",
       "      <th>Kategori</th>\n",
       "      <th>Data 1</th>\n",
       "      <th>Subkategori</th>\n",
       "      <th>Data 2</th>\n",
       "    </tr>\n",
       "  </thead>\n",
       "  <tbody>\n",
       "    <tr>\n",
       "      <th>0</th>\n",
       "      <td>C</td>\n",
       "      <td>0.591935</td>\n",
       "      <td>X</td>\n",
       "      <td>0.487935</td>\n",
       "    </tr>\n",
       "    <tr>\n",
       "      <th>1</th>\n",
       "      <td>D</td>\n",
       "      <td>0.476477</td>\n",
       "      <td>Y</td>\n",
       "      <td>0.458515</td>\n",
       "    </tr>\n",
       "  </tbody>\n",
       "</table>\n",
       "</div>"
      ],
      "text/plain": [
       "  Kategori    Data 1 Subkategori    Data 2\n",
       "0        C  0.591935           X  0.487935\n",
       "1        D  0.476477           Y  0.458515"
      ]
     },
     "execution_count": 151,
     "metadata": {},
     "output_type": "execute_result"
    }
   ],
   "source": [
    "df['Subkategori'] = pd.Series(['V', 'W', 'X', 'Y'])\n",
    "df2['Subkategori'] = pd.Series(['X', 'Y', 'Z', 'W'])\n",
    "\n",
    "merged_multi_keys = pd.merge(df, df2, on=['Kategori','Subkategori'])\n",
    "merged_multi_keys"
   ]
  },
  {
   "cell_type": "markdown",
   "id": "c48eb062",
   "metadata": {
    "papermill": {
     "duration": 0.104299,
     "end_time": "2024-08-31T05:55:58.545046",
     "exception": false,
     "start_time": "2024-08-31T05:55:58.440747",
     "status": "completed"
    },
    "tags": []
   },
   "source": [
    "## Time Series Analysis"
   ]
  },
  {
   "cell_type": "code",
   "execution_count": 152,
   "id": "60f31415",
   "metadata": {
    "execution": {
     "iopub.execute_input": "2024-08-31T05:55:58.816737Z",
     "iopub.status.busy": "2024-08-31T05:55:58.815545Z",
     "iopub.status.idle": "2024-08-31T05:55:58.830155Z",
     "shell.execute_reply": "2024-08-31T05:55:58.829000Z"
    },
    "papermill": {
     "duration": 0.125218,
     "end_time": "2024-08-31T05:55:58.832814",
     "exception": false,
     "start_time": "2024-08-31T05:55:58.707596",
     "status": "completed"
    },
    "tags": []
   },
   "outputs": [
    {
     "data": {
      "text/html": [
       "<div>\n",
       "<style scoped>\n",
       "    .dataframe tbody tr th:only-of-type {\n",
       "        vertical-align: middle;\n",
       "    }\n",
       "\n",
       "    .dataframe tbody tr th {\n",
       "        vertical-align: top;\n",
       "    }\n",
       "\n",
       "    .dataframe thead th {\n",
       "        text-align: right;\n",
       "    }\n",
       "</style>\n",
       "<table border=\"1\" class=\"dataframe\">\n",
       "  <thead>\n",
       "    <tr style=\"text-align: right;\">\n",
       "      <th></th>\n",
       "      <th>date</th>\n",
       "      <th>data</th>\n",
       "    </tr>\n",
       "  </thead>\n",
       "  <tbody>\n",
       "    <tr>\n",
       "      <th>0</th>\n",
       "      <td>2022-01-01 00:00:00</td>\n",
       "      <td>72</td>\n",
       "    </tr>\n",
       "    <tr>\n",
       "      <th>1</th>\n",
       "      <td>2022-01-01 01:00:00</td>\n",
       "      <td>84</td>\n",
       "    </tr>\n",
       "    <tr>\n",
       "      <th>2</th>\n",
       "      <td>2022-01-01 02:00:00</td>\n",
       "      <td>7</td>\n",
       "    </tr>\n",
       "    <tr>\n",
       "      <th>3</th>\n",
       "      <td>2022-01-01 03:00:00</td>\n",
       "      <td>67</td>\n",
       "    </tr>\n",
       "    <tr>\n",
       "      <th>4</th>\n",
       "      <td>2022-01-01 04:00:00</td>\n",
       "      <td>85</td>\n",
       "    </tr>\n",
       "  </tbody>\n",
       "</table>\n",
       "</div>"
      ],
      "text/plain": [
       "                 date  data\n",
       "0 2022-01-01 00:00:00    72\n",
       "1 2022-01-01 01:00:00    84\n",
       "2 2022-01-01 02:00:00     7\n",
       "3 2022-01-01 03:00:00    67\n",
       "4 2022-01-01 04:00:00    85"
      ]
     },
     "execution_count": 152,
     "metadata": {},
     "output_type": "execute_result"
    }
   ],
   "source": [
    "date_range = pd.date_range(start='1/1/2022', end='1/08/2022', freq='h')\n",
    "df_time = pd.DataFrame(date_range, columns=['date'])\n",
    "df_time['data'] = np.random.randint(0, 100, size=(len(date_range)))\n",
    "df_time.head()"
   ]
  },
  {
   "cell_type": "code",
   "execution_count": 153,
   "id": "21f52603",
   "metadata": {
    "execution": {
     "iopub.execute_input": "2024-08-31T05:55:59.050559Z",
     "iopub.status.busy": "2024-08-31T05:55:59.050079Z",
     "iopub.status.idle": "2024-08-31T05:55:59.062827Z",
     "shell.execute_reply": "2024-08-31T05:55:59.061092Z"
    },
    "papermill": {
     "duration": 0.124886,
     "end_time": "2024-08-31T05:55:59.066930",
     "exception": false,
     "start_time": "2024-08-31T05:55:58.942044",
     "status": "completed"
    },
    "tags": []
   },
   "outputs": [
    {
     "name": "stdout",
     "output_type": "stream",
     "text": [
      "<class 'pandas.core.frame.DataFrame'>\n",
      "RangeIndex: 169 entries, 0 to 168\n",
      "Data columns (total 2 columns):\n",
      " #   Column  Non-Null Count  Dtype         \n",
      "---  ------  --------------  -----         \n",
      " 0   date    169 non-null    datetime64[ns]\n",
      " 1   data    169 non-null    int64         \n",
      "dtypes: datetime64[ns](1), int64(1)\n",
      "memory usage: 2.8 KB\n"
     ]
    }
   ],
   "source": [
    "df_time.info()"
   ]
  },
  {
   "cell_type": "code",
   "execution_count": 154,
   "id": "1c170a3d",
   "metadata": {
    "execution": {
     "iopub.execute_input": "2024-08-31T05:55:59.304050Z",
     "iopub.status.busy": "2024-08-31T05:55:59.303624Z",
     "iopub.status.idle": "2024-08-31T05:55:59.316848Z",
     "shell.execute_reply": "2024-08-31T05:55:59.315547Z"
    },
    "papermill": {
     "duration": 0.123461,
     "end_time": "2024-08-31T05:55:59.319738",
     "exception": false,
     "start_time": "2024-08-31T05:55:59.196277",
     "status": "completed"
    },
    "tags": []
   },
   "outputs": [
    {
     "data": {
      "text/html": [
       "<div>\n",
       "<style scoped>\n",
       "    .dataframe tbody tr th:only-of-type {\n",
       "        vertical-align: middle;\n",
       "    }\n",
       "\n",
       "    .dataframe tbody tr th {\n",
       "        vertical-align: top;\n",
       "    }\n",
       "\n",
       "    .dataframe thead th {\n",
       "        text-align: right;\n",
       "    }\n",
       "</style>\n",
       "<table border=\"1\" class=\"dataframe\">\n",
       "  <thead>\n",
       "    <tr style=\"text-align: right;\">\n",
       "      <th></th>\n",
       "      <th>data</th>\n",
       "    </tr>\n",
       "    <tr>\n",
       "      <th>date</th>\n",
       "      <th></th>\n",
       "    </tr>\n",
       "  </thead>\n",
       "  <tbody>\n",
       "    <tr>\n",
       "      <th>2022-01-01 00:00:00</th>\n",
       "      <td>72</td>\n",
       "    </tr>\n",
       "    <tr>\n",
       "      <th>2022-01-01 01:00:00</th>\n",
       "      <td>84</td>\n",
       "    </tr>\n",
       "    <tr>\n",
       "      <th>2022-01-01 02:00:00</th>\n",
       "      <td>7</td>\n",
       "    </tr>\n",
       "    <tr>\n",
       "      <th>2022-01-01 03:00:00</th>\n",
       "      <td>67</td>\n",
       "    </tr>\n",
       "    <tr>\n",
       "      <th>2022-01-01 04:00:00</th>\n",
       "      <td>85</td>\n",
       "    </tr>\n",
       "    <tr>\n",
       "      <th>...</th>\n",
       "      <td>...</td>\n",
       "    </tr>\n",
       "    <tr>\n",
       "      <th>2022-01-07 20:00:00</th>\n",
       "      <td>59</td>\n",
       "    </tr>\n",
       "    <tr>\n",
       "      <th>2022-01-07 21:00:00</th>\n",
       "      <td>42</td>\n",
       "    </tr>\n",
       "    <tr>\n",
       "      <th>2022-01-07 22:00:00</th>\n",
       "      <td>67</td>\n",
       "    </tr>\n",
       "    <tr>\n",
       "      <th>2022-01-07 23:00:00</th>\n",
       "      <td>10</td>\n",
       "    </tr>\n",
       "    <tr>\n",
       "      <th>2022-01-08 00:00:00</th>\n",
       "      <td>57</td>\n",
       "    </tr>\n",
       "  </tbody>\n",
       "</table>\n",
       "<p>169 rows × 1 columns</p>\n",
       "</div>"
      ],
      "text/plain": [
       "                     data\n",
       "date                     \n",
       "2022-01-01 00:00:00    72\n",
       "2022-01-01 01:00:00    84\n",
       "2022-01-01 02:00:00     7\n",
       "2022-01-01 03:00:00    67\n",
       "2022-01-01 04:00:00    85\n",
       "...                   ...\n",
       "2022-01-07 20:00:00    59\n",
       "2022-01-07 21:00:00    42\n",
       "2022-01-07 22:00:00    67\n",
       "2022-01-07 23:00:00    10\n",
       "2022-01-08 00:00:00    57\n",
       "\n",
       "[169 rows x 1 columns]"
      ]
     },
     "execution_count": 154,
     "metadata": {},
     "output_type": "execute_result"
    }
   ],
   "source": [
    "df_time.set_index('date', inplace=True)\n",
    "df_time"
   ]
  },
  {
   "cell_type": "code",
   "execution_count": 155,
   "id": "bf81bc2c",
   "metadata": {
    "execution": {
     "iopub.execute_input": "2024-08-31T05:55:59.541452Z",
     "iopub.status.busy": "2024-08-31T05:55:59.541047Z",
     "iopub.status.idle": "2024-08-31T05:55:59.550414Z",
     "shell.execute_reply": "2024-08-31T05:55:59.549196Z"
    },
    "papermill": {
     "duration": 0.127251,
     "end_time": "2024-08-31T05:55:59.552906",
     "exception": false,
     "start_time": "2024-08-31T05:55:59.425655",
     "status": "completed"
    },
    "tags": []
   },
   "outputs": [
    {
     "data": {
      "text/plain": [
       "data    72\n",
       "Name: 2022-01-01 00:00:00, dtype: int64"
      ]
     },
     "execution_count": 155,
     "metadata": {},
     "output_type": "execute_result"
    }
   ],
   "source": [
    "selected_data = df_time.loc['2022-01-01 00:00:00']\n",
    "selected_data"
   ]
  },
  {
   "cell_type": "code",
   "execution_count": 156,
   "id": "3f7be751",
   "metadata": {
    "execution": {
     "iopub.execute_input": "2024-08-31T05:55:59.767720Z",
     "iopub.status.busy": "2024-08-31T05:55:59.767243Z",
     "iopub.status.idle": "2024-08-31T05:55:59.780811Z",
     "shell.execute_reply": "2024-08-31T05:55:59.779601Z"
    },
    "papermill": {
     "duration": 0.124228,
     "end_time": "2024-08-31T05:55:59.784701",
     "exception": false,
     "start_time": "2024-08-31T05:55:59.660473",
     "status": "completed"
    },
    "tags": []
   },
   "outputs": [
    {
     "data": {
      "text/html": [
       "<div>\n",
       "<style scoped>\n",
       "    .dataframe tbody tr th:only-of-type {\n",
       "        vertical-align: middle;\n",
       "    }\n",
       "\n",
       "    .dataframe tbody tr th {\n",
       "        vertical-align: top;\n",
       "    }\n",
       "\n",
       "    .dataframe thead th {\n",
       "        text-align: right;\n",
       "    }\n",
       "</style>\n",
       "<table border=\"1\" class=\"dataframe\">\n",
       "  <thead>\n",
       "    <tr style=\"text-align: right;\">\n",
       "      <th></th>\n",
       "      <th>data</th>\n",
       "    </tr>\n",
       "    <tr>\n",
       "      <th>date</th>\n",
       "      <th></th>\n",
       "    </tr>\n",
       "  </thead>\n",
       "  <tbody>\n",
       "    <tr>\n",
       "      <th>2022-01-01</th>\n",
       "      <td>54.375000</td>\n",
       "    </tr>\n",
       "    <tr>\n",
       "      <th>2022-01-02</th>\n",
       "      <td>61.291667</td>\n",
       "    </tr>\n",
       "    <tr>\n",
       "      <th>2022-01-03</th>\n",
       "      <td>58.416667</td>\n",
       "    </tr>\n",
       "    <tr>\n",
       "      <th>2022-01-04</th>\n",
       "      <td>47.291667</td>\n",
       "    </tr>\n",
       "    <tr>\n",
       "      <th>2022-01-05</th>\n",
       "      <td>63.125000</td>\n",
       "    </tr>\n",
       "    <tr>\n",
       "      <th>2022-01-06</th>\n",
       "      <td>48.666667</td>\n",
       "    </tr>\n",
       "    <tr>\n",
       "      <th>2022-01-07</th>\n",
       "      <td>45.583333</td>\n",
       "    </tr>\n",
       "    <tr>\n",
       "      <th>2022-01-08</th>\n",
       "      <td>57.000000</td>\n",
       "    </tr>\n",
       "  </tbody>\n",
       "</table>\n",
       "</div>"
      ],
      "text/plain": [
       "                 data\n",
       "date                 \n",
       "2022-01-01  54.375000\n",
       "2022-01-02  61.291667\n",
       "2022-01-03  58.416667\n",
       "2022-01-04  47.291667\n",
       "2022-01-05  63.125000\n",
       "2022-01-06  48.666667\n",
       "2022-01-07  45.583333\n",
       "2022-01-08  57.000000"
      ]
     },
     "execution_count": 156,
     "metadata": {},
     "output_type": "execute_result"
    }
   ],
   "source": [
    "resampled_data = df_time.resample('D').mean()\n",
    "resampled_data"
   ]
  },
  {
   "cell_type": "code",
   "execution_count": 157,
   "id": "e3431473",
   "metadata": {
    "execution": {
     "iopub.execute_input": "2024-08-31T05:56:00.002355Z",
     "iopub.status.busy": "2024-08-31T05:56:00.001937Z",
     "iopub.status.idle": "2024-08-31T05:56:00.015352Z",
     "shell.execute_reply": "2024-08-31T05:56:00.014102Z"
    },
    "papermill": {
     "duration": 0.126396,
     "end_time": "2024-08-31T05:56:00.018147",
     "exception": false,
     "start_time": "2024-08-31T05:55:59.891751",
     "status": "completed"
    },
    "tags": []
   },
   "outputs": [
    {
     "data": {
      "text/html": [
       "<div>\n",
       "<style scoped>\n",
       "    .dataframe tbody tr th:only-of-type {\n",
       "        vertical-align: middle;\n",
       "    }\n",
       "\n",
       "    .dataframe tbody tr th {\n",
       "        vertical-align: top;\n",
       "    }\n",
       "\n",
       "    .dataframe thead th {\n",
       "        text-align: right;\n",
       "    }\n",
       "</style>\n",
       "<table border=\"1\" class=\"dataframe\">\n",
       "  <thead>\n",
       "    <tr style=\"text-align: right;\">\n",
       "      <th></th>\n",
       "      <th>data</th>\n",
       "    </tr>\n",
       "    <tr>\n",
       "      <th>date</th>\n",
       "      <th></th>\n",
       "    </tr>\n",
       "  </thead>\n",
       "  <tbody>\n",
       "    <tr>\n",
       "      <th>2022-01-01 00:00:00</th>\n",
       "      <td>NaN</td>\n",
       "    </tr>\n",
       "    <tr>\n",
       "      <th>2022-01-01 01:00:00</th>\n",
       "      <td>NaN</td>\n",
       "    </tr>\n",
       "    <tr>\n",
       "      <th>2022-01-01 02:00:00</th>\n",
       "      <td>54.333333</td>\n",
       "    </tr>\n",
       "    <tr>\n",
       "      <th>2022-01-01 03:00:00</th>\n",
       "      <td>52.666667</td>\n",
       "    </tr>\n",
       "    <tr>\n",
       "      <th>2022-01-01 04:00:00</th>\n",
       "      <td>53.000000</td>\n",
       "    </tr>\n",
       "    <tr>\n",
       "      <th>2022-01-01 05:00:00</th>\n",
       "      <td>81.000000</td>\n",
       "    </tr>\n",
       "    <tr>\n",
       "      <th>2022-01-01 06:00:00</th>\n",
       "      <td>81.000000</td>\n",
       "    </tr>\n",
       "    <tr>\n",
       "      <th>2022-01-01 07:00:00</th>\n",
       "      <td>80.666667</td>\n",
       "    </tr>\n",
       "    <tr>\n",
       "      <th>2022-01-01 08:00:00</th>\n",
       "      <td>74.000000</td>\n",
       "    </tr>\n",
       "    <tr>\n",
       "      <th>2022-01-01 09:00:00</th>\n",
       "      <td>79.333333</td>\n",
       "    </tr>\n",
       "  </tbody>\n",
       "</table>\n",
       "</div>"
      ],
      "text/plain": [
       "                          data\n",
       "date                          \n",
       "2022-01-01 00:00:00        NaN\n",
       "2022-01-01 01:00:00        NaN\n",
       "2022-01-01 02:00:00  54.333333\n",
       "2022-01-01 03:00:00  52.666667\n",
       "2022-01-01 04:00:00  53.000000\n",
       "2022-01-01 05:00:00  81.000000\n",
       "2022-01-01 06:00:00  81.000000\n",
       "2022-01-01 07:00:00  80.666667\n",
       "2022-01-01 08:00:00  74.000000\n",
       "2022-01-01 09:00:00  79.333333"
      ]
     },
     "execution_count": 157,
     "metadata": {},
     "output_type": "execute_result"
    }
   ],
   "source": [
    "rolling_data = df_time.rolling(window=3).mean()\n",
    "rolling_data.head(10)"
   ]
  },
  {
   "cell_type": "markdown",
   "id": "82f4e203",
   "metadata": {
    "papermill": {
     "duration": 0.107194,
     "end_time": "2024-08-31T05:56:00.235065",
     "exception": false,
     "start_time": "2024-08-31T05:56:00.127871",
     "status": "completed"
    },
    "tags": []
   },
   "source": [
    "## Saving Data"
   ]
  },
  {
   "cell_type": "code",
   "execution_count": 158,
   "id": "3f60b07f",
   "metadata": {
    "execution": {
     "iopub.execute_input": "2024-08-31T05:56:00.450270Z",
     "iopub.status.busy": "2024-08-31T05:56:00.449810Z",
     "iopub.status.idle": "2024-08-31T05:56:00.462252Z",
     "shell.execute_reply": "2024-08-31T05:56:00.461040Z"
    },
    "papermill": {
     "duration": 0.122708,
     "end_time": "2024-08-31T05:56:00.465098",
     "exception": false,
     "start_time": "2024-08-31T05:56:00.342390",
     "status": "completed"
    },
    "tags": []
   },
   "outputs": [],
   "source": [
    "data = {\n",
    "    'nama': ['Ayu', 'Budi', 'Citra'],\n",
    "    'usia': [23, 30, 22]\n",
    "}\n",
    "df = pd.DataFrame(data)\n",
    "df.to_csv('data_sederhana.csv')"
   ]
  },
  {
   "cell_type": "code",
   "execution_count": 159,
   "id": "f9ba05c2",
   "metadata": {
    "execution": {
     "iopub.execute_input": "2024-08-31T05:56:00.680063Z",
     "iopub.status.busy": "2024-08-31T05:56:00.679623Z",
     "iopub.status.idle": "2024-08-31T05:56:00.687520Z",
     "shell.execute_reply": "2024-08-31T05:56:00.686340Z"
    },
    "papermill": {
     "duration": 0.119349,
     "end_time": "2024-08-31T05:56:00.690040",
     "exception": false,
     "start_time": "2024-08-31T05:56:00.570691",
     "status": "completed"
    },
    "tags": []
   },
   "outputs": [],
   "source": [
    "df.to_csv('hanya_nama.csv', columns=['nama'])"
   ]
  },
  {
   "cell_type": "code",
   "execution_count": 160,
   "id": "062fd9b6",
   "metadata": {
    "execution": {
     "iopub.execute_input": "2024-08-31T05:56:00.904213Z",
     "iopub.status.busy": "2024-08-31T05:56:00.903779Z",
     "iopub.status.idle": "2024-08-31T05:56:00.910706Z",
     "shell.execute_reply": "2024-08-31T05:56:00.909631Z"
    },
    "papermill": {
     "duration": 0.117638,
     "end_time": "2024-08-31T05:56:00.913349",
     "exception": false,
     "start_time": "2024-08-31T05:56:00.795711",
     "status": "completed"
    },
    "tags": []
   },
   "outputs": [],
   "source": [
    "df.to_csv('tanpa_index.csv', index=False)"
   ]
  },
  {
   "cell_type": "code",
   "execution_count": 161,
   "id": "3f3652fc",
   "metadata": {
    "execution": {
     "iopub.execute_input": "2024-08-31T05:56:01.132008Z",
     "iopub.status.busy": "2024-08-31T05:56:01.130928Z",
     "iopub.status.idle": "2024-08-31T05:56:01.138173Z",
     "shell.execute_reply": "2024-08-31T05:56:01.136956Z"
    },
    "papermill": {
     "duration": 0.120143,
     "end_time": "2024-08-31T05:56:01.141052",
     "exception": false,
     "start_time": "2024-08-31T05:56:01.020909",
     "status": "completed"
    },
    "tags": []
   },
   "outputs": [],
   "source": [
    "df.to_csv('data_pemisah.tsv', sep='\\t')"
   ]
  },
  {
   "cell_type": "code",
   "execution_count": 162,
   "id": "d62f4bd8",
   "metadata": {
    "execution": {
     "iopub.execute_input": "2024-08-31T05:56:01.363967Z",
     "iopub.status.busy": "2024-08-31T05:56:01.363504Z",
     "iopub.status.idle": "2024-08-31T05:56:01.371323Z",
     "shell.execute_reply": "2024-08-31T05:56:01.369844Z"
    },
    "papermill": {
     "duration": 0.123981,
     "end_time": "2024-08-31T05:56:01.374088",
     "exception": false,
     "start_time": "2024-08-31T05:56:01.250107",
     "status": "completed"
    },
    "tags": []
   },
   "outputs": [],
   "source": [
    "df.to_csv('data_utf8.csv', encoding='utf-8')"
   ]
  },
  {
   "cell_type": "code",
   "execution_count": 163,
   "id": "a85ecf07",
   "metadata": {
    "execution": {
     "iopub.execute_input": "2024-08-31T05:56:01.588137Z",
     "iopub.status.busy": "2024-08-31T05:56:01.587715Z",
     "iopub.status.idle": "2024-08-31T05:56:01.595577Z",
     "shell.execute_reply": "2024-08-31T05:56:01.594151Z"
    },
    "papermill": {
     "duration": 0.118315,
     "end_time": "2024-08-31T05:56:01.598304",
     "exception": false,
     "start_time": "2024-08-31T05:56:01.479989",
     "status": "completed"
    },
    "tags": []
   },
   "outputs": [],
   "source": [
    "df.to_csv('data_kompresi,zip', compression='zip')"
   ]
  },
  {
   "cell_type": "code",
   "execution_count": 164,
   "id": "a5c918d8",
   "metadata": {
    "execution": {
     "iopub.execute_input": "2024-08-31T05:56:01.812997Z",
     "iopub.status.busy": "2024-08-31T05:56:01.812506Z",
     "iopub.status.idle": "2024-08-31T05:56:01.820073Z",
     "shell.execute_reply": "2024-08-31T05:56:01.818634Z"
    },
    "papermill": {
     "duration": 0.117315,
     "end_time": "2024-08-31T05:56:01.822817",
     "exception": false,
     "start_time": "2024-08-31T05:56:01.705502",
     "status": "completed"
    },
    "tags": []
   },
   "outputs": [],
   "source": [
    "df.to_csv('data_header_kustom.csv', header=['Nama Lengkap','Umur'])"
   ]
  },
  {
   "cell_type": "code",
   "execution_count": 165,
   "id": "f216f25c",
   "metadata": {
    "execution": {
     "iopub.execute_input": "2024-08-31T05:56:02.043193Z",
     "iopub.status.busy": "2024-08-31T05:56:02.042786Z",
     "iopub.status.idle": "2024-08-31T05:56:02.049771Z",
     "shell.execute_reply": "2024-08-31T05:56:02.048656Z"
    },
    "papermill": {
     "duration": 0.121352,
     "end_time": "2024-08-31T05:56:02.052436",
     "exception": false,
     "start_time": "2024-08-31T05:56:01.931084",
     "status": "completed"
    },
    "tags": []
   },
   "outputs": [],
   "source": [
    "df.to_csv('data_format.csv', float_format='%.2f')"
   ]
  },
  {
   "cell_type": "code",
   "execution_count": 166,
   "id": "6a342c0e",
   "metadata": {
    "execution": {
     "iopub.execute_input": "2024-08-31T05:56:02.272671Z",
     "iopub.status.busy": "2024-08-31T05:56:02.272141Z",
     "iopub.status.idle": "2024-08-31T05:56:02.279153Z",
     "shell.execute_reply": "2024-08-31T05:56:02.277912Z"
    },
    "papermill": {
     "duration": 0.117095,
     "end_time": "2024-08-31T05:56:02.281856",
     "exception": false,
     "start_time": "2024-08-31T05:56:02.164761",
     "status": "completed"
    },
    "tags": []
   },
   "outputs": [],
   "source": [
    "df.to_csv('data_append.csv', mode='a', header=False)"
   ]
  },
  {
   "cell_type": "markdown",
   "id": "22ccfef6",
   "metadata": {
    "papermill": {
     "duration": 0.107215,
     "end_time": "2024-08-31T05:56:02.495097",
     "exception": false,
     "start_time": "2024-08-31T05:56:02.387882",
     "status": "completed"
    },
    "tags": []
   },
   "source": [
    "## Reading Data"
   ]
  },
  {
   "cell_type": "code",
   "execution_count": 167,
   "id": "ea4a4bdd",
   "metadata": {
    "execution": {
     "iopub.execute_input": "2024-08-31T05:56:02.709118Z",
     "iopub.status.busy": "2024-08-31T05:56:02.708688Z",
     "iopub.status.idle": "2024-08-31T05:56:02.724636Z",
     "shell.execute_reply": "2024-08-31T05:56:02.723441Z"
    },
    "papermill": {
     "duration": 0.125045,
     "end_time": "2024-08-31T05:56:02.727161",
     "exception": false,
     "start_time": "2024-08-31T05:56:02.602116",
     "status": "completed"
    },
    "tags": []
   },
   "outputs": [
    {
     "data": {
      "text/html": [
       "<div>\n",
       "<style scoped>\n",
       "    .dataframe tbody tr th:only-of-type {\n",
       "        vertical-align: middle;\n",
       "    }\n",
       "\n",
       "    .dataframe tbody tr th {\n",
       "        vertical-align: top;\n",
       "    }\n",
       "\n",
       "    .dataframe thead th {\n",
       "        text-align: right;\n",
       "    }\n",
       "</style>\n",
       "<table border=\"1\" class=\"dataframe\">\n",
       "  <thead>\n",
       "    <tr style=\"text-align: right;\">\n",
       "      <th></th>\n",
       "      <th>nama</th>\n",
       "      <th>usia</th>\n",
       "    </tr>\n",
       "  </thead>\n",
       "  <tbody>\n",
       "    <tr>\n",
       "      <th>0</th>\n",
       "      <td>Ayu</td>\n",
       "      <td>23</td>\n",
       "    </tr>\n",
       "    <tr>\n",
       "      <th>1</th>\n",
       "      <td>Budi</td>\n",
       "      <td>30</td>\n",
       "    </tr>\n",
       "    <tr>\n",
       "      <th>2</th>\n",
       "      <td>Citra</td>\n",
       "      <td>22</td>\n",
       "    </tr>\n",
       "  </tbody>\n",
       "</table>\n",
       "</div>"
      ],
      "text/plain": [
       "    nama  usia\n",
       "0    Ayu    23\n",
       "1   Budi    30\n",
       "2  Citra    22"
      ]
     },
     "execution_count": 167,
     "metadata": {},
     "output_type": "execute_result"
    }
   ],
   "source": [
    "df = pd.read_csv('/kaggle/working/tanpa_index.csv')\n",
    "df"
   ]
  },
  {
   "cell_type": "code",
   "execution_count": 168,
   "id": "555e9c81",
   "metadata": {
    "execution": {
     "iopub.execute_input": "2024-08-31T05:56:02.943271Z",
     "iopub.status.busy": "2024-08-31T05:56:02.942800Z",
     "iopub.status.idle": "2024-08-31T05:56:02.956497Z",
     "shell.execute_reply": "2024-08-31T05:56:02.955285Z"
    },
    "papermill": {
     "duration": 0.124528,
     "end_time": "2024-08-31T05:56:02.959279",
     "exception": false,
     "start_time": "2024-08-31T05:56:02.834751",
     "status": "completed"
    },
    "tags": []
   },
   "outputs": [
    {
     "data": {
      "text/html": [
       "<div>\n",
       "<style scoped>\n",
       "    .dataframe tbody tr th:only-of-type {\n",
       "        vertical-align: middle;\n",
       "    }\n",
       "\n",
       "    .dataframe tbody tr th {\n",
       "        vertical-align: top;\n",
       "    }\n",
       "\n",
       "    .dataframe thead th {\n",
       "        text-align: right;\n",
       "    }\n",
       "</style>\n",
       "<table border=\"1\" class=\"dataframe\">\n",
       "  <thead>\n",
       "    <tr style=\"text-align: right;\">\n",
       "      <th></th>\n",
       "      <th>nama</th>\n",
       "    </tr>\n",
       "  </thead>\n",
       "  <tbody>\n",
       "    <tr>\n",
       "      <th>0</th>\n",
       "      <td>Ayu</td>\n",
       "    </tr>\n",
       "    <tr>\n",
       "      <th>1</th>\n",
       "      <td>Budi</td>\n",
       "    </tr>\n",
       "    <tr>\n",
       "      <th>2</th>\n",
       "      <td>Citra</td>\n",
       "    </tr>\n",
       "  </tbody>\n",
       "</table>\n",
       "</div>"
      ],
      "text/plain": [
       "    nama\n",
       "0    Ayu\n",
       "1   Budi\n",
       "2  Citra"
      ]
     },
     "execution_count": 168,
     "metadata": {},
     "output_type": "execute_result"
    }
   ],
   "source": [
    "df = pd.read_csv('/kaggle/working/tanpa_index.csv', usecols=['nama'])\n",
    "df"
   ]
  },
  {
   "cell_type": "code",
   "execution_count": 169,
   "id": "381606a4",
   "metadata": {
    "execution": {
     "iopub.execute_input": "2024-08-31T05:56:03.178272Z",
     "iopub.status.busy": "2024-08-31T05:56:03.177671Z",
     "iopub.status.idle": "2024-08-31T05:56:03.192106Z",
     "shell.execute_reply": "2024-08-31T05:56:03.190756Z"
    },
    "papermill": {
     "duration": 0.128871,
     "end_time": "2024-08-31T05:56:03.195005",
     "exception": false,
     "start_time": "2024-08-31T05:56:03.066134",
     "status": "completed"
    },
    "tags": []
   },
   "outputs": [
    {
     "data": {
      "text/html": [
       "<div>\n",
       "<style scoped>\n",
       "    .dataframe tbody tr th:only-of-type {\n",
       "        vertical-align: middle;\n",
       "    }\n",
       "\n",
       "    .dataframe tbody tr th {\n",
       "        vertical-align: top;\n",
       "    }\n",
       "\n",
       "    .dataframe thead th {\n",
       "        text-align: right;\n",
       "    }\n",
       "</style>\n",
       "<table border=\"1\" class=\"dataframe\">\n",
       "  <thead>\n",
       "    <tr style=\"text-align: right;\">\n",
       "      <th></th>\n",
       "      <th>usia</th>\n",
       "    </tr>\n",
       "    <tr>\n",
       "      <th>nama</th>\n",
       "      <th></th>\n",
       "    </tr>\n",
       "  </thead>\n",
       "  <tbody>\n",
       "    <tr>\n",
       "      <th>Ayu</th>\n",
       "      <td>23</td>\n",
       "    </tr>\n",
       "    <tr>\n",
       "      <th>Budi</th>\n",
       "      <td>30</td>\n",
       "    </tr>\n",
       "    <tr>\n",
       "      <th>Citra</th>\n",
       "      <td>22</td>\n",
       "    </tr>\n",
       "  </tbody>\n",
       "</table>\n",
       "</div>"
      ],
      "text/plain": [
       "       usia\n",
       "nama       \n",
       "Ayu      23\n",
       "Budi     30\n",
       "Citra    22"
      ]
     },
     "execution_count": 169,
     "metadata": {},
     "output_type": "execute_result"
    }
   ],
   "source": [
    "df = pd.read_csv('/kaggle/working/tanpa_index.csv', index_col=['nama'])\n",
    "df"
   ]
  },
  {
   "cell_type": "code",
   "execution_count": 170,
   "id": "f17e03cf",
   "metadata": {
    "execution": {
     "iopub.execute_input": "2024-08-31T05:56:03.410446Z",
     "iopub.status.busy": "2024-08-31T05:56:03.410046Z",
     "iopub.status.idle": "2024-08-31T05:56:03.810891Z",
     "shell.execute_reply": "2024-08-31T05:56:03.809587Z"
    },
    "papermill": {
     "duration": 0.511063,
     "end_time": "2024-08-31T05:56:03.813901",
     "exception": false,
     "start_time": "2024-08-31T05:56:03.302838",
     "status": "completed"
    },
    "tags": []
   },
   "outputs": [],
   "source": [
    "with pd.ExcelWriter('data_multi_sheet.xlsx') as writer:\n",
    "    df.to_excel(writer, sheet_name='Sheet 1')\n",
    "    df.to_excel(writer, sheet_name='Sheet 2')"
   ]
  }
 ],
 "metadata": {
  "kaggle": {
   "accelerator": "none",
   "dataSources": [],
   "dockerImageVersionId": 30761,
   "isGpuEnabled": false,
   "isInternetEnabled": true,
   "language": "python",
   "sourceType": "notebook"
  },
  "kernelspec": {
   "display_name": "Python 3",
   "language": "python",
   "name": "python3"
  },
  "language_info": {
   "codemirror_mode": {
    "name": "ipython",
    "version": 3
   },
   "file_extension": ".py",
   "mimetype": "text/x-python",
   "name": "python",
   "nbconvert_exporter": "python",
   "pygments_lexer": "ipython3",
   "version": "3.10.14"
  },
  "papermill": {
   "default_parameters": {},
   "duration": 54.048283,
   "end_time": "2024-08-31T05:56:04.642229",
   "environment_variables": {},
   "exception": null,
   "input_path": "__notebook__.ipynb",
   "output_path": "__notebook__.ipynb",
   "parameters": {},
   "start_time": "2024-08-31T05:55:10.593946",
   "version": "2.6.0"
  }
 },
 "nbformat": 4,
 "nbformat_minor": 5
}
